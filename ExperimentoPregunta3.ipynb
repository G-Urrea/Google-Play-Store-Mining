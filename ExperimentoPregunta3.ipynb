{
 "cells": [
  {
   "cell_type": "markdown",
   "metadata": {},
   "source": [
    "# Pregunta 3: ¿Existen características específicas de las aplicaciones que permitan tener mejor o peor aprobación del público?¿Es posible predecir el rating?"
   ]
  },
  {
   "cell_type": "markdown",
   "metadata": {},
   "source": [
    "## Clasificación\n",
    "\n",
    "La aprobación del público se mide a través del rating, esto es, un valor numérico del uno al cinco, con 5 representando la máxima aprobación y 1 descontento con la aplicación. Para poder clasificar el rating, se discretiza según cuartiles (después de extraer outliers), de este modo se consiguen tamién clases balanceadas, ya que cada una contiene el 25% de las aplicaciones.\n",
    "\n",
    "Dado que para distintos tipos de aplicaciones, tanto el público objetivo como las expectativas y exigencias que se tiene sobre las mismas pueden variar considerablemenente, a fin de lograr mayor homogeneidad, se subdivide el dataset por categorías y se aplica la clasificación por separado sobre los 10 sub-datasets con más elementos.\n",
    "\n",
    "### Aplicaciones:\n",
    "\n",
    "Se considera el número de desccargas, número de reseñas, peso, publico objetivo y si es de pago o no para clasificar el rating según cuartiles. No se concidera el género debido a que pueden existir combinaciones categoría/género no contempladas en los datos.\n",
    "\n",
    "Se repiten las clasificaciones para apliciones de pago, incluyendo el precio en los atributos a evaluar (extrayendo outliers).\n",
    "\n",
    "### Reseñas:\n",
    "\n",
    "La clasificación en base a reseñas se divide en dos partes. Primero se evaluará la posibilidad de extrar información del comentario de las reviews. Para ello se vectoriza el texto y luego se reduce la dimensionalidad por medio de _Latent semantic analysis_. Se utilizan los datos del texto para clasificar \"sentiment_polarity\", \"sentiment_subjectivity\" y \"spelling_quality\", también por cuartiles. En la vectorización del texto no se consideran _stop words_, ya que palabras comunmente categorizadas como tal podrían aportar información para el nivel de subjetividad o facilidad de lectura.\n",
    "\n",
    "Para la segunda parte se evaluan los datos de 'Apps/Reviews' para clasificar los cuartiles de rating. Para este caso no se subdivide por categoría debido a la menor cantidad de aplicaciones que contiene el dataframe.\n",
    "\n",
    "Para todas las clasificaciones mencionadas se utlizan los modelos de árbol de decisión, KNN, naive bayes y support vector machines. Para evaluar los resultados de la clasificación se hará uso de cross validation con distribución 80/20 entre datos de entrenamiento y prueba, y considerarán las métricas: exactitud, precisión, recall y F1."
   ]
  },
  {
   "cell_type": "markdown",
   "metadata": {},
   "source": [
    "## Selección y Reducción de Atributos 2.0\n",
    "\n",
    "En el análisis exploratorio y preprocesamiento de los datos ya se hizo una primera selección y reducción de atributos.\n",
    "\n",
    "En el dataset 'Apps' se descartan atributo poco interpretables y díficiles de estandarizar como lo son las versiones de android/aplicaciones y fechas de actualización. También se evaluó la relación entre algunos atributos mediante matrices de correlación y gráficos de caja y disperción. Se observa que la distribución de rating es ligeramente distinta para todas las categorías y que la diferencia se acentua drásticamente al considerar únicamente aplicaciones de pago, en el caso del content rating la distribución de rating para las 5 opciones es muy similar. En los gráficos de disperción se aprecia que no existe mayor correlación entre rating y peso, valores de rating por debajo de 3 se obtienen casi exclusivamente para aplicaciones con menos de 25000 reviews y por sobre las 50000 reviews no hay una variación notable el la distribución del rating, con la mayoría de los datos concentrados en torno a 4.5. Contrario a lo que se esperaba, el gráfico de disperción entre el número de descargas y reviews no muestra una relación lineal, más allá de la evidente cota inferior que supone reviews sobre descargas, en este se puede ver como el dataset se divide en 3 conjuntos que podrían clasificarce como \"pocas descargas\", \"descargas medias\" y \"muchas descargas\", esta distribución casi discreta puede deberse a la forma poco precisa que tiene google play de contar las descargas. El valor de la correlación entre rating y reviews es de -0.01832191.\n",
    "\n",
    "Sobre de el cruce da las tablas 'Apps' y 'Reviews' se relizó un análisis similar. Para cada categoría se observan diferentes distribuciones de polaridad, subjetividad, facilidad de lectura y calidad de escritura en las reseñas, para los distintos content rating las distribuciones de polaridad y subjetividad son similares. No se aprecia que ninguna combianción de rating y reviews o descargas y reviews presente una polaridad  subjetividad predominante. La matriz de correlación entre polaridad, subjetividad, facilidad de lectura, calidad de escritura, número de reviews y rating no muestra ninguna correlación significativamente alta, la mayoría es cercana a 0 y la mayor corresponde a facilidad de lectura y calidad de escritura, siendo de 0.32 aproximadamente."
   ]
  },
  {
   "cell_type": "markdown",
   "metadata": {},
   "source": [
    "A continuación se realizará un segundo análisis centrado en variables y métodos no considerados por el primero."
   ]
  },
  {
   "cell_type": "code",
   "execution_count": 1,
   "metadata": {},
   "outputs": [],
   "source": [
    "import sys\n",
    "sys.path.append(\"C:/Users/faria/PycharmProjects/pythonProject/venv/Lib/site-packages\")\n",
    "\n",
    "import pandas as pd\n",
    "import numpy as np\n",
    "import matplotlib.pyplot as plt\n",
    "import random as rd"
   ]
  },
  {
   "cell_type": "code",
   "execution_count": 173,
   "metadata": {},
   "outputs": [],
   "source": [
    "Apps = pd.read_csv(\"C:/Users/faria/OneDrive/Documentos/Tareas/GitHub/Google-Play-Store-Mining/dataset_modificado/GooglePlaystore.csv\")\n",
    "Reviews = pd.read_csv(\"C:/Users/faria/OneDrive/Documentos/Tareas/GitHub/Google-Play-Store-Mining/dataset_modificado/UserReview.csv\")\n",
    "App_Review = pd.read_csv(\"C:/Users/faria/OneDrive/Documentos/Tareas/GitHub/Google-Play-Store-Mining/dataset_modificado/GPUserReview.csv\")"
   ]
  },
  {
   "cell_type": "code",
   "execution_count": 174,
   "metadata": {},
   "outputs": [],
   "source": [
    "del App_Review[\"Current.Ver\"]\n",
    "del App_Review[\"No_reviews_count\"] \n",
    "del App_Review[\"Reviews_present_count\"]\n",
    "del App_Review[\"Last.Updated..Year.Month.\"],\n",
    "del App_Review[\"Last.Updated..Year.\"]\n",
    "del App_Review[\"Android.Ver\"]"
   ]
  },
  {
   "cell_type": "code",
   "execution_count": 175,
   "metadata": {},
   "outputs": [],
   "source": [
    "del Apps[\"Current.Ver\"]\n",
    "del Apps[\"No_reviews_count\"] \n",
    "del Apps[\"Reviews_present_count\"]\n",
    "del Apps[\"Last.Updated..Year.Month.\"],\n",
    "del Apps[\"Last.Updated..Year.\"]\n",
    "del Apps[\"Android.Ver\"]"
   ]
  },
  {
   "cell_type": "code",
   "execution_count": 176,
   "metadata": {},
   "outputs": [],
   "source": [
    "family = pd.read_csv(\"C:/Users/faria/OneDrive/Documentos/Tareas/GitHub/Google-Play-Store-Mining/dataset_modificado/family.csv\")\n",
    "commun = pd.read_csv(\"C:/Users/faria/OneDrive/Documentos/Tareas/GitHub/Google-Play-Store-Mining/dataset_modificado/communication.csv\")\n",
    "games = pd.read_csv(\"C:/Users/faria/OneDrive/Documentos/Tareas/GitHub/Google-Play-Store-Mining/dataset_modificado/games.csv\")\n",
    "magazi = pd.read_csv(\"C:/Users/faria/OneDrive/Documentos/Tareas/GitHub/Google-Play-Store-Mining/dataset_modificado/magazines.csv\")\n",
    "photo = pd.read_csv(\"C:/Users/faria/OneDrive/Documentos/Tareas/GitHub/Google-Play-Store-Mining/dataset_modificado/photo.csv\")\n",
    "produc = pd.read_csv(\"C:/Users/faria/OneDrive/Documentos/Tareas/GitHub/Google-Play-Store-Mining/dataset_modificado/productivity.csv\")\n",
    "social = pd.read_csv(\"C:/Users/faria/OneDrive/Documentos/Tareas/GitHub/Google-Play-Store-Mining/dataset_modificado/social.csv\")\n",
    "tools = pd.read_csv(\"C:/Users/faria/OneDrive/Documentos/Tareas/GitHub/Google-Play-Store-Mining/dataset_modificado/tools.csv\")\n",
    "video = pd.read_csv(\"C:/Users/faria/OneDrive/Documentos/Tareas/GitHub/Google-Play-Store-Mining/dataset_modificado/video.csv\")\n",
    "travel = pd.read_csv(\"C:/Users/faria/OneDrive/Documentos/Tareas/GitHub/Google-Play-Store-Mining/dataset_modificado/travel.csv\")"
   ]
  },
  {
   "cell_type": "code",
   "execution_count": 177,
   "metadata": {},
   "outputs": [],
   "source": [
    "cat_dt = [family, commun, games, magazi, photo, produc, social, tools, video, travel]"
   ]
  },
  {
   "cell_type": "code",
   "execution_count": 189,
   "metadata": {},
   "outputs": [],
   "source": [
    "App_Review2 = pd.read_csv(\"C:/Users/faria/OneDrive/Documentos/Tareas/GitHub/Google-Play-Store-Mining/dataset_modificado/DataPregunta2_1.csv\")"
   ]
  },
  {
   "cell_type": "code",
   "execution_count": 190,
   "metadata": {},
   "outputs": [],
   "source": [
    "del App_Review2[\"non_alpha_numeric_count\"]"
   ]
  },
  {
   "cell_type": "code",
   "execution_count": 180,
   "metadata": {},
   "outputs": [],
   "source": [
    "for dt in cat_dt:\n",
    "    del dt[\"Current.Ver\"]\n",
    "    del dt[\"No_reviews_count\"] \n",
    "    del dt[\"Reviews_present_count\"]\n",
    "    del dt[\"Last.Updated..Year.Month.\"],\n",
    "    del dt[\"Last.Updated..Year.\"]\n",
    "    del dt[\"Android.Ver\"]"
   ]
  },
  {
   "cell_type": "code",
   "execution_count": 181,
   "metadata": {},
   "outputs": [],
   "source": [
    "from sklearn.metrics import adjusted_mutual_info_score, normalized_mutual_info_score"
   ]
  },
  {
   "cell_type": "code",
   "execution_count": 182,
   "metadata": {},
   "outputs": [
    {
     "data": {
      "image/png": "[encoded data removed]",
      "text/plain": [
       "<Figure size 432x288 with 1 Axes>"
      ]
     },
     "metadata": {
      "needs_background": "light"
     },
     "output_type": "display_data"
    }
   ],
   "source": [
    "plt.scatter(range(len(Apps)), Apps.Rating)\n",
    "plt.show()"
   ]
  },
  {
   "cell_type": "code",
   "execution_count": 183,
   "metadata": {},
   "outputs": [
    {
     "data": {
      "image/png": "[encoded data removed]",
      "text/plain": [
       "<Figure size 432x288 with 1 Axes>"
      ]
     },
     "metadata": {
      "needs_background": "light"
     },
     "output_type": "display_data"
    }
   ],
   "source": [
    "for dt in cat_dt:\n",
    "    plt.scatter(range(len(dt)), dt.Rating)\n",
    "\n",
    "plt.show()"
   ]
  },
  {
   "cell_type": "markdown",
   "metadata": {},
   "source": [
    "### Correlación"
   ]
  },
  {
   "cell_type": "code",
   "execution_count": 184,
   "metadata": {},
   "outputs": [
    {
     "data": {
      "text/html": [
       "<div>\n",
       "<style scoped>\n",
       "    .dataframe tbody tr th:only-of-type {\n",
       "        vertical-align: middle;\n",
       "    }\n",
       "\n",
       "    .dataframe tbody tr th {\n",
       "        vertical-align: top;\n",
       "    }\n",
       "\n",
       "    .dataframe thead th {\n",
       "        text-align: right;\n",
       "    }\n",
       "</style>\n",
       "<table border=\"1\" class=\"dataframe\">\n",
       "  <thead>\n",
       "    <tr style=\"text-align: right;\">\n",
       "      <th></th>\n",
       "      <th>Category</th>\n",
       "      <th>Rating</th>\n",
       "      <th>Reviews</th>\n",
       "      <th>Size</th>\n",
       "      <th>Installs</th>\n",
       "      <th>Type</th>\n",
       "      <th>Price</th>\n",
       "      <th>Genres</th>\n",
       "    </tr>\n",
       "  </thead>\n",
       "  <tbody>\n",
       "    <tr>\n",
       "      <th>Category</th>\n",
       "      <td>1.000000</td>\n",
       "      <td>-0.041095</td>\n",
       "      <td>0.017300</td>\n",
       "      <td>-0.121715</td>\n",
       "      <td>0.031659</td>\n",
       "      <td>0.016994</td>\n",
       "      <td>-0.013769</td>\n",
       "      <td>0.796488</td>\n",
       "    </tr>\n",
       "    <tr>\n",
       "      <th>Rating</th>\n",
       "      <td>-0.041095</td>\n",
       "      <td>1.000000</td>\n",
       "      <td>0.055081</td>\n",
       "      <td>0.063067</td>\n",
       "      <td>0.040143</td>\n",
       "      <td>0.045395</td>\n",
       "      <td>-0.021199</td>\n",
       "      <td>-0.046924</td>\n",
       "    </tr>\n",
       "    <tr>\n",
       "      <th>Reviews</th>\n",
       "      <td>0.017300</td>\n",
       "      <td>0.055081</td>\n",
       "      <td>1.000000</td>\n",
       "      <td>0.179321</td>\n",
       "      <td>0.625165</td>\n",
       "      <td>-0.033078</td>\n",
       "      <td>-0.007598</td>\n",
       "      <td>0.006707</td>\n",
       "    </tr>\n",
       "    <tr>\n",
       "      <th>Size</th>\n",
       "      <td>-0.121715</td>\n",
       "      <td>0.063067</td>\n",
       "      <td>0.179321</td>\n",
       "      <td>1.000000</td>\n",
       "      <td>0.134291</td>\n",
       "      <td>-0.018838</td>\n",
       "      <td>-0.022439</td>\n",
       "      <td>-0.105411</td>\n",
       "    </tr>\n",
       "    <tr>\n",
       "      <th>Installs</th>\n",
       "      <td>0.031659</td>\n",
       "      <td>0.040143</td>\n",
       "      <td>0.625165</td>\n",
       "      <td>0.134291</td>\n",
       "      <td>1.000000</td>\n",
       "      <td>-0.041750</td>\n",
       "      <td>-0.009405</td>\n",
       "      <td>0.014144</td>\n",
       "    </tr>\n",
       "    <tr>\n",
       "      <th>Type</th>\n",
       "      <td>0.016994</td>\n",
       "      <td>0.045395</td>\n",
       "      <td>-0.033078</td>\n",
       "      <td>-0.018838</td>\n",
       "      <td>-0.041750</td>\n",
       "      <td>1.000000</td>\n",
       "      <td>0.223867</td>\n",
       "      <td>-0.002299</td>\n",
       "    </tr>\n",
       "    <tr>\n",
       "      <th>Price</th>\n",
       "      <td>-0.013769</td>\n",
       "      <td>-0.021199</td>\n",
       "      <td>-0.007598</td>\n",
       "      <td>-0.022439</td>\n",
       "      <td>-0.009405</td>\n",
       "      <td>0.223867</td>\n",
       "      <td>1.000000</td>\n",
       "      <td>-0.005382</td>\n",
       "    </tr>\n",
       "    <tr>\n",
       "      <th>Genres</th>\n",
       "      <td>0.796488</td>\n",
       "      <td>-0.046924</td>\n",
       "      <td>0.006707</td>\n",
       "      <td>-0.105411</td>\n",
       "      <td>0.014144</td>\n",
       "      <td>-0.002299</td>\n",
       "      <td>-0.005382</td>\n",
       "      <td>1.000000</td>\n",
       "    </tr>\n",
       "  </tbody>\n",
       "</table>\n",
       "</div>"
      ],
      "text/plain": [
       "          Category    Rating   Reviews      Size  Installs      Type  \\\n",
       "Category  1.000000 -0.041095  0.017300 -0.121715  0.031659  0.016994   \n",
       "Rating   -0.041095  1.000000  0.055081  0.063067  0.040143  0.045395   \n",
       "Reviews   0.017300  0.055081  1.000000  0.179321  0.625165 -0.033078   \n",
       "Size     -0.121715  0.063067  0.179321  1.000000  0.134291 -0.018838   \n",
       "Installs  0.031659  0.040143  0.625165  0.134291  1.000000 -0.041750   \n",
       "Type      0.016994  0.045395 -0.033078 -0.018838 -0.041750  1.000000   \n",
       "Price    -0.013769 -0.021199 -0.007598 -0.022439 -0.009405  0.223867   \n",
       "Genres    0.796488 -0.046924  0.006707 -0.105411  0.014144 -0.002299   \n",
       "\n",
       "             Price    Genres  \n",
       "Category -0.013769  0.796488  \n",
       "Rating   -0.021199 -0.046924  \n",
       "Reviews  -0.007598  0.006707  \n",
       "Size     -0.022439 -0.105411  \n",
       "Installs -0.009405  0.014144  \n",
       "Type      0.223867 -0.002299  \n",
       "Price     1.000000 -0.005382  \n",
       "Genres   -0.005382  1.000000  "
      ]
     },
     "execution_count": 184,
     "metadata": {},
     "output_type": "execute_result"
    }
   ],
   "source": [
    "Apps.corr(\"pearson\")"
   ]
  },
  {
   "cell_type": "code",
   "execution_count": 185,
   "metadata": {},
   "outputs": [
    {
     "data": {
      "text/html": [
       "<div>\n",
       "<style scoped>\n",
       "    .dataframe tbody tr th:only-of-type {\n",
       "        vertical-align: middle;\n",
       "    }\n",
       "\n",
       "    .dataframe tbody tr th {\n",
       "        vertical-align: top;\n",
       "    }\n",
       "\n",
       "    .dataframe thead th {\n",
       "        text-align: right;\n",
       "    }\n",
       "</style>\n",
       "<table border=\"1\" class=\"dataframe\">\n",
       "  <thead>\n",
       "    <tr style=\"text-align: right;\">\n",
       "      <th></th>\n",
       "      <th>sentences_count</th>\n",
       "      <th>characters_count</th>\n",
       "      <th>spaces_count</th>\n",
       "      <th>count_words</th>\n",
       "      <th>duplicates_count</th>\n",
       "      <th>chars_excl_spaces_count</th>\n",
       "      <th>emoji_count</th>\n",
       "      <th>whole_numbers_count</th>\n",
       "      <th>alpha_numeric_count</th>\n",
       "      <th>non_alpha_numeric_count</th>\n",
       "      <th>...</th>\n",
       "      <th>stop_words_count</th>\n",
       "      <th>dates_count</th>\n",
       "      <th>noun_phase_count</th>\n",
       "      <th>sentiment_polarity_score</th>\n",
       "      <th>sentiment_subjectivity_score</th>\n",
       "      <th>spelling_quality_score</th>\n",
       "      <th>ease_of_reading_score</th>\n",
       "      <th>grammar_check_score</th>\n",
       "      <th>original_Sentiment_Polarity</th>\n",
       "      <th>original_Sentiment_Subjectivity</th>\n",
       "    </tr>\n",
       "  </thead>\n",
       "  <tbody>\n",
       "    <tr>\n",
       "      <th>sentences_count</th>\n",
       "      <td>1.000000</td>\n",
       "      <td>0.824838</td>\n",
       "      <td>0.827895</td>\n",
       "      <td>0.824145</td>\n",
       "      <td>0.764536</td>\n",
       "      <td>0.822333</td>\n",
       "      <td>0.042610</td>\n",
       "      <td>0.333944</td>\n",
       "      <td>0.816234</td>\n",
       "      <td>0.842795</td>\n",
       "      <td>...</td>\n",
       "      <td>0.264555</td>\n",
       "      <td>0.001707</td>\n",
       "      <td>0.788062</td>\n",
       "      <td>-0.130141</td>\n",
       "      <td>0.035078</td>\n",
       "      <td>0.071879</td>\n",
       "      <td>-0.085971</td>\n",
       "      <td>0.452912</td>\n",
       "      <td>-0.130141</td>\n",
       "      <td>0.035078</td>\n",
       "    </tr>\n",
       "    <tr>\n",
       "      <th>characters_count</th>\n",
       "      <td>0.824838</td>\n",
       "      <td>1.000000</td>\n",
       "      <td>0.989443</td>\n",
       "      <td>0.989072</td>\n",
       "      <td>0.891213</td>\n",
       "      <td>0.999632</td>\n",
       "      <td>0.056824</td>\n",
       "      <td>0.388705</td>\n",
       "      <td>0.999009</td>\n",
       "      <td>0.984099</td>\n",
       "      <td>...</td>\n",
       "      <td>0.349453</td>\n",
       "      <td>0.005218</td>\n",
       "      <td>0.964316</td>\n",
       "      <td>-0.159542</td>\n",
       "      <td>0.022768</td>\n",
       "      <td>0.056270</td>\n",
       "      <td>-0.223496</td>\n",
       "      <td>0.584581</td>\n",
       "      <td>-0.159542</td>\n",
       "      <td>0.022768</td>\n",
       "    </tr>\n",
       "    <tr>\n",
       "      <th>spaces_count</th>\n",
       "      <td>0.827895</td>\n",
       "      <td>0.989443</td>\n",
       "      <td>1.000000</td>\n",
       "      <td>0.996740</td>\n",
       "      <td>0.907149</td>\n",
       "      <td>0.985148</td>\n",
       "      <td>0.054128</td>\n",
       "      <td>0.406117</td>\n",
       "      <td>0.984953</td>\n",
       "      <td>0.987714</td>\n",
       "      <td>...</td>\n",
       "      <td>0.382111</td>\n",
       "      <td>0.003086</td>\n",
       "      <td>0.962451</td>\n",
       "      <td>-0.160390</td>\n",
       "      <td>0.019104</td>\n",
       "      <td>0.067274</td>\n",
       "      <td>-0.165582</td>\n",
       "      <td>0.587945</td>\n",
       "      <td>-0.160390</td>\n",
       "      <td>0.019104</td>\n",
       "    </tr>\n",
       "    <tr>\n",
       "      <th>count_words</th>\n",
       "      <td>0.824145</td>\n",
       "      <td>0.989072</td>\n",
       "      <td>0.996740</td>\n",
       "      <td>1.000000</td>\n",
       "      <td>0.905549</td>\n",
       "      <td>0.985319</td>\n",
       "      <td>0.047281</td>\n",
       "      <td>0.362183</td>\n",
       "      <td>0.984829</td>\n",
       "      <td>0.986366</td>\n",
       "      <td>...</td>\n",
       "      <td>0.385663</td>\n",
       "      <td>0.001053</td>\n",
       "      <td>0.961279</td>\n",
       "      <td>-0.159371</td>\n",
       "      <td>0.021141</td>\n",
       "      <td>0.058857</td>\n",
       "      <td>-0.166601</td>\n",
       "      <td>0.585083</td>\n",
       "      <td>-0.159371</td>\n",
       "      <td>0.021141</td>\n",
       "    </tr>\n",
       "    <tr>\n",
       "      <th>duplicates_count</th>\n",
       "      <td>0.764536</td>\n",
       "      <td>0.891213</td>\n",
       "      <td>0.907149</td>\n",
       "      <td>0.905549</td>\n",
       "      <td>1.000000</td>\n",
       "      <td>0.886142</td>\n",
       "      <td>0.069272</td>\n",
       "      <td>0.393985</td>\n",
       "      <td>0.881978</td>\n",
       "      <td>0.910369</td>\n",
       "      <td>...</td>\n",
       "      <td>0.385046</td>\n",
       "      <td>-0.000600</td>\n",
       "      <td>0.870096</td>\n",
       "      <td>-0.132419</td>\n",
       "      <td>0.012817</td>\n",
       "      <td>0.051967</td>\n",
       "      <td>-0.112603</td>\n",
       "      <td>0.546486</td>\n",
       "      <td>-0.132419</td>\n",
       "      <td>0.012817</td>\n",
       "    </tr>\n",
       "    <tr>\n",
       "      <th>chars_excl_spaces_count</th>\n",
       "      <td>0.822333</td>\n",
       "      <td>0.999632</td>\n",
       "      <td>0.985148</td>\n",
       "      <td>0.985319</td>\n",
       "      <td>0.886142</td>\n",
       "      <td>1.000000</td>\n",
       "      <td>0.057196</td>\n",
       "      <td>0.384537</td>\n",
       "      <td>0.999298</td>\n",
       "      <td>0.981116</td>\n",
       "      <td>...</td>\n",
       "      <td>0.342523</td>\n",
       "      <td>0.005605</td>\n",
       "      <td>0.962405</td>\n",
       "      <td>-0.159009</td>\n",
       "      <td>0.023400</td>\n",
       "      <td>0.054079</td>\n",
       "      <td>-0.233809</td>\n",
       "      <td>0.582581</td>\n",
       "      <td>-0.159009</td>\n",
       "      <td>0.023400</td>\n",
       "    </tr>\n",
       "    <tr>\n",
       "      <th>emoji_count</th>\n",
       "      <td>0.042610</td>\n",
       "      <td>0.056824</td>\n",
       "      <td>0.054128</td>\n",
       "      <td>0.047281</td>\n",
       "      <td>0.069272</td>\n",
       "      <td>0.057196</td>\n",
       "      <td>1.000000</td>\n",
       "      <td>0.167710</td>\n",
       "      <td>0.051479</td>\n",
       "      <td>0.077026</td>\n",
       "      <td>...</td>\n",
       "      <td>0.007861</td>\n",
       "      <td>-0.001142</td>\n",
       "      <td>0.058432</td>\n",
       "      <td>0.015800</td>\n",
       "      <td>0.008665</td>\n",
       "      <td>-0.030773</td>\n",
       "      <td>0.003038</td>\n",
       "      <td>0.062078</td>\n",
       "      <td>0.015800</td>\n",
       "      <td>0.008665</td>\n",
       "    </tr>\n",
       "    <tr>\n",
       "      <th>whole_numbers_count</th>\n",
       "      <td>0.333944</td>\n",
       "      <td>0.388705</td>\n",
       "      <td>0.406117</td>\n",
       "      <td>0.362183</td>\n",
       "      <td>0.393985</td>\n",
       "      <td>0.384537</td>\n",
       "      <td>0.167710</td>\n",
       "      <td>1.000000</td>\n",
       "      <td>0.378233</td>\n",
       "      <td>0.422780</td>\n",
       "      <td>...</td>\n",
       "      <td>0.099220</td>\n",
       "      <td>0.059849</td>\n",
       "      <td>0.375071</td>\n",
       "      <td>-0.089386</td>\n",
       "      <td>-0.033720</td>\n",
       "      <td>-0.012008</td>\n",
       "      <td>-0.024380</td>\n",
       "      <td>0.271642</td>\n",
       "      <td>-0.089386</td>\n",
       "      <td>-0.033720</td>\n",
       "    </tr>\n",
       "    <tr>\n",
       "      <th>alpha_numeric_count</th>\n",
       "      <td>0.816234</td>\n",
       "      <td>0.999009</td>\n",
       "      <td>0.984953</td>\n",
       "      <td>0.984829</td>\n",
       "      <td>0.881978</td>\n",
       "      <td>0.999298</td>\n",
       "      <td>0.051479</td>\n",
       "      <td>0.378233</td>\n",
       "      <td>1.000000</td>\n",
       "      <td>0.975218</td>\n",
       "      <td>...</td>\n",
       "      <td>0.340202</td>\n",
       "      <td>0.005118</td>\n",
       "      <td>0.962037</td>\n",
       "      <td>-0.159487</td>\n",
       "      <td>0.022793</td>\n",
       "      <td>0.059486</td>\n",
       "      <td>-0.236539</td>\n",
       "      <td>0.577622</td>\n",
       "      <td>-0.159487</td>\n",
       "      <td>0.022793</td>\n",
       "    </tr>\n",
       "    <tr>\n",
       "      <th>non_alpha_numeric_count</th>\n",
       "      <td>0.842795</td>\n",
       "      <td>0.984099</td>\n",
       "      <td>0.987714</td>\n",
       "      <td>0.986366</td>\n",
       "      <td>0.910369</td>\n",
       "      <td>0.981116</td>\n",
       "      <td>0.077026</td>\n",
       "      <td>0.422780</td>\n",
       "      <td>0.975218</td>\n",
       "      <td>1.000000</td>\n",
       "      <td>...</td>\n",
       "      <td>0.379435</td>\n",
       "      <td>0.005512</td>\n",
       "      <td>0.954260</td>\n",
       "      <td>-0.156591</td>\n",
       "      <td>0.022217</td>\n",
       "      <td>0.042316</td>\n",
       "      <td>-0.167006</td>\n",
       "      <td>0.600744</td>\n",
       "      <td>-0.156591</td>\n",
       "      <td>0.022217</td>\n",
       "    </tr>\n",
       "    <tr>\n",
       "      <th>punctuations_count</th>\n",
       "      <td>0.756802</td>\n",
       "      <td>0.813255</td>\n",
       "      <td>0.795071</td>\n",
       "      <td>0.799839</td>\n",
       "      <td>0.778019</td>\n",
       "      <td>0.814751</td>\n",
       "      <td>0.093247</td>\n",
       "      <td>0.407085</td>\n",
       "      <td>0.792659</td>\n",
       "      <td>0.879299</td>\n",
       "      <td>...</td>\n",
       "      <td>0.311505</td>\n",
       "      <td>0.012257</td>\n",
       "      <td>0.779013</td>\n",
       "      <td>-0.121541</td>\n",
       "      <td>0.028387</td>\n",
       "      <td>-0.037877</td>\n",
       "      <td>-0.146704</td>\n",
       "      <td>0.542921</td>\n",
       "      <td>-0.121541</td>\n",
       "      <td>0.028387</td>\n",
       "    </tr>\n",
       "    <tr>\n",
       "      <th>stop_words_count</th>\n",
       "      <td>0.264555</td>\n",
       "      <td>0.349453</td>\n",
       "      <td>0.382111</td>\n",
       "      <td>0.385663</td>\n",
       "      <td>0.385046</td>\n",
       "      <td>0.342523</td>\n",
       "      <td>0.007861</td>\n",
       "      <td>0.099220</td>\n",
       "      <td>0.340202</td>\n",
       "      <td>0.379435</td>\n",
       "      <td>...</td>\n",
       "      <td>1.000000</td>\n",
       "      <td>0.004998</td>\n",
       "      <td>0.268751</td>\n",
       "      <td>-0.061572</td>\n",
       "      <td>-0.007369</td>\n",
       "      <td>0.049577</td>\n",
       "      <td>-0.021069</td>\n",
       "      <td>0.180900</td>\n",
       "      <td>-0.061572</td>\n",
       "      <td>-0.007369</td>\n",
       "    </tr>\n",
       "    <tr>\n",
       "      <th>dates_count</th>\n",
       "      <td>0.001707</td>\n",
       "      <td>0.005218</td>\n",
       "      <td>0.003086</td>\n",
       "      <td>0.001053</td>\n",
       "      <td>-0.000600</td>\n",
       "      <td>0.005605</td>\n",
       "      <td>-0.001142</td>\n",
       "      <td>0.059849</td>\n",
       "      <td>0.005118</td>\n",
       "      <td>0.005512</td>\n",
       "      <td>...</td>\n",
       "      <td>0.004998</td>\n",
       "      <td>1.000000</td>\n",
       "      <td>0.001368</td>\n",
       "      <td>-0.005884</td>\n",
       "      <td>-0.008649</td>\n",
       "      <td>-0.013913</td>\n",
       "      <td>-0.006954</td>\n",
       "      <td>-0.001737</td>\n",
       "      <td>-0.005884</td>\n",
       "      <td>-0.008649</td>\n",
       "    </tr>\n",
       "    <tr>\n",
       "      <th>noun_phase_count</th>\n",
       "      <td>0.788062</td>\n",
       "      <td>0.964316</td>\n",
       "      <td>0.962451</td>\n",
       "      <td>0.961279</td>\n",
       "      <td>0.870096</td>\n",
       "      <td>0.962405</td>\n",
       "      <td>0.058432</td>\n",
       "      <td>0.375071</td>\n",
       "      <td>0.962037</td>\n",
       "      <td>0.954260</td>\n",
       "      <td>...</td>\n",
       "      <td>0.268751</td>\n",
       "      <td>0.001368</td>\n",
       "      <td>1.000000</td>\n",
       "      <td>-0.139839</td>\n",
       "      <td>0.032786</td>\n",
       "      <td>0.042380</td>\n",
       "      <td>-0.184889</td>\n",
       "      <td>0.602675</td>\n",
       "      <td>-0.139839</td>\n",
       "      <td>0.032786</td>\n",
       "    </tr>\n",
       "    <tr>\n",
       "      <th>sentiment_polarity_score</th>\n",
       "      <td>-0.130141</td>\n",
       "      <td>-0.159542</td>\n",
       "      <td>-0.160390</td>\n",
       "      <td>-0.159371</td>\n",
       "      <td>-0.132419</td>\n",
       "      <td>-0.159009</td>\n",
       "      <td>0.015800</td>\n",
       "      <td>-0.089386</td>\n",
       "      <td>-0.159487</td>\n",
       "      <td>-0.156591</td>\n",
       "      <td>...</td>\n",
       "      <td>-0.061572</td>\n",
       "      <td>-0.005884</td>\n",
       "      <td>-0.139839</td>\n",
       "      <td>1.000000</td>\n",
       "      <td>0.259668</td>\n",
       "      <td>0.009576</td>\n",
       "      <td>0.090493</td>\n",
       "      <td>-0.104856</td>\n",
       "      <td>1.000000</td>\n",
       "      <td>0.259668</td>\n",
       "    </tr>\n",
       "    <tr>\n",
       "      <th>sentiment_subjectivity_score</th>\n",
       "      <td>0.035078</td>\n",
       "      <td>0.022768</td>\n",
       "      <td>0.019104</td>\n",
       "      <td>0.021141</td>\n",
       "      <td>0.012817</td>\n",
       "      <td>0.023400</td>\n",
       "      <td>0.008665</td>\n",
       "      <td>-0.033720</td>\n",
       "      <td>0.022793</td>\n",
       "      <td>0.022217</td>\n",
       "      <td>...</td>\n",
       "      <td>-0.007369</td>\n",
       "      <td>-0.008649</td>\n",
       "      <td>0.032786</td>\n",
       "      <td>0.259668</td>\n",
       "      <td>1.000000</td>\n",
       "      <td>0.065280</td>\n",
       "      <td>-0.023341</td>\n",
       "      <td>0.001924</td>\n",
       "      <td>0.259668</td>\n",
       "      <td>1.000000</td>\n",
       "    </tr>\n",
       "    <tr>\n",
       "      <th>spelling_quality_score</th>\n",
       "      <td>0.071879</td>\n",
       "      <td>0.056270</td>\n",
       "      <td>0.067274</td>\n",
       "      <td>0.058857</td>\n",
       "      <td>0.051967</td>\n",
       "      <td>0.054079</td>\n",
       "      <td>-0.030773</td>\n",
       "      <td>-0.012008</td>\n",
       "      <td>0.059486</td>\n",
       "      <td>0.042316</td>\n",
       "      <td>...</td>\n",
       "      <td>0.049577</td>\n",
       "      <td>-0.013913</td>\n",
       "      <td>0.042380</td>\n",
       "      <td>0.009576</td>\n",
       "      <td>0.065280</td>\n",
       "      <td>1.000000</td>\n",
       "      <td>0.063354</td>\n",
       "      <td>-0.101965</td>\n",
       "      <td>0.009576</td>\n",
       "      <td>0.065280</td>\n",
       "    </tr>\n",
       "    <tr>\n",
       "      <th>ease_of_reading_score</th>\n",
       "      <td>-0.085971</td>\n",
       "      <td>-0.223496</td>\n",
       "      <td>-0.165582</td>\n",
       "      <td>-0.166601</td>\n",
       "      <td>-0.112603</td>\n",
       "      <td>-0.233809</td>\n",
       "      <td>0.003038</td>\n",
       "      <td>-0.024380</td>\n",
       "      <td>-0.236539</td>\n",
       "      <td>-0.167006</td>\n",
       "      <td>...</td>\n",
       "      <td>-0.021069</td>\n",
       "      <td>-0.006954</td>\n",
       "      <td>-0.184889</td>\n",
       "      <td>0.090493</td>\n",
       "      <td>-0.023341</td>\n",
       "      <td>0.063354</td>\n",
       "      <td>1.000000</td>\n",
       "      <td>-0.130203</td>\n",
       "      <td>0.090493</td>\n",
       "      <td>-0.023341</td>\n",
       "    </tr>\n",
       "    <tr>\n",
       "      <th>grammar_check_score</th>\n",
       "      <td>0.452912</td>\n",
       "      <td>0.584581</td>\n",
       "      <td>0.587945</td>\n",
       "      <td>0.585083</td>\n",
       "      <td>0.546486</td>\n",
       "      <td>0.582581</td>\n",
       "      <td>0.062078</td>\n",
       "      <td>0.271642</td>\n",
       "      <td>0.577622</td>\n",
       "      <td>0.600744</td>\n",
       "      <td>...</td>\n",
       "      <td>0.180900</td>\n",
       "      <td>-0.001737</td>\n",
       "      <td>0.602675</td>\n",
       "      <td>-0.104856</td>\n",
       "      <td>0.001924</td>\n",
       "      <td>-0.101965</td>\n",
       "      <td>-0.130203</td>\n",
       "      <td>1.000000</td>\n",
       "      <td>-0.104856</td>\n",
       "      <td>0.001924</td>\n",
       "    </tr>\n",
       "    <tr>\n",
       "      <th>original_Sentiment_Polarity</th>\n",
       "      <td>-0.130141</td>\n",
       "      <td>-0.159542</td>\n",
       "      <td>-0.160390</td>\n",
       "      <td>-0.159371</td>\n",
       "      <td>-0.132419</td>\n",
       "      <td>-0.159009</td>\n",
       "      <td>0.015800</td>\n",
       "      <td>-0.089386</td>\n",
       "      <td>-0.159487</td>\n",
       "      <td>-0.156591</td>\n",
       "      <td>...</td>\n",
       "      <td>-0.061572</td>\n",
       "      <td>-0.005884</td>\n",
       "      <td>-0.139839</td>\n",
       "      <td>1.000000</td>\n",
       "      <td>0.259668</td>\n",
       "      <td>0.009576</td>\n",
       "      <td>0.090493</td>\n",
       "      <td>-0.104856</td>\n",
       "      <td>1.000000</td>\n",
       "      <td>0.259668</td>\n",
       "    </tr>\n",
       "    <tr>\n",
       "      <th>original_Sentiment_Subjectivity</th>\n",
       "      <td>0.035078</td>\n",
       "      <td>0.022768</td>\n",
       "      <td>0.019104</td>\n",
       "      <td>0.021141</td>\n",
       "      <td>0.012817</td>\n",
       "      <td>0.023400</td>\n",
       "      <td>0.008665</td>\n",
       "      <td>-0.033720</td>\n",
       "      <td>0.022793</td>\n",
       "      <td>0.022217</td>\n",
       "      <td>...</td>\n",
       "      <td>-0.007369</td>\n",
       "      <td>-0.008649</td>\n",
       "      <td>0.032786</td>\n",
       "      <td>0.259668</td>\n",
       "      <td>1.000000</td>\n",
       "      <td>0.065280</td>\n",
       "      <td>-0.023341</td>\n",
       "      <td>0.001924</td>\n",
       "      <td>0.259668</td>\n",
       "      <td>1.000000</td>\n",
       "    </tr>\n",
       "  </tbody>\n",
       "</table>\n",
       "<p>21 rows × 21 columns</p>\n",
       "</div>"
      ],
      "text/plain": [
       "                                 sentences_count  characters_count  \\\n",
       "sentences_count                         1.000000          0.824838   \n",
       "characters_count                        0.824838          1.000000   \n",
       "spaces_count                            0.827895          0.989443   \n",
       "count_words                             0.824145          0.989072   \n",
       "duplicates_count                        0.764536          0.891213   \n",
       "chars_excl_spaces_count                 0.822333          0.999632   \n",
       "emoji_count                             0.042610          0.056824   \n",
       "whole_numbers_count                     0.333944          0.388705   \n",
       "alpha_numeric_count                     0.816234          0.999009   \n",
       "non_alpha_numeric_count                 0.842795          0.984099   \n",
       "punctuations_count                      0.756802          0.813255   \n",
       "stop_words_count                        0.264555          0.349453   \n",
       "dates_count                             0.001707          0.005218   \n",
       "noun_phase_count                        0.788062          0.964316   \n",
       "sentiment_polarity_score               -0.130141         -0.159542   \n",
       "sentiment_subjectivity_score            0.035078          0.022768   \n",
       "spelling_quality_score                  0.071879          0.056270   \n",
       "ease_of_reading_score                  -0.085971         -0.223496   \n",
       "grammar_check_score                     0.452912          0.584581   \n",
       "original_Sentiment_Polarity            -0.130141         -0.159542   \n",
       "original_Sentiment_Subjectivity         0.035078          0.022768   \n",
       "\n",
       "                                 spaces_count  count_words  duplicates_count  \\\n",
       "sentences_count                      0.827895     0.824145          0.764536   \n",
       "characters_count                     0.989443     0.989072          0.891213   \n",
       "spaces_count                         1.000000     0.996740          0.907149   \n",
       "count_words                          0.996740     1.000000          0.905549   \n",
       "duplicates_count                     0.907149     0.905549          1.000000   \n",
       "chars_excl_spaces_count              0.985148     0.985319          0.886142   \n",
       "emoji_count                          0.054128     0.047281          0.069272   \n",
       "whole_numbers_count                  0.406117     0.362183          0.393985   \n",
       "alpha_numeric_count                  0.984953     0.984829          0.881978   \n",
       "non_alpha_numeric_count              0.987714     0.986366          0.910369   \n",
       "punctuations_count                   0.795071     0.799839          0.778019   \n",
       "stop_words_count                     0.382111     0.385663          0.385046   \n",
       "dates_count                          0.003086     0.001053         -0.000600   \n",
       "noun_phase_count                     0.962451     0.961279          0.870096   \n",
       "sentiment_polarity_score            -0.160390    -0.159371         -0.132419   \n",
       "sentiment_subjectivity_score         0.019104     0.021141          0.012817   \n",
       "spelling_quality_score               0.067274     0.058857          0.051967   \n",
       "ease_of_reading_score               -0.165582    -0.166601         -0.112603   \n",
       "grammar_check_score                  0.587945     0.585083          0.546486   \n",
       "original_Sentiment_Polarity         -0.160390    -0.159371         -0.132419   \n",
       "original_Sentiment_Subjectivity      0.019104     0.021141          0.012817   \n",
       "\n",
       "                                 chars_excl_spaces_count  emoji_count  \\\n",
       "sentences_count                                 0.822333     0.042610   \n",
       "characters_count                                0.999632     0.056824   \n",
       "spaces_count                                    0.985148     0.054128   \n",
       "count_words                                     0.985319     0.047281   \n",
       "duplicates_count                                0.886142     0.069272   \n",
       "chars_excl_spaces_count                         1.000000     0.057196   \n",
       "emoji_count                                     0.057196     1.000000   \n",
       "whole_numbers_count                             0.384537     0.167710   \n",
       "alpha_numeric_count                             0.999298     0.051479   \n",
       "non_alpha_numeric_count                         0.981116     0.077026   \n",
       "punctuations_count                              0.814751     0.093247   \n",
       "stop_words_count                                0.342523     0.007861   \n",
       "dates_count                                     0.005605    -0.001142   \n",
       "noun_phase_count                                0.962405     0.058432   \n",
       "sentiment_polarity_score                       -0.159009     0.015800   \n",
       "sentiment_subjectivity_score                    0.023400     0.008665   \n",
       "spelling_quality_score                          0.054079    -0.030773   \n",
       "ease_of_reading_score                          -0.233809     0.003038   \n",
       "grammar_check_score                             0.582581     0.062078   \n",
       "original_Sentiment_Polarity                    -0.159009     0.015800   \n",
       "original_Sentiment_Subjectivity                 0.023400     0.008665   \n",
       "\n",
       "                                 whole_numbers_count  alpha_numeric_count  \\\n",
       "sentences_count                             0.333944             0.816234   \n",
       "characters_count                            0.388705             0.999009   \n",
       "spaces_count                                0.406117             0.984953   \n",
       "count_words                                 0.362183             0.984829   \n",
       "duplicates_count                            0.393985             0.881978   \n",
       "chars_excl_spaces_count                     0.384537             0.999298   \n",
       "emoji_count                                 0.167710             0.051479   \n",
       "whole_numbers_count                         1.000000             0.378233   \n",
       "alpha_numeric_count                         0.378233             1.000000   \n",
       "non_alpha_numeric_count                     0.422780             0.975218   \n",
       "punctuations_count                          0.407085             0.792659   \n",
       "stop_words_count                            0.099220             0.340202   \n",
       "dates_count                                 0.059849             0.005118   \n",
       "noun_phase_count                            0.375071             0.962037   \n",
       "sentiment_polarity_score                   -0.089386            -0.159487   \n",
       "sentiment_subjectivity_score               -0.033720             0.022793   \n",
       "spelling_quality_score                     -0.012008             0.059486   \n",
       "ease_of_reading_score                      -0.024380            -0.236539   \n",
       "grammar_check_score                         0.271642             0.577622   \n",
       "original_Sentiment_Polarity                -0.089386            -0.159487   \n",
       "original_Sentiment_Subjectivity            -0.033720             0.022793   \n",
       "\n",
       "                                 non_alpha_numeric_count  ...  \\\n",
       "sentences_count                                 0.842795  ...   \n",
       "characters_count                                0.984099  ...   \n",
       "spaces_count                                    0.987714  ...   \n",
       "count_words                                     0.986366  ...   \n",
       "duplicates_count                                0.910369  ...   \n",
       "chars_excl_spaces_count                         0.981116  ...   \n",
       "emoji_count                                     0.077026  ...   \n",
       "whole_numbers_count                             0.422780  ...   \n",
       "alpha_numeric_count                             0.975218  ...   \n",
       "non_alpha_numeric_count                         1.000000  ...   \n",
       "punctuations_count                              0.879299  ...   \n",
       "stop_words_count                                0.379435  ...   \n",
       "dates_count                                     0.005512  ...   \n",
       "noun_phase_count                                0.954260  ...   \n",
       "sentiment_polarity_score                       -0.156591  ...   \n",
       "sentiment_subjectivity_score                    0.022217  ...   \n",
       "spelling_quality_score                          0.042316  ...   \n",
       "ease_of_reading_score                          -0.167006  ...   \n",
       "grammar_check_score                             0.600744  ...   \n",
       "original_Sentiment_Polarity                    -0.156591  ...   \n",
       "original_Sentiment_Subjectivity                 0.022217  ...   \n",
       "\n",
       "                                 stop_words_count  dates_count  \\\n",
       "sentences_count                          0.264555     0.001707   \n",
       "characters_count                         0.349453     0.005218   \n",
       "spaces_count                             0.382111     0.003086   \n",
       "count_words                              0.385663     0.001053   \n",
       "duplicates_count                         0.385046    -0.000600   \n",
       "chars_excl_spaces_count                  0.342523     0.005605   \n",
       "emoji_count                              0.007861    -0.001142   \n",
       "whole_numbers_count                      0.099220     0.059849   \n",
       "alpha_numeric_count                      0.340202     0.005118   \n",
       "non_alpha_numeric_count                  0.379435     0.005512   \n",
       "punctuations_count                       0.311505     0.012257   \n",
       "stop_words_count                         1.000000     0.004998   \n",
       "dates_count                              0.004998     1.000000   \n",
       "noun_phase_count                         0.268751     0.001368   \n",
       "sentiment_polarity_score                -0.061572    -0.005884   \n",
       "sentiment_subjectivity_score            -0.007369    -0.008649   \n",
       "spelling_quality_score                   0.049577    -0.013913   \n",
       "ease_of_reading_score                   -0.021069    -0.006954   \n",
       "grammar_check_score                      0.180900    -0.001737   \n",
       "original_Sentiment_Polarity             -0.061572    -0.005884   \n",
       "original_Sentiment_Subjectivity         -0.007369    -0.008649   \n",
       "\n",
       "                                 noun_phase_count  sentiment_polarity_score  \\\n",
       "sentences_count                          0.788062                 -0.130141   \n",
       "characters_count                         0.964316                 -0.159542   \n",
       "spaces_count                             0.962451                 -0.160390   \n",
       "count_words                              0.961279                 -0.159371   \n",
       "duplicates_count                         0.870096                 -0.132419   \n",
       "chars_excl_spaces_count                  0.962405                 -0.159009   \n",
       "emoji_count                              0.058432                  0.015800   \n",
       "whole_numbers_count                      0.375071                 -0.089386   \n",
       "alpha_numeric_count                      0.962037                 -0.159487   \n",
       "non_alpha_numeric_count                  0.954260                 -0.156591   \n",
       "punctuations_count                       0.779013                 -0.121541   \n",
       "stop_words_count                         0.268751                 -0.061572   \n",
       "dates_count                              0.001368                 -0.005884   \n",
       "noun_phase_count                         1.000000                 -0.139839   \n",
       "sentiment_polarity_score                -0.139839                  1.000000   \n",
       "sentiment_subjectivity_score             0.032786                  0.259668   \n",
       "spelling_quality_score                   0.042380                  0.009576   \n",
       "ease_of_reading_score                   -0.184889                  0.090493   \n",
       "grammar_check_score                      0.602675                 -0.104856   \n",
       "original_Sentiment_Polarity             -0.139839                  1.000000   \n",
       "original_Sentiment_Subjectivity          0.032786                  0.259668   \n",
       "\n",
       "                                 sentiment_subjectivity_score  \\\n",
       "sentences_count                                      0.035078   \n",
       "characters_count                                     0.022768   \n",
       "spaces_count                                         0.019104   \n",
       "count_words                                          0.021141   \n",
       "duplicates_count                                     0.012817   \n",
       "chars_excl_spaces_count                              0.023400   \n",
       "emoji_count                                          0.008665   \n",
       "whole_numbers_count                                 -0.033720   \n",
       "alpha_numeric_count                                  0.022793   \n",
       "non_alpha_numeric_count                              0.022217   \n",
       "punctuations_count                                   0.028387   \n",
       "stop_words_count                                    -0.007369   \n",
       "dates_count                                         -0.008649   \n",
       "noun_phase_count                                     0.032786   \n",
       "sentiment_polarity_score                             0.259668   \n",
       "sentiment_subjectivity_score                         1.000000   \n",
       "spelling_quality_score                               0.065280   \n",
       "ease_of_reading_score                               -0.023341   \n",
       "grammar_check_score                                  0.001924   \n",
       "original_Sentiment_Polarity                          0.259668   \n",
       "original_Sentiment_Subjectivity                      1.000000   \n",
       "\n",
       "                                 spelling_quality_score  \\\n",
       "sentences_count                                0.071879   \n",
       "characters_count                               0.056270   \n",
       "spaces_count                                   0.067274   \n",
       "count_words                                    0.058857   \n",
       "duplicates_count                               0.051967   \n",
       "chars_excl_spaces_count                        0.054079   \n",
       "emoji_count                                   -0.030773   \n",
       "whole_numbers_count                           -0.012008   \n",
       "alpha_numeric_count                            0.059486   \n",
       "non_alpha_numeric_count                        0.042316   \n",
       "punctuations_count                            -0.037877   \n",
       "stop_words_count                               0.049577   \n",
       "dates_count                                   -0.013913   \n",
       "noun_phase_count                               0.042380   \n",
       "sentiment_polarity_score                       0.009576   \n",
       "sentiment_subjectivity_score                   0.065280   \n",
       "spelling_quality_score                         1.000000   \n",
       "ease_of_reading_score                          0.063354   \n",
       "grammar_check_score                           -0.101965   \n",
       "original_Sentiment_Polarity                    0.009576   \n",
       "original_Sentiment_Subjectivity                0.065280   \n",
       "\n",
       "                                 ease_of_reading_score  grammar_check_score  \\\n",
       "sentences_count                              -0.085971             0.452912   \n",
       "characters_count                             -0.223496             0.584581   \n",
       "spaces_count                                 -0.165582             0.587945   \n",
       "count_words                                  -0.166601             0.585083   \n",
       "duplicates_count                             -0.112603             0.546486   \n",
       "chars_excl_spaces_count                      -0.233809             0.582581   \n",
       "emoji_count                                   0.003038             0.062078   \n",
       "whole_numbers_count                          -0.024380             0.271642   \n",
       "alpha_numeric_count                          -0.236539             0.577622   \n",
       "non_alpha_numeric_count                      -0.167006             0.600744   \n",
       "punctuations_count                           -0.146704             0.542921   \n",
       "stop_words_count                             -0.021069             0.180900   \n",
       "dates_count                                  -0.006954            -0.001737   \n",
       "noun_phase_count                             -0.184889             0.602675   \n",
       "sentiment_polarity_score                      0.090493            -0.104856   \n",
       "sentiment_subjectivity_score                 -0.023341             0.001924   \n",
       "spelling_quality_score                        0.063354            -0.101965   \n",
       "ease_of_reading_score                         1.000000            -0.130203   \n",
       "grammar_check_score                          -0.130203             1.000000   \n",
       "original_Sentiment_Polarity                   0.090493            -0.104856   \n",
       "original_Sentiment_Subjectivity              -0.023341             0.001924   \n",
       "\n",
       "                                 original_Sentiment_Polarity  \\\n",
       "sentences_count                                    -0.130141   \n",
       "characters_count                                   -0.159542   \n",
       "spaces_count                                       -0.160390   \n",
       "count_words                                        -0.159371   \n",
       "duplicates_count                                   -0.132419   \n",
       "chars_excl_spaces_count                            -0.159009   \n",
       "emoji_count                                         0.015800   \n",
       "whole_numbers_count                                -0.089386   \n",
       "alpha_numeric_count                                -0.159487   \n",
       "non_alpha_numeric_count                            -0.156591   \n",
       "punctuations_count                                 -0.121541   \n",
       "stop_words_count                                   -0.061572   \n",
       "dates_count                                        -0.005884   \n",
       "noun_phase_count                                   -0.139839   \n",
       "sentiment_polarity_score                            1.000000   \n",
       "sentiment_subjectivity_score                        0.259668   \n",
       "spelling_quality_score                              0.009576   \n",
       "ease_of_reading_score                               0.090493   \n",
       "grammar_check_score                                -0.104856   \n",
       "original_Sentiment_Polarity                         1.000000   \n",
       "original_Sentiment_Subjectivity                     0.259668   \n",
       "\n",
       "                                 original_Sentiment_Subjectivity  \n",
       "sentences_count                                         0.035078  \n",
       "characters_count                                        0.022768  \n",
       "spaces_count                                            0.019104  \n",
       "count_words                                             0.021141  \n",
       "duplicates_count                                        0.012817  \n",
       "chars_excl_spaces_count                                 0.023400  \n",
       "emoji_count                                             0.008665  \n",
       "whole_numbers_count                                    -0.033720  \n",
       "alpha_numeric_count                                     0.022793  \n",
       "non_alpha_numeric_count                                 0.022217  \n",
       "punctuations_count                                      0.028387  \n",
       "stop_words_count                                       -0.007369  \n",
       "dates_count                                            -0.008649  \n",
       "noun_phase_count                                        0.032786  \n",
       "sentiment_polarity_score                                0.259668  \n",
       "sentiment_subjectivity_score                            1.000000  \n",
       "spelling_quality_score                                  0.065280  \n",
       "ease_of_reading_score                                  -0.023341  \n",
       "grammar_check_score                                     0.001924  \n",
       "original_Sentiment_Polarity                             0.259668  \n",
       "original_Sentiment_Subjectivity                         1.000000  \n",
       "\n",
       "[21 rows x 21 columns]"
      ]
     },
     "execution_count": 185,
     "metadata": {},
     "output_type": "execute_result"
    }
   ],
   "source": [
    "Reviews.corr(\"pearson\")"
   ]
  },
  {
   "cell_type": "code",
   "execution_count": 186,
   "metadata": {},
   "outputs": [
    {
     "data": {
      "text/html": [
       "<div>\n",
       "<style scoped>\n",
       "    .dataframe tbody tr th:only-of-type {\n",
       "        vertical-align: middle;\n",
       "    }\n",
       "\n",
       "    .dataframe tbody tr th {\n",
       "        vertical-align: top;\n",
       "    }\n",
       "\n",
       "    .dataframe thead th {\n",
       "        text-align: right;\n",
       "    }\n",
       "</style>\n",
       "<table border=\"1\" class=\"dataframe\">\n",
       "  <thead>\n",
       "    <tr style=\"text-align: right;\">\n",
       "      <th></th>\n",
       "      <th>Category</th>\n",
       "      <th>Rating</th>\n",
       "      <th>Reviews</th>\n",
       "      <th>Size</th>\n",
       "      <th>Installs</th>\n",
       "      <th>Type</th>\n",
       "      <th>Price</th>\n",
       "      <th>Content.Rating</th>\n",
       "      <th>Genres</th>\n",
       "      <th>Rating_Q</th>\n",
       "      <th>Installs_Q</th>\n",
       "    </tr>\n",
       "  </thead>\n",
       "  <tbody>\n",
       "    <tr>\n",
       "      <th>Category</th>\n",
       "      <td>NaN</td>\n",
       "      <td>NaN</td>\n",
       "      <td>NaN</td>\n",
       "      <td>NaN</td>\n",
       "      <td>NaN</td>\n",
       "      <td>NaN</td>\n",
       "      <td>NaN</td>\n",
       "      <td>NaN</td>\n",
       "      <td>NaN</td>\n",
       "      <td>NaN</td>\n",
       "      <td>NaN</td>\n",
       "    </tr>\n",
       "    <tr>\n",
       "      <th>Rating</th>\n",
       "      <td>NaN</td>\n",
       "      <td>1.000000</td>\n",
       "      <td>0.180925</td>\n",
       "      <td>-0.104508</td>\n",
       "      <td>0.120140</td>\n",
       "      <td>0.044039</td>\n",
       "      <td>-0.034977</td>\n",
       "      <td>0.034467</td>\n",
       "      <td>NaN</td>\n",
       "      <td>0.909718</td>\n",
       "      <td>0.051093</td>\n",
       "    </tr>\n",
       "    <tr>\n",
       "      <th>Reviews</th>\n",
       "      <td>NaN</td>\n",
       "      <td>0.180925</td>\n",
       "      <td>1.000000</td>\n",
       "      <td>0.068771</td>\n",
       "      <td>0.685012</td>\n",
       "      <td>-0.092924</td>\n",
       "      <td>-0.069782</td>\n",
       "      <td>0.039319</td>\n",
       "      <td>NaN</td>\n",
       "      <td>0.232172</td>\n",
       "      <td>0.366595</td>\n",
       "    </tr>\n",
       "    <tr>\n",
       "      <th>Size</th>\n",
       "      <td>NaN</td>\n",
       "      <td>-0.104508</td>\n",
       "      <td>0.068771</td>\n",
       "      <td>1.000000</td>\n",
       "      <td>0.037449</td>\n",
       "      <td>-0.130890</td>\n",
       "      <td>-0.098871</td>\n",
       "      <td>-0.013123</td>\n",
       "      <td>NaN</td>\n",
       "      <td>-0.082551</td>\n",
       "      <td>0.001628</td>\n",
       "    </tr>\n",
       "    <tr>\n",
       "      <th>Installs</th>\n",
       "      <td>NaN</td>\n",
       "      <td>0.120140</td>\n",
       "      <td>0.685012</td>\n",
       "      <td>0.037449</td>\n",
       "      <td>1.000000</td>\n",
       "      <td>-0.146691</td>\n",
       "      <td>-0.111401</td>\n",
       "      <td>0.015243</td>\n",
       "      <td>NaN</td>\n",
       "      <td>0.147480</td>\n",
       "      <td>0.546408</td>\n",
       "    </tr>\n",
       "    <tr>\n",
       "      <th>Type</th>\n",
       "      <td>NaN</td>\n",
       "      <td>0.044039</td>\n",
       "      <td>-0.092924</td>\n",
       "      <td>-0.130890</td>\n",
       "      <td>-0.146691</td>\n",
       "      <td>1.000000</td>\n",
       "      <td>0.759670</td>\n",
       "      <td>-0.029608</td>\n",
       "      <td>NaN</td>\n",
       "      <td>0.085142</td>\n",
       "      <td>-0.338989</td>\n",
       "    </tr>\n",
       "    <tr>\n",
       "      <th>Price</th>\n",
       "      <td>NaN</td>\n",
       "      <td>-0.034977</td>\n",
       "      <td>-0.069782</td>\n",
       "      <td>-0.098871</td>\n",
       "      <td>-0.111401</td>\n",
       "      <td>0.759670</td>\n",
       "      <td>1.000000</td>\n",
       "      <td>-0.022492</td>\n",
       "      <td>NaN</td>\n",
       "      <td>0.003028</td>\n",
       "      <td>-0.250338</td>\n",
       "    </tr>\n",
       "    <tr>\n",
       "      <th>Content.Rating</th>\n",
       "      <td>NaN</td>\n",
       "      <td>0.034467</td>\n",
       "      <td>0.039319</td>\n",
       "      <td>-0.013123</td>\n",
       "      <td>0.015243</td>\n",
       "      <td>-0.029608</td>\n",
       "      <td>-0.022492</td>\n",
       "      <td>1.000000</td>\n",
       "      <td>NaN</td>\n",
       "      <td>0.018632</td>\n",
       "      <td>-0.042149</td>\n",
       "    </tr>\n",
       "    <tr>\n",
       "      <th>Genres</th>\n",
       "      <td>NaN</td>\n",
       "      <td>NaN</td>\n",
       "      <td>NaN</td>\n",
       "      <td>NaN</td>\n",
       "      <td>NaN</td>\n",
       "      <td>NaN</td>\n",
       "      <td>NaN</td>\n",
       "      <td>NaN</td>\n",
       "      <td>NaN</td>\n",
       "      <td>NaN</td>\n",
       "      <td>NaN</td>\n",
       "    </tr>\n",
       "    <tr>\n",
       "      <th>Rating_Q</th>\n",
       "      <td>NaN</td>\n",
       "      <td>0.909718</td>\n",
       "      <td>0.232172</td>\n",
       "      <td>-0.082551</td>\n",
       "      <td>0.147480</td>\n",
       "      <td>0.085142</td>\n",
       "      <td>0.003028</td>\n",
       "      <td>0.018632</td>\n",
       "      <td>NaN</td>\n",
       "      <td>1.000000</td>\n",
       "      <td>0.053004</td>\n",
       "    </tr>\n",
       "    <tr>\n",
       "      <th>Installs_Q</th>\n",
       "      <td>NaN</td>\n",
       "      <td>0.051093</td>\n",
       "      <td>0.366595</td>\n",
       "      <td>0.001628</td>\n",
       "      <td>0.546408</td>\n",
       "      <td>-0.338989</td>\n",
       "      <td>-0.250338</td>\n",
       "      <td>-0.042149</td>\n",
       "      <td>NaN</td>\n",
       "      <td>0.053004</td>\n",
       "      <td>1.000000</td>\n",
       "    </tr>\n",
       "  </tbody>\n",
       "</table>\n",
       "</div>"
      ],
      "text/plain": [
       "                Category    Rating   Reviews      Size  Installs      Type  \\\n",
       "Category             NaN       NaN       NaN       NaN       NaN       NaN   \n",
       "Rating               NaN  1.000000  0.180925 -0.104508  0.120140  0.044039   \n",
       "Reviews              NaN  0.180925  1.000000  0.068771  0.685012 -0.092924   \n",
       "Size                 NaN -0.104508  0.068771  1.000000  0.037449 -0.130890   \n",
       "Installs             NaN  0.120140  0.685012  0.037449  1.000000 -0.146691   \n",
       "Type                 NaN  0.044039 -0.092924 -0.130890 -0.146691  1.000000   \n",
       "Price                NaN -0.034977 -0.069782 -0.098871 -0.111401  0.759670   \n",
       "Content.Rating       NaN  0.034467  0.039319 -0.013123  0.015243 -0.029608   \n",
       "Genres               NaN       NaN       NaN       NaN       NaN       NaN   \n",
       "Rating_Q             NaN  0.909718  0.232172 -0.082551  0.147480  0.085142   \n",
       "Installs_Q           NaN  0.051093  0.366595  0.001628  0.546408 -0.338989   \n",
       "\n",
       "                   Price  Content.Rating  Genres  Rating_Q  Installs_Q  \n",
       "Category             NaN             NaN     NaN       NaN         NaN  \n",
       "Rating         -0.034977        0.034467     NaN  0.909718    0.051093  \n",
       "Reviews        -0.069782        0.039319     NaN  0.232172    0.366595  \n",
       "Size           -0.098871       -0.013123     NaN -0.082551    0.001628  \n",
       "Installs       -0.111401        0.015243     NaN  0.147480    0.546408  \n",
       "Type            0.759670       -0.029608     NaN  0.085142   -0.338989  \n",
       "Price           1.000000       -0.022492     NaN  0.003028   -0.250338  \n",
       "Content.Rating -0.022492        1.000000     NaN  0.018632   -0.042149  \n",
       "Genres               NaN             NaN     NaN       NaN         NaN  \n",
       "Rating_Q        0.003028        0.018632     NaN  1.000000    0.053004  \n",
       "Installs_Q     -0.250338       -0.042149     NaN  0.053004    1.000000  "
      ]
     },
     "execution_count": 186,
     "metadata": {},
     "output_type": "execute_result"
    }
   ],
   "source": [
    "cat_dt[rd.randint(0,9)].corr(\"pearson\")"
   ]
  },
  {
   "cell_type": "code",
   "execution_count": 187,
   "metadata": {},
   "outputs": [
    {
     "data": {
      "text/html": [
       "<div>\n",
       "<style scoped>\n",
       "    .dataframe tbody tr th:only-of-type {\n",
       "        vertical-align: middle;\n",
       "    }\n",
       "\n",
       "    .dataframe tbody tr th {\n",
       "        vertical-align: top;\n",
       "    }\n",
       "\n",
       "    .dataframe thead th {\n",
       "        text-align: right;\n",
       "    }\n",
       "</style>\n",
       "<table border=\"1\" class=\"dataframe\">\n",
       "  <thead>\n",
       "    <tr style=\"text-align: right;\">\n",
       "      <th></th>\n",
       "      <th>Translated_Review</th>\n",
       "      <th>sentiment_polarity_score</th>\n",
       "      <th>ease_of_reading_score</th>\n",
       "      <th>sentiment_subjectivity_score</th>\n",
       "      <th>spelling_quality_score</th>\n",
       "      <th>Category</th>\n",
       "      <th>Rating</th>\n",
       "      <th>Reviews</th>\n",
       "      <th>Size</th>\n",
       "      <th>Installs</th>\n",
       "      <th>...</th>\n",
       "      <th>spaces_count</th>\n",
       "      <th>count_words</th>\n",
       "      <th>characters_count</th>\n",
       "      <th>duplicates_count</th>\n",
       "      <th>chars_excl_spaces_count</th>\n",
       "      <th>alpha_numeric_count</th>\n",
       "      <th>punctuations_count</th>\n",
       "      <th>noun_phase_count</th>\n",
       "      <th>Rating_Q</th>\n",
       "      <th>Installs_Q</th>\n",
       "    </tr>\n",
       "  </thead>\n",
       "  <tbody>\n",
       "    <tr>\n",
       "      <th>Translated_Review</th>\n",
       "      <td>1.000000</td>\n",
       "      <td>-0.187884</td>\n",
       "      <td>-0.014289</td>\n",
       "      <td>0.019000</td>\n",
       "      <td>0.132090</td>\n",
       "      <td>-0.082551</td>\n",
       "      <td>0.099829</td>\n",
       "      <td>0.242826</td>\n",
       "      <td>0.226937</td>\n",
       "      <td>0.258779</td>\n",
       "      <td>...</td>\n",
       "      <td>0.206355</td>\n",
       "      <td>0.250548</td>\n",
       "      <td>0.239832</td>\n",
       "      <td>0.253495</td>\n",
       "      <td>0.237450</td>\n",
       "      <td>-0.121809</td>\n",
       "      <td>-0.048130</td>\n",
       "      <td>0.250068</td>\n",
       "      <td>0.101549</td>\n",
       "      <td>0.177679</td>\n",
       "    </tr>\n",
       "    <tr>\n",
       "      <th>sentiment_polarity_score</th>\n",
       "      <td>-0.187884</td>\n",
       "      <td>1.000000</td>\n",
       "      <td>0.195972</td>\n",
       "      <td>0.390017</td>\n",
       "      <td>0.003218</td>\n",
       "      <td>0.035813</td>\n",
       "      <td>0.320433</td>\n",
       "      <td>-0.154348</td>\n",
       "      <td>-0.346667</td>\n",
       "      <td>-0.120111</td>\n",
       "      <td>...</td>\n",
       "      <td>-0.414817</td>\n",
       "      <td>-0.456205</td>\n",
       "      <td>-0.446548</td>\n",
       "      <td>-0.451571</td>\n",
       "      <td>-0.444502</td>\n",
       "      <td>0.315381</td>\n",
       "      <td>-0.017321</td>\n",
       "      <td>-0.437820</td>\n",
       "      <td>0.276811</td>\n",
       "      <td>-0.242030</td>\n",
       "    </tr>\n",
       "    <tr>\n",
       "      <th>ease_of_reading_score</th>\n",
       "      <td>-0.014289</td>\n",
       "      <td>0.195972</td>\n",
       "      <td>1.000000</td>\n",
       "      <td>0.084676</td>\n",
       "      <td>-0.159878</td>\n",
       "      <td>-0.101856</td>\n",
       "      <td>0.041697</td>\n",
       "      <td>-0.032458</td>\n",
       "      <td>-0.019174</td>\n",
       "      <td>-0.064954</td>\n",
       "      <td>...</td>\n",
       "      <td>0.027976</td>\n",
       "      <td>-0.473830</td>\n",
       "      <td>-0.512909</td>\n",
       "      <td>-0.424358</td>\n",
       "      <td>-0.519993</td>\n",
       "      <td>-0.005499</td>\n",
       "      <td>-0.058314</td>\n",
       "      <td>-0.488351</td>\n",
       "      <td>0.031809</td>\n",
       "      <td>-0.017418</td>\n",
       "    </tr>\n",
       "    <tr>\n",
       "      <th>sentiment_subjectivity_score</th>\n",
       "      <td>0.019000</td>\n",
       "      <td>0.390017</td>\n",
       "      <td>0.084676</td>\n",
       "      <td>1.000000</td>\n",
       "      <td>0.155912</td>\n",
       "      <td>-0.049455</td>\n",
       "      <td>0.325372</td>\n",
       "      <td>-0.009256</td>\n",
       "      <td>0.017129</td>\n",
       "      <td>-0.022568</td>\n",
       "      <td>...</td>\n",
       "      <td>-0.069118</td>\n",
       "      <td>0.025291</td>\n",
       "      <td>0.023009</td>\n",
       "      <td>0.020675</td>\n",
       "      <td>0.022705</td>\n",
       "      <td>0.072563</td>\n",
       "      <td>-0.026401</td>\n",
       "      <td>0.043741</td>\n",
       "      <td>0.264910</td>\n",
       "      <td>-0.050331</td>\n",
       "    </tr>\n",
       "    <tr>\n",
       "      <th>spelling_quality_score</th>\n",
       "      <td>0.132090</td>\n",
       "      <td>0.003218</td>\n",
       "      <td>-0.159878</td>\n",
       "      <td>0.155912</td>\n",
       "      <td>1.000000</td>\n",
       "      <td>-0.039181</td>\n",
       "      <td>0.132508</td>\n",
       "      <td>0.020735</td>\n",
       "      <td>0.218648</td>\n",
       "      <td>-0.059457</td>\n",
       "      <td>...</td>\n",
       "      <td>0.257644</td>\n",
       "      <td>0.294129</td>\n",
       "      <td>0.286769</td>\n",
       "      <td>0.275320</td>\n",
       "      <td>0.284593</td>\n",
       "      <td>-0.107936</td>\n",
       "      <td>-0.109929</td>\n",
       "      <td>0.281312</td>\n",
       "      <td>0.166007</td>\n",
       "      <td>0.015510</td>\n",
       "    </tr>\n",
       "    <tr>\n",
       "      <th>Category</th>\n",
       "      <td>-0.082551</td>\n",
       "      <td>0.035813</td>\n",
       "      <td>-0.101856</td>\n",
       "      <td>-0.049455</td>\n",
       "      <td>-0.039181</td>\n",
       "      <td>1.000000</td>\n",
       "      <td>-0.015626</td>\n",
       "      <td>0.026519</td>\n",
       "      <td>-0.123089</td>\n",
       "      <td>0.055587</td>\n",
       "      <td>...</td>\n",
       "      <td>-0.029540</td>\n",
       "      <td>-0.000869</td>\n",
       "      <td>0.008264</td>\n",
       "      <td>-0.000543</td>\n",
       "      <td>0.009601</td>\n",
       "      <td>-0.043621</td>\n",
       "      <td>0.124299</td>\n",
       "      <td>0.004698</td>\n",
       "      <td>0.009122</td>\n",
       "      <td>0.190062</td>\n",
       "    </tr>\n",
       "    <tr>\n",
       "      <th>Rating</th>\n",
       "      <td>0.099829</td>\n",
       "      <td>0.320433</td>\n",
       "      <td>0.041697</td>\n",
       "      <td>0.325372</td>\n",
       "      <td>0.132508</td>\n",
       "      <td>-0.015626</td>\n",
       "      <td>1.000000</td>\n",
       "      <td>0.073520</td>\n",
       "      <td>0.091768</td>\n",
       "      <td>0.022834</td>\n",
       "      <td>...</td>\n",
       "      <td>0.010781</td>\n",
       "      <td>0.024039</td>\n",
       "      <td>0.022260</td>\n",
       "      <td>0.015678</td>\n",
       "      <td>0.021641</td>\n",
       "      <td>0.002328</td>\n",
       "      <td>-0.022962</td>\n",
       "      <td>0.043244</td>\n",
       "      <td>0.894179</td>\n",
       "      <td>0.165152</td>\n",
       "    </tr>\n",
       "    <tr>\n",
       "      <th>Reviews</th>\n",
       "      <td>0.242826</td>\n",
       "      <td>-0.154348</td>\n",
       "      <td>-0.032458</td>\n",
       "      <td>-0.009256</td>\n",
       "      <td>0.020735</td>\n",
       "      <td>0.026519</td>\n",
       "      <td>0.073520</td>\n",
       "      <td>1.000000</td>\n",
       "      <td>0.331613</td>\n",
       "      <td>0.506335</td>\n",
       "      <td>...</td>\n",
       "      <td>0.114104</td>\n",
       "      <td>0.224357</td>\n",
       "      <td>0.219972</td>\n",
       "      <td>0.235425</td>\n",
       "      <td>0.218814</td>\n",
       "      <td>-0.111822</td>\n",
       "      <td>0.040242</td>\n",
       "      <td>0.221596</td>\n",
       "      <td>0.083542</td>\n",
       "      <td>0.180763</td>\n",
       "    </tr>\n",
       "    <tr>\n",
       "      <th>Size</th>\n",
       "      <td>0.226937</td>\n",
       "      <td>-0.346667</td>\n",
       "      <td>-0.019174</td>\n",
       "      <td>0.017129</td>\n",
       "      <td>0.218648</td>\n",
       "      <td>-0.123089</td>\n",
       "      <td>0.091768</td>\n",
       "      <td>0.331613</td>\n",
       "      <td>1.000000</td>\n",
       "      <td>0.165800</td>\n",
       "      <td>...</td>\n",
       "      <td>0.343986</td>\n",
       "      <td>0.300062</td>\n",
       "      <td>0.280745</td>\n",
       "      <td>0.296849</td>\n",
       "      <td>0.276529</td>\n",
       "      <td>-0.192397</td>\n",
       "      <td>-0.091430</td>\n",
       "      <td>0.298023</td>\n",
       "      <td>0.143477</td>\n",
       "      <td>0.216312</td>\n",
       "    </tr>\n",
       "    <tr>\n",
       "      <th>Installs</th>\n",
       "      <td>0.258779</td>\n",
       "      <td>-0.120111</td>\n",
       "      <td>-0.064954</td>\n",
       "      <td>-0.022568</td>\n",
       "      <td>-0.059457</td>\n",
       "      <td>0.055587</td>\n",
       "      <td>0.022834</td>\n",
       "      <td>0.506335</td>\n",
       "      <td>0.165800</td>\n",
       "      <td>1.000000</td>\n",
       "      <td>...</td>\n",
       "      <td>0.076051</td>\n",
       "      <td>0.195532</td>\n",
       "      <td>0.198041</td>\n",
       "      <td>0.202063</td>\n",
       "      <td>0.198676</td>\n",
       "      <td>-0.071460</td>\n",
       "      <td>0.025493</td>\n",
       "      <td>0.189571</td>\n",
       "      <td>0.010520</td>\n",
       "      <td>0.225539</td>\n",
       "    </tr>\n",
       "    <tr>\n",
       "      <th>Type</th>\n",
       "      <td>-0.009224</td>\n",
       "      <td>0.018617</td>\n",
       "      <td>-0.066707</td>\n",
       "      <td>0.016273</td>\n",
       "      <td>0.001104</td>\n",
       "      <td>0.046531</td>\n",
       "      <td>0.012784</td>\n",
       "      <td>-0.021562</td>\n",
       "      <td>-0.036963</td>\n",
       "      <td>-0.027721</td>\n",
       "      <td>...</td>\n",
       "      <td>0.043181</td>\n",
       "      <td>0.088070</td>\n",
       "      <td>0.094654</td>\n",
       "      <td>0.067598</td>\n",
       "      <td>0.095278</td>\n",
       "      <td>-0.018599</td>\n",
       "      <td>-0.020856</td>\n",
       "      <td>0.093436</td>\n",
       "      <td>0.015303</td>\n",
       "      <td>-0.139167</td>\n",
       "    </tr>\n",
       "    <tr>\n",
       "      <th>Price</th>\n",
       "      <td>-0.004938</td>\n",
       "      <td>0.053373</td>\n",
       "      <td>-0.047222</td>\n",
       "      <td>-0.000966</td>\n",
       "      <td>0.034589</td>\n",
       "      <td>0.060233</td>\n",
       "      <td>-0.009371</td>\n",
       "      <td>-0.016065</td>\n",
       "      <td>-0.014854</td>\n",
       "      <td>-0.020392</td>\n",
       "      <td>...</td>\n",
       "      <td>0.025230</td>\n",
       "      <td>0.037679</td>\n",
       "      <td>0.042918</td>\n",
       "      <td>0.025918</td>\n",
       "      <td>0.043279</td>\n",
       "      <td>-0.008605</td>\n",
       "      <td>-0.014282</td>\n",
       "      <td>0.045308</td>\n",
       "      <td>-0.009942</td>\n",
       "      <td>-0.131362</td>\n",
       "    </tr>\n",
       "    <tr>\n",
       "      <th>Genres</th>\n",
       "      <td>-0.181598</td>\n",
       "      <td>0.059803</td>\n",
       "      <td>-0.121180</td>\n",
       "      <td>-0.040465</td>\n",
       "      <td>-0.029446</td>\n",
       "      <td>0.836139</td>\n",
       "      <td>-0.042789</td>\n",
       "      <td>0.044965</td>\n",
       "      <td>-0.122718</td>\n",
       "      <td>0.028338</td>\n",
       "      <td>...</td>\n",
       "      <td>-0.050871</td>\n",
       "      <td>0.001293</td>\n",
       "      <td>0.012434</td>\n",
       "      <td>0.001439</td>\n",
       "      <td>0.014221</td>\n",
       "      <td>-0.003226</td>\n",
       "      <td>0.087846</td>\n",
       "      <td>0.002760</td>\n",
       "      <td>-0.031970</td>\n",
       "      <td>0.103384</td>\n",
       "    </tr>\n",
       "    <tr>\n",
       "      <th>sentences_count</th>\n",
       "      <td>0.233629</td>\n",
       "      <td>-0.417079</td>\n",
       "      <td>-0.448321</td>\n",
       "      <td>0.047337</td>\n",
       "      <td>0.281544</td>\n",
       "      <td>0.010562</td>\n",
       "      <td>0.026126</td>\n",
       "      <td>0.237275</td>\n",
       "      <td>0.273938</td>\n",
       "      <td>0.187729</td>\n",
       "      <td>...</td>\n",
       "      <td>0.452498</td>\n",
       "      <td>0.968385</td>\n",
       "      <td>0.971088</td>\n",
       "      <td>0.961821</td>\n",
       "      <td>0.970998</td>\n",
       "      <td>-0.423441</td>\n",
       "      <td>0.152136</td>\n",
       "      <td>0.965184</td>\n",
       "      <td>0.029779</td>\n",
       "      <td>0.211620</td>\n",
       "    </tr>\n",
       "    <tr>\n",
       "      <th>spaces_count</th>\n",
       "      <td>0.206355</td>\n",
       "      <td>-0.414817</td>\n",
       "      <td>0.027976</td>\n",
       "      <td>-0.069118</td>\n",
       "      <td>0.257644</td>\n",
       "      <td>-0.029540</td>\n",
       "      <td>0.010781</td>\n",
       "      <td>0.114104</td>\n",
       "      <td>0.343986</td>\n",
       "      <td>0.076051</td>\n",
       "      <td>...</td>\n",
       "      <td>1.000000</td>\n",
       "      <td>0.537301</td>\n",
       "      <td>0.492296</td>\n",
       "      <td>0.535824</td>\n",
       "      <td>0.482825</td>\n",
       "      <td>-0.742466</td>\n",
       "      <td>-0.019614</td>\n",
       "      <td>0.495737</td>\n",
       "      <td>0.026109</td>\n",
       "      <td>0.291911</td>\n",
       "    </tr>\n",
       "    <tr>\n",
       "      <th>count_words</th>\n",
       "      <td>0.250548</td>\n",
       "      <td>-0.456205</td>\n",
       "      <td>-0.473830</td>\n",
       "      <td>0.025291</td>\n",
       "      <td>0.294129</td>\n",
       "      <td>-0.000869</td>\n",
       "      <td>0.024039</td>\n",
       "      <td>0.224357</td>\n",
       "      <td>0.300062</td>\n",
       "      <td>0.195532</td>\n",
       "      <td>...</td>\n",
       "      <td>0.537301</td>\n",
       "      <td>1.000000</td>\n",
       "      <td>0.997126</td>\n",
       "      <td>0.985862</td>\n",
       "      <td>0.995976</td>\n",
       "      <td>-0.441997</td>\n",
       "      <td>0.082343</td>\n",
       "      <td>0.991322</td>\n",
       "      <td>0.034825</td>\n",
       "      <td>0.235810</td>\n",
       "    </tr>\n",
       "    <tr>\n",
       "      <th>characters_count</th>\n",
       "      <td>0.239832</td>\n",
       "      <td>-0.446548</td>\n",
       "      <td>-0.512909</td>\n",
       "      <td>0.023009</td>\n",
       "      <td>0.286769</td>\n",
       "      <td>0.008264</td>\n",
       "      <td>0.022260</td>\n",
       "      <td>0.219972</td>\n",
       "      <td>0.280745</td>\n",
       "      <td>0.198041</td>\n",
       "      <td>...</td>\n",
       "      <td>0.492296</td>\n",
       "      <td>0.997126</td>\n",
       "      <td>1.000000</td>\n",
       "      <td>0.980739</td>\n",
       "      <td>0.999893</td>\n",
       "      <td>-0.412821</td>\n",
       "      <td>0.091329</td>\n",
       "      <td>0.993042</td>\n",
       "      <td>0.031238</td>\n",
       "      <td>0.225789</td>\n",
       "    </tr>\n",
       "    <tr>\n",
       "      <th>duplicates_count</th>\n",
       "      <td>0.253495</td>\n",
       "      <td>-0.451571</td>\n",
       "      <td>-0.424358</td>\n",
       "      <td>0.020675</td>\n",
       "      <td>0.275320</td>\n",
       "      <td>-0.000543</td>\n",
       "      <td>0.015678</td>\n",
       "      <td>0.235425</td>\n",
       "      <td>0.296849</td>\n",
       "      <td>0.202063</td>\n",
       "      <td>...</td>\n",
       "      <td>0.535824</td>\n",
       "      <td>0.985862</td>\n",
       "      <td>0.980739</td>\n",
       "      <td>1.000000</td>\n",
       "      <td>0.979060</td>\n",
       "      <td>-0.456730</td>\n",
       "      <td>0.103326</td>\n",
       "      <td>0.973979</td>\n",
       "      <td>0.023889</td>\n",
       "      <td>0.251820</td>\n",
       "    </tr>\n",
       "    <tr>\n",
       "      <th>chars_excl_spaces_count</th>\n",
       "      <td>0.237450</td>\n",
       "      <td>-0.444502</td>\n",
       "      <td>-0.519993</td>\n",
       "      <td>0.022705</td>\n",
       "      <td>0.284593</td>\n",
       "      <td>0.009601</td>\n",
       "      <td>0.021641</td>\n",
       "      <td>0.218814</td>\n",
       "      <td>0.276529</td>\n",
       "      <td>0.198676</td>\n",
       "      <td>...</td>\n",
       "      <td>0.482825</td>\n",
       "      <td>0.995976</td>\n",
       "      <td>0.999893</td>\n",
       "      <td>0.979060</td>\n",
       "      <td>1.000000</td>\n",
       "      <td>-0.407060</td>\n",
       "      <td>0.093699</td>\n",
       "      <td>0.992661</td>\n",
       "      <td>0.030396</td>\n",
       "      <td>0.223547</td>\n",
       "    </tr>\n",
       "    <tr>\n",
       "      <th>alpha_numeric_count</th>\n",
       "      <td>-0.121809</td>\n",
       "      <td>0.315381</td>\n",
       "      <td>-0.005499</td>\n",
       "      <td>0.072563</td>\n",
       "      <td>-0.107936</td>\n",
       "      <td>-0.043621</td>\n",
       "      <td>0.002328</td>\n",
       "      <td>-0.111822</td>\n",
       "      <td>-0.192397</td>\n",
       "      <td>-0.071460</td>\n",
       "      <td>...</td>\n",
       "      <td>-0.742466</td>\n",
       "      <td>-0.441997</td>\n",
       "      <td>-0.412821</td>\n",
       "      <td>-0.456730</td>\n",
       "      <td>-0.407060</td>\n",
       "      <td>1.000000</td>\n",
       "      <td>-0.638131</td>\n",
       "      <td>-0.413844</td>\n",
       "      <td>-0.008180</td>\n",
       "      <td>-0.265241</td>\n",
       "    </tr>\n",
       "    <tr>\n",
       "      <th>punctuations_count</th>\n",
       "      <td>-0.048130</td>\n",
       "      <td>-0.017321</td>\n",
       "      <td>-0.058314</td>\n",
       "      <td>-0.026401</td>\n",
       "      <td>-0.109929</td>\n",
       "      <td>0.124299</td>\n",
       "      <td>-0.022962</td>\n",
       "      <td>0.040242</td>\n",
       "      <td>-0.091430</td>\n",
       "      <td>0.025493</td>\n",
       "      <td>...</td>\n",
       "      <td>-0.019614</td>\n",
       "      <td>0.082343</td>\n",
       "      <td>0.091329</td>\n",
       "      <td>0.103326</td>\n",
       "      <td>0.093699</td>\n",
       "      <td>-0.638131</td>\n",
       "      <td>1.000000</td>\n",
       "      <td>0.088365</td>\n",
       "      <td>-0.018840</td>\n",
       "      <td>0.059564</td>\n",
       "    </tr>\n",
       "    <tr>\n",
       "      <th>noun_phase_count</th>\n",
       "      <td>0.250068</td>\n",
       "      <td>-0.437820</td>\n",
       "      <td>-0.488351</td>\n",
       "      <td>0.043741</td>\n",
       "      <td>0.281312</td>\n",
       "      <td>0.004698</td>\n",
       "      <td>0.043244</td>\n",
       "      <td>0.221596</td>\n",
       "      <td>0.298023</td>\n",
       "      <td>0.189571</td>\n",
       "      <td>...</td>\n",
       "      <td>0.495737</td>\n",
       "      <td>0.991322</td>\n",
       "      <td>0.993042</td>\n",
       "      <td>0.973979</td>\n",
       "      <td>0.992661</td>\n",
       "      <td>-0.413844</td>\n",
       "      <td>0.088365</td>\n",
       "      <td>1.000000</td>\n",
       "      <td>0.050332</td>\n",
       "      <td>0.229305</td>\n",
       "    </tr>\n",
       "    <tr>\n",
       "      <th>Rating_Q</th>\n",
       "      <td>0.101549</td>\n",
       "      <td>0.276811</td>\n",
       "      <td>0.031809</td>\n",
       "      <td>0.264910</td>\n",
       "      <td>0.166007</td>\n",
       "      <td>0.009122</td>\n",
       "      <td>0.894179</td>\n",
       "      <td>0.083542</td>\n",
       "      <td>0.143477</td>\n",
       "      <td>0.010520</td>\n",
       "      <td>...</td>\n",
       "      <td>0.026109</td>\n",
       "      <td>0.034825</td>\n",
       "      <td>0.031238</td>\n",
       "      <td>0.023889</td>\n",
       "      <td>0.030396</td>\n",
       "      <td>-0.008180</td>\n",
       "      <td>-0.018840</td>\n",
       "      <td>0.050332</td>\n",
       "      <td>1.000000</td>\n",
       "      <td>0.142066</td>\n",
       "    </tr>\n",
       "    <tr>\n",
       "      <th>Installs_Q</th>\n",
       "      <td>0.177679</td>\n",
       "      <td>-0.242030</td>\n",
       "      <td>-0.017418</td>\n",
       "      <td>-0.050331</td>\n",
       "      <td>0.015510</td>\n",
       "      <td>0.190062</td>\n",
       "      <td>0.165152</td>\n",
       "      <td>0.180763</td>\n",
       "      <td>0.216312</td>\n",
       "      <td>0.225539</td>\n",
       "      <td>...</td>\n",
       "      <td>0.291911</td>\n",
       "      <td>0.235810</td>\n",
       "      <td>0.225789</td>\n",
       "      <td>0.251820</td>\n",
       "      <td>0.223547</td>\n",
       "      <td>-0.265241</td>\n",
       "      <td>0.059564</td>\n",
       "      <td>0.229305</td>\n",
       "      <td>0.142066</td>\n",
       "      <td>1.000000</td>\n",
       "    </tr>\n",
       "  </tbody>\n",
       "</table>\n",
       "<p>24 rows × 24 columns</p>\n",
       "</div>"
      ],
      "text/plain": [
       "                              Translated_Review  sentiment_polarity_score  \\\n",
       "Translated_Review                      1.000000                 -0.187884   \n",
       "sentiment_polarity_score              -0.187884                  1.000000   \n",
       "ease_of_reading_score                 -0.014289                  0.195972   \n",
       "sentiment_subjectivity_score           0.019000                  0.390017   \n",
       "spelling_quality_score                 0.132090                  0.003218   \n",
       "Category                              -0.082551                  0.035813   \n",
       "Rating                                 0.099829                  0.320433   \n",
       "Reviews                                0.242826                 -0.154348   \n",
       "Size                                   0.226937                 -0.346667   \n",
       "Installs                               0.258779                 -0.120111   \n",
       "Type                                  -0.009224                  0.018617   \n",
       "Price                                 -0.004938                  0.053373   \n",
       "Genres                                -0.181598                  0.059803   \n",
       "sentences_count                        0.233629                 -0.417079   \n",
       "spaces_count                           0.206355                 -0.414817   \n",
       "count_words                            0.250548                 -0.456205   \n",
       "characters_count                       0.239832                 -0.446548   \n",
       "duplicates_count                       0.253495                 -0.451571   \n",
       "chars_excl_spaces_count                0.237450                 -0.444502   \n",
       "alpha_numeric_count                   -0.121809                  0.315381   \n",
       "punctuations_count                    -0.048130                 -0.017321   \n",
       "noun_phase_count                       0.250068                 -0.437820   \n",
       "Rating_Q                               0.101549                  0.276811   \n",
       "Installs_Q                             0.177679                 -0.242030   \n",
       "\n",
       "                              ease_of_reading_score  \\\n",
       "Translated_Review                         -0.014289   \n",
       "sentiment_polarity_score                   0.195972   \n",
       "ease_of_reading_score                      1.000000   \n",
       "sentiment_subjectivity_score               0.084676   \n",
       "spelling_quality_score                    -0.159878   \n",
       "Category                                  -0.101856   \n",
       "Rating                                     0.041697   \n",
       "Reviews                                   -0.032458   \n",
       "Size                                      -0.019174   \n",
       "Installs                                  -0.064954   \n",
       "Type                                      -0.066707   \n",
       "Price                                     -0.047222   \n",
       "Genres                                    -0.121180   \n",
       "sentences_count                           -0.448321   \n",
       "spaces_count                               0.027976   \n",
       "count_words                               -0.473830   \n",
       "characters_count                          -0.512909   \n",
       "duplicates_count                          -0.424358   \n",
       "chars_excl_spaces_count                   -0.519993   \n",
       "alpha_numeric_count                       -0.005499   \n",
       "punctuations_count                        -0.058314   \n",
       "noun_phase_count                          -0.488351   \n",
       "Rating_Q                                   0.031809   \n",
       "Installs_Q                                -0.017418   \n",
       "\n",
       "                              sentiment_subjectivity_score  \\\n",
       "Translated_Review                                 0.019000   \n",
       "sentiment_polarity_score                          0.390017   \n",
       "ease_of_reading_score                             0.084676   \n",
       "sentiment_subjectivity_score                      1.000000   \n",
       "spelling_quality_score                            0.155912   \n",
       "Category                                         -0.049455   \n",
       "Rating                                            0.325372   \n",
       "Reviews                                          -0.009256   \n",
       "Size                                              0.017129   \n",
       "Installs                                         -0.022568   \n",
       "Type                                              0.016273   \n",
       "Price                                            -0.000966   \n",
       "Genres                                           -0.040465   \n",
       "sentences_count                                   0.047337   \n",
       "spaces_count                                     -0.069118   \n",
       "count_words                                       0.025291   \n",
       "characters_count                                  0.023009   \n",
       "duplicates_count                                  0.020675   \n",
       "chars_excl_spaces_count                           0.022705   \n",
       "alpha_numeric_count                               0.072563   \n",
       "punctuations_count                               -0.026401   \n",
       "noun_phase_count                                  0.043741   \n",
       "Rating_Q                                          0.264910   \n",
       "Installs_Q                                       -0.050331   \n",
       "\n",
       "                              spelling_quality_score  Category    Rating  \\\n",
       "Translated_Review                           0.132090 -0.082551  0.099829   \n",
       "sentiment_polarity_score                    0.003218  0.035813  0.320433   \n",
       "ease_of_reading_score                      -0.159878 -0.101856  0.041697   \n",
       "sentiment_subjectivity_score                0.155912 -0.049455  0.325372   \n",
       "spelling_quality_score                      1.000000 -0.039181  0.132508   \n",
       "Category                                   -0.039181  1.000000 -0.015626   \n",
       "Rating                                      0.132508 -0.015626  1.000000   \n",
       "Reviews                                     0.020735  0.026519  0.073520   \n",
       "Size                                        0.218648 -0.123089  0.091768   \n",
       "Installs                                   -0.059457  0.055587  0.022834   \n",
       "Type                                        0.001104  0.046531  0.012784   \n",
       "Price                                       0.034589  0.060233 -0.009371   \n",
       "Genres                                     -0.029446  0.836139 -0.042789   \n",
       "sentences_count                             0.281544  0.010562  0.026126   \n",
       "spaces_count                                0.257644 -0.029540  0.010781   \n",
       "count_words                                 0.294129 -0.000869  0.024039   \n",
       "characters_count                            0.286769  0.008264  0.022260   \n",
       "duplicates_count                            0.275320 -0.000543  0.015678   \n",
       "chars_excl_spaces_count                     0.284593  0.009601  0.021641   \n",
       "alpha_numeric_count                        -0.107936 -0.043621  0.002328   \n",
       "punctuations_count                         -0.109929  0.124299 -0.022962   \n",
       "noun_phase_count                            0.281312  0.004698  0.043244   \n",
       "Rating_Q                                    0.166007  0.009122  0.894179   \n",
       "Installs_Q                                  0.015510  0.190062  0.165152   \n",
       "\n",
       "                               Reviews      Size  Installs  ...  spaces_count  \\\n",
       "Translated_Review             0.242826  0.226937  0.258779  ...      0.206355   \n",
       "sentiment_polarity_score     -0.154348 -0.346667 -0.120111  ...     -0.414817   \n",
       "ease_of_reading_score        -0.032458 -0.019174 -0.064954  ...      0.027976   \n",
       "sentiment_subjectivity_score -0.009256  0.017129 -0.022568  ...     -0.069118   \n",
       "spelling_quality_score        0.020735  0.218648 -0.059457  ...      0.257644   \n",
       "Category                      0.026519 -0.123089  0.055587  ...     -0.029540   \n",
       "Rating                        0.073520  0.091768  0.022834  ...      0.010781   \n",
       "Reviews                       1.000000  0.331613  0.506335  ...      0.114104   \n",
       "Size                          0.331613  1.000000  0.165800  ...      0.343986   \n",
       "Installs                      0.506335  0.165800  1.000000  ...      0.076051   \n",
       "Type                         -0.021562 -0.036963 -0.027721  ...      0.043181   \n",
       "Price                        -0.016065 -0.014854 -0.020392  ...      0.025230   \n",
       "Genres                        0.044965 -0.122718  0.028338  ...     -0.050871   \n",
       "sentences_count               0.237275  0.273938  0.187729  ...      0.452498   \n",
       "spaces_count                  0.114104  0.343986  0.076051  ...      1.000000   \n",
       "count_words                   0.224357  0.300062  0.195532  ...      0.537301   \n",
       "characters_count              0.219972  0.280745  0.198041  ...      0.492296   \n",
       "duplicates_count              0.235425  0.296849  0.202063  ...      0.535824   \n",
       "chars_excl_spaces_count       0.218814  0.276529  0.198676  ...      0.482825   \n",
       "alpha_numeric_count          -0.111822 -0.192397 -0.071460  ...     -0.742466   \n",
       "punctuations_count            0.040242 -0.091430  0.025493  ...     -0.019614   \n",
       "noun_phase_count              0.221596  0.298023  0.189571  ...      0.495737   \n",
       "Rating_Q                      0.083542  0.143477  0.010520  ...      0.026109   \n",
       "Installs_Q                    0.180763  0.216312  0.225539  ...      0.291911   \n",
       "\n",
       "                              count_words  characters_count  duplicates_count  \\\n",
       "Translated_Review                0.250548          0.239832          0.253495   \n",
       "sentiment_polarity_score        -0.456205         -0.446548         -0.451571   \n",
       "ease_of_reading_score           -0.473830         -0.512909         -0.424358   \n",
       "sentiment_subjectivity_score     0.025291          0.023009          0.020675   \n",
       "spelling_quality_score           0.294129          0.286769          0.275320   \n",
       "Category                        -0.000869          0.008264         -0.000543   \n",
       "Rating                           0.024039          0.022260          0.015678   \n",
       "Reviews                          0.224357          0.219972          0.235425   \n",
       "Size                             0.300062          0.280745          0.296849   \n",
       "Installs                         0.195532          0.198041          0.202063   \n",
       "Type                             0.088070          0.094654          0.067598   \n",
       "Price                            0.037679          0.042918          0.025918   \n",
       "Genres                           0.001293          0.012434          0.001439   \n",
       "sentences_count                  0.968385          0.971088          0.961821   \n",
       "spaces_count                     0.537301          0.492296          0.535824   \n",
       "count_words                      1.000000          0.997126          0.985862   \n",
       "characters_count                 0.997126          1.000000          0.980739   \n",
       "duplicates_count                 0.985862          0.980739          1.000000   \n",
       "chars_excl_spaces_count          0.995976          0.999893          0.979060   \n",
       "alpha_numeric_count             -0.441997         -0.412821         -0.456730   \n",
       "punctuations_count               0.082343          0.091329          0.103326   \n",
       "noun_phase_count                 0.991322          0.993042          0.973979   \n",
       "Rating_Q                         0.034825          0.031238          0.023889   \n",
       "Installs_Q                       0.235810          0.225789          0.251820   \n",
       "\n",
       "                              chars_excl_spaces_count  alpha_numeric_count  \\\n",
       "Translated_Review                            0.237450            -0.121809   \n",
       "sentiment_polarity_score                    -0.444502             0.315381   \n",
       "ease_of_reading_score                       -0.519993            -0.005499   \n",
       "sentiment_subjectivity_score                 0.022705             0.072563   \n",
       "spelling_quality_score                       0.284593            -0.107936   \n",
       "Category                                     0.009601            -0.043621   \n",
       "Rating                                       0.021641             0.002328   \n",
       "Reviews                                      0.218814            -0.111822   \n",
       "Size                                         0.276529            -0.192397   \n",
       "Installs                                     0.198676            -0.071460   \n",
       "Type                                         0.095278            -0.018599   \n",
       "Price                                        0.043279            -0.008605   \n",
       "Genres                                       0.014221            -0.003226   \n",
       "sentences_count                              0.970998            -0.423441   \n",
       "spaces_count                                 0.482825            -0.742466   \n",
       "count_words                                  0.995976            -0.441997   \n",
       "characters_count                             0.999893            -0.412821   \n",
       "duplicates_count                             0.979060            -0.456730   \n",
       "chars_excl_spaces_count                      1.000000            -0.407060   \n",
       "alpha_numeric_count                         -0.407060             1.000000   \n",
       "punctuations_count                           0.093699            -0.638131   \n",
       "noun_phase_count                             0.992661            -0.413844   \n",
       "Rating_Q                                     0.030396            -0.008180   \n",
       "Installs_Q                                   0.223547            -0.265241   \n",
       "\n",
       "                              punctuations_count  noun_phase_count  Rating_Q  \\\n",
       "Translated_Review                      -0.048130          0.250068  0.101549   \n",
       "sentiment_polarity_score               -0.017321         -0.437820  0.276811   \n",
       "ease_of_reading_score                  -0.058314         -0.488351  0.031809   \n",
       "sentiment_subjectivity_score           -0.026401          0.043741  0.264910   \n",
       "spelling_quality_score                 -0.109929          0.281312  0.166007   \n",
       "Category                                0.124299          0.004698  0.009122   \n",
       "Rating                                 -0.022962          0.043244  0.894179   \n",
       "Reviews                                 0.040242          0.221596  0.083542   \n",
       "Size                                   -0.091430          0.298023  0.143477   \n",
       "Installs                                0.025493          0.189571  0.010520   \n",
       "Type                                   -0.020856          0.093436  0.015303   \n",
       "Price                                  -0.014282          0.045308 -0.009942   \n",
       "Genres                                  0.087846          0.002760 -0.031970   \n",
       "sentences_count                         0.152136          0.965184  0.029779   \n",
       "spaces_count                           -0.019614          0.495737  0.026109   \n",
       "count_words                             0.082343          0.991322  0.034825   \n",
       "characters_count                        0.091329          0.993042  0.031238   \n",
       "duplicates_count                        0.103326          0.973979  0.023889   \n",
       "chars_excl_spaces_count                 0.093699          0.992661  0.030396   \n",
       "alpha_numeric_count                    -0.638131         -0.413844 -0.008180   \n",
       "punctuations_count                      1.000000          0.088365 -0.018840   \n",
       "noun_phase_count                        0.088365          1.000000  0.050332   \n",
       "Rating_Q                               -0.018840          0.050332  1.000000   \n",
       "Installs_Q                              0.059564          0.229305  0.142066   \n",
       "\n",
       "                              Installs_Q  \n",
       "Translated_Review               0.177679  \n",
       "sentiment_polarity_score       -0.242030  \n",
       "ease_of_reading_score          -0.017418  \n",
       "sentiment_subjectivity_score   -0.050331  \n",
       "spelling_quality_score          0.015510  \n",
       "Category                        0.190062  \n",
       "Rating                          0.165152  \n",
       "Reviews                         0.180763  \n",
       "Size                            0.216312  \n",
       "Installs                        0.225539  \n",
       "Type                           -0.139167  \n",
       "Price                          -0.131362  \n",
       "Genres                          0.103384  \n",
       "sentences_count                 0.211620  \n",
       "spaces_count                    0.291911  \n",
       "count_words                     0.235810  \n",
       "characters_count                0.225789  \n",
       "duplicates_count                0.251820  \n",
       "chars_excl_spaces_count         0.223547  \n",
       "alpha_numeric_count            -0.265241  \n",
       "punctuations_count              0.059564  \n",
       "noun_phase_count                0.229305  \n",
       "Rating_Q                        0.142066  \n",
       "Installs_Q                      1.000000  \n",
       "\n",
       "[24 rows x 24 columns]"
      ]
     },
     "execution_count": 187,
     "metadata": {},
     "output_type": "execute_result"
    }
   ],
   "source": [
    "App_Review2.corr(\"pearson\")"
   ]
  },
  {
   "cell_type": "markdown",
   "metadata": {},
   "source": [
    "- Type y Price tienen correlación casi nula con la mayoría de atributos salvo entre sí mismos, cosa esperable dado que type indica si el precio es 0 o no.\n",
    "- Rating tiene correlación de 0.32 y 0.325 con la polaridad y la subjetividad respectivamente.\n",
    "- La cantidad de oraciones, palabras, caracteres, palabras repetidas, caracteres no alfanuméricos y sintagma nominal tienen correlaciones de entre -0.5 y -0.4 con la polaridad y facilidad de lectura.\n",
    "- La correlación entre género y categoría es 0.8, reforcando la decisión de filtrar únicamente por categoría.\n",
    "- La correlación de Rating con el resto de atributos de 'Apps' es cercana a 0.\n",
    "- El número de descargas y reviews tienen correlación de 0.6.\n",
    "- Gran parte de los \"conteos\" (número de palabras, caracteres, etc.) tienen alta correlación entre sí.\n",
    "- Los cuartiles 1 y 3 de polaridad, subjetividad, facilidad de lectura y calidad de escritura, a excepción del tercer cuartil de calidad de lectura, están altamente correlacionados con sus respectivas medias. Por lo tanto, se descarta la idea de utilizar estos valores."
   ]
  },
  {
   "cell_type": "markdown",
   "metadata": {},
   "source": [
    "### Información Mutua"
   ]
  },
  {
   "cell_type": "code",
   "execution_count": 192,
   "metadata": {},
   "outputs": [
    {
     "name": "stdout",
     "output_type": "stream",
     "text": [
      "Adjusted: 0.11509138035497417\n",
      "Normalized: 0.40005870620386735\n"
     ]
    }
   ],
   "source": [
    "print(\"Adjusted:\",adjusted_mutual_info_score(Apps.Reviews, Apps.Installs))\n",
    "print(\"Normalized:\",normalized_mutual_info_score(Apps.Reviews, Apps.Installs))"
   ]
  },
  {
   "cell_type": "code",
   "execution_count": 38,
   "metadata": {},
   "outputs": [
    {
     "name": "stdout",
     "output_type": "stream",
     "text": [
      "Adjusted: 0.05559592203480908\n",
      "Normalized: 0.06846589748876007\n"
     ]
    }
   ],
   "source": [
    "print(\"Adjusted:\",adjusted_mutual_info_score(Apps[Apps.Rating.notna()].Rating, Apps[Apps.Rating.notna()].Installs))\n",
    "print(\"Normalized:\",normalized_mutual_info_score(Apps[Apps.Rating.notna()].Rating, Apps[Apps.Rating.notna()].Installs))"
   ]
  },
  {
   "cell_type": "code",
   "execution_count": 39,
   "metadata": {},
   "outputs": [
    {
     "name": "stdout",
     "output_type": "stream",
     "text": [
      "Adjusted: 0.005868969675196572\n",
      "Normalized: 0.396024784320896\n"
     ]
    }
   ],
   "source": [
    "print(\"Adjusted:\",adjusted_mutual_info_score(Apps[Apps.Rating.notna()].Rating, Apps[Apps.Rating.notna()].Reviews))\n",
    "print(\"Normalized:\",normalized_mutual_info_score(Apps[Apps.Rating.notna()].Rating, Apps[Apps.Rating.notna()].Reviews))"
   ]
  },
  {
   "cell_type": "code",
   "execution_count": 40,
   "metadata": {},
   "outputs": [
    {
     "name": "stdout",
     "output_type": "stream",
     "text": [
      "Adjusted: 0.42659337148793747\n",
      "Normalized: 0.6430566480194094\n"
     ]
    }
   ],
   "source": [
    "print(\"Adjusted:\",adjusted_mutual_info_score(Reviews.sentiment_polarity_score, Reviews.sentiment_subjectivity_score))\n",
    "print(\"Normalized:\",normalized_mutual_info_score(Reviews.sentiment_polarity_score, Reviews.sentiment_subjectivity_score))"
   ]
  },
  {
   "cell_type": "markdown",
   "metadata": {},
   "source": [
    "### Descargas y Reseñas"
   ]
  },
  {
   "cell_type": "code",
   "execution_count": 193,
   "metadata": {},
   "outputs": [
    {
     "data": {
      "image/png": "[encoded data removed]",
      "text/plain": [
       "<Figure size 432x288 with 1 Axes>"
      ]
     },
     "metadata": {
      "needs_background": "light"
     },
     "output_type": "display_data"
    }
   ],
   "source": [
    "plt.scatter(Apps[\"Reviews\"], Apps[\"Installs\"])\n",
    "plt.xlabel(\"Reviews\")\n",
    "plt.ylabel(\"Installs\")\n",
    "plt.show()"
   ]
  },
  {
   "cell_type": "markdown",
   "metadata": {},
   "source": [
    "La forma del gráfico induce a aplicar clustering"
   ]
  },
  {
   "cell_type": "code",
   "execution_count": 194,
   "metadata": {},
   "outputs": [],
   "source": [
    "from sklearn.cluster import KMeans"
   ]
  },
  {
   "cell_type": "code",
   "execution_count": 291,
   "metadata": {},
   "outputs": [
    {
     "data": {
      "image/png": "[encoded data removed]",
      "text/plain": [
       "<Figure size 432x288 with 1 Axes>"
      ]
     },
     "metadata": {
      "needs_background": "light"
     },
     "output_type": "display_data"
    }
   ],
   "source": [
    "kmIR = KMeans(n_clusters=5).fit(Apps[[\"Reviews\", \"Installs\"]])\n",
    "\n",
    "plt.scatter(Apps[\"Reviews\"], Apps[\"Installs\"], c=kmIR.labels_)\n",
    "plt.xlabel(\"Reviews\")\n",
    "plt.show()"
   ]
  },
  {
   "cell_type": "code",
   "execution_count": 196,
   "metadata": {},
   "outputs": [
    {
     "data": {
      "image/png": "[encoded data removed]",
      "text/plain": [
       "<Figure size 432x288 with 1 Axes>"
      ]
     },
     "metadata": {
      "needs_background": "light"
     },
     "output_type": "display_data"
    }
   ],
   "source": [
    "c = rd.randint(0,9)\n",
    "\n",
    "plt.scatter(cat_dt[c][\"Reviews\"], cat_dt[c][\"Installs\"], c=kmIR.predict(cat_dt[c][[\"Reviews\", \"Installs\"]]))\n",
    "plt.xlabel(\"Reviews\")\n",
    "plt.ylabel(\"Installs\")\n",
    "plt.show()"
   ]
  },
  {
   "cell_type": "markdown",
   "metadata": {},
   "source": [
    "Los clusters del dataset origininal no se justan bien a los subdatasets de categorías. "
   ]
  },
  {
   "cell_type": "code",
   "execution_count": 197,
   "metadata": {},
   "outputs": [],
   "source": [
    "cat_km = []\n",
    "for dt in cat_dt:\n",
    "    cat_km.append(KMeans(n_clusters=3).fit(dt[[\"Reviews\", \"Installs\"]]))"
   ]
  },
  {
   "cell_type": "code",
   "execution_count": 83,
   "metadata": {},
   "outputs": [
    {
     "data": {
      "image/png": "[encoded data removed]",
      "text/plain": [
       "<Figure size 432x288 with 1 Axes>"
      ]
     },
     "metadata": {
      "needs_background": "light"
     },
     "output_type": "display_data"
    }
   ],
   "source": [
    "c = rd.randint(0,9)\n",
    "\n",
    "plt.scatter(cat_dt[c][\"Reviews\"], cat_dt[c][\"Installs\"], c=cat_km[c].labels_)\n",
    "plt.xlabel(\"Reviews\")\n",
    "plt.ylabel(\"Installs\")\n",
    "plt.show()"
   ]
  },
  {
   "cell_type": "markdown",
   "metadata": {},
   "source": [
    "__Propuesta:__ reemplazar \"Installs\" por los _labels_ de los clusters, dado que en la práctica sólo se dividen por descargas. No se puede dividir por cluster manteniendo la división por categoría debido a que los datos ya son reducidos, sin embargo se observa que las descargas presentan una distribución \"estratificada\", por lo que puede ser combniente realizar esta división."
   ]
  },
  {
   "cell_type": "code",
   "execution_count": 198,
   "metadata": {},
   "outputs": [],
   "source": [
    "for i in range(len(cat_dt)):\n",
    "    cat_dt[i][\"Cluster\"] = cat_km[i].labels_"
   ]
  },
  {
   "cell_type": "markdown",
   "metadata": {},
   "source": [
    "### PCA - Datos del Texto\n",
    "\n",
    "Como existe alta correlación entre varios de los datos del texto de las reseñas, se propone reducir su dimensionalidad a 2 (decisión arbitraria) por medio de _principal component analisys_."
   ]
  },
  {
   "cell_type": "code",
   "execution_count": 58,
   "metadata": {},
   "outputs": [],
   "source": [
    "from sklearn.decomposition import TruncatedSVD\n",
    "from sklearn.preprocessing import Normalizer\n",
    "from sklearn.pipeline import make_pipeline"
   ]
  },
  {
   "cell_type": "code",
   "execution_count": 59,
   "metadata": {},
   "outputs": [],
   "source": [
    "svd = TruncatedSVD(2)\n",
    "#normalizer = Normalizer(copy=False)\n",
    "#lsa = make_pipeline(svd, normalizer)\n",
    "redCount = svd.fit_transform(App_Review2.iloc[:,19:28])"
   ]
  },
  {
   "cell_type": "code",
   "execution_count": 145,
   "metadata": {},
   "outputs": [
    {
     "data": {
      "text/plain": [
       "array([[ 0.72560053, -0.44521546],\n",
       "       [ 0.87917784, -0.29309236],\n",
       "       [ 0.83282305, -0.36019533],\n",
       "       ...,\n",
       "       [ 1.40524184,  0.19410741],\n",
       "       [ 1.03157934, -0.16233491],\n",
       "       [ 1.15306275, -0.05626396]])"
      ]
     },
     "execution_count": 145,
     "metadata": {},
     "output_type": "execute_result"
    }
   ],
   "source": [
    "redCount"
   ]
  },
  {
   "cell_type": "code",
   "execution_count": 231,
   "metadata": {},
   "outputs": [],
   "source": [
    "def reEscale(data, a, b):\n",
    "    m = min(data)\n",
    "    M = max(data)\n",
    "    p = (b-a)/(M-m)\n",
    "    c = (a*M-b*m)/(M-m)\n",
    "    data2 = np.zeros(len(data))\n",
    "    for i in range(len(data)):\n",
    "        data2[i] = p*data[i]+c\n",
    "    return data2.copy()"
   ]
  },
  {
   "cell_type": "code",
   "execution_count": 232,
   "metadata": {},
   "outputs": [],
   "source": [
    "App_Review3 = App_Review2.iloc[:,2:13].copy()\n",
    "App_Review3[\"textData1\"] = reEscale(redCount.transpose()[0], 0, 1)\n",
    "App_Review3[\"textData2\"] = reEscale(redCount.transpose()[1], 0, 1)\n",
    "App_Review3[\"Rating_Q\"] = App_Review2.Rating_Q.copy()"
   ]
  },
  {
   "cell_type": "code",
   "execution_count": 62,
   "metadata": {},
   "outputs": [
    {
     "data": {
      "text/html": [
       "<div>\n",
       "<style scoped>\n",
       "    .dataframe tbody tr th:only-of-type {\n",
       "        vertical-align: middle;\n",
       "    }\n",
       "\n",
       "    .dataframe tbody tr th {\n",
       "        vertical-align: top;\n",
       "    }\n",
       "\n",
       "    .dataframe thead th {\n",
       "        text-align: right;\n",
       "    }\n",
       "</style>\n",
       "<table border=\"1\" class=\"dataframe\">\n",
       "  <thead>\n",
       "    <tr style=\"text-align: right;\">\n",
       "      <th></th>\n",
       "      <th>sentiment_polarity_score</th>\n",
       "      <th>ease_of_reading_score</th>\n",
       "      <th>sentiment_subjectivity_score</th>\n",
       "      <th>spelling_quality_score</th>\n",
       "      <th>Category</th>\n",
       "      <th>Rating</th>\n",
       "      <th>Reviews</th>\n",
       "      <th>Size</th>\n",
       "      <th>Installs</th>\n",
       "      <th>Type</th>\n",
       "      <th>Price</th>\n",
       "      <th>textData1</th>\n",
       "      <th>textData2</th>\n",
       "    </tr>\n",
       "  </thead>\n",
       "  <tbody>\n",
       "    <tr>\n",
       "      <th>0</th>\n",
       "      <td>0.470733</td>\n",
       "      <td>0.863879</td>\n",
       "      <td>0.495455</td>\n",
       "      <td>0.924240</td>\n",
       "      <td>15</td>\n",
       "      <td>4.0</td>\n",
       "      <td>2490</td>\n",
       "      <td>3.8</td>\n",
       "      <td>500000.0</td>\n",
       "      <td>0</td>\n",
       "      <td>0.0</td>\n",
       "      <td>0.086548</td>\n",
       "      <td>0.140834</td>\n",
       "    </tr>\n",
       "    <tr>\n",
       "      <th>1</th>\n",
       "      <td>0.185943</td>\n",
       "      <td>0.844815</td>\n",
       "      <td>0.455340</td>\n",
       "      <td>0.899209</td>\n",
       "      <td>26</td>\n",
       "      <td>3.8</td>\n",
       "      <td>48732</td>\n",
       "      <td>20.0</td>\n",
       "      <td>10000000.0</td>\n",
       "      <td>0</td>\n",
       "      <td>0.0</td>\n",
       "      <td>0.176441</td>\n",
       "      <td>0.375570</td>\n",
       "    </tr>\n",
       "    <tr>\n",
       "      <th>2</th>\n",
       "      <td>0.318145</td>\n",
       "      <td>0.851240</td>\n",
       "      <td>0.591098</td>\n",
       "      <td>0.892667</td>\n",
       "      <td>20</td>\n",
       "      <td>4.7</td>\n",
       "      <td>23160</td>\n",
       "      <td>26.0</td>\n",
       "      <td>1000000.0</td>\n",
       "      <td>0</td>\n",
       "      <td>0.0</td>\n",
       "      <td>0.157990</td>\n",
       "      <td>0.091707</td>\n",
       "    </tr>\n",
       "    <tr>\n",
       "      <th>3</th>\n",
       "      <td>0.196290</td>\n",
       "      <td>0.858710</td>\n",
       "      <td>0.557315</td>\n",
       "      <td>0.894876</td>\n",
       "      <td>14</td>\n",
       "      <td>4.6</td>\n",
       "      <td>214878</td>\n",
       "      <td>10.0</td>\n",
       "      <td>10000000.0</td>\n",
       "      <td>0</td>\n",
       "      <td>0.0</td>\n",
       "      <td>0.034185</td>\n",
       "      <td>0.070185</td>\n",
       "    </tr>\n",
       "    <tr>\n",
       "      <th>4</th>\n",
       "      <td>0.449566</td>\n",
       "      <td>0.868229</td>\n",
       "      <td>0.520573</td>\n",
       "      <td>0.828556</td>\n",
       "      <td>23</td>\n",
       "      <td>4.2</td>\n",
       "      <td>115773</td>\n",
       "      <td>NaN</td>\n",
       "      <td>10000000.0</td>\n",
       "      <td>0</td>\n",
       "      <td>0.0</td>\n",
       "      <td>0.064903</td>\n",
       "      <td>0.132629</td>\n",
       "    </tr>\n",
       "    <tr>\n",
       "      <th>...</th>\n",
       "      <td>...</td>\n",
       "      <td>...</td>\n",
       "      <td>...</td>\n",
       "      <td>...</td>\n",
       "      <td>...</td>\n",
       "      <td>...</td>\n",
       "      <td>...</td>\n",
       "      <td>...</td>\n",
       "      <td>...</td>\n",
       "      <td>...</td>\n",
       "      <td>...</td>\n",
       "      <td>...</td>\n",
       "      <td>...</td>\n",
       "    </tr>\n",
       "    <tr>\n",
       "      <th>602</th>\n",
       "      <td>0.031499</td>\n",
       "      <td>0.844228</td>\n",
       "      <td>0.477397</td>\n",
       "      <td>0.843576</td>\n",
       "      <td>31</td>\n",
       "      <td>4.2</td>\n",
       "      <td>6449</td>\n",
       "      <td>NaN</td>\n",
       "      <td>5000000.0</td>\n",
       "      <td>0</td>\n",
       "      <td>0.0</td>\n",
       "      <td>0.413262</td>\n",
       "      <td>0.404077</td>\n",
       "    </tr>\n",
       "    <tr>\n",
       "      <th>603</th>\n",
       "      <td>0.018378</td>\n",
       "      <td>0.840878</td>\n",
       "      <td>0.449354</td>\n",
       "      <td>0.858499</td>\n",
       "      <td>31</td>\n",
       "      <td>3.9</td>\n",
       "      <td>3484</td>\n",
       "      <td>3.0</td>\n",
       "      <td>10000000.0</td>\n",
       "      <td>0</td>\n",
       "      <td>0.0</td>\n",
       "      <td>0.441927</td>\n",
       "      <td>0.510170</td>\n",
       "    </tr>\n",
       "    <tr>\n",
       "      <th>604</th>\n",
       "      <td>-0.051705</td>\n",
       "      <td>0.843891</td>\n",
       "      <td>0.494052</td>\n",
       "      <td>0.838303</td>\n",
       "      <td>27</td>\n",
       "      <td>3.6</td>\n",
       "      <td>13223</td>\n",
       "      <td>2.8</td>\n",
       "      <td>10000000.0</td>\n",
       "      <td>0</td>\n",
       "      <td>0.0</td>\n",
       "      <td>0.482637</td>\n",
       "      <td>0.485207</td>\n",
       "    </tr>\n",
       "    <tr>\n",
       "      <th>605</th>\n",
       "      <td>0.004106</td>\n",
       "      <td>0.848932</td>\n",
       "      <td>0.334344</td>\n",
       "      <td>0.860348</td>\n",
       "      <td>18</td>\n",
       "      <td>3.5</td>\n",
       "      <td>6145</td>\n",
       "      <td>13.0</td>\n",
       "      <td>10000000.0</td>\n",
       "      <td>0</td>\n",
       "      <td>0.0</td>\n",
       "      <td>0.264826</td>\n",
       "      <td>0.290945</td>\n",
       "    </tr>\n",
       "    <tr>\n",
       "      <th>606</th>\n",
       "      <td>0.067625</td>\n",
       "      <td>0.826542</td>\n",
       "      <td>0.453094</td>\n",
       "      <td>0.892612</td>\n",
       "      <td>32</td>\n",
       "      <td>3.9</td>\n",
       "      <td>22154</td>\n",
       "      <td>NaN</td>\n",
       "      <td>10000000.0</td>\n",
       "      <td>0</td>\n",
       "      <td>0.0</td>\n",
       "      <td>0.356562</td>\n",
       "      <td>0.269521</td>\n",
       "    </tr>\n",
       "  </tbody>\n",
       "</table>\n",
       "<p>607 rows × 13 columns</p>\n",
       "</div>"
      ],
      "text/plain": [
       "     sentiment_polarity_score  ease_of_reading_score  \\\n",
       "0                    0.470733               0.863879   \n",
       "1                    0.185943               0.844815   \n",
       "2                    0.318145               0.851240   \n",
       "3                    0.196290               0.858710   \n",
       "4                    0.449566               0.868229   \n",
       "..                        ...                    ...   \n",
       "602                  0.031499               0.844228   \n",
       "603                  0.018378               0.840878   \n",
       "604                 -0.051705               0.843891   \n",
       "605                  0.004106               0.848932   \n",
       "606                  0.067625               0.826542   \n",
       "\n",
       "     sentiment_subjectivity_score  spelling_quality_score  Category  Rating  \\\n",
       "0                        0.495455                0.924240        15     4.0   \n",
       "1                        0.455340                0.899209        26     3.8   \n",
       "2                        0.591098                0.892667        20     4.7   \n",
       "3                        0.557315                0.894876        14     4.6   \n",
       "4                        0.520573                0.828556        23     4.2   \n",
       "..                            ...                     ...       ...     ...   \n",
       "602                      0.477397                0.843576        31     4.2   \n",
       "603                      0.449354                0.858499        31     3.9   \n",
       "604                      0.494052                0.838303        27     3.6   \n",
       "605                      0.334344                0.860348        18     3.5   \n",
       "606                      0.453094                0.892612        32     3.9   \n",
       "\n",
       "     Reviews  Size    Installs  Type  Price  textData1  textData2  \n",
       "0       2490   3.8    500000.0     0    0.0   0.086548   0.140834  \n",
       "1      48732  20.0  10000000.0     0    0.0   0.176441   0.375570  \n",
       "2      23160  26.0   1000000.0     0    0.0   0.157990   0.091707  \n",
       "3     214878  10.0  10000000.0     0    0.0   0.034185   0.070185  \n",
       "4     115773   NaN  10000000.0     0    0.0   0.064903   0.132629  \n",
       "..       ...   ...         ...   ...    ...        ...        ...  \n",
       "602     6449   NaN   5000000.0     0    0.0   0.413262   0.404077  \n",
       "603     3484   3.0  10000000.0     0    0.0   0.441927   0.510170  \n",
       "604    13223   2.8  10000000.0     0    0.0   0.482637   0.485207  \n",
       "605     6145  13.0  10000000.0     0    0.0   0.264826   0.290945  \n",
       "606    22154   NaN  10000000.0     0    0.0   0.356562   0.269521  \n",
       "\n",
       "[607 rows x 13 columns]"
      ]
     },
     "execution_count": 62,
     "metadata": {},
     "output_type": "execute_result"
    }
   ],
   "source": [
    "App_Review3"
   ]
  },
  {
   "cell_type": "markdown",
   "metadata": {},
   "source": [
    "# Clasificación"
   ]
  },
  {
   "cell_type": "code",
   "execution_count": 199,
   "metadata": {},
   "outputs": [],
   "source": [
    "from sklearn.metrics import confusion_matrix\n",
    "from sklearn.metrics import mean_squared_error\n",
    "from sklearn.tree import DecisionTreeClassifier\n",
    "from sklearn.neighbors import KNeighborsClassifier\n",
    "from sklearn.model_selection import train_test_split\n",
    "from sklearn.model_selection import cross_val_score\n",
    "from sklearn.naive_bayes import GaussianNB\n",
    "from sklearn.svm import SVC\n",
    "from sklearn.metrics import precision_score"
   ]
  },
  {
   "cell_type": "code",
   "execution_count": 233,
   "metadata": {},
   "outputs": [],
   "source": [
    "def precision0micro(model, X, y):\n",
    "    y_pred = model.predict(X)\n",
    "    return precision_score(y, y_pred, zero_division=0, average='micro')\n",
    "\n",
    "def precision0macro(model, X, y):\n",
    "    y_pred = model.predict(X)\n",
    "    return precision_score(y, y_pred, zero_division=0, average='macro')\n",
    "\n",
    "def mean(a):\n",
    "    n = len(a)\n",
    "    t = sum(a)\n",
    "    return t/n\n",
    "\n",
    "def crossVal(X, y, model, k, re, n, m):\n",
    "    re[0][m][n] = mean(cross_val_score(model, X, y, cv=k, scoring=\"accuracy\"))\n",
    "    re[1][m][n] = mean(cross_val_score(model, X, y, cv=k, scoring=precision0micro))\n",
    "    re[2][m][n] = mean(cross_val_score(model, X, y, cv=k, scoring=precision0macro))\n",
    "    re[3][m][n] = mean(cross_val_score(model, X, y, cv=k, scoring=\"recall_micro\"))\n",
    "    re[4][m][n] = mean(cross_val_score(model, X, y, cv=k, scoring=\"recall_macro\"))\n",
    "    re[5][m][n] = mean(cross_val_score(model, X, y, cv=k, scoring=\"f1_micro\"))\n",
    "    re[6][m][n] = mean(cross_val_score(model, X, y, cv=k, scoring=\"f1_macro\"))"
   ]
  },
  {
   "cell_type": "code",
   "execution_count": 234,
   "metadata": {},
   "outputs": [],
   "source": [
    "results_score = np.zeros([7,4,10])"
   ]
  },
  {
   "cell_type": "code",
   "execution_count": 235,
   "metadata": {},
   "outputs": [],
   "source": [
    "cat_dt_r = []\n",
    "label_cat_r = []\n",
    "label_cat_r2 = []\n",
    "for dt in cat_dt:\n",
    "    cat_dt_r.append(dt[[\"Reviews\", \"Cluster\", \"Size\", \"Type\", \"Content.Rating\"]].copy())\n",
    "    label_cat_r2.append(dt[[\"Rating\"]])\n",
    "    label_cat_r.append(dt[[\"Rating_Q\"]])"
   ]
  },
  {
   "cell_type": "code",
   "execution_count": 236,
   "metadata": {},
   "outputs": [],
   "source": [
    "for dt in cat_dt_r:\n",
    "    dt[\"Reviews\"] = reEscale(np.array(dt.Reviews), 0, 3)\n",
    "    dt[\"Size\"] = reEscale(np.array(dt.Size), 0, 3)"
   ]
  },
  {
   "cell_type": "code",
   "execution_count": 237,
   "metadata": {},
   "outputs": [
    {
     "data": {
      "image/png": "[encoded data removed]",
      "text/plain": [
       "<Figure size 432x288 with 1 Axes>"
      ]
     },
     "metadata": {
      "needs_background": "light"
     },
     "output_type": "display_data"
    }
   ],
   "source": [
    "for i in range(len(cat_dt)):\n",
    "    plt.scatter(range(len(cat_dt[i])), cat_dt[i].Size, label=str(i))\n",
    "\n",
    "plt.legend()\n",
    "plt.show()"
   ]
  },
  {
   "cell_type": "markdown",
   "metadata": {},
   "source": [
    "### Árbol de Decisión"
   ]
  },
  {
   "cell_type": "code",
   "execution_count": 238,
   "metadata": {},
   "outputs": [],
   "source": [
    "for i in range(10):\n",
    "    crossVal(cat_dt_r[i], label_cat_r[i], DecisionTreeClassifier(), 5, results_score, i, 0)"
   ]
  },
  {
   "cell_type": "markdown",
   "metadata": {},
   "source": [
    "### KNN"
   ]
  },
  {
   "cell_type": "code",
   "execution_count": 239,
   "metadata": {},
   "outputs": [],
   "source": [
    "for i in range(10):\n",
    "    crossVal(cat_dt_r[i], np.ravel(label_cat_r[i]), KNeighborsClassifier(n_neighbors=10), 5, results_score, i, 1) # k=10 es arbitrario"
   ]
  },
  {
   "cell_type": "markdown",
   "metadata": {},
   "source": [
    "### Naive Bayes"
   ]
  },
  {
   "cell_type": "code",
   "execution_count": 240,
   "metadata": {},
   "outputs": [],
   "source": [
    "for i in range(10):\n",
    "    crossVal(cat_dt_r[i], np.ravel(label_cat_r[i]), GaussianNB(), 5, results_score, i, 2)"
   ]
  },
  {
   "cell_type": "markdown",
   "metadata": {},
   "source": [
    "### Support Vector Machine"
   ]
  },
  {
   "cell_type": "code",
   "execution_count": 241,
   "metadata": {},
   "outputs": [],
   "source": [
    "for i in range(10):\n",
    "    crossVal(cat_dt_r[i], np.ravel(label_cat_r[i]), SVC(), 5, results_score, i, 3) # no usar 'linear'"
   ]
  },
  {
   "cell_type": "markdown",
   "metadata": {},
   "source": [
    "### Resultados"
   ]
  },
  {
   "cell_type": "code",
   "execution_count": 242,
   "metadata": {},
   "outputs": [
    {
     "data": {
      "image/png": "[encoded data removed]",
      "text/plain": [
       "<Figure size 432x288 with 1 Axes>"
      ]
     },
     "metadata": {
      "needs_background": "light"
     },
     "output_type": "display_data"
    }
   ],
   "source": [
    "models = [\"Tree\", \"KNN\", \"Naive\", \"SVM\"]\n",
    "\n",
    "plt.barh(models, list(map(mean, results_score[0])))\n",
    "plt.title(\"Accuracy\")\n",
    "plt.show()"
   ]
  },
  {
   "cell_type": "code",
   "execution_count": 243,
   "metadata": {},
   "outputs": [
    {
     "data": {
      "image/png": "[encoded data removed]",
      "text/plain": [
       "<Figure size 432x288 with 1 Axes>"
      ]
     },
     "metadata": {
      "needs_background": "light"
     },
     "output_type": "display_data"
    }
   ],
   "source": [
    "plt.barh(models, list(map(mean, results_score[1])))\n",
    "plt.title(\"Precision Micro\")\n",
    "plt.show()"
   ]
  },
  {
   "cell_type": "code",
   "execution_count": 244,
   "metadata": {},
   "outputs": [
    {
     "data": {
      "image/png": "[encoded data removed]",
      "text/plain": [
       "<Figure size 432x288 with 1 Axes>"
      ]
     },
     "metadata": {
      "needs_background": "light"
     },
     "output_type": "display_data"
    }
   ],
   "source": [
    "plt.barh(models, list(map(mean, results_score[2])))\n",
    "plt.title(\"Precision Macro\")\n",
    "plt.show()"
   ]
  },
  {
   "cell_type": "code",
   "execution_count": 245,
   "metadata": {},
   "outputs": [
    {
     "data": {
      "image/png": "[encoded data removed]",
      "text/plain": [
       "<Figure size 432x288 with 1 Axes>"
      ]
     },
     "metadata": {
      "needs_background": "light"
     },
     "output_type": "display_data"
    }
   ],
   "source": [
    "plt.barh(models, list(map(mean, results_score[3])))\n",
    "plt.title(\"Recall Micro\")\n",
    "plt.show()"
   ]
  },
  {
   "cell_type": "code",
   "execution_count": 246,
   "metadata": {},
   "outputs": [
    {
     "data": {
      "image/png": "[encoded data removed]",
      "text/plain": [
       "<Figure size 432x288 with 1 Axes>"
      ]
     },
     "metadata": {
      "needs_background": "light"
     },
     "output_type": "display_data"
    }
   ],
   "source": [
    "plt.barh(models, list(map(mean, results_score[4])))\n",
    "plt.title(\"Recall Macro\")\n",
    "plt.show()"
   ]
  },
  {
   "cell_type": "code",
   "execution_count": 247,
   "metadata": {},
   "outputs": [
    {
     "data": {
      "image/png": "[encoded data removed]",
      "text/plain": [
       "<Figure size 432x288 with 1 Axes>"
      ]
     },
     "metadata": {
      "needs_background": "light"
     },
     "output_type": "display_data"
    }
   ],
   "source": [
    "plt.barh(models, list(map(mean, results_score[5])))\n",
    "plt.title(\"F1 Micro\")\n",
    "plt.show()"
   ]
  },
  {
   "cell_type": "code",
   "execution_count": 248,
   "metadata": {},
   "outputs": [
    {
     "data": {
      "image/png": "[encoded data removed]",
      "text/plain": [
       "<Figure size 432x288 with 1 Axes>"
      ]
     },
     "metadata": {
      "needs_background": "light"
     },
     "output_type": "display_data"
    }
   ],
   "source": [
    "plt.barh(models, list(map(mean, results_score[6])))\n",
    "plt.title(\"F1 Macro\")\n",
    "plt.show()"
   ]
  },
  {
   "cell_type": "markdown",
   "metadata": {},
   "source": [
    "## Clasificación de Aplicaciones de Pago"
   ]
  },
  {
   "cell_type": "markdown",
   "metadata": {},
   "source": [
    "Como la cantidad de aplicaciones de pago en vastante menor, para este caso no se subdivide en categorías."
   ]
  },
  {
   "cell_type": "code",
   "execution_count": 249,
   "metadata": {},
   "outputs": [],
   "source": [
    "Paid_Apps = Apps[Apps.Type==1][[\"Installs\", \"Reviews\", \"Size\", \"Price\", \"Content.Rating\", \"Rating\"]].dropna(how='any').copy()\n",
    "Paid_Apps = Paid_Apps[Paid_Apps.Installs < 500000]\n",
    "Paid_Apps = Paid_Apps[Paid_Apps.Price < 20]\n",
    "Paid_Apps = Paid_Apps[Paid_Apps.Reviews < 30000]\n",
    "\n",
    "paidKm = KMeans(n_clusters=3).fit(Paid_Apps[[\"Installs\", \"Reviews\"]])\n",
    "Paid_Apps[\"Clusters\"] = paidKm.labels_\n",
    "\n",
    "def contToNum(contentRating):\n",
    "    n = len(contentRating)\n",
    "    num = np.zeros(n)\n",
    "    for i in range(n):\n",
    "        if contentRating[i] == \"Everyone 10+\":\n",
    "            num[i] = 0.5\n",
    "        if contentRating[i] == \"Teen\":\n",
    "            num[i] = 1.0\n",
    "        if contentRating[i] == \"Mature 17+\":\n",
    "            num[i] = 1.5\n",
    "        if contentRating[i] == \"Adults only 18+\":\n",
    "            num[i] = 2.0\n",
    "    return num\n",
    "\n",
    "Paid_Apps[\"Content.Rating\"] = contToNum(np.array(Paid_Apps[\"Content.Rating\"]))"
   ]
  },
  {
   "cell_type": "code",
   "execution_count": 250,
   "metadata": {},
   "outputs": [],
   "source": [
    "def qLabeler(data):\n",
    "    q1 = data.quantile(0.25)\n",
    "    q2 = data.quantile(0.5)\n",
    "    q3 = data.quantile(0.75)\n",
    "    labels = np.array(data)\n",
    "    for i in range(len(labels)):\n",
    "        if labels[i] <= q1:\n",
    "            labels[i] = 0\n",
    "        elif labels[i] < q2:\n",
    "            labels[i] = 1\n",
    "        elif labels[i] < q3:\n",
    "            labels[i] = 2\n",
    "        elif labels[i]:\n",
    "            labels[i] = 3\n",
    "    return labels\n",
    "\n",
    "paid_labels = qLabeler(Paid_Apps.Rating)\n",
    "\n",
    "del Paid_Apps[\"Rating\"]"
   ]
  },
  {
   "cell_type": "code",
   "execution_count": 251,
   "metadata": {},
   "outputs": [
    {
     "data": {
      "image/png": "[encoded data removed]",
      "text/plain": [
       "<Figure size 432x288 with 1 Axes>"
      ]
     },
     "metadata": {
      "needs_background": "light"
     },
     "output_type": "display_data"
    }
   ],
   "source": [
    "plt.scatter(Paid_Apps[\"Reviews\"], Paid_Apps[\"Installs\"], c=paidKm.labels_)\n",
    "plt.xlabel(\"Reviews\")\n",
    "plt.ylabel(\"Installs\")\n",
    "plt.show()"
   ]
  },
  {
   "cell_type": "code",
   "execution_count": 252,
   "metadata": {},
   "outputs": [],
   "source": [
    "del Paid_Apps[\"Installs\"]"
   ]
  },
  {
   "cell_type": "code",
   "execution_count": 253,
   "metadata": {},
   "outputs": [
    {
     "data": {
      "image/png": "[encoded data removed]",
      "text/plain": [
       "<Figure size 432x288 with 1 Axes>"
      ]
     },
     "metadata": {
      "needs_background": "light"
     },
     "output_type": "display_data"
    }
   ],
   "source": [
    "plt.scatter(range(len(Paid_Apps)), Paid_Apps.Price)\n",
    "plt.show()"
   ]
  },
  {
   "cell_type": "code",
   "execution_count": 254,
   "metadata": {},
   "outputs": [
    {
     "data": {
      "image/png": "[encoded data removed]",
      "text/plain": [
       "<Figure size 432x288 with 1 Axes>"
      ]
     },
     "metadata": {
      "needs_background": "light"
     },
     "output_type": "display_data"
    }
   ],
   "source": [
    "plt.scatter(range(len(Paid_Apps)), Paid_Apps.Reviews)\n",
    "plt.show()"
   ]
  },
  {
   "cell_type": "code",
   "execution_count": 255,
   "metadata": {},
   "outputs": [],
   "source": [
    "Paid_Apps[\"Reviews\"] = reEscale(np.array(Paid_Apps.Reviews), 0, 2)\n",
    "Paid_Apps[\"Size\"] = reEscale(np.array(Paid_Apps.Size), 0, 2)\n",
    "Paid_Apps[\"Price\"] = reEscale(np.array(Paid_Apps.Price), 0, 2)"
   ]
  },
  {
   "cell_type": "code",
   "execution_count": 256,
   "metadata": {},
   "outputs": [
    {
     "data": {
      "text/html": [
       "<div>\n",
       "<style scoped>\n",
       "    .dataframe tbody tr th:only-of-type {\n",
       "        vertical-align: middle;\n",
       "    }\n",
       "\n",
       "    .dataframe tbody tr th {\n",
       "        vertical-align: top;\n",
       "    }\n",
       "\n",
       "    .dataframe thead th {\n",
       "        text-align: right;\n",
       "    }\n",
       "</style>\n",
       "<table border=\"1\" class=\"dataframe\">\n",
       "  <thead>\n",
       "    <tr style=\"text-align: right;\">\n",
       "      <th></th>\n",
       "      <th>Reviews</th>\n",
       "      <th>Size</th>\n",
       "      <th>Price</th>\n",
       "      <th>Content.Rating</th>\n",
       "      <th>Clusters</th>\n",
       "    </tr>\n",
       "  </thead>\n",
       "  <tbody>\n",
       "    <tr>\n",
       "      <th>233</th>\n",
       "      <td>0.821468</td>\n",
       "      <td>0.135739</td>\n",
       "      <td>4.210526e-01</td>\n",
       "      <td>0.0</td>\n",
       "      <td>1</td>\n",
       "    </tr>\n",
       "    <tr>\n",
       "      <th>234</th>\n",
       "      <td>0.739113</td>\n",
       "      <td>0.779829</td>\n",
       "      <td>4.210526e-01</td>\n",
       "      <td>0.0</td>\n",
       "      <td>1</td>\n",
       "    </tr>\n",
       "    <tr>\n",
       "      <th>407</th>\n",
       "      <td>0.004021</td>\n",
       "      <td>0.123737</td>\n",
       "      <td>6.315789e-01</td>\n",
       "      <td>0.0</td>\n",
       "      <td>0</td>\n",
       "    </tr>\n",
       "    <tr>\n",
       "      <th>411</th>\n",
       "      <td>0.000072</td>\n",
       "      <td>0.339768</td>\n",
       "      <td>7.368421e-01</td>\n",
       "      <td>1.5</td>\n",
       "      <td>0</td>\n",
       "    </tr>\n",
       "    <tr>\n",
       "      <th>687</th>\n",
       "      <td>0.000718</td>\n",
       "      <td>1.259896</td>\n",
       "      <td>3.157895e-01</td>\n",
       "      <td>0.0</td>\n",
       "      <td>0</td>\n",
       "    </tr>\n",
       "    <tr>\n",
       "      <th>...</th>\n",
       "      <td>...</td>\n",
       "      <td>...</td>\n",
       "      <td>...</td>\n",
       "      <td>...</td>\n",
       "      <td>...</td>\n",
       "    </tr>\n",
       "    <tr>\n",
       "      <th>9513</th>\n",
       "      <td>0.000287</td>\n",
       "      <td>0.016942</td>\n",
       "      <td>-1.387779e-17</td>\n",
       "      <td>0.0</td>\n",
       "      <td>0</td>\n",
       "    </tr>\n",
       "    <tr>\n",
       "      <th>9520</th>\n",
       "      <td>0.000072</td>\n",
       "      <td>0.319765</td>\n",
       "      <td>-1.387779e-17</td>\n",
       "      <td>0.0</td>\n",
       "      <td>0</td>\n",
       "    </tr>\n",
       "    <tr>\n",
       "      <th>9579</th>\n",
       "      <td>0.002441</td>\n",
       "      <td>0.047727</td>\n",
       "      <td>7.368421e-01</td>\n",
       "      <td>0.0</td>\n",
       "      <td>0</td>\n",
       "    </tr>\n",
       "    <tr>\n",
       "      <th>9600</th>\n",
       "      <td>0.018022</td>\n",
       "      <td>0.219751</td>\n",
       "      <td>1.684211e+00</td>\n",
       "      <td>1.0</td>\n",
       "      <td>0</td>\n",
       "    </tr>\n",
       "    <tr>\n",
       "      <th>9603</th>\n",
       "      <td>0.100808</td>\n",
       "      <td>0.189747</td>\n",
       "      <td>2.210526e-02</td>\n",
       "      <td>0.0</td>\n",
       "      <td>0</td>\n",
       "    </tr>\n",
       "  </tbody>\n",
       "</table>\n",
       "<p>482 rows × 5 columns</p>\n",
       "</div>"
      ],
      "text/plain": [
       "       Reviews      Size         Price  Content.Rating  Clusters\n",
       "233   0.821468  0.135739  4.210526e-01             0.0         1\n",
       "234   0.739113  0.779829  4.210526e-01             0.0         1\n",
       "407   0.004021  0.123737  6.315789e-01             0.0         0\n",
       "411   0.000072  0.339768  7.368421e-01             1.5         0\n",
       "687   0.000718  1.259896  3.157895e-01             0.0         0\n",
       "...        ...       ...           ...             ...       ...\n",
       "9513  0.000287  0.016942 -1.387779e-17             0.0         0\n",
       "9520  0.000072  0.319765 -1.387779e-17             0.0         0\n",
       "9579  0.002441  0.047727  7.368421e-01             0.0         0\n",
       "9600  0.018022  0.219751  1.684211e+00             1.0         0\n",
       "9603  0.100808  0.189747  2.210526e-02             0.0         0\n",
       "\n",
       "[482 rows x 5 columns]"
      ]
     },
     "execution_count": 256,
     "metadata": {},
     "output_type": "execute_result"
    }
   ],
   "source": [
    "Paid_Apps"
   ]
  },
  {
   "cell_type": "code",
   "execution_count": 257,
   "metadata": {},
   "outputs": [],
   "source": [
    "def crossVal2(X, y, model, k, re, m):\n",
    "    re[0][m] = mean(cross_val_score(model, X, y, cv=k, scoring=\"accuracy\"))\n",
    "    re[1][m] = mean(cross_val_score(model, X, y, cv=k, scoring=precision0micro))\n",
    "    re[2][m] = mean(cross_val_score(model, X, y, cv=k, scoring=precision0macro))\n",
    "    re[3][m] = mean(cross_val_score(model, X, y, cv=k, scoring=\"recall_micro\"))\n",
    "    re[4][m] = mean(cross_val_score(model, X, y, cv=k, scoring=\"recall_macro\"))\n",
    "    re[5][m] = mean(cross_val_score(model, X, y, cv=k, scoring=\"f1_micro\"))\n",
    "    re[6][m] = mean(cross_val_score(model, X, y, cv=k, scoring=\"f1_macro\"))\n",
    "\n",
    "paid_result = np.zeros([7,4])"
   ]
  },
  {
   "cell_type": "markdown",
   "metadata": {},
   "source": [
    "### Árbol de Decisión"
   ]
  },
  {
   "cell_type": "code",
   "execution_count": 258,
   "metadata": {},
   "outputs": [],
   "source": [
    "crossVal2(Paid_Apps, paid_labels, DecisionTreeClassifier(), 5, paid_result, 0)"
   ]
  },
  {
   "cell_type": "markdown",
   "metadata": {},
   "source": [
    "### KNN"
   ]
  },
  {
   "cell_type": "code",
   "execution_count": 259,
   "metadata": {},
   "outputs": [],
   "source": [
    "crossVal2(Paid_Apps, paid_labels, KNeighborsClassifier(n_neighbors=10), 5, paid_result, 1) # k=10 es arbitrario"
   ]
  },
  {
   "cell_type": "markdown",
   "metadata": {},
   "source": [
    "### Naive Bayes"
   ]
  },
  {
   "cell_type": "code",
   "execution_count": 260,
   "metadata": {},
   "outputs": [],
   "source": [
    "crossVal2(Paid_Apps, paid_labels, GaussianNB(), 5, paid_result, 2)"
   ]
  },
  {
   "cell_type": "markdown",
   "metadata": {},
   "source": [
    "### Support Vector Machine"
   ]
  },
  {
   "cell_type": "code",
   "execution_count": 261,
   "metadata": {},
   "outputs": [],
   "source": [
    "crossVal2(Paid_Apps, paid_labels, SVC(), 5, paid_result, 3)"
   ]
  },
  {
   "cell_type": "markdown",
   "metadata": {},
   "source": [
    "### Resultados"
   ]
  },
  {
   "cell_type": "code",
   "execution_count": 262,
   "metadata": {},
   "outputs": [
    {
     "data": {
      "image/png": "[encoded data removed]",
      "text/plain": [
       "<Figure size 432x288 with 1 Axes>"
      ]
     },
     "metadata": {
      "needs_background": "light"
     },
     "output_type": "display_data"
    }
   ],
   "source": [
    "plt.barh(models, paid_result[0])\n",
    "plt.title(\"Accuracy\")\n",
    "plt.show()"
   ]
  },
  {
   "cell_type": "code",
   "execution_count": 263,
   "metadata": {},
   "outputs": [
    {
     "data": {
      "image/png": "[encoded data removed]",
      "text/plain": [
       "<Figure size 432x288 with 1 Axes>"
      ]
     },
     "metadata": {
      "needs_background": "light"
     },
     "output_type": "display_data"
    }
   ],
   "source": [
    "plt.barh(models, paid_result[1])\n",
    "plt.title(\"Precision Micro\")\n",
    "plt.show()"
   ]
  },
  {
   "cell_type": "code",
   "execution_count": 264,
   "metadata": {},
   "outputs": [
    {
     "data": {
      "image/png": "[encoded data removed]",
      "text/plain": [
       "<Figure size 432x288 with 1 Axes>"
      ]
     },
     "metadata": {
      "needs_background": "light"
     },
     "output_type": "display_data"
    }
   ],
   "source": [
    "plt.barh(models, paid_result[2])\n",
    "plt.title(\"Precision Macro\")\n",
    "plt.show()"
   ]
  },
  {
   "cell_type": "code",
   "execution_count": 265,
   "metadata": {},
   "outputs": [
    {
     "data": {
      "image/png": "[encoded data removed]",
      "text/plain": [
       "<Figure size 432x288 with 1 Axes>"
      ]
     },
     "metadata": {
      "needs_background": "light"
     },
     "output_type": "display_data"
    }
   ],
   "source": [
    "plt.barh(models, paid_result[3])\n",
    "plt.title(\"Recall Micro\")\n",
    "plt.show()"
   ]
  },
  {
   "cell_type": "code",
   "execution_count": 266,
   "metadata": {},
   "outputs": [
    {
     "data": {
      "image/png": "[encoded data removed]",
      "text/plain": [
       "<Figure size 432x288 with 1 Axes>"
      ]
     },
     "metadata": {
      "needs_background": "light"
     },
     "output_type": "display_data"
    }
   ],
   "source": [
    "plt.barh(models, paid_result[4])\n",
    "plt.title(\"Recall Macro\")\n",
    "plt.show()"
   ]
  },
  {
   "cell_type": "code",
   "execution_count": 267,
   "metadata": {},
   "outputs": [
    {
     "data": {
      "image/png": "[encoded data removed]",
      "text/plain": [
       "<Figure size 432x288 with 1 Axes>"
      ]
     },
     "metadata": {
      "needs_background": "light"
     },
     "output_type": "display_data"
    }
   ],
   "source": [
    "plt.barh(models, paid_result[5])\n",
    "plt.title(\"F1 Micro\")\n",
    "plt.show()"
   ]
  },
  {
   "cell_type": "code",
   "execution_count": 268,
   "metadata": {},
   "outputs": [
    {
     "data": {
      "image/png": "[encoded data removed]",
      "text/plain": [
       "<Figure size 432x288 with 1 Axes>"
      ]
     },
     "metadata": {
      "needs_background": "light"
     },
     "output_type": "display_data"
    }
   ],
   "source": [
    "plt.barh(models, paid_result[6])\n",
    "plt.title(\"F1 Macro\")\n",
    "plt.show()"
   ]
  },
  {
   "cell_type": "markdown",
   "metadata": {},
   "source": [
    "## Análisis de Texto"
   ]
  },
  {
   "cell_type": "code",
   "execution_count": 32,
   "metadata": {},
   "outputs": [],
   "source": [
    "from sklearn.feature_extraction.text import TfidfVectorizer\n",
    "from sklearn.feature_extraction.text import HashingVectorizer"
   ]
  },
  {
   "cell_type": "code",
   "execution_count": 33,
   "metadata": {},
   "outputs": [],
   "source": [
    "hashVectorizer = HashingVectorizer(stop_words=None, alternate_sign=False)\n",
    "text_dt = hashVectorizer.fit_transform(Reviews[\"Translated_Review\"])\n",
    "\n",
    "svd = TruncatedSVD(100) # arbitrario\n",
    "normalizer = Normalizer(copy=False)\n",
    "lsa = make_pipeline(svd, normalizer)\n",
    "text_dt = lsa.fit_transform(text_dt)"
   ]
  },
  {
   "cell_type": "code",
   "execution_count": 158,
   "metadata": {},
   "outputs": [
    {
     "data": {
      "text/plain": [
       "35929"
      ]
     },
     "execution_count": 158,
     "metadata": {},
     "output_type": "execute_result"
    }
   ],
   "source": [
    "len(text_dt)"
   ]
  },
  {
   "cell_type": "code",
   "execution_count": 34,
   "metadata": {},
   "outputs": [],
   "source": [
    "text_labels_sp = np.ravel(Reviews[\"sentiment_polarity\"])\n",
    "text_labels_ss = np.ravel(Reviews[\"sentiment_subjectivity\"])\n",
    "text_labels_sq = np.ravel(Reviews[\"spelling_quality\"])"
   ]
  },
  {
   "cell_type": "code",
   "execution_count": 35,
   "metadata": {},
   "outputs": [],
   "source": [
    "sp_result = np.zeros([7, 4])\n",
    "ss_result = np.zeros([7, 4])\n",
    "sq_result = np.zeros([7, 4])"
   ]
  },
  {
   "cell_type": "markdown",
   "metadata": {},
   "source": [
    "### Árbol de Decisión"
   ]
  },
  {
   "cell_type": "code",
   "execution_count": 71,
   "metadata": {},
   "outputs": [],
   "source": [
    "# Sentiment Polarity\n",
    "crossVal2(text_dt, text_labels_sp, DecisionTreeClassifier(), 5, sp_result, 0)"
   ]
  },
  {
   "cell_type": "code",
   "execution_count": 72,
   "metadata": {},
   "outputs": [],
   "source": [
    "# Sentiment Subjectivity\n",
    "crossVal2(text_dt, text_labels_ss, DecisionTreeClassifier(), 5, ss_result, 0)"
   ]
  },
  {
   "cell_type": "code",
   "execution_count": 73,
   "metadata": {},
   "outputs": [],
   "source": [
    "# Spelling Quality\n",
    "crossVal2(text_dt, text_labels_sq, DecisionTreeClassifier(), 5, sq_result, 0)"
   ]
  },
  {
   "cell_type": "markdown",
   "metadata": {},
   "source": [
    "### KNN"
   ]
  },
  {
   "cell_type": "code",
   "execution_count": 36,
   "metadata": {},
   "outputs": [],
   "source": [
    "# Sentiment Polarity\n",
    "crossVal2(text_dt, text_labels_sp, KNeighborsClassifier(n_neighbors=10), 5, sp_result, 1)"
   ]
  },
  {
   "cell_type": "code",
   "execution_count": 37,
   "metadata": {},
   "outputs": [],
   "source": [
    "# Sentiment Subjectivity\n",
    "crossVal2(text_dt, text_labels_ss, KNeighborsClassifier(n_neighbors=10), 5, ss_result, 1)"
   ]
  },
  {
   "cell_type": "code",
   "execution_count": 38,
   "metadata": {},
   "outputs": [],
   "source": [
    "# Spelling Quality\n",
    "crossVal2(text_dt, text_labels_sq, KNeighborsClassifier(n_neighbors=10), 5, sq_result, 1)"
   ]
  },
  {
   "cell_type": "markdown",
   "metadata": {},
   "source": [
    "### Naive Bayes"
   ]
  },
  {
   "cell_type": "code",
   "execution_count": 40,
   "metadata": {},
   "outputs": [],
   "source": [
    "# Sentiment Polarity\n",
    "crossVal2(text_dt, text_labels_sp, GaussianNB(), 5, sp_result, 2)"
   ]
  },
  {
   "cell_type": "code",
   "execution_count": 41,
   "metadata": {},
   "outputs": [],
   "source": [
    "# Sentiment Subjectivity\n",
    "crossVal2(text_dt, text_labels_ss, GaussianNB(), 5, ss_result, 2)"
   ]
  },
  {
   "cell_type": "code",
   "execution_count": 42,
   "metadata": {},
   "outputs": [],
   "source": [
    "# Spelling Quality\n",
    "crossVal2(text_dt, text_labels_sq, GaussianNB(), 5, sq_result, 2)"
   ]
  },
  {
   "cell_type": "markdown",
   "metadata": {},
   "source": [
    "### Support Vector Machine"
   ]
  },
  {
   "cell_type": "code",
   "execution_count": 44,
   "metadata": {},
   "outputs": [],
   "source": [
    "# Sentiment Polarity\n",
    "crossVal2(text_dt, text_labels_sp, SVC(), 5, sp_result, 3)"
   ]
  },
  {
   "cell_type": "code",
   "execution_count": 45,
   "metadata": {},
   "outputs": [],
   "source": [
    "# Sentiment Subjectivity\n",
    "crossVal2(text_dt, text_labels_ss, SVC(), 5, ss_result, 3)"
   ]
  },
  {
   "cell_type": "code",
   "execution_count": 46,
   "metadata": {},
   "outputs": [],
   "source": [
    "# Spelling Quality\n",
    "crossVal2(text_dt, text_labels_sq, SVC(), 5, sq_result, 3)"
   ]
  },
  {
   "cell_type": "markdown",
   "metadata": {},
   "source": [
    "### Resultados"
   ]
  },
  {
   "cell_type": "code",
   "execution_count": 74,
   "metadata": {},
   "outputs": [
    {
     "data": {
      "image/png": "[encoded data removed]",
      "text/plain": [
       "<Figure size 432x288 with 1 Axes>"
      ]
     },
     "metadata": {
      "needs_background": "light"
     },
     "output_type": "display_data"
    }
   ],
   "source": [
    "m = np.arange(len(models))\n",
    "width = 0.3\n",
    "\n",
    "fig, ax = plt.subplots()\n",
    "pol = ax.barh(m-width, sp_result[0], width, label=\"Polarity\")\n",
    "sub = ax.barh(m, ss_result[0], width, label=\"Subjectibity\")\n",
    "spe = ax.barh(m+width, sq_result[0], width, label=\"Spelling\")\n",
    "\n",
    "ax.set_title(\"Accuracy\")\n",
    "ax.set_yticks(m)\n",
    "ax.set_yticklabels(models)\n",
    "ax.legend()\n",
    "\n",
    "fig.tight_layout()\n",
    "\n",
    "plt.show()"
   ]
  },
  {
   "cell_type": "code",
   "execution_count": 75,
   "metadata": {},
   "outputs": [
    {
     "data": {
      "image/png": "[encoded data removed]",
      "text/plain": [
       "<Figure size 432x288 with 1 Axes>"
      ]
     },
     "metadata": {
      "needs_background": "light"
     },
     "output_type": "display_data"
    }
   ],
   "source": [
    "m = np.arange(len(models))\n",
    "width = 0.3\n",
    "\n",
    "fig, ax = plt.subplots()\n",
    "pol = ax.barh(m-width, sp_result[1], width, label=\"Polarity\")\n",
    "sub = ax.barh(m, ss_result[1], width, label=\"Subjectibity\")\n",
    "spe = ax.barh(m+width, sq_result[1], width, label=\"Spelling\")\n",
    "\n",
    "ax.set_title(\"Precision Micro\")\n",
    "ax.set_yticks(m)\n",
    "ax.set_yticklabels(models)\n",
    "ax.legend()\n",
    "\n",
    "fig.tight_layout()\n",
    "\n",
    "plt.show()"
   ]
  },
  {
   "cell_type": "code",
   "execution_count": 76,
   "metadata": {},
   "outputs": [
    {
     "data": {
      "image/png": "[encoded data removed]",
      "text/plain": [
       "<Figure size 432x288 with 1 Axes>"
      ]
     },
     "metadata": {
      "needs_background": "light"
     },
     "output_type": "display_data"
    }
   ],
   "source": [
    "m = np.arange(len(models))\n",
    "width = 0.3\n",
    "\n",
    "fig, ax = plt.subplots()\n",
    "pol = ax.barh(m-width, sp_result[2], width, label=\"Polarity\")\n",
    "sub = ax.barh(m, ss_result[2], width, label=\"Subjectibity\")\n",
    "spe = ax.barh(m+width, sq_result[2], width, label=\"Spelling\")\n",
    "\n",
    "ax.set_title(\"Precision Macro\")\n",
    "ax.set_yticks(m)\n",
    "ax.set_yticklabels(models)\n",
    "ax.legend()\n",
    "\n",
    "fig.tight_layout()\n",
    "\n",
    "plt.show()"
   ]
  },
  {
   "cell_type": "code",
   "execution_count": 77,
   "metadata": {},
   "outputs": [
    {
     "data": {
      "image/png": "[encoded data removed]",
      "text/plain": [
       "<Figure size 432x288 with 1 Axes>"
      ]
     },
     "metadata": {
      "needs_background": "light"
     },
     "output_type": "display_data"
    }
   ],
   "source": [
    "m = np.arange(len(models))\n",
    "width = 0.3\n",
    "\n",
    "fig, ax = plt.subplots()\n",
    "pol = ax.barh(m-width, sp_result[3], width, label=\"Polarity\")\n",
    "sub = ax.barh(m, ss_result[3], width, label=\"Subjectibity\")\n",
    "spe = ax.barh(m+width, sq_result[3], width, label=\"Spelling\")\n",
    "\n",
    "ax.set_title(\"Recall Micro\")\n",
    "ax.set_yticks(m)\n",
    "ax.set_yticklabels(models)\n",
    "ax.legend()\n",
    "\n",
    "fig.tight_layout()\n",
    "\n",
    "plt.show()"
   ]
  },
  {
   "cell_type": "code",
   "execution_count": 78,
   "metadata": {},
   "outputs": [
    {
     "data": {
      "image/png": "[encoded data removed]",
      "text/plain": [
       "<Figure size 432x288 with 1 Axes>"
      ]
     },
     "metadata": {
      "needs_background": "light"
     },
     "output_type": "display_data"
    }
   ],
   "source": [
    "m = np.arange(len(models))\n",
    "width = 0.3\n",
    "\n",
    "fig, ax = plt.subplots()\n",
    "pol = ax.barh(m-width, sp_result[4], width, label=\"Polarity\")\n",
    "sub = ax.barh(m, ss_result[4], width, label=\"Subjectibity\")\n",
    "spe = ax.barh(m+width, sq_result[4], width, label=\"Spelling\")\n",
    "\n",
    "ax.set_title(\"Recall Macro\")\n",
    "ax.set_yticks(m)\n",
    "ax.set_yticklabels(models)\n",
    "ax.legend()\n",
    "\n",
    "fig.tight_layout()\n",
    "\n",
    "plt.show()"
   ]
  },
  {
   "cell_type": "code",
   "execution_count": 79,
   "metadata": {},
   "outputs": [
    {
     "data": {
      "image/png": "[encoded data removed]",
      "text/plain": [
       "<Figure size 432x288 with 1 Axes>"
      ]
     },
     "metadata": {
      "needs_background": "light"
     },
     "output_type": "display_data"
    }
   ],
   "source": [
    "m = np.arange(len(models))\n",
    "width = 0.3\n",
    "\n",
    "fig, ax = plt.subplots()\n",
    "pol = ax.barh(m-width, sp_result[5], width, label=\"Polarity\")\n",
    "sub = ax.barh(m, ss_result[5], width, label=\"Subjectibity\")\n",
    "spe = ax.barh(m+width, sq_result[5], width, label=\"Spelling\")\n",
    "\n",
    "ax.set_title(\"F1 Micro\")\n",
    "ax.set_yticks(m)\n",
    "ax.set_yticklabels(models)\n",
    "ax.legend()\n",
    "\n",
    "fig.tight_layout()\n",
    "\n",
    "plt.show()"
   ]
  },
  {
   "cell_type": "code",
   "execution_count": 80,
   "metadata": {},
   "outputs": [
    {
     "data": {
      "image/png": "[encoded data removed]",
      "text/plain": [
       "<Figure size 432x288 with 1 Axes>"
      ]
     },
     "metadata": {
      "needs_background": "light"
     },
     "output_type": "display_data"
    }
   ],
   "source": [
    "m = np.arange(len(models))\n",
    "width = 0.3\n",
    "\n",
    "fig, ax = plt.subplots()\n",
    "pol = ax.barh(m-width, sp_result[6], width, label=\"Polarity\")\n",
    "sub = ax.barh(m, ss_result[6], width, label=\"Subjectibity\")\n",
    "spe = ax.barh(m+width, sq_result[6], width, label=\"Spelling\")\n",
    "\n",
    "ax.set_title(\"F1 Macro\")\n",
    "ax.set_yticks(m)\n",
    "ax.set_yticklabels(models)\n",
    "ax.legend()\n",
    "\n",
    "fig.tight_layout()\n",
    "\n",
    "plt.show()"
   ]
  },
  {
   "cell_type": "markdown",
   "metadata": {},
   "source": [
    "## Clasificación de Rating según Reviews"
   ]
  },
  {
   "cell_type": "code",
   "execution_count": 147,
   "metadata": {},
   "outputs": [],
   "source": [
    "X2 = App_Review3[[\"sentiment_polarity_score\",\"ease_of_reading_score\",\"sentiment_subjectivity_score\",\n",
    "       \"spelling_quality_score\",\"textData1\",\"textData2\", \"Rating_Q\"]]\n",
    "\n",
    "X2 = X2[X2.spelling_quality_score >= 0.8]\n",
    "\n",
    "label_r = np.ravel(X2[\"Rating_Q\"])\n",
    "\n",
    "del X2[\"Rating_Q\"]"
   ]
  },
  {
   "cell_type": "code",
   "execution_count": 141,
   "metadata": {},
   "outputs": [
    {
     "data": {
      "image/png": "[encoded data removed]",
      "text/plain": [
       "<Figure size 432x288 with 1 Axes>"
      ]
     },
     "metadata": {
      "needs_background": "light"
     },
     "output_type": "display_data"
    }
   ],
   "source": [
    "plt.scatter(range(len(X2)), X2.spelling_quality_score, label=\"sq\")\n",
    "plt.scatter(range(len(X2)), X2.sentiment_polarity_score, label=\"sp\")\n",
    "plt.legend()\n",
    "plt.show()"
   ]
  },
  {
   "cell_type": "code",
   "execution_count": 140,
   "metadata": {},
   "outputs": [
    {
     "data": {
      "image/png": "[encoded data removed]",
      "text/plain": [
       "<Figure size 432x288 with 1 Axes>"
      ]
     },
     "metadata": {
      "needs_background": "light"
     },
     "output_type": "display_data"
    }
   ],
   "source": [
    "plt.scatter(range(len(X2)), X2.ease_of_reading_score, label=\"er\")\n",
    "plt.scatter(range(len(X2)), X2.sentiment_subjectivity_score, label=\"ss\")\n",
    "plt.legend()\n",
    "plt.show()"
   ]
  },
  {
   "cell_type": "code",
   "execution_count": 148,
   "metadata": {},
   "outputs": [],
   "source": [
    "X2.ease_of_reading_score = reEscale(np.array(X2.ease_of_reading_score), 0, 1)\n",
    "X2.sentiment_subjectivity_score = reEscale(np.array(X2.sentiment_subjectivity_score), 0, 1)\n",
    "X2.sentiment_polarity_score = reEscale(np.array(X2.sentiment_polarity_score), 0, 1)\n",
    "X2.spelling_quality_score = reEscale(np.array(X2.spelling_quality_score), 0, 1)"
   ]
  },
  {
   "cell_type": "code",
   "execution_count": 144,
   "metadata": {},
   "outputs": [],
   "source": [
    "text_result = np.zeros([7, 4])"
   ]
  },
  {
   "cell_type": "markdown",
   "metadata": {},
   "source": [
    "### Árbol de Decisión"
   ]
  },
  {
   "cell_type": "code",
   "execution_count": 149,
   "metadata": {},
   "outputs": [],
   "source": [
    "crossVal2(X2, label_r, DecisionTreeClassifier(), 5, text_result, 0)"
   ]
  },
  {
   "cell_type": "markdown",
   "metadata": {},
   "source": [
    "### KNN"
   ]
  },
  {
   "cell_type": "code",
   "execution_count": 150,
   "metadata": {},
   "outputs": [],
   "source": [
    "crossVal2(X2, label_r, KNeighborsClassifier(n_neighbors=10), 5, text_result, 1)"
   ]
  },
  {
   "cell_type": "markdown",
   "metadata": {},
   "source": [
    "### Naive Bayes"
   ]
  },
  {
   "cell_type": "code",
   "execution_count": 151,
   "metadata": {},
   "outputs": [],
   "source": [
    "crossVal2(X2, label_r, GaussianNB(), 5, text_result, 2)"
   ]
  },
  {
   "cell_type": "markdown",
   "metadata": {},
   "source": [
    "### Support Vector Machine"
   ]
  },
  {
   "cell_type": "code",
   "execution_count": 152,
   "metadata": {},
   "outputs": [],
   "source": [
    "crossVal2(X2, label_r, SVC(), 5, text_result, 3)"
   ]
  },
  {
   "cell_type": "markdown",
   "metadata": {},
   "source": [
    "### Resultados"
   ]
  },
  {
   "cell_type": "code",
   "execution_count": 153,
   "metadata": {},
   "outputs": [
    {
     "data": {
      "image/png": "[encoded data removed]",
      "text/plain": [
       "<Figure size 432x288 with 1 Axes>"
      ]
     },
     "metadata": {
      "needs_background": "light"
     },
     "output_type": "display_data"
    }
   ],
   "source": [
    "plt.barh(models, text_result[0])\n",
    "plt.title(\"Accuracy\")\n",
    "plt.show()"
   ]
  },
  {
   "cell_type": "code",
   "execution_count": 154,
   "metadata": {},
   "outputs": [
    {
     "data": {
      "image/png": "[encoded data removed]",
      "text/plain": [
       "<Figure size 432x288 with 1 Axes>"
      ]
     },
     "metadata": {
      "needs_background": "light"
     },
     "output_type": "display_data"
    }
   ],
   "source": [
    "plt.barh(models, text_result[1])\n",
    "plt.title(\"Precision Micro\")\n",
    "plt.show()"
   ]
  },
  {
   "cell_type": "code",
   "execution_count": 155,
   "metadata": {},
   "outputs": [
    {
     "data": {
      "image/png": "[encoded data removed]",
      "text/plain": [
       "<Figure size 432x288 with 1 Axes>"
      ]
     },
     "metadata": {
      "needs_background": "light"
     },
     "output_type": "display_data"
    }
   ],
   "source": [
    "plt.barh(models, text_result[2])\n",
    "plt.title(\"Precision Macro\")\n",
    "plt.show()"
   ]
  },
  {
   "cell_type": "code",
   "execution_count": 156,
   "metadata": {},
   "outputs": [
    {
     "data": {
      "image/png": "[encoded data removed]",
      "text/plain": [
       "<Figure size 432x288 with 1 Axes>"
      ]
     },
     "metadata": {
      "needs_background": "light"
     },
     "output_type": "display_data"
    }
   ],
   "source": [
    "plt.barh(models, text_result[3])\n",
    "plt.title(\"Recall Micro\")\n",
    "plt.show()"
   ]
  },
  {
   "cell_type": "code",
   "execution_count": 157,
   "metadata": {},
   "outputs": [
    {
     "data": {
      "image/png": "[encoded data removed]",
      "text/plain": [
       "<Figure size 432x288 with 1 Axes>"
      ]
     },
     "metadata": {
      "needs_background": "light"
     },
     "output_type": "display_data"
    }
   ],
   "source": [
    "plt.barh(models, text_result[4])\n",
    "plt.title(\"Recall Macro\")\n",
    "plt.show()"
   ]
  },
  {
   "cell_type": "code",
   "execution_count": 158,
   "metadata": {},
   "outputs": [
    {
     "data": {
      "image/png": "[encoded data removed]",
      "text/plain": [
       "<Figure size 432x288 with 1 Axes>"
      ]
     },
     "metadata": {
      "needs_background": "light"
     },
     "output_type": "display_data"
    }
   ],
   "source": [
    "plt.barh(models, text_result[5])\n",
    "plt.title(\"F1 Micro\")\n",
    "plt.show()"
   ]
  },
  {
   "cell_type": "code",
   "execution_count": 159,
   "metadata": {},
   "outputs": [
    {
     "data": {
      "image/png": "[encoded data removed]",
      "text/plain": [
       "<Figure size 432x288 with 1 Axes>"
      ]
     },
     "metadata": {
      "needs_background": "light"
     },
     "output_type": "display_data"
    }
   ],
   "source": [
    "plt.barh(models, text_result[6])\n",
    "plt.title(\"F1 Macro\")\n",
    "plt.show()"
   ]
  },
  {
   "cell_type": "markdown",
   "metadata": {},
   "source": [
    "## Clasificación según cruce de Apps y Reviews"
   ]
  },
  {
   "cell_type": "code",
   "execution_count": 269,
   "metadata": {},
   "outputs": [],
   "source": [
    "App_Review3 = App_Review3.dropna(how='any')\n",
    "#App_Review3 = App_Review3[App_Review3.Rating >= 3.3]\n",
    "App_Review3 = App_Review3[App_Review3.Reviews < 1500000]\n",
    "App_Review3 = App_Review3[App_Review3.Installs < 50000000]"
   ]
  },
  {
   "cell_type": "code",
   "execution_count": 270,
   "metadata": {},
   "outputs": [
    {
     "data": {
      "image/png": "[encoded data removed]",
      "text/plain": [
       "<Figure size 432x288 with 1 Axes>"
      ]
     },
     "metadata": {
      "needs_background": "light"
     },
     "output_type": "display_data"
    }
   ],
   "source": [
    "plt.scatter(range(len(App_Review3)), App_Review3.Size)\n",
    "plt.show()"
   ]
  },
  {
   "cell_type": "code",
   "execution_count": 271,
   "metadata": {},
   "outputs": [
    {
     "data": {
      "image/png": "[encoded data removed]",
      "text/plain": [
       "<Figure size 432x288 with 1 Axes>"
      ]
     },
     "metadata": {
      "needs_background": "light"
     },
     "output_type": "display_data"
    }
   ],
   "source": [
    "plt.scatter(range(len(App_Review3)), App_Review3.Reviews)\n",
    "plt.show()"
   ]
  },
  {
   "cell_type": "code",
   "execution_count": 272,
   "metadata": {},
   "outputs": [
    {
     "data": {
      "image/png": "[encoded data removed]",
      "text/plain": [
       "<Figure size 432x288 with 1 Axes>"
      ]
     },
     "metadata": {
      "needs_background": "light"
     },
     "output_type": "display_data"
    }
   ],
   "source": [
    "plt.scatter(range(len(App_Review3)), App_Review3.Installs)\n",
    "plt.show()"
   ]
  },
  {
   "cell_type": "code",
   "execution_count": 273,
   "metadata": {},
   "outputs": [
    {
     "data": {
      "image/png": "[encoded data removed]",
      "text/plain": [
       "<Figure size 432x288 with 1 Axes>"
      ]
     },
     "metadata": {
      "needs_background": "light"
     },
     "output_type": "display_data"
    }
   ],
   "source": [
    "kmx3 = KMeans(n_clusters=3).fit(App_Review3[[\"Installs\",\"Reviews\"]])\n",
    "\n",
    "plt.scatter(App_Review3.Reviews, App_Review3.Installs, c=kmx3.labels_)\n",
    "plt.show()"
   ]
  },
  {
   "cell_type": "code",
   "execution_count": 274,
   "metadata": {},
   "outputs": [],
   "source": [
    "App_Review3[\"cluster\"] = kmx3.labels_"
   ]
  },
  {
   "cell_type": "code",
   "execution_count": 275,
   "metadata": {},
   "outputs": [],
   "source": [
    "App_Review3[\"Reviews\"] = reEscale(np.array(App_Review3.Reviews), 0, 1)\n",
    "App_Review3[\"Size\"] = reEscale(np.array(App_Review3.Size), 0, 1)\n",
    "App_Review3.ease_of_reading_score = reEscale(np.array(App_Review3.ease_of_reading_score), 0, 1)\n",
    "App_Review3.sentiment_subjectivity_score = reEscale(np.array(App_Review3.sentiment_subjectivity_score), 0, 1)\n",
    "App_Review3.sentiment_polarity_score = reEscale(np.array(App_Review3.sentiment_polarity_score), 0, 1)\n",
    "App_Review3.spelling_quality_score = reEscale(np.array(App_Review3.spelling_quality_score), 0, 1)"
   ]
  },
  {
   "cell_type": "code",
   "execution_count": 276,
   "metadata": {},
   "outputs": [],
   "source": [
    "X3 = App_Review3[[\"sentiment_polarity_score\",\"ease_of_reading_score\",\"sentiment_subjectivity_score\",\n",
    "       \"spelling_quality_score\",\"textData1\",\"textData2\", \"cluster\", \"Reviews\", \"Type\", \"Size\"]]\n",
    "\n",
    "label_x = np.ravel(App_Review3[\"Rating_Q\"])\n",
    "\n",
    "x_result = np.zeros([7, 4])"
   ]
  },
  {
   "cell_type": "code",
   "execution_count": 277,
   "metadata": {},
   "outputs": [],
   "source": [
    "# Árbol de Decisión\n",
    "crossVal2(X3, label_x, DecisionTreeClassifier(), 5, x_result, 0)\n",
    "\n",
    "# KNN\n",
    "crossVal2(X3, label_x, KNeighborsClassifier(n_neighbors=10), 5, x_result, 1)\n",
    "\n",
    "# Naive Bayes\n",
    "crossVal2(X3, label_x, GaussianNB(), 5, x_result, 2)\n",
    "\n",
    "# Support Vector Machine\n",
    "crossVal2(X3, label_x, SVC(), 5, x_result, 3)"
   ]
  },
  {
   "cell_type": "markdown",
   "metadata": {},
   "source": [
    "### Resultados"
   ]
  },
  {
   "cell_type": "code",
   "execution_count": 278,
   "metadata": {},
   "outputs": [
    {
     "data": {
      "image/png": "[encoded data removed]",
      "text/plain": [
       "<Figure size 432x288 with 1 Axes>"
      ]
     },
     "metadata": {
      "needs_background": "light"
     },
     "output_type": "display_data"
    }
   ],
   "source": [
    "plt.barh(models, x_result[0])\n",
    "plt.title(\"Accuracy\")\n",
    "plt.show()"
   ]
  },
  {
   "cell_type": "code",
   "execution_count": 279,
   "metadata": {},
   "outputs": [
    {
     "data": {
      "image/png": "[encoded data removed]",
      "text/plain": [
       "<Figure size 432x288 with 1 Axes>"
      ]
     },
     "metadata": {
      "needs_background": "light"
     },
     "output_type": "display_data"
    }
   ],
   "source": [
    "m = np.arange(len(models))\n",
    "width = 0.3\n",
    "\n",
    "fig, ax = plt.subplots()\n",
    "pre = ax.barh(m-width, x_result[1], width, label=\"Precision\")\n",
    "rec = ax.barh(m, x_result[3], width, label=\"Recall\")\n",
    "f1 = ax.barh(m+width, x_result[5], width, label=\"F1\")\n",
    "\n",
    "ax.set_title(\"Micro\")\n",
    "ax.set_yticks(m)\n",
    "ax.set_yticklabels(models)\n",
    "ax.legend()\n",
    "\n",
    "fig.tight_layout()\n",
    "\n",
    "plt.show()"
   ]
  },
  {
   "cell_type": "code",
   "execution_count": 281,
   "metadata": {},
   "outputs": [
    {
     "data": {
      "image/png": "[encoded data removed]",
      "text/plain": [
       "<Figure size 432x288 with 1 Axes>"
      ]
     },
     "metadata": {
      "needs_background": "light"
     },
     "output_type": "display_data"
    }
   ],
   "source": [
    "m = np.arange(len(models))\n",
    "width = 0.3\n",
    "\n",
    "fig, ax = plt.subplots()\n",
    "pre = ax.barh(m-width, x_result[2], width, label=\"Precision\")\n",
    "rec = ax.barh(m, x_result[4], width, label=\"Recall\")\n",
    "f1 = ax.barh(m+width, x_result[6], width, label=\"F1\")\n",
    "\n",
    "ax.set_title(\"Macro\")\n",
    "ax.set_yticks(m)\n",
    "ax.set_yticklabels(models)\n",
    "ax.legend()\n",
    "\n",
    "fig.tight_layout()\n",
    "\n",
    "plt.show()"
   ]
  },
  {
   "cell_type": "markdown",
   "metadata": {},
   "source": [
    "## División según cluster"
   ]
  },
  {
   "cell_type": "code",
   "execution_count": 331,
   "metadata": {},
   "outputs": [
    {
     "data": {
      "image/png": "[encoded data removed]",
      "text/plain": [
       "<Figure size 432x288 with 1 Axes>"
      ]
     },
     "metadata": {
      "needs_background": "light"
     },
     "output_type": "display_data"
    }
   ],
   "source": [
    "Apps = Apps[Apps.Installs < 500000000]\n",
    "Apps = Apps.dropna(how='any')\n",
    "\n",
    "km = KMeans(n_clusters=5).fit(Apps[[\"Reviews\", \"Installs\"]])\n",
    "\n",
    "plt.scatter(Apps[\"Reviews\"], Apps[\"Installs\"], c=km.labels_)\n",
    "plt.xlabel(\"Reviews\")\n",
    "plt.show()"
   ]
  },
  {
   "cell_type": "code",
   "execution_count": 332,
   "metadata": {},
   "outputs": [],
   "source": [
    "Apps[\"Cluster\"] = km.labels_"
   ]
  },
  {
   "cell_type": "code",
   "execution_count": 333,
   "metadata": {},
   "outputs": [],
   "source": [
    "clus = dict()\n",
    "clus[0] = Apps[Apps.Cluster==0][[\"Reviews\", \"Size\", \"Type\", \"Content.Rating\", \"Rating\"]].copy()\n",
    "clus[1] = Apps[Apps.Cluster==1][[\"Reviews\", \"Size\", \"Type\", \"Content.Rating\", \"Rating\"]].copy()\n",
    "clus[2] = Apps[Apps.Cluster==2][[\"Reviews\", \"Size\", \"Type\", \"Content.Rating\", \"Rating\"]].copy()\n",
    "clus[3] = Apps[Apps.Cluster==3][[\"Reviews\", \"Size\", \"Type\", \"Content.Rating\", \"Rating\"]].copy()\n",
    "clus[4] = Apps[Apps.Cluster==4][[\"Reviews\", \"Size\", \"Type\", \"Content.Rating\", \"Rating\"]].copy()"
   ]
  },
  {
   "cell_type": "code",
   "execution_count": 334,
   "metadata": {},
   "outputs": [],
   "source": [
    "clus[0] = clus[0][clus[0].Reviews < 200000]\n",
    "clus[1] = clus[1][clus[1].Reviews <= 10000000]\n",
    "clus[2] = clus[2][clus[2].Reviews < 3500000]\n",
    "clus[3] = clus[3][clus[3].Reviews < 2000000]\n",
    "clus[4] = clus[4][clus[4].Reviews < 400000]\n",
    "\n",
    "clus[0] = clus[0][clus[0].Rating > 2.5]\n",
    "clus[1] = clus[1][clus[1].Rating >= 4]\n",
    "clus[2] = clus[2][clus[2].Rating >= 3.75]\n",
    "clus[3] = clus[3][clus[3].Rating >= 3.5]\n",
    "clus[4] = clus[4][clus[4].Rating >= 3.5]"
   ]
  },
  {
   "cell_type": "code",
   "execution_count": 324,
   "metadata": {},
   "outputs": [
    {
     "data": {
      "image/png": "[encoded data removed]",
      "text/plain": [
       "<Figure size 1296x576 with 6 Axes>"
      ]
     },
     "metadata": {
      "needs_background": "light"
     },
     "output_type": "display_data"
    }
   ],
   "source": [
    "fig, ((ax1, ax2, ax3), (ax4, ax5, ax6)) = plt.subplots(2, 3, figsize=(18,8))\n",
    "\n",
    "ax1.scatter(range(len(clus[0])), clus[0].Reviews)\n",
    "ax2.scatter(range(len(clus[1])), clus[1].Reviews)\n",
    "ax3.scatter(range(len(clus[2])), clus[2].Reviews)\n",
    "ax4.scatter(range(len(clus[3])), clus[3].Reviews)\n",
    "ax5.scatter(range(len(clus[4])), clus[4].Reviews)\n",
    "\n",
    "plt.show()"
   ]
  },
  {
   "cell_type": "code",
   "execution_count": 325,
   "metadata": {},
   "outputs": [
    {
     "data": {
      "image/png": "[encoded data removed]",
      "text/plain": [
       "<Figure size 1296x576 with 6 Axes>"
      ]
     },
     "metadata": {
      "needs_background": "light"
     },
     "output_type": "display_data"
    }
   ],
   "source": [
    "fig, ((ax1, ax2, ax3), (ax4, ax5, ax6)) = plt.subplots(2, 3, figsize=(18,8))\n",
    "\n",
    "ax1.scatter(range(len(clus[0])), clus[0].Size)\n",
    "ax2.scatter(range(len(clus[1])), clus[1].Size)\n",
    "ax3.scatter(range(len(clus[2])), clus[2].Size)\n",
    "ax4.scatter(range(len(clus[3])), clus[3].Size)\n",
    "ax5.scatter(range(len(clus[4])), clus[4].Size)\n",
    "\n",
    "plt.show()"
   ]
  },
  {
   "cell_type": "code",
   "execution_count": 326,
   "metadata": {},
   "outputs": [
    {
     "data": {
      "image/png": "[encoded data removed]",
      "text/plain": [
       "<Figure size 1296x576 with 6 Axes>"
      ]
     },
     "metadata": {
      "needs_background": "light"
     },
     "output_type": "display_data"
    }
   ],
   "source": [
    "fig, ((ax1, ax2, ax3), (ax4, ax5, ax6)) = plt.subplots(2, 3, figsize=(18,8))\n",
    "\n",
    "ax1.scatter(range(len(clus[0])), clus[0].Rating)\n",
    "ax2.scatter(range(len(clus[1])), clus[1].Rating)\n",
    "ax3.scatter(range(len(clus[2])), clus[2].Rating)\n",
    "ax4.scatter(range(len(clus[3])), clus[3].Rating)\n",
    "ax5.scatter(range(len(clus[4])), clus[4].Rating)\n",
    "\n",
    "plt.show()"
   ]
  },
  {
   "cell_type": "code",
   "execution_count": 335,
   "metadata": {},
   "outputs": [],
   "source": [
    "c_labels = dict()\n",
    "\n",
    "for i in range(5):\n",
    "    c_labels[i] = qLabeler(clus[i].Rating)\n",
    "    clus[i][\"Content.Rating\"] = contToNum(np.array(clus[i][\"Content.Rating\"]))\n",
    "    del clus[i][\"Rating\"]"
   ]
  },
  {
   "cell_type": "code",
   "execution_count": 328,
   "metadata": {},
   "outputs": [],
   "source": [
    "results_clus = np.zeros([7,4,5])"
   ]
  },
  {
   "cell_type": "code",
   "execution_count": 336,
   "metadata": {},
   "outputs": [],
   "source": [
    "# Árbol de Decisión\n",
    "for i in range(5):\n",
    "    crossVal(clus[i], c_labels[i], DecisionTreeClassifier(), 5, results_clus, i, 0)\n",
    "\n",
    "# K-Nearest Neighbors\n",
    "for i in range(5):\n",
    "    crossVal(clus[i], c_labels[i], KNeighborsClassifier(n_neighbors=10), 5, results_clus, i, 1) # k=10 es arbitrario\n",
    "\n",
    "# Naive Bayes\n",
    "for i in range(5):\n",
    "    crossVal(clus[i], c_labels[i], GaussianNB(), 5, results_clus, i, 2)\n",
    "\n",
    "# Support Vector Machine\n",
    "for i in range(5):\n",
    "    crossVal(clus[i], c_labels[i], SVC(), 5, results_clus, i, 3)"
   ]
  },
  {
   "cell_type": "code",
   "execution_count": 337,
   "metadata": {},
   "outputs": [
    {
     "data": {
      "image/png": "[encoded data removed]",
      "text/plain": [
       "<Figure size 432x288 with 1 Axes>"
      ]
     },
     "metadata": {
      "needs_background": "light"
     },
     "output_type": "display_data"
    }
   ],
   "source": [
    "plt.barh(models, list(map(mean, results_clus[0])))\n",
    "plt.title(\"Accuracy\")\n",
    "plt.show()"
   ]
  },
  {
   "cell_type": "code",
   "execution_count": 338,
   "metadata": {},
   "outputs": [
    {
     "data": {
      "image/png": "[encoded data removed]",
      "text/plain": [
       "<Figure size 432x288 with 1 Axes>"
      ]
     },
     "metadata": {
      "needs_background": "light"
     },
     "output_type": "display_data"
    }
   ],
   "source": [
    "m = np.arange(len(models))\n",
    "width = 0.3\n",
    "\n",
    "fig, ax = plt.subplots()\n",
    "pre = ax.barh(m-width, list(map(mean, results_clus[1])), width, label=\"Precision\")\n",
    "rec = ax.barh(m, list(map(mean, results_clus[3])), width, label=\"Recall\")\n",
    "f1 = ax.barh(m+width, list(map(mean, results_clus[5])), width, label=\"F1\")\n",
    "\n",
    "ax.set_title(\"Micro\")\n",
    "ax.set_yticks(m)\n",
    "ax.set_yticklabels(models)\n",
    "ax.legend()\n",
    "\n",
    "fig.tight_layout()\n",
    "\n",
    "plt.show()"
   ]
  },
  {
   "cell_type": "code",
   "execution_count": 339,
   "metadata": {},
   "outputs": [
    {
     "data": {
      "image/png": "[encoded data removed]",
      "text/plain": [
       "<Figure size 432x288 with 1 Axes>"
      ]
     },
     "metadata": {
      "needs_background": "light"
     },
     "output_type": "display_data"
    }
   ],
   "source": [
    "m = np.arange(len(models))\n",
    "width = 0.3\n",
    "\n",
    "fig, ax = plt.subplots()\n",
    "pre = ax.barh(m-width, list(map(mean, results_clus[2])), width, label=\"Precision\")\n",
    "rec = ax.barh(m, list(map(mean, results_clus[4])), width, label=\"Recall\")\n",
    "f1 = ax.barh(m+width, list(map(mean, results_clus[6])), width, label=\"F1\")\n",
    "\n",
    "ax.set_title(\"Macro\")\n",
    "ax.set_yticks(m)\n",
    "ax.set_yticklabels(models)\n",
    "ax.legend()\n",
    "\n",
    "fig.tight_layout()\n",
    "\n",
    "plt.show()"
   ]
  }
 ],
 "metadata": {
  "kernelspec": {
   "display_name": "Python 3",
   "language": "python",
   "name": "python3"
  },
  "language_info": {
   "codemirror_mode": {
    "name": "ipython",
    "version": 3
   },
   "file_extension": ".py",
   "mimetype": "text/x-python",
   "name": "python",
   "nbconvert_exporter": "python",
   "pygments_lexer": "ipython3",
   "version": "3.7.1"
  }
 },
 "nbformat": 4,
 "nbformat_minor": 4
}

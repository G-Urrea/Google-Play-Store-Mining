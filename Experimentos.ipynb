{
 "cells": [
  {
   "cell_type": "markdown",
   "metadata": {},
   "source": [
    "# Proyecto Minería de Datos"
   ]
  },
  {
   "cell_type": "code",
   "execution_count": 1,
   "metadata": {},
   "outputs": [],
   "source": [
    "import sys\n",
    "sys.path.append(\"C:/Users/faria/PycharmProjects/pythonProject/venv/Lib/site-packages\")\n",
    "\n",
    "import pandas as pd\n",
    "import numpy as np\n",
    "import matplotlib.pyplot as plt"
   ]
  },
  {
   "cell_type": "markdown",
   "metadata": {},
   "source": [
    "## Clasificación"
   ]
  },
  {
   "cell_type": "code",
   "execution_count": 2,
   "metadata": {},
   "outputs": [],
   "source": [
    "from sklearn.metrics import confusion_matrix\n",
    "from sklearn.metrics import mean_squared_error\n",
    "from sklearn.tree import DecisionTreeClassifier\n",
    "from sklearn.neighbors import KNeighborsClassifier\n",
    "from sklearn.model_selection import train_test_split\n",
    "from sklearn.model_selection import cross_val_score\n",
    "from sklearn.naive_bayes import GaussianNB\n",
    "from sklearn.svm import SVC"
   ]
  },
  {
   "cell_type": "code",
   "execution_count": 3,
   "metadata": {},
   "outputs": [],
   "source": [
    "family = pd.read_csv(\"C:/Users/faria/OneDrive/Documentos/Tareas/GitHub/Google-Play-Store-Mining/dataset_modificado/family.csv\")\n",
    "commun = pd.read_csv(\"C:/Users/faria/OneDrive/Documentos/Tareas/GitHub/Google-Play-Store-Mining/dataset_modificado/communication.csv\")\n",
    "games = pd.read_csv(\"C:/Users/faria/OneDrive/Documentos/Tareas/GitHub/Google-Play-Store-Mining/dataset_modificado/games.csv\")\n",
    "magazi = pd.read_csv(\"C:/Users/faria/OneDrive/Documentos/Tareas/GitHub/Google-Play-Store-Mining/dataset_modificado/magazines.csv\")\n",
    "photo = pd.read_csv(\"C:/Users/faria/OneDrive/Documentos/Tareas/GitHub/Google-Play-Store-Mining/dataset_modificado/photo.csv\")\n",
    "produc = pd.read_csv(\"C:/Users/faria/OneDrive/Documentos/Tareas/GitHub/Google-Play-Store-Mining/dataset_modificado/productivity.csv\")\n",
    "social = pd.read_csv(\"C:/Users/faria/OneDrive/Documentos/Tareas/GitHub/Google-Play-Store-Mining/dataset_modificado/social.csv\")\n",
    "tools = pd.read_csv(\"C:/Users/faria/OneDrive/Documentos/Tareas/GitHub/Google-Play-Store-Mining/dataset_modificado/tools.csv\")\n",
    "video = pd.read_csv(\"C:/Users/faria/OneDrive/Documentos/Tareas/GitHub/Google-Play-Store-Mining/dataset_modificado/video.csv\")\n",
    "travel = pd.read_csv(\"C:/Users/faria/OneDrive/Documentos/Tareas/GitHub/Google-Play-Store-Mining/dataset_modificado/travel.csv\")"
   ]
  },
  {
   "cell_type": "code",
   "execution_count": 4,
   "metadata": {},
   "outputs": [],
   "source": [
    "cat_dt = [family, commun, games, magazi, photo, produc, social, tools, video, travel]"
   ]
  },
  {
   "cell_type": "code",
   "execution_count": 5,
   "metadata": {},
   "outputs": [],
   "source": [
    "from sklearn.metrics import precision_score\n",
    "\n",
    "def precision0micro(model, X, y):\n",
    "    y_pred = model.predict(X)\n",
    "    return precision_score(y, y_pred, zero_division=0, average='micro')\n",
    "\n",
    "def precision0macro(model, X, y):\n",
    "    y_pred = model.predict(X)\n",
    "    return precision_score(y, y_pred, zero_division=0, average='macro')\n",
    "\n",
    "def mean(a):\n",
    "    n = len(a)\n",
    "    t = sum(a)\n",
    "    return t/n\n",
    "\n",
    "def crossVal(X, y, model, k):\n",
    "    print(\"Exactitud: \", mean(cross_val_score(model, X, y, cv=k, scoring=\"accuracy\")))\n",
    "    print(\"Precisión (micro): \", mean(cross_val_score(model, X, y, cv=k, scoring=precision0micro)))\n",
    "    print(\"Precisión (macro): \", mean(cross_val_score(model, X, y, cv=k, scoring=precision0macro)))\n",
    "    print(\"Recall (micro): \", mean(cross_val_score(model, X, y, cv=k, scoring=\"recall_micro\")))\n",
    "    print(\"Recall (macro): \", mean(cross_val_score(model, X, y, cv=k, scoring=\"recall_macro\")))\n",
    "    print(\"F1 (micro): \", mean(cross_val_score(model, X, y, cv=k, scoring=\"f1_micro\")))\n",
    "    print(\"F1 (macro): \", mean(cross_val_score(model, X, y, cv=k, scoring=\"f1_macro\")))"
   ]
  },
  {
   "cell_type": "markdown",
   "metadata": {},
   "source": [
    "### Descargas"
   ]
  },
  {
   "cell_type": "code",
   "execution_count": 27,
   "metadata": {},
   "outputs": [],
   "source": [
    "cat_dt_d = []\n",
    "label_cat_d = []\n",
    "label_cat_d2 = []\n",
    "for dt in cat_dt:\n",
    "    cat_dt_d.append(dt[[\"Rating\", \"Reviews\", \"Size\", \"Type\", \"Content.Rating\"]])\n",
    "    label_cat_d2.append(dt[[\"Installs\"]])\n",
    "    label_cat_d.append(dt[[\"Installs_Q\"]])"
   ]
  },
  {
   "cell_type": "markdown",
   "metadata": {},
   "source": [
    "#### Árbol de Decisión"
   ]
  },
  {
   "cell_type": "code",
   "execution_count": 28,
   "metadata": {},
   "outputs": [
    {
     "name": "stdout",
     "output_type": "stream",
     "text": [
      "Categoría 0 ----------------------\n",
      "Exactitud:  0.7516549435965495\n",
      "Precisión (micro):  0.7531094890510949\n",
      "Precisión (macro):  0.747091586194842\n",
      "Recall (micro):  0.747291307232913\n",
      "Recall (macro):  0.7444926777179199\n",
      "F1 (micro):  0.7450988719309886\n",
      "F1 (macro):  0.7400750955691873\n",
      "Categoría 1 ----------------------\n",
      "Exactitud:  0.7677177177177177\n",
      "Precisión (micro):  0.7678678678678679\n",
      "Precisión (macro):  0.6684731855262042\n",
      "Recall (micro):  0.7839339339339338\n",
      "Recall (macro):  0.7162698412698413\n",
      "F1 (micro):  0.7786786786786786\n",
      "F1 (macro):  0.6732424077285757\n",
      "Categoría 2 ----------------------\n",
      "Exactitud:  0.757137674587339\n",
      "Precisión (micro):  0.7571376745873389\n",
      "Precisión (macro):  0.7430033321167897\n",
      "Recall (micro):  0.7665880645746418\n",
      "Recall (macro):  0.7213935757137728\n",
      "F1 (micro):  0.7490567748957011\n",
      "F1 (macro):  0.7326975836815619\n",
      "Categoría 3 ----------------------\n",
      "Exactitud:  0.7071428571428572\n",
      "Precisión (micro):  0.7214285714285713\n",
      "Precisión (macro):  0.6171230158730159\n",
      "Recall (micro):  0.6857142857142857\n",
      "Recall (macro):  0.6252164502164501\n",
      "F1 (micro):  0.7\n",
      "F1 (macro):  0.6084428071928072\n",
      "Categoría 4 ----------------------\n",
      "Exactitud:  0.759047619047619\n",
      "Precisión (micro):  0.799047619047619\n",
      "Precisión (macro):  0.8108333333333333\n",
      "Recall (micro):  0.759047619047619\n",
      "Recall (macro):  0.8216666666666665\n",
      "F1 (micro):  0.7723809523809525\n",
      "F1 (macro):  0.763968253968254\n",
      "Categoría 5 ----------------------\n",
      "Exactitud:  0.7534883720930232\n",
      "Precisión (micro):  0.7395348837209302\n",
      "Precisión (macro):  0.725498725131078\n",
      "Recall (micro):  0.7627906976744186\n",
      "Recall (macro):  0.7357449494949495\n",
      "F1 (micro):  0.7534883720930232\n",
      "F1 (macro):  0.6940630526338698\n",
      "Categoría 6 ----------------------\n",
      "Exactitud:  0.8087301587301587\n",
      "Precisión (micro):  0.7865079365079365\n",
      "Precisión (macro):  0.7820039682539683\n",
      "Recall (micro):  0.7865079365079366\n",
      "Recall (macro):  0.7949404761904763\n",
      "F1 (micro):  0.7791005291005291\n",
      "F1 (macro):  0.7822247270273586\n",
      "Categoría 7 ----------------------\n",
      "Exactitud:  0.7886178861788619\n",
      "Precisión (micro):  0.7853658536585366\n",
      "Precisión (macro):  0.7898065868522847\n",
      "Recall (micro):  0.791869918699187\n",
      "Recall (macro):  0.8009370361971782\n",
      "F1 (micro):  0.7804878048780488\n",
      "F1 (macro):  0.775509057212145\n",
      "Categoría 8 ----------------------\n",
      "Exactitud:  0.6752380952380953\n",
      "Precisión (micro):  0.6652380952380954\n",
      "Precisión (macro):  0.6759848484848485\n",
      "Recall (micro):  0.6257142857142857\n",
      "Recall (macro):  0.6197222222222222\n",
      "F1 (micro):  0.6552380952380952\n",
      "F1 (macro):  0.6252677877677877\n",
      "Categoría 9 ----------------------\n",
      "Exactitud:  0.672923076923077\n",
      "Precisión (micro):  0.6415384615384616\n",
      "Precisión (macro):  0.7003896103896103\n",
      "Recall (micro):  0.6492307692307693\n",
      "Recall (macro):  0.6757142857142857\n",
      "F1 (micro):  0.6723076923076923\n",
      "F1 (macro):  0.6457887142097668\n"
     ]
    }
   ],
   "source": [
    "for i in range(10):\n",
    "    print(\"Categoría\", i, \"----------------------\")\n",
    "    crossVal(cat_dt_d[i], label_cat_d[i], DecisionTreeClassifier(), 5)"
   ]
  },
  {
   "cell_type": "markdown",
   "metadata": {},
   "source": [
    "#### KNN"
   ]
  },
  {
   "cell_type": "code",
   "execution_count": 18,
   "metadata": {},
   "outputs": [
    {
     "name": "stdout",
     "output_type": "stream",
     "text": [
      "Categoría 0 ----------------------\n",
      "Exactitud:  0.7450537491705375\n",
      "Precisión (micro):  0.7450537491705375\n",
      "Precisión (macro):  0.7404599545414899\n",
      "Recall (micro):  0.7450537491705375\n",
      "Recall (macro):  0.7370325683885035\n",
      "F1 (micro):  0.7450537491705373\n",
      "F1 (macro):  0.73542529054517\n",
      "Categoría 1 ----------------------\n",
      "Exactitud:  0.8177177177177178\n",
      "Precisión (micro):  0.8177177177177178\n",
      "Precisión (macro):  0.8131782392444157\n",
      "Recall (micro):  0.8177177177177178\n",
      "Recall (macro):  0.7553174603174602\n",
      "F1 (micro):  0.8177177177177178\n",
      "F1 (macro):  0.753317566217131\n",
      "Categoría 2 ----------------------\n",
      "Exactitud:  0.7773625974968257\n",
      "Precisión (micro):  0.7773625974968257\n",
      "Precisión (macro):  0.7634797837886091\n",
      "Recall (micro):  0.7773625974968257\n",
      "Recall (macro):  0.7593922218552761\n",
      "F1 (micro):  0.7773625974968257\n",
      "F1 (macro):  0.7585336110557404\n",
      "Categoría 3 ----------------------\n",
      "Exactitud:  0.8142857142857143\n",
      "Precisión (micro):  0.8142857142857143\n",
      "Precisión (macro):  0.6804527417027417\n",
      "Recall (micro):  0.8142857142857143\n",
      "Recall (macro):  0.7168831168831169\n",
      "F1 (micro):  0.8142857142857143\n",
      "F1 (macro):  0.6903467105612414\n",
      "Categoría 4 ----------------------\n",
      "Exactitud:  0.7028571428571428\n",
      "Precisión (micro):  0.7028571428571428\n",
      "Precisión (macro):  0.7249999999999999\n",
      "Recall (micro):  0.7028571428571428\n",
      "Recall (macro):  0.7133333333333333\n",
      "F1 (micro):  0.702857142857143\n",
      "F1 (macro):  0.6976190476190476\n",
      "Categoría 5 ----------------------\n",
      "Exactitud:  0.7906976744186046\n",
      "Precisión (micro):  0.7906976744186046\n",
      "Precisión (macro):  0.774358031674208\n",
      "Recall (micro):  0.7906976744186046\n",
      "Recall (macro):  0.7682070707070707\n",
      "F1 (micro):  0.7906976744186046\n",
      "F1 (macro):  0.7640620126795723\n",
      "Categoría 6 ----------------------\n",
      "Exactitud:  0.7425925925925926\n",
      "Precisión (micro):  0.7425925925925926\n",
      "Precisión (macro):  0.7697420634920636\n",
      "Recall (micro):  0.7425925925925926\n",
      "Recall (macro):  0.7419642857142856\n",
      "F1 (micro):  0.7425925925925926\n",
      "F1 (macro):  0.7411069486069486\n",
      "Categoría 7 ----------------------\n",
      "Exactitud:  0.7853658536585366\n",
      "Precisión (micro):  0.7853658536585366\n",
      "Precisión (macro):  0.7836183798494073\n",
      "Recall (micro):  0.7853658536585366\n",
      "Recall (macro):  0.7739589673707321\n",
      "F1 (micro):  0.7853658536585366\n",
      "F1 (macro):  0.7761477429478941\n",
      "Categoría 8 ----------------------\n",
      "Exactitud:  0.7542857142857142\n",
      "Precisión (micro):  0.7542857142857142\n",
      "Precisión (macro):  0.7508333333333334\n",
      "Recall (micro):  0.7542857142857142\n",
      "Recall (macro):  0.7441666666666666\n",
      "F1 (micro):  0.7542857142857142\n",
      "F1 (macro):  0.7105057932263815\n",
      "Categoría 9 ----------------------\n",
      "Exactitud:  0.7101538461538461\n",
      "Precisión (micro):  0.7101538461538461\n",
      "Precisión (macro):  0.7365313852813854\n",
      "Recall (micro):  0.7101538461538461\n",
      "Recall (macro):  0.6945833333333333\n",
      "F1 (micro):  0.7101538461538461\n",
      "F1 (macro):  0.6873254596280912\n"
     ]
    }
   ],
   "source": [
    "for i in range(10):\n",
    "    print(\"Categoría\", i, \"----------------------\")\n",
    "    crossVal(cat_dt_d[i], np.ravel(label_cat_d[i]), KNeighborsClassifier(n_neighbors=10), 5) # k=10 es arbitrario"
   ]
  },
  {
   "cell_type": "markdown",
   "metadata": {},
   "source": [
    "#### Naive Bayes"
   ]
  },
  {
   "cell_type": "code",
   "execution_count": 19,
   "metadata": {},
   "outputs": [
    {
     "name": "stdout",
     "output_type": "stream",
     "text": [
      "Categoría 0 ----------------------\n",
      "Exactitud:  0.6190948905109488\n",
      "Precisión (micro):  0.6190948905109488\n",
      "Precisión (macro):  0.6301542768060091\n",
      "Recall (micro):  0.6190948905109488\n",
      "Recall (macro):  0.624154090124063\n",
      "F1 (micro):  0.6190948905109488\n",
      "F1 (macro):  0.6091471993790167\n",
      "Categoría 1 ----------------------\n",
      "Exactitud:  0.8123123123123124\n",
      "Precisión (micro):  0.8123123123123124\n",
      "Precisión (macro):  0.7782980499892265\n",
      "Recall (micro):  0.8123123123123124\n",
      "Recall (macro):  0.7721428571428571\n",
      "F1 (micro):  0.8123123123123124\n",
      "F1 (macro):  0.7552342559139692\n",
      "Categoría 2 ----------------------\n",
      "Exactitud:  0.6829131144567386\n",
      "Precisión (micro):  0.6829131144567386\n",
      "Precisión (macro):  0.6725156784572919\n",
      "Recall (micro):  0.6829131144567386\n",
      "Recall (macro):  0.6689963015283213\n",
      "F1 (micro):  0.6829131144567386\n",
      "F1 (macro):  0.6591051202786151\n",
      "Categoría 3 ----------------------\n",
      "Exactitud:  0.6714285714285715\n",
      "Precisión (micro):  0.6714285714285715\n",
      "Precisión (macro):  0.6444246031746032\n",
      "Recall (micro):  0.6714285714285715\n",
      "Recall (macro):  0.6541666666666667\n",
      "F1 (micro):  0.6714285714285715\n",
      "F1 (macro):  0.6189787712287712\n",
      "Categoría 4 ----------------------\n",
      "Exactitud:  0.48857142857142855\n",
      "Precisión (micro):  0.48857142857142855\n",
      "Precisión (macro):  0.4978571428571428\n",
      "Recall (micro):  0.48857142857142855\n",
      "Recall (macro):  0.4925\n",
      "F1 (micro):  0.4885714285714286\n",
      "F1 (macro):  0.45213536463536463\n",
      "Categoría 5 ----------------------\n",
      "Exactitud:  0.6697674418604651\n",
      "Precisión (micro):  0.6697674418604651\n",
      "Precisión (macro):  0.713300951499481\n",
      "Recall (micro):  0.6697674418604651\n",
      "Recall (macro):  0.6849684343434344\n",
      "F1 (micro):  0.6697674418604651\n",
      "F1 (macro):  0.6546806499364044\n",
      "Categoría 6 ----------------------\n",
      "Exactitud:  0.5666666666666667\n",
      "Precisión (micro):  0.5666666666666667\n",
      "Precisión (macro):  0.5789826839826839\n",
      "Recall (micro):  0.5666666666666667\n",
      "Recall (macro):  0.5738095238095238\n",
      "F1 (micro):  0.5666666666666667\n",
      "F1 (macro):  0.5464367508136857\n",
      "Categoría 7 ----------------------\n",
      "Exactitud:  0.6439024390243903\n",
      "Precisión (micro):  0.6439024390243903\n",
      "Precisión (macro):  0.6558600895288578\n",
      "Recall (micro):  0.6439024390243903\n",
      "Recall (macro):  0.6556486323920401\n",
      "F1 (micro):  0.6439024390243903\n",
      "F1 (macro):  0.636430753745639\n",
      "Categoría 8 ----------------------\n",
      "Exactitud:  0.7342857142857142\n",
      "Precisión (micro):  0.7342857142857142\n",
      "Precisión (macro):  0.7052380952380951\n",
      "Recall (micro):  0.7342857142857142\n",
      "Recall (macro):  0.7305555555555555\n",
      "F1 (micro):  0.7342857142857142\n",
      "F1 (macro):  0.6825342712842714\n",
      "Categoría 9 ----------------------\n",
      "Exactitud:  0.664\n",
      "Precisión (micro):  0.664\n",
      "Precisión (macro):  0.6852489177489178\n",
      "Recall (micro):  0.664\n",
      "Recall (macro):  0.6481349206349206\n",
      "F1 (micro):  0.664\n",
      "F1 (macro):  0.6361366248130953\n"
     ]
    }
   ],
   "source": [
    "for i in range(10):\n",
    "    print(\"Categoría\", i, \"----------------------\")\n",
    "    crossVal(cat_dt_d[i], np.ravel(label_cat_d[i]), GaussianNB(), 5)"
   ]
  },
  {
   "cell_type": "markdown",
   "metadata": {},
   "source": [
    "#### Support Vector Machine"
   ]
  },
  {
   "cell_type": "code",
   "execution_count": 20,
   "metadata": {},
   "outputs": [
    {
     "name": "stdout",
     "output_type": "stream",
     "text": [
      "Categoría 0 ----------------------\n",
      "Exactitud:  0.46103782349037825\n",
      "Precisión (micro):  0.46103782349037825\n",
      "Precisión (macro):  0.29875249050454183\n",
      "Recall (micro):  0.46103782349037825\n",
      "Recall (macro):  0.43311439518336065\n",
      "F1 (micro):  0.46103782349037825\n",
      "F1 (macro):  0.321554024798872\n",
      "Categoría 1 ----------------------\n",
      "Exactitud:  0.5309309309309309\n",
      "Precisión (micro):  0.5309309309309309\n",
      "Precisión (macro):  0.34080851943755175\n",
      "Recall (micro):  0.5309309309309309\n",
      "Recall (macro):  0.4123809523809524\n",
      "F1 (micro):  0.5309309309309309\n",
      "F1 (macro):  0.32769089749721025\n",
      "Categoría 2 ----------------------\n",
      "Exactitud:  0.48989660801741336\n",
      "Precisión (micro):  0.48989660801741336\n",
      "Precisión (macro):  0.32027732223050887\n",
      "Recall (micro):  0.48989660801741336\n",
      "Recall (macro):  0.4337945109078114\n",
      "F1 (micro):  0.48989660801741336\n",
      "F1 (macro):  0.3391516525026588\n",
      "Categoría 3 ----------------------\n",
      "Exactitud:  0.5857142857142856\n",
      "Precisión (micro):  0.5857142857142856\n",
      "Precisión (macro):  0.36188349331827596\n",
      "Recall (micro):  0.5857142857142856\n",
      "Recall (macro):  0.42023809523809524\n",
      "F1 (micro):  0.5857142857142856\n",
      "F1 (macro):  0.3653372726902139\n",
      "Categoría 4 ----------------------\n",
      "Exactitud:  0.44571428571428573\n",
      "Precisión (micro):  0.44571428571428573\n",
      "Precisión (macro):  0.3342929292929293\n",
      "Recall (micro):  0.44571428571428573\n",
      "Recall (macro):  0.4208333333333333\n",
      "F1 (micro):  0.44571428571428573\n",
      "F1 (macro):  0.32796703296703295\n",
      "Categoría 5 ----------------------\n",
      "Exactitud:  0.44651162790697674\n",
      "Precisión (micro):  0.44651162790697674\n",
      "Precisión (macro):  0.32071073568951325\n",
      "Recall (micro):  0.44651162790697674\n",
      "Recall (macro):  0.3902083333333333\n",
      "F1 (micro):  0.44651162790697674\n",
      "F1 (macro):  0.2917960762719133\n",
      "Categoría 6 ----------------------\n",
      "Exactitud:  0.46375661375661376\n",
      "Precisión (micro):  0.46375661375661376\n",
      "Precisión (macro):  0.3189346513516994\n",
      "Recall (micro):  0.46375661375661376\n",
      "Recall (macro):  0.4133928571428571\n",
      "F1 (micro):  0.46375661375661376\n",
      "F1 (macro):  0.3194876628747596\n",
      "Categoría 7 ----------------------\n",
      "Exactitud:  0.4308943089430894\n",
      "Precisión (micro):  0.4308943089430894\n",
      "Precisión (macro):  0.3259985085790498\n",
      "Recall (micro):  0.4308943089430894\n",
      "Recall (macro):  0.3836199836199837\n",
      "F1 (micro):  0.4308943089430894\n",
      "F1 (macro):  0.2925322196473939\n",
      "Categoría 8 ----------------------\n",
      "Exactitud:  0.4314285714285715\n",
      "Precisión (micro):  0.4314285714285715\n",
      "Precisión (macro):  0.10785714285714287\n",
      "Recall (micro):  0.4314285714285715\n",
      "Recall (macro):  0.25\n",
      "F1 (micro):  0.4314285714285715\n",
      "F1 (macro):  0.15064039408866997\n",
      "Categoría 9 ----------------------\n",
      "Exactitud:  0.45323076923076916\n",
      "Precisión (micro):  0.45323076923076916\n",
      "Precisión (macro):  0.31652691511387165\n",
      "Recall (micro):  0.45323076923076916\n",
      "Recall (macro):  0.41527777777777775\n",
      "F1 (micro):  0.45323076923076916\n",
      "F1 (macro):  0.310994005994006\n"
     ]
    }
   ],
   "source": [
    "for i in range(10):\n",
    "    print(\"Categoría\", i, \"----------------------\")\n",
    "    crossVal(cat_dt_d[i], np.ravel(label_cat_d[i]), SVC(kernel='sigmoid'), 5) # no usar 'linear'"
   ]
  },
  {
   "cell_type": "markdown",
   "metadata": {},
   "source": [
    "### Descargas (de pago)"
   ]
  },
  {
   "cell_type": "code",
   "execution_count": 26,
   "metadata": {},
   "outputs": [],
   "source": [
    "cat_dt_dp = []\n",
    "label_cat_dp = []\n",
    "for dt in cat_dt:\n",
    "    cat_dt_dp.append(dt[dt.Type==1][[\"Rating\", \"Reviews\", \"Size\", \"Content.Rating\", \"Price\"]])\n",
    "    label_cat_dp.append(dt[dt.Type==1][[\"Installs_Q\"]])"
   ]
  },
  {
   "cell_type": "markdown",
   "metadata": {},
   "source": [
    "#### Árbol de Decisión"
   ]
  },
  {
   "cell_type": "code",
   "execution_count": 27,
   "metadata": {},
   "outputs": [
    {
     "name": "stdout",
     "output_type": "stream",
     "text": [
      "Categoría 0 ----------------------\n",
      "Exactitud:  0.8064039408866994\n",
      "Precisión (micro):  0.8064039408866994\n",
      "Precisión (macro):  0.7811327561327561\n",
      "Recall (micro):  0.7926108374384236\n",
      "Recall (macro):  0.7664357864357866\n",
      "F1 (micro):  0.7788177339901479\n",
      "F1 (macro):  0.7612926248158447\n",
      "Categoría 1 ----------------------\n",
      "Not enough data\n",
      "Categoría 2 ----------------------\n",
      "Not enough data\n",
      "Categoría 3 ----------------------\n",
      "Not enough data\n",
      "Categoría 4 ----------------------\n",
      "Not enough data\n",
      "Categoría 5 ----------------------\n",
      "Not enough data\n",
      "Categoría 6 ----------------------\n",
      "Not enough data\n",
      "Categoría 7 ----------------------\n",
      "Not enough data\n",
      "Categoría 8 ----------------------\n",
      "Not enough data\n",
      "Categoría 9 ----------------------\n",
      "Not enough data\n"
     ]
    }
   ],
   "source": [
    "for i in range(10):\n",
    "    print(\"Categoría\", i, \"----------------------\")\n",
    "    if len(cat_dt_dp[i]) > 75:\n",
    "        crossVal(cat_dt_dp[i], label_cat_dp[i], DecisionTreeClassifier(), 5)\n",
    "    else:\n",
    "        print(\"Not enough data\")"
   ]
  },
  {
   "cell_type": "markdown",
   "metadata": {},
   "source": [
    "#### KNN"
   ]
  },
  {
   "cell_type": "code",
   "execution_count": 29,
   "metadata": {},
   "outputs": [
    {
     "name": "stdout",
     "output_type": "stream",
     "text": [
      "Categoría 0 ----------------------\n",
      "Exactitud:  0.8199507389162562\n",
      "Precisión (micro):  0.8199507389162562\n",
      "Precisión (macro):  0.7136767399267399\n",
      "Recall (micro):  0.8199507389162562\n",
      "Recall (macro):  0.7304545454545455\n",
      "F1 (micro):  0.8199507389162562\n",
      "F1 (macro):  0.7144514066496164\n",
      "Categoría 1 ----------------------\n",
      "Not enough data\n",
      "Categoría 2 ----------------------\n",
      "Not enough data\n",
      "Categoría 3 ----------------------\n",
      "Not enough data\n",
      "Categoría 4 ----------------------\n",
      "Not enough data\n",
      "Categoría 5 ----------------------\n",
      "Not enough data\n",
      "Categoría 6 ----------------------\n",
      "Not enough data\n",
      "Categoría 7 ----------------------\n",
      "Not enough data\n",
      "Categoría 8 ----------------------\n",
      "Not enough data\n",
      "Categoría 9 ----------------------\n",
      "Not enough data\n"
     ]
    }
   ],
   "source": [
    "for i in range(10):\n",
    "    print(\"Categoría\", i, \"----------------------\")\n",
    "    if len(cat_dt_dp[i]) > 75:\n",
    "        crossVal(cat_dt_dp[i], np.ravel(label_cat_dp[i]), KNeighborsClassifier(n_neighbors=10), 5) # k=10 es arbitrario\n",
    "    else:\n",
    "        print(\"Not enough data\")"
   ]
  },
  {
   "cell_type": "markdown",
   "metadata": {},
   "source": [
    "#### Naive Bayes"
   ]
  },
  {
   "cell_type": "code",
   "execution_count": 30,
   "metadata": {},
   "outputs": [
    {
     "name": "stdout",
     "output_type": "stream",
     "text": [
      "Categoría 0 ----------------------\n",
      "Exactitud:  0.7285714285714284\n",
      "Precisión (micro):  0.7285714285714284\n",
      "Precisión (macro):  0.693212481962482\n",
      "Recall (micro):  0.7285714285714284\n",
      "Recall (macro):  0.73495670995671\n",
      "F1 (micro):  0.7285714285714285\n",
      "F1 (macro):  0.6846039984043417\n",
      "Categoría 1 ----------------------\n",
      "Not enough data\n",
      "Categoría 2 ----------------------\n",
      "Not enough data\n",
      "Categoría 3 ----------------------\n",
      "Not enough data\n",
      "Categoría 4 ----------------------\n",
      "Not enough data\n",
      "Categoría 5 ----------------------\n",
      "Not enough data\n",
      "Categoría 6 ----------------------\n",
      "Not enough data\n",
      "Categoría 7 ----------------------\n",
      "Not enough data\n",
      "Categoría 8 ----------------------\n",
      "Not enough data\n",
      "Categoría 9 ----------------------\n",
      "Not enough data\n"
     ]
    }
   ],
   "source": [
    "for i in range(10):\n",
    "    print(\"Categoría\", i, \"----------------------\")\n",
    "    if len(cat_dt_dp[i]) > 75:\n",
    "        crossVal(cat_dt_dp[i], np.ravel(label_cat_dp[i]), GaussianNB(), 5)\n",
    "    else:\n",
    "        print(\"Not enough data\")"
   ]
  },
  {
   "cell_type": "markdown",
   "metadata": {},
   "source": [
    "#### Support Vector Machine"
   ]
  },
  {
   "cell_type": "code",
   "execution_count": 31,
   "metadata": {},
   "outputs": [
    {
     "name": "stdout",
     "output_type": "stream",
     "text": [
      "Categoría 0 ----------------------\n",
      "Exactitud:  0.47955665024630545\n",
      "Precisión (micro):  0.47955665024630545\n",
      "Precisión (macro):  0.2588965997770346\n",
      "Recall (micro):  0.47955665024630545\n",
      "Recall (macro):  0.3547619047619047\n",
      "F1 (micro):  0.47955665024630545\n",
      "F1 (macro):  0.2762682239152827\n",
      "Categoría 1 ----------------------\n",
      "Not enough data\n",
      "Categoría 2 ----------------------\n",
      "Not enough data\n",
      "Categoría 3 ----------------------\n",
      "Not enough data\n",
      "Categoría 4 ----------------------\n",
      "Not enough data\n",
      "Categoría 5 ----------------------\n",
      "Not enough data\n",
      "Categoría 6 ----------------------\n",
      "Not enough data\n",
      "Categoría 7 ----------------------\n",
      "Not enough data\n",
      "Categoría 8 ----------------------\n",
      "Not enough data\n",
      "Categoría 9 ----------------------\n",
      "Not enough data\n"
     ]
    }
   ],
   "source": [
    "for i in range(10):\n",
    "    print(\"Categoría\", i, \"----------------------\")\n",
    "    if len(cat_dt_dp[i]) > 75:\n",
    "        crossVal(cat_dt_dp[i], np.ravel(label_cat_dp[i]), SVC(kernel='sigmoid'), 5) # no usar 'linear'\n",
    "    else:\n",
    "        print(\"Not enough data\")"
   ]
  },
  {
   "cell_type": "markdown",
   "metadata": {},
   "source": [
    "### Rating"
   ]
  },
  {
   "cell_type": "code",
   "execution_count": 30,
   "metadata": {},
   "outputs": [],
   "source": [
    "cat_dt_r = []\n",
    "label_cat_r = []\n",
    "label_cat_r2 = []\n",
    "for dt in cat_dt:\n",
    "    cat_dt_r.append(dt[[\"Installs\", \"Reviews\", \"Size\", \"Type\", \"Content.Rating\"]])\n",
    "    label_cat_r2.append(dt[[\"Rating\"]])\n",
    "    label_cat_r.append(dt[[\"Rating_Q\"]])"
   ]
  },
  {
   "cell_type": "markdown",
   "metadata": {},
   "source": [
    "#### Árbol de Decisión"
   ]
  },
  {
   "cell_type": "code",
   "execution_count": 21,
   "metadata": {},
   "outputs": [
    {
     "name": "stdout",
     "output_type": "stream",
     "text": [
      "Categoría 0 ----------------------\n",
      "Exactitud:  0.30226675514266754\n",
      "Precisión (micro):  0.30953948241539486\n",
      "Precisión (macro):  0.28897115313941385\n",
      "Recall (micro):  0.30299137358991374\n",
      "Recall (macro):  0.2851365029433464\n",
      "F1 (micro):  0.30082282680822825\n",
      "F1 (macro):  0.292947085395778\n",
      "Categoría 1 ----------------------\n",
      "Exactitud:  0.3475975975975976\n",
      "Precisión (micro):  0.38078078078078076\n",
      "Precisión (macro):  0.3650329082682024\n",
      "Recall (micro):  0.3642642642642643\n",
      "Recall (macro):  0.4051334776334777\n",
      "F1 (micro):  0.34774774774774775\n",
      "F1 (macro):  0.3648800640364107\n",
      "Categoría 2 ----------------------\n",
      "Exactitud:  0.3117177580264829\n",
      "Precisión (micro):  0.3009341556321422\n",
      "Precisión (macro):  0.30298585600299405\n",
      "Recall (micro):  0.3076818429167422\n",
      "Recall (macro):  0.310236782012834\n",
      "F1 (micro):  0.3063304915653909\n",
      "F1 (macro):  0.2994410074091046\n",
      "Categoría 3 ----------------------\n",
      "Exactitud:  0.2785714285714286\n",
      "Precisión (micro):  0.2857142857142857\n",
      "Precisión (macro):  0.26617063492063486\n",
      "Recall (micro):  0.2857142857142857\n",
      "Recall (macro):  0.275297619047619\n",
      "F1 (micro):  0.2785714285714286\n",
      "F1 (macro):  0.2793797293178098\n",
      "Categoría 4 ----------------------\n",
      "Exactitud:  0.2580952380952381\n",
      "Precisión (micro):  0.24571428571428572\n",
      "Precisión (macro):  0.26976190476190476\n",
      "Recall (micro):  0.23047619047619045\n",
      "Recall (macro):  0.2333333333333333\n",
      "F1 (micro):  0.2314285714285714\n",
      "F1 (macro):  0.2107178932178932\n",
      "Categoría 5 ----------------------\n",
      "Exactitud:  0.3395348837209302\n",
      "Precisión (micro):  0.32558139534883723\n",
      "Precisión (macro):  0.31645583583083586\n",
      "Recall (micro):  0.33023255813953484\n",
      "Recall (macro):  0.2927455877455878\n",
      "F1 (micro):  0.3255813953488372\n",
      "F1 (macro):  0.30278647740089387\n",
      "Categoría 6 ----------------------\n",
      "Exactitud:  0.4121693121693122\n",
      "Precisión (micro):  0.3973544973544974\n",
      "Precisión (macro):  0.4041525141525141\n",
      "Recall (micro):  0.4119047619047619\n",
      "Recall (macro):  0.35543650793650794\n",
      "F1 (micro):  0.4121693121693122\n",
      "F1 (macro):  0.34930555555555554\n",
      "Categoría 7 ----------------------\n",
      "Exactitud:  0.33170731707317075\n",
      "Precisión (micro):  0.34471544715447155\n",
      "Precisión (macro):  0.3245318391741588\n",
      "Recall (micro):  0.33333333333333337\n",
      "Recall (macro):  0.33041573894515064\n",
      "F1 (micro):  0.3414634146341463\n",
      "F1 (macro):  0.32906421198043295\n",
      "Categoría 8 ----------------------\n",
      "Exactitud:  0.30428571428571427\n",
      "Precisión (micro):  0.3347619047619047\n",
      "Precisión (macro):  0.3154166666666666\n",
      "Recall (micro):  0.3242857142857143\n",
      "Recall (macro):  0.3305952380952381\n",
      "F1 (micro):  0.30476190476190473\n",
      "F1 (macro):  0.3046558996558997\n",
      "Categoría 9 ----------------------\n",
      "Exactitud:  0.31261538461538463\n",
      "Precisión (micro):  0.28123076923076923\n",
      "Precisión (macro):  0.2676713564213564\n",
      "Recall (micro):  0.2581538461538461\n",
      "Recall (macro):  0.2745833333333333\n",
      "F1 (micro):  0.2975384615384616\n",
      "F1 (macro):  0.2851003893767052\n"
     ]
    }
   ],
   "source": [
    "for i in range(10):\n",
    "    print(\"Categoría\", i, \"----------------------\")\n",
    "    crossVal(cat_dt_r[i], label_cat_r[i], DecisionTreeClassifier(), 5)"
   ]
  },
  {
   "cell_type": "markdown",
   "metadata": {},
   "source": [
    "#### KNN"
   ]
  },
  {
   "cell_type": "code",
   "execution_count": 22,
   "metadata": {},
   "outputs": [
    {
     "name": "stdout",
     "output_type": "stream",
     "text": [
      "Categoría 0 ----------------------\n",
      "Exactitud:  0.3525202388852024\n",
      "Precisión (micro):  0.3525202388852024\n",
      "Precisión (macro):  0.33268390328909\n",
      "Recall (micro):  0.3525202388852024\n",
      "Recall (macro):  0.33235093011407085\n",
      "F1 (micro):  0.3525202388852024\n",
      "F1 (macro):  0.3260282836154067\n",
      "Categoría 1 ----------------------\n",
      "Exactitud:  0.44174174174174174\n",
      "Precisión (micro):  0.44174174174174174\n",
      "Precisión (macro):  0.4045713706583272\n",
      "Recall (micro):  0.44174174174174174\n",
      "Recall (macro):  0.4081150793650794\n",
      "F1 (micro):  0.44174174174174174\n",
      "F1 (macro):  0.37213293363760896\n",
      "Categoría 2 ----------------------\n",
      "Exactitud:  0.3549428623254126\n",
      "Precisión (micro):  0.3549428623254126\n",
      "Precisión (macro):  0.3615944675135213\n",
      "Recall (micro):  0.3549428623254126\n",
      "Recall (macro):  0.35345118933056296\n",
      "F1 (micro):  0.3549428623254126\n",
      "F1 (macro):  0.35164983337493483\n",
      "Categoría 3 ----------------------\n",
      "Exactitud:  0.36428571428571427\n",
      "Precisión (micro):  0.36428571428571427\n",
      "Precisión (macro):  0.357748348143085\n",
      "Recall (micro):  0.36428571428571427\n",
      "Recall (macro):  0.3723214285714286\n",
      "F1 (micro):  0.36428571428571427\n",
      "F1 (macro):  0.343018835739424\n",
      "Categoría 4 ----------------------\n",
      "Exactitud:  0.2828571428571428\n",
      "Precisión (micro):  0.2828571428571428\n",
      "Precisión (macro):  0.28190476190476194\n",
      "Recall (micro):  0.2828571428571428\n",
      "Recall (macro):  0.26666666666666666\n",
      "F1 (micro):  0.2828571428571428\n",
      "F1 (macro):  0.24652236652236653\n",
      "Categoría 5 ----------------------\n",
      "Exactitud:  0.40930232558139534\n",
      "Precisión (micro):  0.40930232558139534\n",
      "Precisión (macro):  0.42776978332125387\n",
      "Recall (micro):  0.40930232558139534\n",
      "Recall (macro):  0.3982808857808858\n",
      "F1 (micro):  0.40930232558139534\n",
      "F1 (macro):  0.3881706889784101\n",
      "Categoría 6 ----------------------\n",
      "Exactitud:  0.4560846560846561\n",
      "Precisión (micro):  0.4560846560846561\n",
      "Precisión (macro):  0.36824675324675327\n",
      "Recall (micro):  0.4560846560846561\n",
      "Recall (macro):  0.41061507936507946\n",
      "F1 (micro):  0.4560846560846561\n",
      "F1 (macro):  0.3683954225169396\n",
      "Categoría 7 ----------------------\n",
      "Exactitud:  0.40325203252032515\n",
      "Precisión (micro):  0.40325203252032515\n",
      "Precisión (macro):  0.3972808544167215\n",
      "Recall (micro):  0.40325203252032515\n",
      "Recall (macro):  0.39106789724436786\n",
      "F1 (micro):  0.40325203252032515\n",
      "F1 (macro):  0.3873512185899736\n",
      "Categoría 8 ----------------------\n",
      "Exactitud:  0.37333333333333335\n",
      "Precisión (micro):  0.37333333333333335\n",
      "Precisión (macro):  0.3895833333333333\n",
      "Recall (micro):  0.37333333333333335\n",
      "Recall (macro):  0.3758333333333333\n",
      "F1 (micro):  0.37333333333333335\n",
      "F1 (macro):  0.34016870384517445\n",
      "Categoría 9 ----------------------\n",
      "Exactitud:  0.3433846153846154\n",
      "Precisión (micro):  0.3433846153846154\n",
      "Precisión (macro):  0.3379834054834055\n",
      "Recall (micro):  0.3433846153846154\n",
      "Recall (macro):  0.35214285714285715\n",
      "F1 (micro):  0.3433846153846154\n",
      "F1 (macro):  0.31125759001919995\n"
     ]
    }
   ],
   "source": [
    "for i in range(10):\n",
    "    print(\"Categoría\", i, \"----------------------\")\n",
    "    crossVal(cat_dt_r[i], np.ravel(label_cat_r[i]), KNeighborsClassifier(n_neighbors=10), 5) # k=10 es arbitrario"
   ]
  },
  {
   "cell_type": "markdown",
   "metadata": {},
   "source": [
    "#### Naive Bayes"
   ]
  },
  {
   "cell_type": "code",
   "execution_count": 31,
   "metadata": {},
   "outputs": [
    {
     "name": "stdout",
     "output_type": "stream",
     "text": [
      "Categoría 0 ----------------------\n",
      "Exactitud:  0.2432594558725946\n",
      "Precisión (micro):  0.2432594558725946\n",
      "Precisión (macro):  0.3160883192575952\n",
      "Recall (micro):  0.2432594558725946\n",
      "Recall (macro):  0.2774616626779846\n",
      "F1 (micro):  0.2432594558725946\n",
      "F1 (macro):  0.1681317521223382\n",
      "Categoría 1 ----------------------\n",
      "Exactitud:  0.33153153153153153\n",
      "Precisión (micro):  0.33153153153153153\n",
      "Precisión (macro):  0.30655232056590753\n",
      "Recall (micro):  0.33153153153153153\n",
      "Recall (macro):  0.3348322510822511\n",
      "F1 (micro):  0.33153153153153153\n",
      "F1 (macro):  0.2618542669686534\n",
      "Categoría 2 ----------------------\n",
      "Exactitud:  0.3023399238164339\n",
      "Precisión (micro):  0.3023399238164339\n",
      "Precisión (macro):  0.4070196757198315\n",
      "Recall (micro):  0.3023399238164339\n",
      "Recall (macro):  0.3393348994260656\n",
      "F1 (micro):  0.3023399238164339\n",
      "F1 (macro):  0.25464959094836015\n",
      "Categoría 3 ----------------------\n",
      "Exactitud:  0.3071428571428571\n",
      "Precisión (micro):  0.3071428571428571\n",
      "Precisión (macro):  0.31011904761904757\n",
      "Recall (micro):  0.3071428571428571\n",
      "Recall (macro):  0.331547619047619\n",
      "F1 (micro):  0.3071428571428571\n",
      "F1 (macro):  0.23236507936507939\n",
      "Categoría 4 ----------------------\n",
      "Exactitud:  0.10666666666666666\n",
      "Precisión (micro):  0.10666666666666666\n",
      "Precisión (macro):  0.053392857142857145\n",
      "Recall (micro):  0.10666666666666666\n",
      "Recall (macro):  0.10416666666666666\n",
      "F1 (micro):  0.10666666666666666\n",
      "F1 (macro):  0.06992063492063492\n",
      "Categoría 5 ----------------------\n",
      "Exactitud:  0.35348837209302325\n",
      "Precisión (micro):  0.35348837209302325\n",
      "Precisión (macro):  0.4408501326259947\n",
      "Recall (micro):  0.35348837209302325\n",
      "Recall (macro):  0.35517399267399263\n",
      "F1 (micro):  0.35348837209302325\n",
      "F1 (macro):  0.29671290701341857\n",
      "Categoría 6 ----------------------\n",
      "Exactitud:  0.27936507936507937\n",
      "Precisión (micro):  0.27936507936507937\n",
      "Precisión (macro):  0.17204216073781292\n",
      "Recall (micro):  0.27936507936507937\n",
      "Recall (macro):  0.2636904761904762\n",
      "F1 (micro):  0.27936507936507937\n",
      "F1 (macro):  0.17851390606674258\n",
      "Categoría 7 ----------------------\n",
      "Exactitud:  0.2813008130081301\n",
      "Precisión (micro):  0.2813008130081301\n",
      "Precisión (macro):  0.4025584094678882\n",
      "Recall (micro):  0.2813008130081301\n",
      "Recall (macro):  0.30609447197682493\n",
      "F1 (micro):  0.2813008130081301\n",
      "F1 (macro):  0.20750940862354955\n",
      "Categoría 8 ----------------------\n",
      "Exactitud:  0.2857142857142857\n",
      "Precisión (micro):  0.2857142857142857\n",
      "Precisión (macro):  0.2950892857142857\n",
      "Recall (micro):  0.2857142857142857\n",
      "Recall (macro):  0.3327380952380953\n",
      "F1 (micro):  0.2857142857142857\n",
      "F1 (macro):  0.224487713849842\n",
      "Categoría 9 ----------------------\n",
      "Exactitud:  0.26492307692307693\n",
      "Precisión (micro):  0.26492307692307693\n",
      "Precisión (macro):  0.20161856738742928\n",
      "Recall (micro):  0.26492307692307693\n",
      "Recall (macro):  0.27261904761904765\n",
      "F1 (micro):  0.26492307692307693\n",
      "F1 (macro):  0.1732448656624069\n"
     ]
    }
   ],
   "source": [
    "for i in range(10):\n",
    "    print(\"Categoría\", i, \"----------------------\")\n",
    "    crossVal(cat_dt_r[i], np.ravel(label_cat_r[i]), GaussianNB(), 5)"
   ]
  },
  {
   "cell_type": "markdown",
   "metadata": {},
   "source": [
    "#### Support Vector Machine"
   ]
  },
  {
   "cell_type": "code",
   "execution_count": 24,
   "metadata": {},
   "outputs": [
    {
     "name": "stdout",
     "output_type": "stream",
     "text": [
      "Categoría 0 ----------------------\n",
      "Exactitud:  0.3335474452554744\n",
      "Precisión (micro):  0.3335474452554744\n",
      "Precisión (macro):  0.1807018697674122\n",
      "Recall (micro):  0.3335474452554744\n",
      "Recall (macro):  0.2734352294878611\n",
      "F1 (micro):  0.3335474452554744\n",
      "F1 (macro):  0.20316665859010605\n",
      "Categoría 1 ----------------------\n",
      "Exactitud:  0.35375375375375373\n",
      "Precisión (micro):  0.35375375375375373\n",
      "Precisión (macro):  0.19704545454545452\n",
      "Recall (micro):  0.35375375375375373\n",
      "Recall (macro):  0.3254545454545455\n",
      "F1 (micro):  0.35375375375375373\n",
      "F1 (macro):  0.22310655031243268\n",
      "Categoría 2 ----------------------\n",
      "Exactitud:  0.3117358969707963\n",
      "Precisión (micro):  0.3117358969707963\n",
      "Precisión (macro):  0.28268628518628514\n",
      "Recall (micro):  0.3117358969707963\n",
      "Recall (macro):  0.29494209795274456\n",
      "F1 (micro):  0.3117358969707963\n",
      "F1 (macro):  0.2548846771835168\n",
      "Categoría 3 ----------------------\n",
      "Exactitud:  0.2785714285714286\n",
      "Precisión (micro):  0.2785714285714286\n",
      "Precisión (macro):  0.1615859407003908\n",
      "Recall (micro):  0.2785714285714286\n",
      "Recall (macro):  0.2790674603174603\n",
      "F1 (micro):  0.2785714285714286\n",
      "F1 (macro):  0.18163873901989352\n",
      "Categoría 4 ----------------------\n",
      "Exactitud:  0.2838095238095238\n",
      "Precisión (micro):  0.2838095238095238\n",
      "Precisión (macro):  0.1363690476190476\n",
      "Recall (micro):  0.2838095238095238\n",
      "Recall (macro):  0.2625\n",
      "F1 (micro):  0.2838095238095238\n",
      "F1 (macro):  0.17705627705627708\n",
      "Categoría 5 ----------------------\n",
      "Exactitud:  0.30697674418604654\n",
      "Precisión (micro):  0.30697674418604654\n",
      "Precisión (macro):  0.22140548440885413\n",
      "Recall (micro):  0.30697674418604654\n",
      "Recall (macro):  0.2756468531468531\n",
      "F1 (micro):  0.30697674418604654\n",
      "F1 (macro):  0.1808046010902849\n",
      "Categoría 6 ----------------------\n",
      "Exactitud:  0.4121693121693121\n",
      "Precisión (micro):  0.4121693121693121\n",
      "Precisión (macro):  0.3103383458646617\n",
      "Recall (micro):  0.4121693121693121\n",
      "Recall (macro):  0.34236111111111106\n",
      "F1 (micro):  0.4121693121693121\n",
      "F1 (macro):  0.2792762760866209\n",
      "Categoría 7 ----------------------\n",
      "Exactitud:  0.3008130081300813\n",
      "Precisión (micro):  0.3008130081300813\n",
      "Precisión (macro):  0.18546287238009426\n",
      "Recall (micro):  0.3008130081300813\n",
      "Recall (macro):  0.2655672268907563\n",
      "F1 (micro):  0.3008130081300813\n",
      "F1 (macro):  0.17472871423673214\n",
      "Categoría 8 ----------------------\n",
      "Exactitud:  0.3142857142857142\n",
      "Precisión (micro):  0.3142857142857142\n",
      "Precisión (macro):  0.1889705882352941\n",
      "Recall (micro):  0.3142857142857142\n",
      "Recall (macro):  0.2828571428571428\n",
      "F1 (micro):  0.3142857142857142\n",
      "F1 (macro):  0.1703205128205128\n",
      "Categoría 9 ----------------------\n",
      "Exactitud:  0.27415384615384614\n",
      "Precisión (micro):  0.27415384615384614\n",
      "Precisión (macro):  0.13881088192852897\n",
      "Recall (micro):  0.27415384615384614\n",
      "Recall (macro):  0.2631547619047619\n",
      "F1 (micro):  0.27415384615384614\n",
      "F1 (macro):  0.16716697994987467\n"
     ]
    }
   ],
   "source": [
    "for i in range(10):\n",
    "    print(\"Categoría\", i, \"----------------------\")\n",
    "    crossVal(cat_dt_r[i], np.ravel(label_cat_r[i]), SVC(), 5) # no usar 'linear'"
   ]
  },
  {
   "cell_type": "markdown",
   "metadata": {},
   "source": [
    "### Rating (de pago)"
   ]
  },
  {
   "cell_type": "code",
   "execution_count": 32,
   "metadata": {},
   "outputs": [],
   "source": [
    "cat_dt_rp = []\n",
    "label_cat_rp = []\n",
    "for dt in cat_dt:\n",
    "    cat_dt_rp.append(dt[dt.Type==1][[\"Installs\", \"Reviews\", \"Size\", \"Content.Rating\", \"Price\"]])\n",
    "    label_cat_rp.append(dt[dt.Type==1][[\"Rating_Q\"]])"
   ]
  },
  {
   "cell_type": "markdown",
   "metadata": {},
   "source": [
    "#### Árbol de Decisión"
   ]
  },
  {
   "cell_type": "code",
   "execution_count": 34,
   "metadata": {},
   "outputs": [
    {
     "name": "stdout",
     "output_type": "stream",
     "text": [
      "Categoría 0 ----------------------\n",
      "Exactitud:  0.3748768472906404\n",
      "Precisión (micro):  0.3955665024630542\n",
      "Precisión (macro):  0.36387445887445885\n",
      "Recall (micro):  0.38128078817733996\n",
      "Recall (macro):  0.3315476190476191\n",
      "F1 (micro):  0.36773399014778324\n",
      "F1 (macro):  0.3447776288039446\n",
      "Categoría 1 ----------------------\n",
      "Not enough data\n",
      "Categoría 2 ----------------------\n",
      "Not enough data\n",
      "Categoría 3 ----------------------\n",
      "Not enough data\n",
      "Categoría 4 ----------------------\n",
      "Not enough data\n",
      "Categoría 5 ----------------------\n",
      "Not enough data\n",
      "Categoría 6 ----------------------\n",
      "Not enough data\n",
      "Categoría 7 ----------------------\n",
      "Not enough data\n",
      "Categoría 8 ----------------------\n",
      "Not enough data\n",
      "Categoría 9 ----------------------\n",
      "Not enough data\n"
     ]
    }
   ],
   "source": [
    "for i in range(10):\n",
    "    print(\"Categoría\", i, \"----------------------\")\n",
    "    if len(cat_dt_rp[i]) > 75:\n",
    "        crossVal(cat_dt_rp[i], label_cat_rp[i], DecisionTreeClassifier(), 5)\n",
    "    else:\n",
    "        print(\"Not enough data\")"
   ]
  },
  {
   "cell_type": "markdown",
   "metadata": {},
   "source": [
    "#### KNN"
   ]
  },
  {
   "cell_type": "code",
   "execution_count": 35,
   "metadata": {},
   "outputs": [
    {
     "name": "stdout",
     "output_type": "stream",
     "text": [
      "Categoría 0 ----------------------\n",
      "Exactitud:  0.42241379310344823\n",
      "Precisión (micro):  0.42241379310344823\n",
      "Precisión (macro):  0.4505323144777479\n",
      "Recall (micro):  0.42241379310344823\n",
      "Recall (macro):  0.36071428571428565\n",
      "F1 (micro):  0.42241379310344823\n",
      "F1 (macro):  0.361391663336046\n",
      "Categoría 1 ----------------------\n",
      "Not enough data\n",
      "Categoría 2 ----------------------\n",
      "Not enough data\n",
      "Categoría 3 ----------------------\n",
      "Not enough data\n",
      "Categoría 4 ----------------------\n",
      "Not enough data\n",
      "Categoría 5 ----------------------\n",
      "Not enough data\n",
      "Categoría 6 ----------------------\n",
      "Not enough data\n",
      "Categoría 7 ----------------------\n",
      "Not enough data\n",
      "Categoría 8 ----------------------\n",
      "Not enough data\n",
      "Categoría 9 ----------------------\n",
      "Not enough data\n"
     ]
    }
   ],
   "source": [
    "for i in range(10):\n",
    "    print(\"Categoría\", i, \"----------------------\")\n",
    "    if len(cat_dt_rp[i]) > 75:\n",
    "        crossVal(cat_dt_rp[i], np.ravel(label_cat_rp[i]), KNeighborsClassifier(n_neighbors=10), 5) # k=10 es arbitrario\n",
    "    else:\n",
    "        print(\"Not enough data\")"
   ]
  },
  {
   "cell_type": "markdown",
   "metadata": {},
   "source": [
    "#### Naaive Bayes"
   ]
  },
  {
   "cell_type": "code",
   "execution_count": 36,
   "metadata": {},
   "outputs": [
    {
     "name": "stdout",
     "output_type": "stream",
     "text": [
      "Categoría 0 ----------------------\n",
      "Exactitud:  0.2573891625615764\n",
      "Precisión (micro):  0.2573891625615764\n",
      "Precisión (macro):  0.21986772486772485\n",
      "Recall (micro):  0.2573891625615764\n",
      "Recall (macro):  0.30178571428571427\n",
      "F1 (micro):  0.2573891625615764\n",
      "F1 (macro):  0.18422734886112385\n",
      "Categoría 1 ----------------------\n",
      "Not enough data\n",
      "Categoría 2 ----------------------\n",
      "Not enough data\n",
      "Categoría 3 ----------------------\n",
      "Not enough data\n",
      "Categoría 4 ----------------------\n",
      "Not enough data\n",
      "Categoría 5 ----------------------\n",
      "Not enough data\n",
      "Categoría 6 ----------------------\n",
      "Not enough data\n",
      "Categoría 7 ----------------------\n",
      "Not enough data\n",
      "Categoría 8 ----------------------\n",
      "Not enough data\n",
      "Categoría 9 ----------------------\n",
      "Not enough data\n"
     ]
    }
   ],
   "source": [
    "for i in range(10):\n",
    "    print(\"Categoría\", i, \"----------------------\")\n",
    "    if len(cat_dt_rp[i]) > 75:\n",
    "        crossVal(cat_dt_rp[i], np.ravel(label_cat_rp[i]), GaussianNB(), 5)\n",
    "    else:\n",
    "        print(\"Not enough data\")"
   ]
  },
  {
   "cell_type": "markdown",
   "metadata": {},
   "source": [
    "#### Support Vector Machine"
   ]
  },
  {
   "cell_type": "code",
   "execution_count": 37,
   "metadata": {},
   "outputs": [
    {
     "name": "stdout",
     "output_type": "stream",
     "text": [
      "Categoría 0 ----------------------\n",
      "Exactitud:  0.4027093596059113\n",
      "Precisión (micro):  0.4027093596059113\n",
      "Precisión (macro):  0.19457949457949458\n",
      "Recall (micro):  0.4027093596059113\n",
      "Recall (macro):  0.2547619047619048\n",
      "F1 (micro):  0.4027093596059113\n",
      "F1 (macro):  0.18278443520703586\n",
      "Categoría 1 ----------------------\n",
      "Not enough data\n",
      "Categoría 2 ----------------------\n",
      "Not enough data\n",
      "Categoría 3 ----------------------\n",
      "Not enough data\n",
      "Categoría 4 ----------------------\n",
      "Not enough data\n",
      "Categoría 5 ----------------------\n",
      "Not enough data\n",
      "Categoría 6 ----------------------\n",
      "Not enough data\n",
      "Categoría 7 ----------------------\n",
      "Not enough data\n",
      "Categoría 8 ----------------------\n",
      "Not enough data\n",
      "Categoría 9 ----------------------\n",
      "Not enough data\n"
     ]
    }
   ],
   "source": [
    "for i in range(10):\n",
    "    print(\"Categoría\", i, \"----------------------\")\n",
    "    if len(cat_dt_rp[i]) > 75:\n",
    "        crossVal(cat_dt_rp[i], np.ravel(label_cat_rp[i]), SVC(kernel='sigmoid'), 5) # no usar 'linear'\n",
    "    else:\n",
    "        print(\"Not enough data\")"
   ]
  },
  {
   "cell_type": "markdown",
   "metadata": {},
   "source": [
    "### Análisis de Texto"
   ]
  },
  {
   "cell_type": "code",
   "execution_count": 13,
   "metadata": {},
   "outputs": [],
   "source": [
    "from sklearn.feature_extraction.text import TfidfVectorizer\n",
    "from sklearn.feature_extraction.text import HashingVectorizer\n",
    "from sklearn.decomposition import TruncatedSVD\n",
    "from sklearn.preprocessing import Normalizer\n",
    "from sklearn.pipeline import make_pipeline"
   ]
  },
  {
   "cell_type": "code",
   "execution_count": 14,
   "metadata": {},
   "outputs": [],
   "source": [
    "reviews = pd.read_csv(\"C:/Users/faria/OneDrive/Documentos/Tareas/GitHub/Google-Play-Store-Mining/dataset_modificado/UserReview.csv\")"
   ]
  },
  {
   "cell_type": "code",
   "execution_count": 34,
   "metadata": {},
   "outputs": [],
   "source": [
    "hashVectorizer = HashingVectorizer(stop_words=None, alternate_sign=False)\n",
    "text_dt = hashVectorizer.fit_transform(reviews[\"Translated_Review\"])\n",
    "\n",
    "svd = TruncatedSVD(100) # arbitrario\n",
    "normalizer = Normalizer(copy=False)\n",
    "lsa = make_pipeline(svd, normalizer)\n",
    "text_dt = lsa.fit_transform(text_dt)"
   ]
  },
  {
   "cell_type": "code",
   "execution_count": 35,
   "metadata": {},
   "outputs": [],
   "source": [
    "text_labels_sp = np.ravel(reviews[\"sentiment_polarity\"])\n",
    "text_labels_ss = np.ravel(reviews[\"sentiment_subjectivity\"])\n",
    "text_labels_sq = np.ravel(reviews[\"spelling_quality\"])"
   ]
  },
  {
   "cell_type": "code",
   "execution_count": 27,
   "metadata": {},
   "outputs": [],
   "source": [
    "def crossValPlot(X, y, model, k):\n",
    "    exactitud = mean(cross_val_score(model, X, y, cv=k, scoring=\"accuracy\"))\n",
    "    precision_micro = mean(cross_val_score(model, X, y, cv=k, scoring=precision0micro))\n",
    "    precision_macro = mean(cross_val_score(model, X, y, cv=k, scoring=precision0macro))\n",
    "    recall_micro = mean(cross_val_score(model, X, y, cv=k, scoring=\"recall_micro\"))\n",
    "    recall_macro = mean(cross_val_score(model, X, y, cv=k, scoring=\"recall_macro\"))\n",
    "    f1_micro = mean(cross_val_score(model, X, y, cv=k, scoring=\"f1_micro\"))\n",
    "    f1_macro = mean(cross_val_score(model, X, y, cv=k, scoring=\"f1_macro\"))\n",
    "    mtr = [\"exactitud\",\"precision_micro\",\"precision_macro\",\"recall_micro\",\"recall_macro\",\"f1_micro\",\"f1_macro\"]\n",
    "    val = [exactitud,precision_micro,precision_macro,recall_micro,recall_macro,f1_micro,f1_macro]\n",
    "    plt.barh(mtr,val)\n",
    "    plt.show()"
   ]
  },
  {
   "cell_type": "markdown",
   "metadata": {},
   "source": [
    "#### Árbol de Decisión"
   ]
  },
  {
   "cell_type": "code",
   "execution_count": 38,
   "metadata": {},
   "outputs": [
    {
     "data": {
      "image/png": "[encoded data removed]",
      "text/plain": [
       "<Figure size 432x288 with 1 Axes>"
      ]
     },
     "metadata": {
      "needs_background": "light"
     },
     "output_type": "display_data"
    }
   ],
   "source": [
    "# Sentiment Polarity\n",
    "crossValPlot(text_dt, text_labels_sp, DecisionTreeClassifier(), 5)"
   ]
  },
  {
   "cell_type": "code",
   "execution_count": 39,
   "metadata": {},
   "outputs": [
    {
     "data": {
      "image/png": "[encoded data removed]",
      "text/plain": [
       "<Figure size 432x288 with 1 Axes>"
      ]
     },
     "metadata": {
      "needs_background": "light"
     },
     "output_type": "display_data"
    }
   ],
   "source": [
    "# Sentiment Subjectivity\n",
    "crossValPlot(text_dt, text_labels_ss, DecisionTreeClassifier(), 5)"
   ]
  },
  {
   "cell_type": "code",
   "execution_count": 40,
   "metadata": {},
   "outputs": [
    {
     "data": {
      "image/png": "[encoded data removed]",
      "text/plain": [
       "<Figure size 432x288 with 1 Axes>"
      ]
     },
     "metadata": {
      "needs_background": "light"
     },
     "output_type": "display_data"
    }
   ],
   "source": [
    "# Spelling Quality\n",
    "crossValPlot(text_dt, text_labels_sq, DecisionTreeClassifier(), 5)"
   ]
  },
  {
   "cell_type": "markdown",
   "metadata": {},
   "source": [
    "#### KNN"
   ]
  },
  {
   "cell_type": "code",
   "execution_count": 41,
   "metadata": {},
   "outputs": [
    {
     "data": {
      "image/png": "[encoded data removed]",
      "text/plain": [
       "<Figure size 432x288 with 1 Axes>"
      ]
     },
     "metadata": {
      "needs_background": "light"
     },
     "output_type": "display_data"
    }
   ],
   "source": [
    "# Sentiment Polarity\n",
    "crossValPlot(text_dt, text_labels_sp, KNeighborsClassifier(n_neighbors=10), 5)"
   ]
  },
  {
   "cell_type": "code",
   "execution_count": 42,
   "metadata": {},
   "outputs": [
    {
     "data": {
      "image/png": "[encoded data removed]",
      "text/plain": [
       "<Figure size 432x288 with 1 Axes>"
      ]
     },
     "metadata": {
      "needs_background": "light"
     },
     "output_type": "display_data"
    }
   ],
   "source": [
    "# Sentiment Subjectivity\n",
    "crossValPlot(text_dt, text_labels_ss, KNeighborsClassifier(n_neighbors=10), 5)"
   ]
  },
  {
   "cell_type": "code",
   "execution_count": 43,
   "metadata": {},
   "outputs": [
    {
     "data": {
      "image/png": "[encoded data removed]",
      "text/plain": [
       "<Figure size 432x288 with 1 Axes>"
      ]
     },
     "metadata": {
      "needs_background": "light"
     },
     "output_type": "display_data"
    }
   ],
   "source": [
    "# Spelling Quality\n",
    "crossValPlot(text_dt, text_labels_sq, KNeighborsClassifier(n_neighbors=10), 5)"
   ]
  },
  {
   "cell_type": "markdown",
   "metadata": {},
   "source": [
    "#### Naive Bayes"
   ]
  },
  {
   "cell_type": "code",
   "execution_count": 44,
   "metadata": {},
   "outputs": [
    {
     "data": {
      "image/png": "[encoded data removed]",
      "text/plain": [
       "<Figure size 432x288 with 1 Axes>"
      ]
     },
     "metadata": {
      "needs_background": "light"
     },
     "output_type": "display_data"
    }
   ],
   "source": [
    "# Sentiment Polarity\n",
    "crossValPlot(text_dt, text_labels_sp, GaussianNB(), 5)"
   ]
  },
  {
   "cell_type": "code",
   "execution_count": 45,
   "metadata": {},
   "outputs": [
    {
     "data": {
      "image/png": "[encoded data removed]",
      "text/plain": [
       "<Figure size 432x288 with 1 Axes>"
      ]
     },
     "metadata": {
      "needs_background": "light"
     },
     "output_type": "display_data"
    }
   ],
   "source": [
    "# Sentiment Subjectivity\n",
    "crossValPlot(text_dt, text_labels_ss, GaussianNB(), 5)"
   ]
  },
  {
   "cell_type": "code",
   "execution_count": 46,
   "metadata": {},
   "outputs": [
    {
     "data": {
      "image/png": "[encoded data removed]",
      "text/plain": [
       "<Figure size 432x288 with 1 Axes>"
      ]
     },
     "metadata": {
      "needs_background": "light"
     },
     "output_type": "display_data"
    }
   ],
   "source": [
    "# Spelling Quality\n",
    "crossValPlot(text_dt, text_labels_sq, GaussianNB(), 5)"
   ]
  },
  {
   "cell_type": "markdown",
   "metadata": {},
   "source": [
    "#### Support Vector Machine"
   ]
  },
  {
   "cell_type": "code",
   "execution_count": 47,
   "metadata": {},
   "outputs": [
    {
     "data": {
      "image/png": "[encoded data removed]",
      "text/plain": [
       "<Figure size 432x288 with 1 Axes>"
      ]
     },
     "metadata": {
      "needs_background": "light"
     },
     "output_type": "display_data"
    }
   ],
   "source": [
    "# Sentiment Polarity\n",
    "crossValPlot(text_dt, text_labels_sp, SVC(), 5)"
   ]
  },
  {
   "cell_type": "code",
   "execution_count": null,
   "metadata": {},
   "outputs": [],
   "source": [
    "# Sentiment Subjectivity\n",
    "crossValPlot(text_dt, text_labels_ss, SVC(), 5)"
   ]
  },
  {
   "cell_type": "code",
   "execution_count": null,
   "metadata": {},
   "outputs": [],
   "source": [
    "# Spelling Quality\n",
    "crossValPlot(text_dt, text_labels_sp, SVC(), 5)"
   ]
  },
  {
   "cell_type": "markdown",
   "metadata": {},
   "source": [
    "### Clasificación de Descargas según Reviews"
   ]
  },
  {
   "cell_type": "code",
   "execution_count": 3,
   "metadata": {},
   "outputs": [],
   "source": [
    "clus_dt = pd.read_csv(\"C:/Users/faria/OneDrive/Documentos/Tareas/GitHub/Google-Play-Store-Mining/dataset_modificado/DataPregunta2_1.csv\")\n",
    "\n",
    "X2 = clus_dt[[\"sentiment_polarity_score\",\"SPQ1\",\"SPQ3\",\"ease_of_reading_score\",\"ERQ1\",\"ERQ3\",\"sentiment_subjectivity_score\",\"SSQ1\",\"SSQ3\",\n",
    "       \"spelling_quality_score\",\"SQQ1\",\"SQQ3\",\"sentences_count\",\"characters_count\",\"count_words\",\"spaces_count\",\"alpha_numeric_count\",\n",
    "       \"punctuations_count\",\"noun_phase_count\"]]\n",
    "\n",
    "label_d = np.ravel(clus_dt[\"Installs_Q\"])\n",
    "label_r = np.ravel(clus_dt[\"Rating_Q\"])"
   ]
  },
  {
   "cell_type": "markdown",
   "metadata": {},
   "source": [
    "#### Árbol de Decisión"
   ]
  },
  {
   "cell_type": "code",
   "execution_count": 50,
   "metadata": {},
   "outputs": [
    {
     "data": {
      "image/png": "[encoded data removed]",
      "text/plain": [
       "<Figure size 432x288 with 1 Axes>"
      ]
     },
     "metadata": {
      "needs_background": "light"
     },
     "output_type": "display_data"
    }
   ],
   "source": [
    "crossValPlot(X2, label_d, DecisionTreeClassifier(), 5)"
   ]
  },
  {
   "cell_type": "markdown",
   "metadata": {},
   "source": [
    "#### KNN"
   ]
  },
  {
   "cell_type": "code",
   "execution_count": 51,
   "metadata": {},
   "outputs": [
    {
     "data": {
      "image/png": "[encoded data removed]",
      "text/plain": [
       "<Figure size 432x288 with 1 Axes>"
      ]
     },
     "metadata": {
      "needs_background": "light"
     },
     "output_type": "display_data"
    }
   ],
   "source": [
    "crossValPlot(X2, label_d, KNeighborsClassifier(n_neighbors=10), 5)"
   ]
  },
  {
   "cell_type": "markdown",
   "metadata": {},
   "source": [
    "#### Naive Bayes"
   ]
  },
  {
   "cell_type": "code",
   "execution_count": 52,
   "metadata": {},
   "outputs": [
    {
     "data": {
      "image/png": "[encoded data removed]",
      "text/plain": [
       "<Figure size 432x288 with 1 Axes>"
      ]
     },
     "metadata": {
      "needs_background": "light"
     },
     "output_type": "display_data"
    }
   ],
   "source": [
    "crossValPlot(X2, label_d, GaussianNB(), 5)"
   ]
  },
  {
   "cell_type": "markdown",
   "metadata": {},
   "source": [
    "#### Support Vector Machine"
   ]
  },
  {
   "cell_type": "code",
   "execution_count": 53,
   "metadata": {},
   "outputs": [
    {
     "data": {
      "image/png": "[encoded data removed]",
      "text/plain": [
       "<Figure size 432x288 with 1 Axes>"
      ]
     },
     "metadata": {
      "needs_background": "light"
     },
     "output_type": "display_data"
    }
   ],
   "source": [
    "crossValPlot(X2, label_d, SVC(), 5)"
   ]
  },
  {
   "cell_type": "markdown",
   "metadata": {},
   "source": [
    "### Clasificación de Rating según Reviews"
   ]
  },
  {
   "cell_type": "markdown",
   "metadata": {},
   "source": [
    "#### Árbol de Decisión"
   ]
  },
  {
   "cell_type": "code",
   "execution_count": 54,
   "metadata": {},
   "outputs": [
    {
     "data": {
      "image/png": "[encoded data removed]",
      "text/plain": [
       "<Figure size 432x288 with 1 Axes>"
      ]
     },
     "metadata": {
      "needs_background": "light"
     },
     "output_type": "display_data"
    }
   ],
   "source": [
    "crossValPlot(X2, label_r, DecisionTreeClassifier(), 5)"
   ]
  },
  {
   "cell_type": "markdown",
   "metadata": {},
   "source": [
    "#### KNN"
   ]
  },
  {
   "cell_type": "code",
   "execution_count": 55,
   "metadata": {},
   "outputs": [
    {
     "data": {
      "image/png": "[encoded data removed]",
      "text/plain": [
       "<Figure size 432x288 with 1 Axes>"
      ]
     },
     "metadata": {
      "needs_background": "light"
     },
     "output_type": "display_data"
    }
   ],
   "source": [
    "crossValPlot(X2, label_r, KNeighborsClassifier(n_neighbors=10), 5)"
   ]
  },
  {
   "cell_type": "markdown",
   "metadata": {},
   "source": [
    "#### Naive Bayes"
   ]
  },
  {
   "cell_type": "code",
   "execution_count": 56,
   "metadata": {},
   "outputs": [
    {
     "data": {
      "image/png": "[encoded data removed]",
      "text/plain": [
       "<Figure size 432x288 with 1 Axes>"
      ]
     },
     "metadata": {
      "needs_background": "light"
     },
     "output_type": "display_data"
    }
   ],
   "source": [
    "crossValPlot(X2, label_r, GaussianNB(), 5)"
   ]
  },
  {
   "cell_type": "markdown",
   "metadata": {},
   "source": [
    "#### Support Vector Machine"
   ]
  },
  {
   "cell_type": "code",
   "execution_count": 57,
   "metadata": {},
   "outputs": [
    {
     "data": {
      "image/png": "[encoded data removed]",
      "text/plain": [
       "<Figure size 432x288 with 1 Axes>"
      ]
     },
     "metadata": {
      "needs_background": "light"
     },
     "output_type": "display_data"
    }
   ],
   "source": [
    "crossValPlot(X2, label_r, SVC(), 5)"
   ]
  },
  {
   "cell_type": "markdown",
   "metadata": {},
   "source": [
    "## Clustering"
   ]
  },
  {
   "cell_type": "code",
   "execution_count": 2,
   "metadata": {},
   "outputs": [],
   "source": [
    "from sklearn.cluster import KMeans\n",
    "from sklearn.cluster import DBSCAN\n",
    "from sklearn.cluster import AgglomerativeClustering\n",
    "from sklearn.metrics import silhouette_score\n",
    "from scipy.cluster.hierarchy import dendrogram, linkage\n",
    "from sklearn.metrics.pairwise import euclidean_distances\n",
    "from sklearn.metrics import adjusted_mutual_info_score, normalized_mutual_info_score"
   ]
  },
  {
   "cell_type": "markdown",
   "metadata": {},
   "source": [
    "### K-Means"
   ]
  },
  {
   "cell_type": "code",
   "execution_count": 4,
   "metadata": {},
   "outputs": [
    {
     "data": {
      "image/png": "[encoded data removed]",
      "text/plain": [
       "<Figure size 432x288 with 1 Axes>"
      ]
     },
     "metadata": {
      "needs_background": "light"
     },
     "output_type": "display_data"
    }
   ],
   "source": [
    "sse = []\n",
    "\n",
    "clusters = list(range(1, 20))\n",
    "for k in clusters:\n",
    "    kmeans = KMeans(n_clusters=k).fit(X2)\n",
    "    sse.append(kmeans.inertia_)\n",
    "\n",
    "plt.plot(clusters, sse, marker=\"o\")\n",
    "plt.title(\"Metodo del codo de 1 a 20 clusters\")\n",
    "plt.grid(True)\n",
    "plt.show()"
   ]
  },
  {
   "cell_type": "code",
   "execution_count": 5,
   "metadata": {},
   "outputs": [],
   "source": [
    "kmeans4 = KMeans(n_clusters=4).fit(X2)\n",
    "kmeans5 = KMeans(n_clusters=5).fit(X2)\n",
    "sse4 = kmeans4.inertia_\n",
    "sse5 = kmeans5.inertia_\n",
    "for i in range(50):\n",
    "    km4 = KMeans(n_clusters=4).fit(X2)\n",
    "    km5 = KMeans(n_clusters=5).fit(X2)\n",
    "    if sse4 > km4.inertia_:\n",
    "        kmeans4 = km4\n",
    "        sse4 = km4.inertia_\n",
    "    if sse5 > km5.inertia_:\n",
    "        kmeans5 = km5\n",
    "        sse5 = km5.inertia_"
   ]
  },
  {
   "cell_type": "code",
   "execution_count": 6,
   "metadata": {},
   "outputs": [
    {
     "name": "stdout",
     "output_type": "stream",
     "text": [
      "SSE K=4 : 53.85633375030004\n",
      "SSE K=5 : 47.197896245237885\n",
      "Silhouette K=4 : 0.29055131580962906\n",
      "Silhouette K=5 : 0.26748087749550353\n"
     ]
    }
   ],
   "source": [
    "from sklearn.metrics import silhouette_score\n",
    "\n",
    "print(\"SSE K=4 :\", kmeans4.inertia_)\n",
    "print(\"SSE K=5 :\", kmeans5.inertia_)\n",
    "print(\"Silhouette K=4 :\", silhouette_score(X2, kmeans4.labels_))\n",
    "print(\"Silhouette K=5 :\", silhouette_score(X2, kmeans5.labels_))"
   ]
  },
  {
   "cell_type": "code",
   "execution_count": 11,
   "metadata": {},
   "outputs": [],
   "source": [
    "from sklearn.decomposition import PCA\n",
    "\n",
    "red_X2= PCA(n_components=2, random_state=0).fit_transform(X2)"
   ]
  },
  {
   "cell_type": "code",
   "execution_count": 64,
   "metadata": {},
   "outputs": [
    {
     "data": {
      "image/png": "[encoded data removed]",
      "text/plain": [
       "<Figure size 432x288 with 1 Axes>"
      ]
     },
     "metadata": {
      "needs_background": "light"
     },
     "output_type": "display_data"
    }
   ],
   "source": [
    "plt.scatter(red_X2[:, 0], red_X2[:, 1], c=kmeans4.labels_)\n",
    "plt.title(\"K-Means K=4\")\n",
    "plt.show()"
   ]
  },
  {
   "cell_type": "code",
   "execution_count": 65,
   "metadata": {},
   "outputs": [
    {
     "data": {
      "image/png": "[encoded data removed]",
      "text/plain": [
       "<Figure size 432x288 with 1 Axes>"
      ]
     },
     "metadata": {
      "needs_background": "light"
     },
     "output_type": "display_data"
    }
   ],
   "source": [
    "plt.scatter(red_X2[:, 0], red_X2[:, 1], c=kmeans5.labels_)\n",
    "plt.title(\"K-Means K=5\")\n",
    "plt.show()"
   ]
  },
  {
   "cell_type": "code",
   "execution_count": 66,
   "metadata": {},
   "outputs": [
    {
     "data": {
      "text/html": [
       "<div>\n",
       "<style scoped>\n",
       "    .dataframe tbody tr th:only-of-type {\n",
       "        vertical-align: middle;\n",
       "    }\n",
       "\n",
       "    .dataframe tbody tr th {\n",
       "        vertical-align: top;\n",
       "    }\n",
       "\n",
       "    .dataframe thead th {\n",
       "        text-align: right;\n",
       "    }\n",
       "</style>\n",
       "<table border=\"1\" class=\"dataframe\">\n",
       "  <thead>\n",
       "    <tr style=\"text-align: right;\">\n",
       "      <th></th>\n",
       "      <th>sentiment_polarity_score</th>\n",
       "      <th>SPQ1</th>\n",
       "      <th>SPQ3</th>\n",
       "      <th>ease_of_reading_score</th>\n",
       "      <th>ERQ1</th>\n",
       "      <th>ERQ3</th>\n",
       "      <th>sentiment_subjectivity_score</th>\n",
       "      <th>SSQ1</th>\n",
       "      <th>SSQ3</th>\n",
       "      <th>spelling_quality_score</th>\n",
       "      <th>SQQ1</th>\n",
       "      <th>SQQ3</th>\n",
       "      <th>sentences_count</th>\n",
       "      <th>characters_count</th>\n",
       "      <th>count_words</th>\n",
       "      <th>spaces_count</th>\n",
       "      <th>alpha_numeric_count</th>\n",
       "      <th>punctuations_count</th>\n",
       "      <th>noun_phase_count</th>\n",
       "    </tr>\n",
       "  </thead>\n",
       "  <tbody>\n",
       "    <tr>\n",
       "      <th>count</th>\n",
       "      <td>110.000000</td>\n",
       "      <td>110.000000</td>\n",
       "      <td>110.000000</td>\n",
       "      <td>110.000000</td>\n",
       "      <td>110.000000</td>\n",
       "      <td>110.000000</td>\n",
       "      <td>110.000000</td>\n",
       "      <td>110.000000</td>\n",
       "      <td>110.000000</td>\n",
       "      <td>110.000000</td>\n",
       "      <td>110.000000</td>\n",
       "      <td>110.000000</td>\n",
       "      <td>110.000000</td>\n",
       "      <td>110.000000</td>\n",
       "      <td>110.000000</td>\n",
       "      <td>110.000000</td>\n",
       "      <td>110.000000</td>\n",
       "      <td>110.000000</td>\n",
       "      <td>110.000000</td>\n",
       "    </tr>\n",
       "    <tr>\n",
       "      <th>mean</th>\n",
       "      <td>0.093557</td>\n",
       "      <td>-0.072577</td>\n",
       "      <td>0.295727</td>\n",
       "      <td>0.852538</td>\n",
       "      <td>0.834928</td>\n",
       "      <td>0.876694</td>\n",
       "      <td>0.414763</td>\n",
       "      <td>0.132987</td>\n",
       "      <td>0.617347</td>\n",
       "      <td>0.875626</td>\n",
       "      <td>0.824252</td>\n",
       "      <td>0.987132</td>\n",
       "      <td>0.169660</td>\n",
       "      <td>0.203935</td>\n",
       "      <td>0.210082</td>\n",
       "      <td>0.149560</td>\n",
       "      <td>0.809267</td>\n",
       "      <td>0.040762</td>\n",
       "      <td>0.197470</td>\n",
       "    </tr>\n",
       "    <tr>\n",
       "      <th>std</th>\n",
       "      <td>0.101220</td>\n",
       "      <td>0.104981</td>\n",
       "      <td>0.146595</td>\n",
       "      <td>0.011809</td>\n",
       "      <td>0.012563</td>\n",
       "      <td>0.015628</td>\n",
       "      <td>0.056742</td>\n",
       "      <td>0.145207</td>\n",
       "      <td>0.070222</td>\n",
       "      <td>0.038017</td>\n",
       "      <td>0.055359</td>\n",
       "      <td>0.025480</td>\n",
       "      <td>0.076493</td>\n",
       "      <td>0.080977</td>\n",
       "      <td>0.081673</td>\n",
       "      <td>0.009988</td>\n",
       "      <td>0.014687</td>\n",
       "      <td>0.012638</td>\n",
       "      <td>0.076789</td>\n",
       "    </tr>\n",
       "    <tr>\n",
       "      <th>min</th>\n",
       "      <td>-0.142060</td>\n",
       "      <td>-0.460833</td>\n",
       "      <td>0.000000</td>\n",
       "      <td>0.811363</td>\n",
       "      <td>0.798214</td>\n",
       "      <td>0.842706</td>\n",
       "      <td>0.271669</td>\n",
       "      <td>0.000000</td>\n",
       "      <td>0.445833</td>\n",
       "      <td>0.721009</td>\n",
       "      <td>0.653846</td>\n",
       "      <td>0.888889</td>\n",
       "      <td>0.003623</td>\n",
       "      <td>0.000956</td>\n",
       "      <td>0.003540</td>\n",
       "      <td>0.123901</td>\n",
       "      <td>0.711828</td>\n",
       "      <td>0.010392</td>\n",
       "      <td>0.007239</td>\n",
       "    </tr>\n",
       "    <tr>\n",
       "      <th>25%</th>\n",
       "      <td>0.023328</td>\n",
       "      <td>-0.110000</td>\n",
       "      <td>0.197135</td>\n",
       "      <td>0.844489</td>\n",
       "      <td>0.825267</td>\n",
       "      <td>0.864014</td>\n",
       "      <td>0.368194</td>\n",
       "      <td>0.000000</td>\n",
       "      <td>0.577976</td>\n",
       "      <td>0.855079</td>\n",
       "      <td>0.800000</td>\n",
       "      <td>0.995313</td>\n",
       "      <td>0.113694</td>\n",
       "      <td>0.137760</td>\n",
       "      <td>0.150470</td>\n",
       "      <td>0.144402</td>\n",
       "      <td>0.804752</td>\n",
       "      <td>0.035183</td>\n",
       "      <td>0.142170</td>\n",
       "    </tr>\n",
       "    <tr>\n",
       "      <th>50%</th>\n",
       "      <td>0.094289</td>\n",
       "      <td>-0.011830</td>\n",
       "      <td>0.295258</td>\n",
       "      <td>0.852425</td>\n",
       "      <td>0.834760</td>\n",
       "      <td>0.874361</td>\n",
       "      <td>0.415811</td>\n",
       "      <td>0.068750</td>\n",
       "      <td>0.600000</td>\n",
       "      <td>0.881107</td>\n",
       "      <td>0.831386</td>\n",
       "      <td>1.000000</td>\n",
       "      <td>0.177106</td>\n",
       "      <td>0.217917</td>\n",
       "      <td>0.221277</td>\n",
       "      <td>0.147941</td>\n",
       "      <td>0.809766</td>\n",
       "      <td>0.039704</td>\n",
       "      <td>0.205617</td>\n",
       "    </tr>\n",
       "    <tr>\n",
       "      <th>75%</th>\n",
       "      <td>0.175417</td>\n",
       "      <td>0.000000</td>\n",
       "      <td>0.414583</td>\n",
       "      <td>0.861404</td>\n",
       "      <td>0.843772</td>\n",
       "      <td>0.887863</td>\n",
       "      <td>0.459953</td>\n",
       "      <td>0.255208</td>\n",
       "      <td>0.658266</td>\n",
       "      <td>0.901497</td>\n",
       "      <td>0.865933</td>\n",
       "      <td>1.000000</td>\n",
       "      <td>0.224012</td>\n",
       "      <td>0.262843</td>\n",
       "      <td>0.264168</td>\n",
       "      <td>0.154754</td>\n",
       "      <td>0.814768</td>\n",
       "      <td>0.044513</td>\n",
       "      <td>0.248898</td>\n",
       "    </tr>\n",
       "    <tr>\n",
       "      <th>max</th>\n",
       "      <td>0.278184</td>\n",
       "      <td>0.008333</td>\n",
       "      <td>0.575000</td>\n",
       "      <td>0.877567</td>\n",
       "      <td>0.860275</td>\n",
       "      <td>0.903669</td>\n",
       "      <td>0.555331</td>\n",
       "      <td>0.423810</td>\n",
       "      <td>0.868750</td>\n",
       "      <td>0.959457</td>\n",
       "      <td>0.961538</td>\n",
       "      <td>1.000000</td>\n",
       "      <td>0.344900</td>\n",
       "      <td>0.378103</td>\n",
       "      <td>0.395138</td>\n",
       "      <td>0.182603</td>\n",
       "      <td>0.863309</td>\n",
       "      <td>0.142652</td>\n",
       "      <td>0.370604</td>\n",
       "    </tr>\n",
       "  </tbody>\n",
       "</table>\n",
       "</div>"
      ],
      "text/plain": [
       "       sentiment_polarity_score        SPQ1        SPQ3  \\\n",
       "count                110.000000  110.000000  110.000000   \n",
       "mean                   0.093557   -0.072577    0.295727   \n",
       "std                    0.101220    0.104981    0.146595   \n",
       "min                   -0.142060   -0.460833    0.000000   \n",
       "25%                    0.023328   -0.110000    0.197135   \n",
       "50%                    0.094289   -0.011830    0.295258   \n",
       "75%                    0.175417    0.000000    0.414583   \n",
       "max                    0.278184    0.008333    0.575000   \n",
       "\n",
       "       ease_of_reading_score        ERQ1        ERQ3  \\\n",
       "count             110.000000  110.000000  110.000000   \n",
       "mean                0.852538    0.834928    0.876694   \n",
       "std                 0.011809    0.012563    0.015628   \n",
       "min                 0.811363    0.798214    0.842706   \n",
       "25%                 0.844489    0.825267    0.864014   \n",
       "50%                 0.852425    0.834760    0.874361   \n",
       "75%                 0.861404    0.843772    0.887863   \n",
       "max                 0.877567    0.860275    0.903669   \n",
       "\n",
       "       sentiment_subjectivity_score        SSQ1        SSQ3  \\\n",
       "count                    110.000000  110.000000  110.000000   \n",
       "mean                       0.414763    0.132987    0.617347   \n",
       "std                        0.056742    0.145207    0.070222   \n",
       "min                        0.271669    0.000000    0.445833   \n",
       "25%                        0.368194    0.000000    0.577976   \n",
       "50%                        0.415811    0.068750    0.600000   \n",
       "75%                        0.459953    0.255208    0.658266   \n",
       "max                        0.555331    0.423810    0.868750   \n",
       "\n",
       "       spelling_quality_score        SQQ1        SQQ3  sentences_count  \\\n",
       "count              110.000000  110.000000  110.000000       110.000000   \n",
       "mean                 0.875626    0.824252    0.987132         0.169660   \n",
       "std                  0.038017    0.055359    0.025480         0.076493   \n",
       "min                  0.721009    0.653846    0.888889         0.003623   \n",
       "25%                  0.855079    0.800000    0.995313         0.113694   \n",
       "50%                  0.881107    0.831386    1.000000         0.177106   \n",
       "75%                  0.901497    0.865933    1.000000         0.224012   \n",
       "max                  0.959457    0.961538    1.000000         0.344900   \n",
       "\n",
       "       characters_count  count_words  spaces_count  alpha_numeric_count  \\\n",
       "count        110.000000   110.000000    110.000000           110.000000   \n",
       "mean           0.203935     0.210082      0.149560             0.809267   \n",
       "std            0.080977     0.081673      0.009988             0.014687   \n",
       "min            0.000956     0.003540      0.123901             0.711828   \n",
       "25%            0.137760     0.150470      0.144402             0.804752   \n",
       "50%            0.217917     0.221277      0.147941             0.809766   \n",
       "75%            0.262843     0.264168      0.154754             0.814768   \n",
       "max            0.378103     0.395138      0.182603             0.863309   \n",
       "\n",
       "       punctuations_count  noun_phase_count  \n",
       "count          110.000000        110.000000  \n",
       "mean             0.040762          0.197470  \n",
       "std              0.012638          0.076789  \n",
       "min              0.010392          0.007239  \n",
       "25%              0.035183          0.142170  \n",
       "50%              0.039704          0.205617  \n",
       "75%              0.044513          0.248898  \n",
       "max              0.142652          0.370604  "
      ]
     },
     "execution_count": 66,
     "metadata": {},
     "output_type": "execute_result"
    }
   ],
   "source": [
    "Y2_1 = X2.copy()\n",
    "xcol = X2.columns\n",
    "Y2_1[\"label\"] = kmeans4.labels_\n",
    "Y2_1[Y2_1.label == 0][xcol].describe()"
   ]
  },
  {
   "cell_type": "code",
   "execution_count": 67,
   "metadata": {},
   "outputs": [
    {
     "data": {
      "text/html": [
       "<div>\n",
       "<style scoped>\n",
       "    .dataframe tbody tr th:only-of-type {\n",
       "        vertical-align: middle;\n",
       "    }\n",
       "\n",
       "    .dataframe tbody tr th {\n",
       "        vertical-align: top;\n",
       "    }\n",
       "\n",
       "    .dataframe thead th {\n",
       "        text-align: right;\n",
       "    }\n",
       "</style>\n",
       "<table border=\"1\" class=\"dataframe\">\n",
       "  <thead>\n",
       "    <tr style=\"text-align: right;\">\n",
       "      <th></th>\n",
       "      <th>sentiment_polarity_score</th>\n",
       "      <th>SPQ1</th>\n",
       "      <th>SPQ3</th>\n",
       "      <th>ease_of_reading_score</th>\n",
       "      <th>ERQ1</th>\n",
       "      <th>ERQ3</th>\n",
       "      <th>sentiment_subjectivity_score</th>\n",
       "      <th>SSQ1</th>\n",
       "      <th>SSQ3</th>\n",
       "      <th>spelling_quality_score</th>\n",
       "      <th>SQQ1</th>\n",
       "      <th>SQQ3</th>\n",
       "      <th>sentences_count</th>\n",
       "      <th>characters_count</th>\n",
       "      <th>count_words</th>\n",
       "      <th>spaces_count</th>\n",
       "      <th>alpha_numeric_count</th>\n",
       "      <th>punctuations_count</th>\n",
       "      <th>noun_phase_count</th>\n",
       "    </tr>\n",
       "  </thead>\n",
       "  <tbody>\n",
       "    <tr>\n",
       "      <th>count</th>\n",
       "      <td>92.000000</td>\n",
       "      <td>92.000000</td>\n",
       "      <td>92.000000</td>\n",
       "      <td>92.000000</td>\n",
       "      <td>92.000000</td>\n",
       "      <td>92.000000</td>\n",
       "      <td>92.000000</td>\n",
       "      <td>92.000000</td>\n",
       "      <td>92.000000</td>\n",
       "      <td>92.000000</td>\n",
       "      <td>92.000000</td>\n",
       "      <td>92.000000</td>\n",
       "      <td>92.000000</td>\n",
       "      <td>92.000000</td>\n",
       "      <td>92.000000</td>\n",
       "      <td>92.000000</td>\n",
       "      <td>92.000000</td>\n",
       "      <td>92.000000</td>\n",
       "      <td>92.000000</td>\n",
       "    </tr>\n",
       "    <tr>\n",
       "      <th>mean</th>\n",
       "      <td>0.102619</td>\n",
       "      <td>-0.024292</td>\n",
       "      <td>0.241791</td>\n",
       "      <td>0.844828</td>\n",
       "      <td>0.834300</td>\n",
       "      <td>0.857092</td>\n",
       "      <td>0.508191</td>\n",
       "      <td>0.417634</td>\n",
       "      <td>0.603318</td>\n",
       "      <td>0.904117</td>\n",
       "      <td>0.872687</td>\n",
       "      <td>0.942143</td>\n",
       "      <td>0.634321</td>\n",
       "      <td>0.658805</td>\n",
       "      <td>0.678112</td>\n",
       "      <td>0.155160</td>\n",
       "      <td>0.804414</td>\n",
       "      <td>0.040331</td>\n",
       "      <td>0.657859</td>\n",
       "    </tr>\n",
       "    <tr>\n",
       "      <th>std</th>\n",
       "      <td>0.089151</td>\n",
       "      <td>0.092815</td>\n",
       "      <td>0.094417</td>\n",
       "      <td>0.006187</td>\n",
       "      <td>0.007400</td>\n",
       "      <td>0.005714</td>\n",
       "      <td>0.036084</td>\n",
       "      <td>0.046559</td>\n",
       "      <td>0.042902</td>\n",
       "      <td>0.019908</td>\n",
       "      <td>0.026263</td>\n",
       "      <td>0.017949</td>\n",
       "      <td>0.114822</td>\n",
       "      <td>0.099168</td>\n",
       "      <td>0.103930</td>\n",
       "      <td>0.005307</td>\n",
       "      <td>0.006659</td>\n",
       "      <td>0.004601</td>\n",
       "      <td>0.105228</td>\n",
       "    </tr>\n",
       "    <tr>\n",
       "      <th>min</th>\n",
       "      <td>-0.042331</td>\n",
       "      <td>-0.230469</td>\n",
       "      <td>0.079196</td>\n",
       "      <td>0.831602</td>\n",
       "      <td>0.817589</td>\n",
       "      <td>0.846596</td>\n",
       "      <td>0.382123</td>\n",
       "      <td>0.293750</td>\n",
       "      <td>0.491837</td>\n",
       "      <td>0.837230</td>\n",
       "      <td>0.791299</td>\n",
       "      <td>0.880000</td>\n",
       "      <td>0.412185</td>\n",
       "      <td>0.503495</td>\n",
       "      <td>0.534376</td>\n",
       "      <td>0.143822</td>\n",
       "      <td>0.774686</td>\n",
       "      <td>0.020886</td>\n",
       "      <td>0.481829</td>\n",
       "    </tr>\n",
       "    <tr>\n",
       "      <th>25%</th>\n",
       "      <td>0.037878</td>\n",
       "      <td>-0.088702</td>\n",
       "      <td>0.166563</td>\n",
       "      <td>0.839781</td>\n",
       "      <td>0.829256</td>\n",
       "      <td>0.852516</td>\n",
       "      <td>0.488386</td>\n",
       "      <td>0.383369</td>\n",
       "      <td>0.575667</td>\n",
       "      <td>0.893311</td>\n",
       "      <td>0.857143</td>\n",
       "      <td>0.933333</td>\n",
       "      <td>0.569759</td>\n",
       "      <td>0.577868</td>\n",
       "      <td>0.601569</td>\n",
       "      <td>0.150697</td>\n",
       "      <td>0.799899</td>\n",
       "      <td>0.037772</td>\n",
       "      <td>0.589438</td>\n",
       "    </tr>\n",
       "    <tr>\n",
       "      <th>50%</th>\n",
       "      <td>0.081662</td>\n",
       "      <td>-0.039395</td>\n",
       "      <td>0.221111</td>\n",
       "      <td>0.843796</td>\n",
       "      <td>0.832815</td>\n",
       "      <td>0.858027</td>\n",
       "      <td>0.511256</td>\n",
       "      <td>0.424380</td>\n",
       "      <td>0.600000</td>\n",
       "      <td>0.905833</td>\n",
       "      <td>0.874780</td>\n",
       "      <td>0.944444</td>\n",
       "      <td>0.605958</td>\n",
       "      <td>0.638555</td>\n",
       "      <td>0.646612</td>\n",
       "      <td>0.154098</td>\n",
       "      <td>0.804422</td>\n",
       "      <td>0.040616</td>\n",
       "      <td>0.637849</td>\n",
       "    </tr>\n",
       "    <tr>\n",
       "      <th>75%</th>\n",
       "      <td>0.170738</td>\n",
       "      <td>0.026674</td>\n",
       "      <td>0.304531</td>\n",
       "      <td>0.850032</td>\n",
       "      <td>0.840491</td>\n",
       "      <td>0.860597</td>\n",
       "      <td>0.526391</td>\n",
       "      <td>0.450030</td>\n",
       "      <td>0.626830</td>\n",
       "      <td>0.918971</td>\n",
       "      <td>0.893047</td>\n",
       "      <td>0.955300</td>\n",
       "      <td>0.698602</td>\n",
       "      <td>0.716895</td>\n",
       "      <td>0.739299</td>\n",
       "      <td>0.159827</td>\n",
       "      <td>0.808544</td>\n",
       "      <td>0.042688</td>\n",
       "      <td>0.710772</td>\n",
       "    </tr>\n",
       "    <tr>\n",
       "      <th>max</th>\n",
       "      <td>0.325055</td>\n",
       "      <td>0.200033</td>\n",
       "      <td>0.468182</td>\n",
       "      <td>0.857489</td>\n",
       "      <td>0.850711</td>\n",
       "      <td>0.869219</td>\n",
       "      <td>0.591402</td>\n",
       "      <td>0.515783</td>\n",
       "      <td>0.722222</td>\n",
       "      <td>0.942277</td>\n",
       "      <td>0.921216</td>\n",
       "      <td>0.975000</td>\n",
       "      <td>1.000000</td>\n",
       "      <td>1.000000</td>\n",
       "      <td>1.000000</td>\n",
       "      <td>0.166883</td>\n",
       "      <td>0.820148</td>\n",
       "      <td>0.058114</td>\n",
       "      <td>1.000000</td>\n",
       "    </tr>\n",
       "  </tbody>\n",
       "</table>\n",
       "</div>"
      ],
      "text/plain": [
       "       sentiment_polarity_score       SPQ1       SPQ3  ease_of_reading_score  \\\n",
       "count                 92.000000  92.000000  92.000000              92.000000   \n",
       "mean                   0.102619  -0.024292   0.241791               0.844828   \n",
       "std                    0.089151   0.092815   0.094417               0.006187   \n",
       "min                   -0.042331  -0.230469   0.079196               0.831602   \n",
       "25%                    0.037878  -0.088702   0.166563               0.839781   \n",
       "50%                    0.081662  -0.039395   0.221111               0.843796   \n",
       "75%                    0.170738   0.026674   0.304531               0.850032   \n",
       "max                    0.325055   0.200033   0.468182               0.857489   \n",
       "\n",
       "            ERQ1       ERQ3  sentiment_subjectivity_score       SSQ1  \\\n",
       "count  92.000000  92.000000                     92.000000  92.000000   \n",
       "mean    0.834300   0.857092                      0.508191   0.417634   \n",
       "std     0.007400   0.005714                      0.036084   0.046559   \n",
       "min     0.817589   0.846596                      0.382123   0.293750   \n",
       "25%     0.829256   0.852516                      0.488386   0.383369   \n",
       "50%     0.832815   0.858027                      0.511256   0.424380   \n",
       "75%     0.840491   0.860597                      0.526391   0.450030   \n",
       "max     0.850711   0.869219                      0.591402   0.515783   \n",
       "\n",
       "            SSQ3  spelling_quality_score       SQQ1       SQQ3  \\\n",
       "count  92.000000               92.000000  92.000000  92.000000   \n",
       "mean    0.603318                0.904117   0.872687   0.942143   \n",
       "std     0.042902                0.019908   0.026263   0.017949   \n",
       "min     0.491837                0.837230   0.791299   0.880000   \n",
       "25%     0.575667                0.893311   0.857143   0.933333   \n",
       "50%     0.600000                0.905833   0.874780   0.944444   \n",
       "75%     0.626830                0.918971   0.893047   0.955300   \n",
       "max     0.722222                0.942277   0.921216   0.975000   \n",
       "\n",
       "       sentences_count  characters_count  count_words  spaces_count  \\\n",
       "count        92.000000         92.000000    92.000000     92.000000   \n",
       "mean          0.634321          0.658805     0.678112      0.155160   \n",
       "std           0.114822          0.099168     0.103930      0.005307   \n",
       "min           0.412185          0.503495     0.534376      0.143822   \n",
       "25%           0.569759          0.577868     0.601569      0.150697   \n",
       "50%           0.605958          0.638555     0.646612      0.154098   \n",
       "75%           0.698602          0.716895     0.739299      0.159827   \n",
       "max           1.000000          1.000000     1.000000      0.166883   \n",
       "\n",
       "       alpha_numeric_count  punctuations_count  noun_phase_count  \n",
       "count            92.000000           92.000000         92.000000  \n",
       "mean              0.804414            0.040331          0.657859  \n",
       "std               0.006659            0.004601          0.105228  \n",
       "min               0.774686            0.020886          0.481829  \n",
       "25%               0.799899            0.037772          0.589438  \n",
       "50%               0.804422            0.040616          0.637849  \n",
       "75%               0.808544            0.042688          0.710772  \n",
       "max               0.820148            0.058114          1.000000  "
      ]
     },
     "execution_count": 67,
     "metadata": {},
     "output_type": "execute_result"
    }
   ],
   "source": [
    "Y2_1[Y2_1.label == 1][xcol].describe()"
   ]
  },
  {
   "cell_type": "code",
   "execution_count": 68,
   "metadata": {},
   "outputs": [
    {
     "data": {
      "text/html": [
       "<div>\n",
       "<style scoped>\n",
       "    .dataframe tbody tr th:only-of-type {\n",
       "        vertical-align: middle;\n",
       "    }\n",
       "\n",
       "    .dataframe tbody tr th {\n",
       "        vertical-align: top;\n",
       "    }\n",
       "\n",
       "    .dataframe thead th {\n",
       "        text-align: right;\n",
       "    }\n",
       "</style>\n",
       "<table border=\"1\" class=\"dataframe\">\n",
       "  <thead>\n",
       "    <tr style=\"text-align: right;\">\n",
       "      <th></th>\n",
       "      <th>sentiment_polarity_score</th>\n",
       "      <th>SPQ1</th>\n",
       "      <th>SPQ3</th>\n",
       "      <th>ease_of_reading_score</th>\n",
       "      <th>ERQ1</th>\n",
       "      <th>ERQ3</th>\n",
       "      <th>sentiment_subjectivity_score</th>\n",
       "      <th>SSQ1</th>\n",
       "      <th>SSQ3</th>\n",
       "      <th>spelling_quality_score</th>\n",
       "      <th>SQQ1</th>\n",
       "      <th>SQQ3</th>\n",
       "      <th>sentences_count</th>\n",
       "      <th>characters_count</th>\n",
       "      <th>count_words</th>\n",
       "      <th>spaces_count</th>\n",
       "      <th>alpha_numeric_count</th>\n",
       "      <th>punctuations_count</th>\n",
       "      <th>noun_phase_count</th>\n",
       "    </tr>\n",
       "  </thead>\n",
       "  <tbody>\n",
       "    <tr>\n",
       "      <th>count</th>\n",
       "      <td>224.000000</td>\n",
       "      <td>224.000000</td>\n",
       "      <td>224.000000</td>\n",
       "      <td>224.000000</td>\n",
       "      <td>224.000000</td>\n",
       "      <td>224.000000</td>\n",
       "      <td>224.000000</td>\n",
       "      <td>224.000000</td>\n",
       "      <td>224.000000</td>\n",
       "      <td>224.000000</td>\n",
       "      <td>224.000000</td>\n",
       "      <td>224.000000</td>\n",
       "      <td>224.000000</td>\n",
       "      <td>224.000000</td>\n",
       "      <td>224.000000</td>\n",
       "      <td>224.000000</td>\n",
       "      <td>224.000000</td>\n",
       "      <td>224.000000</td>\n",
       "      <td>2.240000e+02</td>\n",
       "    </tr>\n",
       "    <tr>\n",
       "      <th>mean</th>\n",
       "      <td>0.329172</td>\n",
       "      <td>0.081959</td>\n",
       "      <td>0.591180</td>\n",
       "      <td>0.855974</td>\n",
       "      <td>0.835669</td>\n",
       "      <td>0.885027</td>\n",
       "      <td>0.524180</td>\n",
       "      <td>0.325477</td>\n",
       "      <td>0.731298</td>\n",
       "      <td>0.885208</td>\n",
       "      <td>0.832039</td>\n",
       "      <td>0.995842</td>\n",
       "      <td>0.109820</td>\n",
       "      <td>0.129343</td>\n",
       "      <td>0.131546</td>\n",
       "      <td>0.142970</td>\n",
       "      <td>0.817798</td>\n",
       "      <td>0.038449</td>\n",
       "      <td>1.311989e-01</td>\n",
       "    </tr>\n",
       "    <tr>\n",
       "      <th>std</th>\n",
       "      <td>0.097005</td>\n",
       "      <td>0.120708</td>\n",
       "      <td>0.100760</td>\n",
       "      <td>0.012106</td>\n",
       "      <td>0.015146</td>\n",
       "      <td>0.016437</td>\n",
       "      <td>0.057059</td>\n",
       "      <td>0.149309</td>\n",
       "      <td>0.081368</td>\n",
       "      <td>0.038683</td>\n",
       "      <td>0.062298</td>\n",
       "      <td>0.016134</td>\n",
       "      <td>0.072244</td>\n",
       "      <td>0.077684</td>\n",
       "      <td>0.078031</td>\n",
       "      <td>0.010224</td>\n",
       "      <td>0.014196</td>\n",
       "      <td>0.008793</td>\n",
       "      <td>7.806307e-02</td>\n",
       "    </tr>\n",
       "    <tr>\n",
       "      <th>min</th>\n",
       "      <td>0.099120</td>\n",
       "      <td>-0.250000</td>\n",
       "      <td>0.345833</td>\n",
       "      <td>0.819555</td>\n",
       "      <td>0.774509</td>\n",
       "      <td>0.840282</td>\n",
       "      <td>0.347588</td>\n",
       "      <td>0.000000</td>\n",
       "      <td>0.598214</td>\n",
       "      <td>0.731668</td>\n",
       "      <td>0.666667</td>\n",
       "      <td>0.888889</td>\n",
       "      <td>0.000000</td>\n",
       "      <td>0.000000</td>\n",
       "      <td>0.000000</td>\n",
       "      <td>0.106481</td>\n",
       "      <td>0.772857</td>\n",
       "      <td>0.010401</td>\n",
       "      <td>-6.938894e-18</td>\n",
       "    </tr>\n",
       "    <tr>\n",
       "      <th>25%</th>\n",
       "      <td>0.264584</td>\n",
       "      <td>0.000000</td>\n",
       "      <td>0.504792</td>\n",
       "      <td>0.848917</td>\n",
       "      <td>0.824294</td>\n",
       "      <td>0.871300</td>\n",
       "      <td>0.486997</td>\n",
       "      <td>0.279687</td>\n",
       "      <td>0.672917</td>\n",
       "      <td>0.865786</td>\n",
       "      <td>0.800000</td>\n",
       "      <td>1.000000</td>\n",
       "      <td>0.044534</td>\n",
       "      <td>0.058069</td>\n",
       "      <td>0.062793</td>\n",
       "      <td>0.137345</td>\n",
       "      <td>0.808609</td>\n",
       "      <td>0.034471</td>\n",
       "      <td>6.557357e-02</td>\n",
       "    </tr>\n",
       "    <tr>\n",
       "      <th>50%</th>\n",
       "      <td>0.335546</td>\n",
       "      <td>0.000000</td>\n",
       "      <td>0.600000</td>\n",
       "      <td>0.855480</td>\n",
       "      <td>0.834758</td>\n",
       "      <td>0.886543</td>\n",
       "      <td>0.520864</td>\n",
       "      <td>0.357337</td>\n",
       "      <td>0.750000</td>\n",
       "      <td>0.890821</td>\n",
       "      <td>0.836046</td>\n",
       "      <td>1.000000</td>\n",
       "      <td>0.101008</td>\n",
       "      <td>0.123861</td>\n",
       "      <td>0.124805</td>\n",
       "      <td>0.144069</td>\n",
       "      <td>0.816013</td>\n",
       "      <td>0.038553</td>\n",
       "      <td>1.249385e-01</td>\n",
       "    </tr>\n",
       "    <tr>\n",
       "      <th>75%</th>\n",
       "      <td>0.403584</td>\n",
       "      <td>0.177289</td>\n",
       "      <td>0.683438</td>\n",
       "      <td>0.864886</td>\n",
       "      <td>0.846236</td>\n",
       "      <td>0.901386</td>\n",
       "      <td>0.563351</td>\n",
       "      <td>0.427746</td>\n",
       "      <td>0.772500</td>\n",
       "      <td>0.912721</td>\n",
       "      <td>0.875000</td>\n",
       "      <td>1.000000</td>\n",
       "      <td>0.154552</td>\n",
       "      <td>0.188660</td>\n",
       "      <td>0.190541</td>\n",
       "      <td>0.149269</td>\n",
       "      <td>0.824264</td>\n",
       "      <td>0.043494</td>\n",
       "      <td>1.905550e-01</td>\n",
       "    </tr>\n",
       "    <tr>\n",
       "      <th>max</th>\n",
       "      <td>0.565437</td>\n",
       "      <td>0.397222</td>\n",
       "      <td>0.910000</td>\n",
       "      <td>0.883846</td>\n",
       "      <td>0.871978</td>\n",
       "      <td>0.903669</td>\n",
       "      <td>0.692420</td>\n",
       "      <td>0.600000</td>\n",
       "      <td>1.000000</td>\n",
       "      <td>0.955761</td>\n",
       "      <td>1.000000</td>\n",
       "      <td>1.000000</td>\n",
       "      <td>0.340301</td>\n",
       "      <td>0.337442</td>\n",
       "      <td>0.332591</td>\n",
       "      <td>0.167979</td>\n",
       "      <td>0.861111</td>\n",
       "      <td>0.069541</td>\n",
       "      <td>3.371043e-01</td>\n",
       "    </tr>\n",
       "  </tbody>\n",
       "</table>\n",
       "</div>"
      ],
      "text/plain": [
       "       sentiment_polarity_score        SPQ1        SPQ3  \\\n",
       "count                224.000000  224.000000  224.000000   \n",
       "mean                   0.329172    0.081959    0.591180   \n",
       "std                    0.097005    0.120708    0.100760   \n",
       "min                    0.099120   -0.250000    0.345833   \n",
       "25%                    0.264584    0.000000    0.504792   \n",
       "50%                    0.335546    0.000000    0.600000   \n",
       "75%                    0.403584    0.177289    0.683438   \n",
       "max                    0.565437    0.397222    0.910000   \n",
       "\n",
       "       ease_of_reading_score        ERQ1        ERQ3  \\\n",
       "count             224.000000  224.000000  224.000000   \n",
       "mean                0.855974    0.835669    0.885027   \n",
       "std                 0.012106    0.015146    0.016437   \n",
       "min                 0.819555    0.774509    0.840282   \n",
       "25%                 0.848917    0.824294    0.871300   \n",
       "50%                 0.855480    0.834758    0.886543   \n",
       "75%                 0.864886    0.846236    0.901386   \n",
       "max                 0.883846    0.871978    0.903669   \n",
       "\n",
       "       sentiment_subjectivity_score        SSQ1        SSQ3  \\\n",
       "count                    224.000000  224.000000  224.000000   \n",
       "mean                       0.524180    0.325477    0.731298   \n",
       "std                        0.057059    0.149309    0.081368   \n",
       "min                        0.347588    0.000000    0.598214   \n",
       "25%                        0.486997    0.279687    0.672917   \n",
       "50%                        0.520864    0.357337    0.750000   \n",
       "75%                        0.563351    0.427746    0.772500   \n",
       "max                        0.692420    0.600000    1.000000   \n",
       "\n",
       "       spelling_quality_score        SQQ1        SQQ3  sentences_count  \\\n",
       "count              224.000000  224.000000  224.000000       224.000000   \n",
       "mean                 0.885208    0.832039    0.995842         0.109820   \n",
       "std                  0.038683    0.062298    0.016134         0.072244   \n",
       "min                  0.731668    0.666667    0.888889         0.000000   \n",
       "25%                  0.865786    0.800000    1.000000         0.044534   \n",
       "50%                  0.890821    0.836046    1.000000         0.101008   \n",
       "75%                  0.912721    0.875000    1.000000         0.154552   \n",
       "max                  0.955761    1.000000    1.000000         0.340301   \n",
       "\n",
       "       characters_count  count_words  spaces_count  alpha_numeric_count  \\\n",
       "count        224.000000   224.000000    224.000000           224.000000   \n",
       "mean           0.129343     0.131546      0.142970             0.817798   \n",
       "std            0.077684     0.078031      0.010224             0.014196   \n",
       "min            0.000000     0.000000      0.106481             0.772857   \n",
       "25%            0.058069     0.062793      0.137345             0.808609   \n",
       "50%            0.123861     0.124805      0.144069             0.816013   \n",
       "75%            0.188660     0.190541      0.149269             0.824264   \n",
       "max            0.337442     0.332591      0.167979             0.861111   \n",
       "\n",
       "       punctuations_count  noun_phase_count  \n",
       "count          224.000000      2.240000e+02  \n",
       "mean             0.038449      1.311989e-01  \n",
       "std              0.008793      7.806307e-02  \n",
       "min              0.010401     -6.938894e-18  \n",
       "25%              0.034471      6.557357e-02  \n",
       "50%              0.038553      1.249385e-01  \n",
       "75%              0.043494      1.905550e-01  \n",
       "max              0.069541      3.371043e-01  "
      ]
     },
     "execution_count": 68,
     "metadata": {},
     "output_type": "execute_result"
    }
   ],
   "source": [
    "Y2_1[Y2_1.label == 2][xcol].describe()"
   ]
  },
  {
   "cell_type": "code",
   "execution_count": 69,
   "metadata": {},
   "outputs": [
    {
     "data": {
      "text/html": [
       "<div>\n",
       "<style scoped>\n",
       "    .dataframe tbody tr th:only-of-type {\n",
       "        vertical-align: middle;\n",
       "    }\n",
       "\n",
       "    .dataframe tbody tr th {\n",
       "        vertical-align: top;\n",
       "    }\n",
       "\n",
       "    .dataframe thead th {\n",
       "        text-align: right;\n",
       "    }\n",
       "</style>\n",
       "<table border=\"1\" class=\"dataframe\">\n",
       "  <thead>\n",
       "    <tr style=\"text-align: right;\">\n",
       "      <th></th>\n",
       "      <th>sentiment_polarity_score</th>\n",
       "      <th>SPQ1</th>\n",
       "      <th>SPQ3</th>\n",
       "      <th>ease_of_reading_score</th>\n",
       "      <th>ERQ1</th>\n",
       "      <th>ERQ3</th>\n",
       "      <th>sentiment_subjectivity_score</th>\n",
       "      <th>SSQ1</th>\n",
       "      <th>SSQ3</th>\n",
       "      <th>spelling_quality_score</th>\n",
       "      <th>SQQ1</th>\n",
       "      <th>SQQ3</th>\n",
       "      <th>sentences_count</th>\n",
       "      <th>characters_count</th>\n",
       "      <th>count_words</th>\n",
       "      <th>spaces_count</th>\n",
       "      <th>alpha_numeric_count</th>\n",
       "      <th>punctuations_count</th>\n",
       "      <th>noun_phase_count</th>\n",
       "    </tr>\n",
       "  </thead>\n",
       "  <tbody>\n",
       "    <tr>\n",
       "      <th>count</th>\n",
       "      <td>181.000000</td>\n",
       "      <td>181.000000</td>\n",
       "      <td>181.000000</td>\n",
       "      <td>181.000000</td>\n",
       "      <td>181.000000</td>\n",
       "      <td>181.000000</td>\n",
       "      <td>181.000000</td>\n",
       "      <td>181.000000</td>\n",
       "      <td>181.000000</td>\n",
       "      <td>181.000000</td>\n",
       "      <td>181.000000</td>\n",
       "      <td>181.000000</td>\n",
       "      <td>181.000000</td>\n",
       "      <td>181.000000</td>\n",
       "      <td>181.000000</td>\n",
       "      <td>181.000000</td>\n",
       "      <td>181.000000</td>\n",
       "      <td>181.000000</td>\n",
       "      <td>181.000000</td>\n",
       "    </tr>\n",
       "    <tr>\n",
       "      <th>mean</th>\n",
       "      <td>0.146988</td>\n",
       "      <td>-0.026857</td>\n",
       "      <td>0.332092</td>\n",
       "      <td>0.845778</td>\n",
       "      <td>0.831791</td>\n",
       "      <td>0.861116</td>\n",
       "      <td>0.494453</td>\n",
       "      <td>0.371352</td>\n",
       "      <td>0.633956</td>\n",
       "      <td>0.896494</td>\n",
       "      <td>0.856913</td>\n",
       "      <td>0.958109</td>\n",
       "      <td>0.342829</td>\n",
       "      <td>0.393844</td>\n",
       "      <td>0.403198</td>\n",
       "      <td>0.152768</td>\n",
       "      <td>0.807158</td>\n",
       "      <td>0.039886</td>\n",
       "      <td>0.393886</td>\n",
       "    </tr>\n",
       "    <tr>\n",
       "      <th>std</th>\n",
       "      <td>0.106484</td>\n",
       "      <td>0.105271</td>\n",
       "      <td>0.123837</td>\n",
       "      <td>0.007607</td>\n",
       "      <td>0.008988</td>\n",
       "      <td>0.008148</td>\n",
       "      <td>0.050358</td>\n",
       "      <td>0.076385</td>\n",
       "      <td>0.053275</td>\n",
       "      <td>0.027000</td>\n",
       "      <td>0.034986</td>\n",
       "      <td>0.030474</td>\n",
       "      <td>0.088051</td>\n",
       "      <td>0.077064</td>\n",
       "      <td>0.078675</td>\n",
       "      <td>0.006326</td>\n",
       "      <td>0.007248</td>\n",
       "      <td>0.005517</td>\n",
       "      <td>0.078518</td>\n",
       "    </tr>\n",
       "    <tr>\n",
       "      <th>min</th>\n",
       "      <td>-0.099251</td>\n",
       "      <td>-0.385714</td>\n",
       "      <td>0.047917</td>\n",
       "      <td>0.826542</td>\n",
       "      <td>0.805874</td>\n",
       "      <td>0.839933</td>\n",
       "      <td>0.367368</td>\n",
       "      <td>0.180000</td>\n",
       "      <td>0.475000</td>\n",
       "      <td>0.826344</td>\n",
       "      <td>0.756211</td>\n",
       "      <td>0.875203</td>\n",
       "      <td>0.128763</td>\n",
       "      <td>0.228173</td>\n",
       "      <td>0.250612</td>\n",
       "      <td>0.133849</td>\n",
       "      <td>0.784594</td>\n",
       "      <td>0.022294</td>\n",
       "      <td>0.242427</td>\n",
       "    </tr>\n",
       "    <tr>\n",
       "      <th>25%</th>\n",
       "      <td>0.071301</td>\n",
       "      <td>-0.077083</td>\n",
       "      <td>0.245691</td>\n",
       "      <td>0.840898</td>\n",
       "      <td>0.826769</td>\n",
       "      <td>0.855321</td>\n",
       "      <td>0.464122</td>\n",
       "      <td>0.326000</td>\n",
       "      <td>0.600000</td>\n",
       "      <td>0.875752</td>\n",
       "      <td>0.829545</td>\n",
       "      <td>0.939236</td>\n",
       "      <td>0.274004</td>\n",
       "      <td>0.331598</td>\n",
       "      <td>0.337613</td>\n",
       "      <td>0.148578</td>\n",
       "      <td>0.802329</td>\n",
       "      <td>0.036070</td>\n",
       "      <td>0.333778</td>\n",
       "    </tr>\n",
       "    <tr>\n",
       "      <th>50%</th>\n",
       "      <td>0.156799</td>\n",
       "      <td>0.000000</td>\n",
       "      <td>0.350000</td>\n",
       "      <td>0.845732</td>\n",
       "      <td>0.831936</td>\n",
       "      <td>0.860522</td>\n",
       "      <td>0.492744</td>\n",
       "      <td>0.374821</td>\n",
       "      <td>0.629487</td>\n",
       "      <td>0.900417</td>\n",
       "      <td>0.863245</td>\n",
       "      <td>0.956522</td>\n",
       "      <td>0.339817</td>\n",
       "      <td>0.389963</td>\n",
       "      <td>0.397558</td>\n",
       "      <td>0.152550</td>\n",
       "      <td>0.807321</td>\n",
       "      <td>0.039598</td>\n",
       "      <td>0.386038</td>\n",
       "    </tr>\n",
       "    <tr>\n",
       "      <th>75%</th>\n",
       "      <td>0.228086</td>\n",
       "      <td>0.002232</td>\n",
       "      <td>0.431250</td>\n",
       "      <td>0.851122</td>\n",
       "      <td>0.837998</td>\n",
       "      <td>0.867689</td>\n",
       "      <td>0.523120</td>\n",
       "      <td>0.419048</td>\n",
       "      <td>0.666667</td>\n",
       "      <td>0.917181</td>\n",
       "      <td>0.883036</td>\n",
       "      <td>0.984043</td>\n",
       "      <td>0.401638</td>\n",
       "      <td>0.459968</td>\n",
       "      <td>0.466225</td>\n",
       "      <td>0.156517</td>\n",
       "      <td>0.812061</td>\n",
       "      <td>0.043873</td>\n",
       "      <td>0.458225</td>\n",
       "    </tr>\n",
       "    <tr>\n",
       "      <th>max</th>\n",
       "      <td>0.386179</td>\n",
       "      <td>0.232000</td>\n",
       "      <td>0.604167</td>\n",
       "      <td>0.861963</td>\n",
       "      <td>0.851893</td>\n",
       "      <td>0.883682</td>\n",
       "      <td>0.672514</td>\n",
       "      <td>0.594444</td>\n",
       "      <td>0.793333</td>\n",
       "      <td>0.952594</td>\n",
       "      <td>0.923077</td>\n",
       "      <td>1.000000</td>\n",
       "      <td>0.552585</td>\n",
       "      <td>0.540266</td>\n",
       "      <td>0.566869</td>\n",
       "      <td>0.172627</td>\n",
       "      <td>0.827821</td>\n",
       "      <td>0.059921</td>\n",
       "      <td>0.564576</td>\n",
       "    </tr>\n",
       "  </tbody>\n",
       "</table>\n",
       "</div>"
      ],
      "text/plain": [
       "       sentiment_polarity_score        SPQ1        SPQ3  \\\n",
       "count                181.000000  181.000000  181.000000   \n",
       "mean                   0.146988   -0.026857    0.332092   \n",
       "std                    0.106484    0.105271    0.123837   \n",
       "min                   -0.099251   -0.385714    0.047917   \n",
       "25%                    0.071301   -0.077083    0.245691   \n",
       "50%                    0.156799    0.000000    0.350000   \n",
       "75%                    0.228086    0.002232    0.431250   \n",
       "max                    0.386179    0.232000    0.604167   \n",
       "\n",
       "       ease_of_reading_score        ERQ1        ERQ3  \\\n",
       "count             181.000000  181.000000  181.000000   \n",
       "mean                0.845778    0.831791    0.861116   \n",
       "std                 0.007607    0.008988    0.008148   \n",
       "min                 0.826542    0.805874    0.839933   \n",
       "25%                 0.840898    0.826769    0.855321   \n",
       "50%                 0.845732    0.831936    0.860522   \n",
       "75%                 0.851122    0.837998    0.867689   \n",
       "max                 0.861963    0.851893    0.883682   \n",
       "\n",
       "       sentiment_subjectivity_score        SSQ1        SSQ3  \\\n",
       "count                    181.000000  181.000000  181.000000   \n",
       "mean                       0.494453    0.371352    0.633956   \n",
       "std                        0.050358    0.076385    0.053275   \n",
       "min                        0.367368    0.180000    0.475000   \n",
       "25%                        0.464122    0.326000    0.600000   \n",
       "50%                        0.492744    0.374821    0.629487   \n",
       "75%                        0.523120    0.419048    0.666667   \n",
       "max                        0.672514    0.594444    0.793333   \n",
       "\n",
       "       spelling_quality_score        SQQ1        SQQ3  sentences_count  \\\n",
       "count              181.000000  181.000000  181.000000       181.000000   \n",
       "mean                 0.896494    0.856913    0.958109         0.342829   \n",
       "std                  0.027000    0.034986    0.030474         0.088051   \n",
       "min                  0.826344    0.756211    0.875203         0.128763   \n",
       "25%                  0.875752    0.829545    0.939236         0.274004   \n",
       "50%                  0.900417    0.863245    0.956522         0.339817   \n",
       "75%                  0.917181    0.883036    0.984043         0.401638   \n",
       "max                  0.952594    0.923077    1.000000         0.552585   \n",
       "\n",
       "       characters_count  count_words  spaces_count  alpha_numeric_count  \\\n",
       "count        181.000000   181.000000    181.000000           181.000000   \n",
       "mean           0.393844     0.403198      0.152768             0.807158   \n",
       "std            0.077064     0.078675      0.006326             0.007248   \n",
       "min            0.228173     0.250612      0.133849             0.784594   \n",
       "25%            0.331598     0.337613      0.148578             0.802329   \n",
       "50%            0.389963     0.397558      0.152550             0.807321   \n",
       "75%            0.459968     0.466225      0.156517             0.812061   \n",
       "max            0.540266     0.566869      0.172627             0.827821   \n",
       "\n",
       "       punctuations_count  noun_phase_count  \n",
       "count          181.000000        181.000000  \n",
       "mean             0.039886          0.393886  \n",
       "std              0.005517          0.078518  \n",
       "min              0.022294          0.242427  \n",
       "25%              0.036070          0.333778  \n",
       "50%              0.039598          0.386038  \n",
       "75%              0.043873          0.458225  \n",
       "max              0.059921          0.564576  "
      ]
     },
     "execution_count": 69,
     "metadata": {},
     "output_type": "execute_result"
    }
   ],
   "source": [
    "Y2_1[Y2_1.label == 3][xcol].describe()"
   ]
  },
  {
   "cell_type": "markdown",
   "metadata": {},
   "source": [
    "Se observa que k-means agrupa las aplicaciones únicamente según el largo medio de los comentarios."
   ]
  },
  {
   "cell_type": "code",
   "execution_count": 14,
   "metadata": {},
   "outputs": [],
   "source": [
    "def c_sim(X, model):\n",
    "    Z = X.copy()\n",
    "    Z[\"label\"] = model.labels_\n",
    "    labels = np.unique(model.labels_)\n",
    "    cat = []\n",
    "    gen = []\n",
    "    con = []\n",
    "    for i in labels:\n",
    "        cval, ccounts = np.unique(Z[Z.label==i][\"Category\"], return_counts=True)\n",
    "        gval, gcounts = np.unique(Z[Z.label==i][\"Genres\"], return_counts=True)\n",
    "        rval, rcounts = np.unique(Z[Z.label==i][\"Content.Rating\"], return_counts=True)\n",
    "        cat.append(dict(zip(ccounts,cval)))\n",
    "        gen.append(dict(zip(gcounts,gval)))\n",
    "        con.append(dict(zip(rcounts,rval))) # cambiar | puede haber solapamiento de llaves\n",
    "    for i in labels:\n",
    "        print(\"Cluster\", i)\n",
    "        print(\"categories:\", len(cat[i])/33)\n",
    "        keys = cat[i].keys()\n",
    "        m = max(keys)\n",
    "        print(\"top category:\", cat[i][m], \"|\", m/sum(keys))\n",
    "        print(\"genres:\", len(gen[i])/63)\n",
    "        keys = gen[i].keys()\n",
    "        m = max(keys)\n",
    "        print(\"top genre:\", gen[i][m], \"|\", m/sum(keys))\n",
    "        print(\"content ratings:\", len(con[i])/5)\n",
    "        keys = con[i].keys()\n",
    "        m = max(keys)\n",
    "        print(\"top content rating:\", con[i][m], \"|\", m/sum(keys))\n",
    "        print(\"---------------------------------------\")\n",
    "\n",
    "def meanRating(X, model):\n",
    "    Z = X.copy()\n",
    "    Z[\"label\"] = model.labels_\n",
    "    labels = np.unique(model.labels_)\n",
    "    for i in labels:\n",
    "        print(\"Cluster\", i, \"mean rating:\", Z[Z.label==i][\"Rating\"].mean())"
   ]
  },
  {
   "cell_type": "code",
   "execution_count": 91,
   "metadata": {},
   "outputs": [
    {
     "name": "stdout",
     "output_type": "stream",
     "text": [
      "Cluster 0\n",
      "categories: 0.3333333333333333\n",
      "top category: 14 | 0.16666666666666666\n",
      "genres: 0.13432835820895522\n",
      "top genre: 70 | 0.2\n",
      "content ratings: 0.8\n",
      "top content rating: Everyone | 0.7909090909090909\n",
      "---------------------------------------\n",
      "Cluster 1\n",
      "categories: 0.24242424242424243\n",
      "top category: 14 | 0.5\n",
      "genres: 0.1044776119402985\n",
      "top genre: 59 | 0.25\n",
      "content ratings: 0.6\n",
      "top content rating: Everyone | 0.7209302325581395\n",
      "---------------------------------------\n",
      "Cluster 2\n",
      "categories: 0.45454545454545453\n",
      "top category: 23 | 0.1322314049586777\n",
      "genres: 0.208955223880597\n",
      "top genre: 79 | 0.14953271028037382\n",
      "content ratings: 1.0\n",
      "top content rating: Everyone | 0.8571428571428571\n",
      "---------------------------------------\n",
      "Cluster 3\n",
      "categories: 0.42424242424242425\n",
      "top category: 14 | 0.18018018018018017\n",
      "genres: 0.19402985074626866\n",
      "top genre: 61 | 0.14285714285714285\n",
      "content ratings: 0.8\n",
      "top content rating: Everyone | 0.7845303867403315\n",
      "---------------------------------------\n"
     ]
    }
   ],
   "source": [
    "c_sim(clus_dt, kmeans4)"
   ]
  },
  {
   "cell_type": "code",
   "execution_count": 93,
   "metadata": {},
   "outputs": [
    {
     "name": "stdout",
     "output_type": "stream",
     "text": [
      "Cluster 0 mean rating: 4.115454545454546\n",
      "Cluster 1 mean rating: 4.326086956521739\n",
      "Cluster 2 mean rating: 4.34375\n",
      "Cluster 3 mean rating: 4.270165745856353\n"
     ]
    }
   ],
   "source": [
    "meanRating(clus_dt, kmeans4)"
   ]
  },
  {
   "cell_type": "code",
   "execution_count": 94,
   "metadata": {},
   "outputs": [
    {
     "name": "stdout",
     "output_type": "stream",
     "text": [
      "Cluster 0\n",
      "categories: 0.2727272727272727\n",
      "top category: 14 | 0.45454545454545453\n",
      "genres: 0.11940298507462686\n",
      "top genre: 59 | 0.2222222222222222\n",
      "content ratings: 0.6\n",
      "top content rating: Everyone | 0.7475728155339806\n",
      "---------------------------------------\n",
      "Cluster 1\n",
      "categories: 0.30303030303030304\n",
      "top category: 30 | 0.18181818181818182\n",
      "genres: 0.14925373134328357\n",
      "top genre: 109 | 0.18181818181818182\n",
      "content ratings: 1.0\n",
      "top content rating: Everyone | 0.8166666666666667\n",
      "---------------------------------------\n",
      "Cluster 2\n",
      "categories: 0.30303030303030304\n",
      "top category: 11 | 0.23880597014925373\n",
      "genres: 0.11940298507462686\n",
      "top genre: 107 | 0.2631578947368421\n",
      "content ratings: 0.8\n",
      "top content rating: Everyone | 0.8686131386861314\n",
      "---------------------------------------\n",
      "Cluster 3\n",
      "categories: 0.24242424242424243\n",
      "top category: 14 | 0.41509433962264153\n",
      "genres: 0.1044776119402985\n",
      "top genre: 51 | 0.25806451612903225\n",
      "content ratings: 0.8\n",
      "top content rating: Everyone | 0.7272727272727273\n",
      "---------------------------------------\n",
      "Cluster 4\n",
      "categories: 0.36363636363636365\n",
      "top category: 15 | 0.18823529411764706\n",
      "genres: 0.1791044776119403\n",
      "top genre: 61 | 0.18823529411764706\n",
      "content ratings: 0.8\n",
      "top content rating: Everyone | 0.8297872340425532\n",
      "---------------------------------------\n"
     ]
    }
   ],
   "source": [
    "c_sim(clus_dt, kmeans5)"
   ]
  },
  {
   "cell_type": "code",
   "execution_count": 95,
   "metadata": {},
   "outputs": [
    {
     "name": "stdout",
     "output_type": "stream",
     "text": [
      "Cluster 0 mean rating: 4.310909090909091\n",
      "Cluster 1 mean rating: 4.365833333333333\n",
      "Cluster 2 mean rating: 4.25109489051095\n",
      "Cluster 3 mean rating: 4.0606060606060606\n",
      "Cluster 4 mean rating: 4.355319148936171\n"
     ]
    }
   ],
   "source": [
    "meanRating(clus_dt, kmeans5)"
   ]
  },
  {
   "cell_type": "code",
   "execution_count": 8,
   "metadata": {},
   "outputs": [
    {
     "name": "stdout",
     "output_type": "stream",
     "text": [
      "Categories mutual info K=4 : 0.14826613777224368\n",
      "Genres mutual info K=4 : 0.24044796388508993\n",
      "Content Rating mutual info K=4 : 0.017228018271623277\n",
      "Rating mutual info K=4 : 0.03957058501658757\n",
      "Installs mutual info K=4 : 0.03758150747695406\n",
      "Sentiment polarity mutual info K=4 : 0.054580573720632325\n",
      "Sentiment subjectivity mutual info K=4 : 0.0783127130217439\n",
      "-----------------------------------------------------\n",
      "Categories mutual info K=5 : 0.24232605075044075\n",
      "Genres mutual info K=5 : 0.34151905729579335\n",
      "Content Rating mutual info K=5 : 0.024118682730203685\n",
      "Rating mutual info K=5 : 0.05643369972267562\n",
      "Installs mutual info K=5 : 0.03944728896614555\n",
      "Sentiment polarity mutual info K=5 : 0.08452105706299358\n",
      "Sentiment subjectivity mutual info K=5 : 0.08333495235611654\n"
     ]
    }
   ],
   "source": [
    "from sklearn.metrics import mutual_info_score\n",
    "\n",
    "print(\"Categories mutual info K=4 :\", mutual_info_score(kmeans4.labels_, np.ravel(clus_dt[\"Category\"])))\n",
    "print(\"Genres mutual info K=4 :\", mutual_info_score(kmeans4.labels_, np.ravel(clus_dt[\"Genres\"])))\n",
    "print(\"Content Rating mutual info K=4 :\", mutual_info_score(kmeans4.labels_, np.ravel(clus_dt[\"Content.Rating\"])))\n",
    "print(\"Rating mutual info K=4 :\", mutual_info_score(kmeans4.labels_, np.ravel(clus_dt[\"Rating_Q\"])))\n",
    "print(\"Installs mutual info K=4 :\", mutual_info_score(kmeans4.labels_, np.ravel(clus_dt[\"Installs_Q\"])))\n",
    "print(\"Sentiment polarity mutual info K=4 :\", mutual_info_score(kmeans4.labels_, np.ravel(clus_dt[\"sentiment_polarity\"])))\n",
    "print(\"Sentiment subjectivity mutual info K=4 :\", mutual_info_score(kmeans4.labels_, np.ravel(clus_dt[\"sentiment_subjectivity\"])))\n",
    "print(\"-----------------------------------------------------\")\n",
    "print(\"Categories mutual info K=5 :\", mutual_info_score(kmeans5.labels_, np.ravel(clus_dt[\"Category\"])))\n",
    "print(\"Genres mutual info K=5 :\", mutual_info_score(kmeans5.labels_, np.ravel(clus_dt[\"Genres\"])))\n",
    "print(\"Content Rating mutual info K=5 :\", mutual_info_score(kmeans5.labels_, np.ravel(clus_dt[\"Content.Rating\"])))\n",
    "print(\"Rating mutual info K=5 :\", mutual_info_score(kmeans5.labels_, np.ravel(clus_dt[\"Rating_Q\"])))\n",
    "print(\"Installs mutual info K=5 :\", mutual_info_score(kmeans5.labels_, np.ravel(clus_dt[\"Installs_Q\"])))\n",
    "print(\"Sentiment polarity mutual info K=5 :\", mutual_info_score(kmeans5.labels_, np.ravel(clus_dt[\"sentiment_polarity\"])))\n",
    "print(\"Sentiment subjectivity mutual info K=5 :\", mutual_info_score(kmeans5.labels_, np.ravel(clus_dt[\"sentiment_subjectivity\"])))"
   ]
  },
  {
   "cell_type": "markdown",
   "metadata": {},
   "source": [
    "### DBSCAN"
   ]
  },
  {
   "cell_type": "code",
   "execution_count": 97,
   "metadata": {},
   "outputs": [],
   "source": [
    "from sklearn.neighbors import NearestNeighbors"
   ]
  },
  {
   "cell_type": "code",
   "execution_count": 105,
   "metadata": {},
   "outputs": [
    {
     "data": {
      "text/plain": [
       "[<matplotlib.lines.Line2D at 0x1e8dce9e400>]"
      ]
     },
     "execution_count": 105,
     "metadata": {},
     "output_type": "execute_result"
    },
    {
     "data": {
      "image/png": "[encoded data removed]",
      "text/plain": [
       "<Figure size 432x288 with 1 Axes>"
      ]
     },
     "metadata": {
      "needs_background": "light"
     },
     "output_type": "display_data"
    }
   ],
   "source": [
    "nbrs = NearestNeighbors(n_neighbors=3).fit(X2)\n",
    "distances, indices = nbrs.kneighbors(X2)\n",
    "\n",
    "distances = np.sort(distances, axis=0)\n",
    "distances = distances[:,1]\n",
    "plt.axhline(y=0.196, color='r', linestyle='--') #Ajuste el valor para \"y\" en esta línea\n",
    "plt.plot(distances)"
   ]
  },
  {
   "cell_type": "code",
   "execution_count": 118,
   "metadata": {},
   "outputs": [
    {
     "data": {
      "image/png": "[encoded data removed]",
      "text/plain": [
       "<Figure size 432x288 with 1 Axes>"
      ]
     },
     "metadata": {
      "needs_background": "light"
     },
     "output_type": "display_data"
    },
    {
     "data": {
      "text/plain": [
       "(array([-1,  0], dtype=int64), array([110, 497], dtype=int64))"
      ]
     },
     "execution_count": 118,
     "metadata": {},
     "output_type": "execute_result"
    }
   ],
   "source": [
    "mpts = len(X2.columns)-8\n",
    "eps = 0.196\n",
    "\n",
    "dbscan = DBSCAN(eps=eps, min_samples=mpts).fit(X2)\n",
    "\n",
    "plt.scatter(red_X2[:, 0], red_X2[:, 1], c=dbscan.labels_)\n",
    "plt.title(\"DBSCAN\")\n",
    "plt.show()\n",
    "\n",
    "np.unique(dbscan.labels_, return_counts=True)"
   ]
  },
  {
   "cell_type": "markdown",
   "metadata": {},
   "source": [
    "Probando distintos valores de min_pts, sólo se obtiene un cluster más outliers. "
   ]
  },
  {
   "cell_type": "markdown",
   "metadata": {},
   "source": [
    "### Agglomerative"
   ]
  },
  {
   "cell_type": "code",
   "execution_count": 120,
   "metadata": {},
   "outputs": [],
   "source": [
    "complete = linkage(X2, method=\"complete\")\n",
    "single = linkage(X2, method=\"single\")\n",
    "average = linkage(X2, method=\"average\")\n",
    "ward = linkage(X2, method=\"ward\")"
   ]
  },
  {
   "cell_type": "code",
   "execution_count": 121,
   "metadata": {},
   "outputs": [
    {
     "data": {
      "image/png": "[encoded data removed]",
      "text/plain": [
       "<Figure size 432x288 with 1 Axes>"
      ]
     },
     "metadata": {
      "needs_background": "light"
     },
     "output_type": "display_data"
    }
   ],
   "source": [
    "dendrogram(complete)\n",
    "plt.title(\"Linkage: Complete\")\n",
    "plt.show()"
   ]
  },
  {
   "cell_type": "code",
   "execution_count": 122,
   "metadata": {},
   "outputs": [
    {
     "data": {
      "image/png": "[encoded data removed]",
      "text/plain": [
       "<Figure size 432x288 with 1 Axes>"
      ]
     },
     "metadata": {
      "needs_background": "light"
     },
     "output_type": "display_data"
    }
   ],
   "source": [
    "dendrogram(single)\n",
    "plt.title(\"Linkage: Single\")\n",
    "plt.show()"
   ]
  },
  {
   "cell_type": "code",
   "execution_count": 123,
   "metadata": {},
   "outputs": [
    {
     "data": {
      "image/png": "[encoded data removed]",
      "text/plain": [
       "<Figure size 432x288 with 1 Axes>"
      ]
     },
     "metadata": {
      "needs_background": "light"
     },
     "output_type": "display_data"
    }
   ],
   "source": [
    "dendrogram(average)\n",
    "plt.title(\"Linkage: Average\")\n",
    "plt.show()"
   ]
  },
  {
   "cell_type": "code",
   "execution_count": 124,
   "metadata": {},
   "outputs": [
    {
     "data": {
      "image/png": "[encoded data removed]",
      "text/plain": [
       "<Figure size 432x288 with 1 Axes>"
      ]
     },
     "metadata": {
      "needs_background": "light"
     },
     "output_type": "display_data"
    }
   ],
   "source": [
    "dendrogram(ward)\n",
    "plt.title(\"Linkage: Ward\")\n",
    "plt.show()"
   ]
  },
  {
   "cell_type": "code",
   "execution_count": 9,
   "metadata": {},
   "outputs": [],
   "source": [
    "ward_2_1 = AgglomerativeClustering(n_clusters=None, linkage=\"ward\", distance_threshold=6).fit(X2)\n",
    "average_2_1 = AgglomerativeClustering(n_clusters=None, linkage=\"average\", distance_threshold=0.6).fit(X2)\n",
    "complete_2_1 = AgglomerativeClustering(n_clusters=None, linkage=\"complete\", distance_threshold=1.55).fit(X2)"
   ]
  },
  {
   "cell_type": "code",
   "execution_count": 12,
   "metadata": {},
   "outputs": [
    {
     "data": {
      "image/png": "[encoded data removed]",
      "text/plain": [
       "<Figure size 432x288 with 1 Axes>"
      ]
     },
     "metadata": {
      "needs_background": "light"
     },
     "output_type": "display_data"
    }
   ],
   "source": [
    "plt.scatter(red_X2[:, 0], red_X2[:, 1], c=ward_2_1.labels_)\n",
    "plt.title(\"Ward\")\n",
    "plt.show()"
   ]
  },
  {
   "cell_type": "code",
   "execution_count": 15,
   "metadata": {},
   "outputs": [
    {
     "name": "stdout",
     "output_type": "stream",
     "text": [
      "Cluster 0\n",
      "categories: 0.6363636363636364\n",
      "top category: 11 | 0.10505836575875487\n",
      "genres: 0.31746031746031744\n",
      "top genre: 109 | 0.102803738317757\n",
      "content ratings: 1.0\n",
      "top content rating: Everyone | 0.840782122905028\n",
      "---------------------------------------\n",
      "Cluster 1\n",
      "categories: 0.45454545454545453\n",
      "top category: 14 | 0.2822085889570552\n",
      "genres: 0.2222222222222222\n",
      "top genre: 59 | 0.1651376146788991\n",
      "content ratings: 0.8\n",
      "top content rating: Everyone | 0.7309236947791165\n",
      "---------------------------------------\n",
      "\n",
      "Cluster 0 mean rating: 4.274022346368715\n",
      "Cluster 1 mean rating: 4.283132530120482\n",
      "\n",
      "Categories mutual info : 0.0586511861941221\n",
      "Genres mutual info : 0.09945114868003624\n",
      "Content Rating mutual info : 0.012389536823538584\n",
      "Rating mutual info : 0.004619896350233965\n",
      "Installs mutual info : 0.028880037675597242\n",
      "Sentiment polarity mutual info : 0.024202155514034204\n",
      "Sentiment subjectivity mutual info : 0.03673644789660346\n"
     ]
    }
   ],
   "source": [
    "c_sim(clus_dt, ward_2_1)\n",
    "print()\n",
    "meanRating(clus_dt, ward_2_1)\n",
    "print()\n",
    "print(\"Categories mutual info :\", mutual_info_score(ward_2_1.labels_, np.ravel(clus_dt[\"Category\"])))\n",
    "print(\"Genres mutual info :\", mutual_info_score(ward_2_1.labels_, np.ravel(clus_dt[\"Genres\"])))\n",
    "print(\"Content Rating mutual info :\", mutual_info_score(ward_2_1.labels_, np.ravel(clus_dt[\"Content.Rating\"])))\n",
    "print(\"Rating mutual info :\", mutual_info_score(ward_2_1.labels_, np.ravel(clus_dt[\"Rating_Q\"])))\n",
    "print(\"Installs mutual info :\", mutual_info_score(ward_2_1.labels_, np.ravel(clus_dt[\"Installs_Q\"])))\n",
    "print(\"Sentiment polarity mutual info :\", mutual_info_score(ward_2_1.labels_, np.ravel(clus_dt[\"sentiment_polarity\"])))\n",
    "print(\"Sentiment subjectivity mutual info :\", mutual_info_score(ward_2_1.labels_, np.ravel(clus_dt[\"sentiment_subjectivity\"])))"
   ]
  },
  {
   "cell_type": "code",
   "execution_count": 130,
   "metadata": {},
   "outputs": [
    {
     "data": {
      "image/png": "[encoded data removed]",
      "text/plain": [
       "<Figure size 432x288 with 1 Axes>"
      ]
     },
     "metadata": {
      "needs_background": "light"
     },
     "output_type": "display_data"
    }
   ],
   "source": [
    "plt.scatter(red_X2[:, 0], red_X2[:, 1], c=average_2_1.labels_)\n",
    "plt.title(\"Average\")\n",
    "plt.show()"
   ]
  },
  {
   "cell_type": "code",
   "execution_count": 16,
   "metadata": {},
   "outputs": [
    {
     "name": "stdout",
     "output_type": "stream",
     "text": [
      "Cluster 0\n",
      "categories: 0.5151515151515151\n",
      "top category: 14 | 0.13513513513513514\n",
      "genres: 0.23809523809523808\n",
      "top genre: 61 | 0.1450381679389313\n",
      "content ratings: 0.8\n",
      "top content rating: Everyone | 0.8158844765342961\n",
      "---------------------------------------\n",
      "Cluster 1\n",
      "categories: 0.3939393939393939\n",
      "top category: 23 | 0.16842105263157894\n",
      "genres: 0.20634920634920634\n",
      "top genre: 79 | 0.16842105263157894\n",
      "content ratings: 1.0\n",
      "top content rating: Everyone | 0.85\n",
      "---------------------------------------\n",
      "Cluster 2\n",
      "categories: 0.030303030303030304\n",
      "top category: 25 | 1.0\n",
      "genres: 0.015873015873015872\n",
      "top genre: 81 | 1.0\n",
      "content ratings: 0.2\n",
      "top content rating: Teen | 1.0\n",
      "---------------------------------------\n",
      "Cluster 3\n",
      "categories: 0.06060606060606061\n",
      "top category: 11 | 0.6666666666666666\n",
      "genres: 0.015873015873015872\n",
      "top genre: 94 | 1.0\n",
      "content ratings: 0.4\n",
      "top content rating: Everyone | 0.8\n",
      "---------------------------------------\n",
      "Cluster 4\n",
      "categories: 0.30303030303030304\n",
      "top category: 14 | 0.4772727272727273\n",
      "genres: 0.15873015873015872\n",
      "top genre: 0 | 0.19298245614035087\n",
      "content ratings: 0.6\n",
      "top content rating: Everyone | 0.7388059701492538\n",
      "---------------------------------------\n",
      "\n",
      "Cluster 0 mean rating: 4.244765342960289\n",
      "Cluster 1 mean rating: 4.326111111111111\n",
      "Cluster 2 mean rating: 4.300000000000001\n",
      "Cluster 3 mean rating: 3.94\n",
      "Cluster 4 mean rating: 4.292307692307693\n",
      "\n",
      "Categories mutual info : 0.17110697952819884\n",
      "Genres mutual info : 0.23586573159176352\n",
      "Content Rating mutual info : 0.02106138000225556\n",
      "Rating mutual info : 0.02471602737712756\n",
      "Installs mutual info : 0.044833751595236275\n",
      "Sentiment polarity mutual info : 0.03176819083396504\n",
      "Sentiment subjectivity mutual info : 0.07640979728988045\n"
     ]
    }
   ],
   "source": [
    "c_sim(clus_dt, average_2_1)\n",
    "print()\n",
    "meanRating(clus_dt, average_2_1)\n",
    "print()\n",
    "print(\"Categories mutual info :\", mutual_info_score(average_2_1.labels_, np.ravel(clus_dt[\"Category\"])))\n",
    "print(\"Genres mutual info :\", mutual_info_score(average_2_1.labels_, np.ravel(clus_dt[\"Genres\"])))\n",
    "print(\"Content Rating mutual info :\", mutual_info_score(average_2_1.labels_, np.ravel(clus_dt[\"Content.Rating\"])))\n",
    "print(\"Rating mutual info :\", mutual_info_score(average_2_1.labels_, np.ravel(clus_dt[\"Rating_Q\"])))\n",
    "print(\"Installs mutual info :\", mutual_info_score(average_2_1.labels_, np.ravel(clus_dt[\"Installs_Q\"])))\n",
    "print(\"Sentiment polarity mutual info :\", mutual_info_score(average_2_1.labels_, np.ravel(clus_dt[\"sentiment_polarity\"])))\n",
    "print(\"Sentiment subjectivity mutual info :\", mutual_info_score(average_2_1.labels_, np.ravel(clus_dt[\"sentiment_subjectivity\"])))"
   ]
  },
  {
   "cell_type": "code",
   "execution_count": 17,
   "metadata": {},
   "outputs": [
    {
     "data": {
      "image/png": "[encoded data removed]",
      "text/plain": [
       "<Figure size 432x288 with 1 Axes>"
      ]
     },
     "metadata": {
      "needs_background": "light"
     },
     "output_type": "display_data"
    }
   ],
   "source": [
    "plt.scatter(red_X2[:, 0], red_X2[:, 1], c=complete_2_1.labels_)\n",
    "plt.title(\"Complete\")\n",
    "plt.show()"
   ]
  },
  {
   "cell_type": "code",
   "execution_count": 19,
   "metadata": {},
   "outputs": [
    {
     "name": "stdout",
     "output_type": "stream",
     "text": [
      "Cluster 0\n",
      "categories: 0.6363636363636364\n",
      "top category: 14 | 0.13119533527696792\n",
      "genres: 0.31746031746031744\n",
      "top genre: 109 | 0.11654135338345864\n",
      "content ratings: 1.0\n",
      "top content rating: Everyone | 0.8140417457305503\n",
      "---------------------------------------\n",
      "Cluster 1\n",
      "categories: 0.21212121212121213\n",
      "top category: 14 | 0.5531914893617021\n",
      "genres: 0.09523809523809523\n",
      "top genre: 59 | 0.2857142857142857\n",
      "content ratings: 0.8\n",
      "top content rating: Everyone | 0.675\n",
      "---------------------------------------\n",
      "\n",
      "Cluster 0 mean rating: 4.27134724857685\n",
      "Cluster 1 mean rating: 4.32\n",
      "\n",
      "Categories mutual info : 0.06595635218576625\n",
      "Genres mutual info : 0.09105407113245402\n",
      "Content Rating mutual info : 0.010410196769614348\n",
      "Rating mutual info : 0.007127081168061072\n",
      "Installs mutual info : 0.024337938702237424\n",
      "Sentiment polarity mutual info : 0.008909847461856043\n",
      "Sentiment subjectivity mutual info : 0.020173565416982106\n"
     ]
    }
   ],
   "source": [
    "c_sim(clus_dt, complete_2_1)\n",
    "print()\n",
    "meanRating(clus_dt, complete_2_1)\n",
    "print()\n",
    "print(\"Categories mutual info :\", mutual_info_score(complete_2_1.labels_, np.ravel(clus_dt[\"Category\"])))\n",
    "print(\"Genres mutual info :\", mutual_info_score(complete_2_1.labels_, np.ravel(clus_dt[\"Genres\"])))\n",
    "print(\"Content Rating mutual info :\", mutual_info_score(complete_2_1.labels_, np.ravel(clus_dt[\"Content.Rating\"])))\n",
    "print(\"Rating mutual info :\", mutual_info_score(complete_2_1.labels_, np.ravel(clus_dt[\"Rating_Q\"])))\n",
    "print(\"Installs mutual info :\", mutual_info_score(complete_2_1.labels_, np.ravel(clus_dt[\"Installs_Q\"])))\n",
    "print(\"Sentiment polarity mutual info :\", mutual_info_score(complete_2_1.labels_, np.ravel(clus_dt[\"sentiment_polarity\"])))\n",
    "print(\"Sentiment subjectivity mutual info :\", mutual_info_score(complete_2_1.labels_, np.ravel(clus_dt[\"sentiment_subjectivity\"])))"
   ]
  }
 ],
 "metadata": {
  "kernelspec": {
   "display_name": "Python 3",
   "language": "python",
   "name": "python3"
  },
  "language_info": {
   "codemirror_mode": {
    "name": "ipython",
    "version": 3
   },
   "file_extension": ".py",
   "mimetype": "text/x-python",
   "name": "python",
   "nbconvert_exporter": "python",
   "pygments_lexer": "ipython3",
   "version": "3.7.1"
  }
 },
 "nbformat": 4,
 "nbformat_minor": 4
}

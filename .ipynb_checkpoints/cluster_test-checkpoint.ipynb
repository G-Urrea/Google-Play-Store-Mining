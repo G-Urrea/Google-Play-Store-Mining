{
 "cells": [
  {
   "cell_type": "code",
   "execution_count": 16,
   "metadata": {},
   "outputs": [],
   "source": [
    "from sklearn.cluster import KMeans\n",
    "import pandas as pd\n",
    "from sklearn.preprocessing import MinMaxScaler\n",
    "from matplotlib import pyplot as plt\n",
    "%matplotlib inline\n"
   ]
  },
  {
   "cell_type": "code",
   "execution_count": 17,
   "metadata": {},
   "outputs": [
    {
     "data": {
      "text/html": [
       "<div>\n",
       "<style scoped>\n",
       "    .dataframe tbody tr th:only-of-type {\n",
       "        vertical-align: middle;\n",
       "    }\n",
       "\n",
       "    .dataframe tbody tr th {\n",
       "        vertical-align: top;\n",
       "    }\n",
       "\n",
       "    .dataframe thead th {\n",
       "        text-align: right;\n",
       "    }\n",
       "</style>\n",
       "<table border=\"1\" class=\"dataframe\">\n",
       "  <thead>\n",
       "    <tr style=\"text-align: right;\">\n",
       "      <th></th>\n",
       "      <th>App</th>\n",
       "      <th>Translated_Review</th>\n",
       "      <th>sentences_count</th>\n",
       "      <th>characters_count</th>\n",
       "      <th>sentiment_polarity_score</th>\n",
       "      <th>sentiment_polarity</th>\n",
       "      <th>sentiment_subjectivity_score</th>\n",
       "      <th>sentiment_subjectivity</th>\n",
       "      <th>spelling_quality_score</th>\n",
       "      <th>spelling_quality</th>\n",
       "      <th>ease_of_reading_score</th>\n",
       "      <th>ease_of_reading_quality</th>\n",
       "      <th>grammar_check_score</th>\n",
       "      <th>Category</th>\n",
       "      <th>Rating</th>\n",
       "      <th>Installs</th>\n",
       "    </tr>\n",
       "  </thead>\n",
       "  <tbody>\n",
       "    <tr>\n",
       "      <th>0</th>\n",
       "      <td>10 Best Foods for You</td>\n",
       "      <td>I like eat delicious food. That's I'm cooking ...</td>\n",
       "      <td>2</td>\n",
       "      <td>122</td>\n",
       "      <td>1.00</td>\n",
       "      <td>Very positive</td>\n",
       "      <td>0.533333</td>\n",
       "      <td>Objective/subjective</td>\n",
       "      <td>0.875</td>\n",
       "      <td>Bad</td>\n",
       "      <td>86.20</td>\n",
       "      <td>Easy</td>\n",
       "      <td>5</td>\n",
       "      <td>15</td>\n",
       "      <td>4.0</td>\n",
       "      <td>500000.0</td>\n",
       "    </tr>\n",
       "    <tr>\n",
       "      <th>1</th>\n",
       "      <td>10 Best Foods for You</td>\n",
       "      <td>This help eating healthy exercise regular basis</td>\n",
       "      <td>1</td>\n",
       "      <td>47</td>\n",
       "      <td>0.25</td>\n",
       "      <td>Pretty positive</td>\n",
       "      <td>0.288462</td>\n",
       "      <td>Pretty objective</td>\n",
       "      <td>1.000</td>\n",
       "      <td>Very good</td>\n",
       "      <td>38.99</td>\n",
       "      <td>Difficult</td>\n",
       "      <td>0</td>\n",
       "      <td>15</td>\n",
       "      <td>4.0</td>\n",
       "      <td>500000.0</td>\n",
       "    </tr>\n",
       "    <tr>\n",
       "      <th>2</th>\n",
       "      <td>10 Best Foods for You</td>\n",
       "      <td>Works great especially going grocery store</td>\n",
       "      <td>1</td>\n",
       "      <td>42</td>\n",
       "      <td>0.40</td>\n",
       "      <td>Pretty positive</td>\n",
       "      <td>0.875000</td>\n",
       "      <td>Quite subjective</td>\n",
       "      <td>1.000</td>\n",
       "      <td>Very good</td>\n",
       "      <td>48.47</td>\n",
       "      <td>Difficult</td>\n",
       "      <td>0</td>\n",
       "      <td>15</td>\n",
       "      <td>4.0</td>\n",
       "      <td>500000.0</td>\n",
       "    </tr>\n",
       "    <tr>\n",
       "      <th>3</th>\n",
       "      <td>10 Best Foods for You</td>\n",
       "      <td>Best idea us</td>\n",
       "      <td>1</td>\n",
       "      <td>12</td>\n",
       "      <td>1.00</td>\n",
       "      <td>Very positive</td>\n",
       "      <td>0.300000</td>\n",
       "      <td>Pretty objective</td>\n",
       "      <td>1.000</td>\n",
       "      <td>Very good</td>\n",
       "      <td>119.19</td>\n",
       "      <td>Very Easy</td>\n",
       "      <td>1</td>\n",
       "      <td>15</td>\n",
       "      <td>4.0</td>\n",
       "      <td>500000.0</td>\n",
       "    </tr>\n",
       "    <tr>\n",
       "      <th>4</th>\n",
       "      <td>10 Best Foods for You</td>\n",
       "      <td>Best way</td>\n",
       "      <td>1</td>\n",
       "      <td>8</td>\n",
       "      <td>1.00</td>\n",
       "      <td>Very positive</td>\n",
       "      <td>0.300000</td>\n",
       "      <td>Pretty objective</td>\n",
       "      <td>1.000</td>\n",
       "      <td>Very good</td>\n",
       "      <td>120.21</td>\n",
       "      <td>Very Easy</td>\n",
       "      <td>0</td>\n",
       "      <td>15</td>\n",
       "      <td>4.0</td>\n",
       "      <td>500000.0</td>\n",
       "    </tr>\n",
       "  </tbody>\n",
       "</table>\n",
       "</div>"
      ],
      "text/plain": [
       "                     App                                  Translated_Review  \\\n",
       "0  10 Best Foods for You  I like eat delicious food. That's I'm cooking ...   \n",
       "1  10 Best Foods for You    This help eating healthy exercise regular basis   \n",
       "2  10 Best Foods for You         Works great especially going grocery store   \n",
       "3  10 Best Foods for You                                       Best idea us   \n",
       "4  10 Best Foods for You                                           Best way   \n",
       "\n",
       "   sentences_count  characters_count  sentiment_polarity_score  \\\n",
       "0                2               122                      1.00   \n",
       "1                1                47                      0.25   \n",
       "2                1                42                      0.40   \n",
       "3                1                12                      1.00   \n",
       "4                1                 8                      1.00   \n",
       "\n",
       "  sentiment_polarity  sentiment_subjectivity_score sentiment_subjectivity  \\\n",
       "0      Very positive                      0.533333   Objective/subjective   \n",
       "1    Pretty positive                      0.288462       Pretty objective   \n",
       "2    Pretty positive                      0.875000       Quite subjective   \n",
       "3      Very positive                      0.300000       Pretty objective   \n",
       "4      Very positive                      0.300000       Pretty objective   \n",
       "\n",
       "   spelling_quality_score spelling_quality  ease_of_reading_score  \\\n",
       "0                   0.875              Bad                  86.20   \n",
       "1                   1.000        Very good                  38.99   \n",
       "2                   1.000        Very good                  48.47   \n",
       "3                   1.000        Very good                 119.19   \n",
       "4                   1.000        Very good                 120.21   \n",
       "\n",
       "  ease_of_reading_quality  grammar_check_score  Category  Rating  Installs  \n",
       "0                    Easy                    5        15     4.0  500000.0  \n",
       "1               Difficult                    0        15     4.0  500000.0  \n",
       "2               Difficult                    0        15     4.0  500000.0  \n",
       "3               Very Easy                    1        15     4.0  500000.0  \n",
       "4               Very Easy                    0        15     4.0  500000.0  "
      ]
     },
     "execution_count": 17,
     "metadata": {},
     "output_type": "execute_result"
    }
   ],
   "source": [
    "df = pd.read_csv(\"dataset_modificado/dataset-usuarios-categorias.csv\")\n",
    "df.head()"
   ]
  },
  {
   "cell_type": "code",
   "execution_count": 18,
   "metadata": {},
   "outputs": [
    {
     "data": {
      "text/plain": [
       "Text(0, 0.5, 'spelling_quality_score')"
      ]
     },
     "execution_count": 18,
     "metadata": {},
     "output_type": "execute_result"
    },
    {
     "data": {
      "image/png": "[encoded data removed]",
      "text/plain": [
       "<Figure size 432x288 with 1 Axes>"
      ]
     },
     "metadata": {
      "needs_background": "light"
     },
     "output_type": "display_data"
    }
   ],
   "source": [
    "plt.scatter(df.Installs,df['spelling_quality_score'])\n",
    "plt.xlabel('Installs')\n",
    "plt.ylabel('spelling_quality_score')"
   ]
  },
  {
   "cell_type": "code",
   "execution_count": 19,
   "metadata": {},
   "outputs": [
    {
     "data": {
      "image/png": "[encoded data removed]",
      "text/plain": [
       "<Figure size 432x288 with 1 Axes>"
      ]
     },
     "metadata": {
      "needs_background": "light"
     },
     "output_type": "display_data"
    },
    {
     "data": {
      "text/plain": [
       "4"
      ]
     },
     "execution_count": 19,
     "metadata": {},
     "output_type": "execute_result"
    }
   ],
   "source": [
    "def select_clusters(max_clusters,X,graph=True):\n",
    "  sse = []\n",
    "\n",
    "  clusters = list(range(1, max_clusters))\n",
    "  for k in clusters:\n",
    "      kmeans = KMeans(n_clusters=k).fit(X)\n",
    "      sse.append(kmeans.inertia_)\n",
    "\n",
    "\n",
    "  min=-1\n",
    "  diff_min=0\n",
    "  for i in range(len(sse)-1):\n",
    "    if(i==0):\n",
    "      diff_min=abs(sse[i]-sse[i+1])\n",
    "      diff_init=diff_min #se toma la diferencia de inertia inicial \n",
    "    else:\n",
    "      diff=sse[i]-sse[i+1]\n",
    "    \n",
    "\n",
    "      if((abs(diff_min-diff)/diff_init)<0.01):#si la diferencia de inertia entre el elemnto actual y el siguiente es menor al 1% de la diferencia inicial se selecciona el cluster actual (valor definido a base de testing)\n",
    "        min=i\n",
    "        \n",
    "        break\n",
    "      \n",
    "      else:\n",
    "        diff_min=diff\n",
    "\n",
    "\n",
    "\n",
    "  if(graph):\n",
    "    plt.plot(clusters, sse, marker=\"o\")\n",
    "    plt.title(\"Metodo del codo de 1 a \"+str(max_clusters)+\" clusters\")\n",
    "    plt.grid(True)\n",
    "    plt.show()\n",
    "\n",
    "\n",
    "  return min\n",
    "\n",
    "\n",
    "a=df.drop(columns=[\"Translated_Review\", \"App\",\"sentiment_polarity\",\"sentiment_subjectivity\", \"spelling_quality\",\"ease_of_reading_quality\"])\n",
    "select_clusters(16,a)"
   ]
  },
  {
   "cell_type": "code",
   "execution_count": 21,
   "metadata": {},
   "outputs": [
    {
     "name": "stdout",
     "output_type": "stream",
     "text": [
      "[[2.49955944e+00 1.05134811e+02 1.94333105e-01 4.94414089e-01\n",
      "  8.93654999e-01 7.41959324e+01 1.35435097e+00 1.63163923e+01\n",
      "  4.27620625e+00 7.52262235e+06]\n",
      " [3.93353474e+00 1.94637462e+02 1.21008874e-01 4.94777723e-01\n",
      "  8.80607827e-01 6.68190483e+01 2.35347432e+00 1.95604230e+01\n",
      "  4.20030211e+00 1.00000000e+09]\n",
      " [4.29295154e+00 1.90792952e+02 9.00533851e-02 4.65512828e-01\n",
      "  8.97923154e-01 7.26339648e+01 2.14977974e+00 1.91321586e+01\n",
      "  4.36806167e+00 5.00000000e+08]\n",
      " [3.53744097e+00 1.63640432e+02 1.00311207e-01 4.88579080e-01\n",
      "  8.90098022e-01 7.27718282e+01 2.13627164e+00 1.64391725e+01\n",
      "  4.42993029e+00 1.00000000e+08]]\n",
      "[0 0 0 ... 0 0 0]\n"
     ]
    },
    {
     "data": {
      "text/plain": [
       "KMeans(algorithm='auto', copy_x=True, init='k-means++', max_iter=300,\n",
       "       n_clusters=4, n_init=10, n_jobs=None, precompute_distances='auto',\n",
       "       random_state=None, tol=0.0001, verbose=0)"
      ]
     },
     "execution_count": 21,
     "metadata": {},
     "output_type": "execute_result"
    }
   ],
   "source": [
    "\n",
    "km = KMeans(n_clusters=4)#hay que ver cuantos son\n",
    "km.fit(a)\n",
    "centers = km.cluster_centers_\n",
    "labels=km.labels_\n",
    "\n",
    "print(centers)\n",
    "\n",
    "#labels o asignaciones escogidas\n",
    "\n",
    "print(labels)\n",
    "\n",
    "ypred"
   ]
  },
  {
   "cell_type": "code",
   "execution_count": 22,
   "metadata": {},
   "outputs": [
    {
     "data": {
      "image/png": "[encoded data removed]",
      "text/plain": [
       "<Figure size 432x288 with 1 Axes>"
      ]
     },
     "metadata": {
      "needs_background": "light"
     },
     "output_type": "display_data"
    }
   ],
   "source": [
    "from sklearn.decomposition import PCA\n",
    "\n",
    "new_X = PCA(n_components=2, random_state=0).fit_transform(a)\n",
    "\n",
    "\n",
    "new_kmeans = KMeans(n_clusters=4).fit(new_X)\n",
    "new_centers = new_kmeans.cluster_centers_\n",
    "\n",
    "\n",
    "plt.scatter(new_X[:, 0], new_X[:, 1], c=new_kmeans.labels_)\n",
    "plt.scatter(new_centers[:,0], new_centers[:,1], s=200, facecolors='none', edgecolors='r')\n",
    "plt.title(\"K-Means with centers\")\n",
    "plt.show()"
   ]
  },
  {
   "cell_type": "code",
   "execution_count": null,
   "metadata": {},
   "outputs": [],
   "source": []
  },
  {
   "cell_type": "code",
   "execution_count": null,
   "metadata": {},
   "outputs": [],
   "source": []
  },
  {
   "cell_type": "code",
   "execution_count": null,
   "metadata": {},
   "outputs": [],
   "source": []
  }
 ],
 "metadata": {
  "kernelspec": {
   "display_name": "Python 3",
   "language": "python",
   "name": "python3"
  },
  "language_info": {
   "codemirror_mode": {
    "name": "ipython",
    "version": 3
   },
   "file_extension": ".py",
   "mimetype": "text/x-python",
   "name": "python",
   "nbconvert_exporter": "python",
   "pygments_lexer": "ipython3",
   "version": "3.7.6"
  }
 },
 "nbformat": 4,
 "nbformat_minor": 4
}

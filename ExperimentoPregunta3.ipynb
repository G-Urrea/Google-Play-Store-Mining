{
 "cells": [
  {
   "cell_type": "markdown",
   "metadata": {},
   "source": [
    "# Pregunta 3: ¿Existen características específicas de las aplicaciones que permitan tener mejor o peor aprobación del público?"
   ]
  },
  {
   "cell_type": "markdown",
   "metadata": {},
   "source": [
    "## Clasificación\n",
    "\n",
    "La aprobación del público se mide a través del rating, esto es, un valor numérico del uno al cinco, con 5 representando la máxima aprobación y 1 descontento con la aplicación. Para poder clasificar el rating, se discretiza según cuartiles (después de extraer outliers), de este modo se consiguen tamién clases balanceadas, ya que cada una contiene el 25% de las aplicaciones.\n",
    "\n",
    "Dado que para distintos tipos de aplicaciones, tanto el público objetivo como las expectativas y exigencias que se tiene sobre las mismas pueden variar considerablemenente, a fin de lograr mayor homogeneidad, se subdivide el dataset por categorías y se aplica la clasificación por separado sobre los 10 sub-datasets con más elementos.\n",
    "\n",
    "### Aplicaciones:\n",
    "\n",
    "Se seleccionan las columnas \"Installs\", \"Reviews\", \"Size\", \"Type\" y \"Content.Rating\" para clasificar el rating según cuartiles. No se concidera el género debido a que pueden existir combinaciones categoría/género no contempladas en los datos.\n",
    "\n",
    "Se repiten las clasificaciones para apliciones de pago, incluyendo el precio en los atributos a evaluar (extrayendo outliers).\n",
    "\n",
    "### Reseñas:\n",
    "\n",
    "La clasificación en base a reseñas se divide en dos partes. Primero se evaluará la posibilidad de extrar información del comentario de las reviews. Para ello se vectoriza el texto y luego se reduce la dimensionalidad por medio de _Latent semantic analysis_. Se utilizan los datos del texto para clasificar \"sentiment_polarity\", \"sentiment_subjectivity\" y \"spelling_quality\", también por cuartiles. En la vectorización del texto no se consideran _stop words_, ya que palabras comunmente categorizadas como tal podrían aportar información para el nivel de subjetividad o facilidad de lectura.\n",
    "\n",
    "Para la segunda parte se evaluan los datos de 'Apps/Reviews' para clasificar los cuartiles de rating. Para este caso no se subdivide por categoría debido a la menor cantidad de aplicaciones que contiene el dataframe.\n",
    "\n",
    "Para todas las clasificaciones mencionadas se utlizan los modelos de árbol de decisión, KNN, naive bayes y support vector machines. Para evaluar los resultados de la clasificación se hará uso de cross validation con distribución 80/20 entre datos de entrenamiento y prueba, y considerarán las métricas: exactitud, precisión, recall y F1."
   ]
  },
  {
   "cell_type": "markdown",
   "metadata": {},
   "source": [
    "## Selección y Reducción de Atributos 2.0\n",
    "\n",
    "En el análisis exploratori y preprocesamiento de los datos ya se hizo una primera selección y reducción de atributos.\n",
    "\n",
    "En el dataset 'Apps' se descartan atributo poco interpretables y díficiles de estandarizar como lo son las versiones de android/aplicaciones y fechas de actualización. También se evaluó la relación entre algunos atributos mediante matrices de correlación y gráficos de caja y disperción. Se observa que la distribución de rating es ligeramente distinta para todas las categorías y que la diferencia se acentua drásticamente al considerar únicamente aplicaciones de pago, en el caso del content rating la distribución de rating para las 5 opciones es muy similar. En los gráficos de disperción se aprecia que no existe mayor correlación entre rating y peso, valores de rating por debajo de 3 se obtienen casi exclusivamente para aplicaciones con menos de 25000 reviews y por sobre las 50000 reviews no hay una variación notable el la distribución del rating, con la mayoría de los datos concentrados en torno a 4.5. Contrario a lo que se esperaba, el gráfico de disperción entre el número de descargas y reviews no muestra una relación lineal, más allá de la evidente cota inferior que supone reviews sobre descargas, en este se puede ver como el dataset se divide en 3 conjuntos que podrían clasificarce como \"pocas descargas\", \"descargas medias\" y \"muchas descargas\", esta distribución casi discreta puede deberse a la forma poco precisa que tiene google play de contar las descargas. El valor de la correlación entre rating y reviews es de -0.01832191.\n",
    "\n",
    "Sobre de el cruce da las tablas 'Apps' y 'Reviews' se relizó un análisis similar. Para cada categoría se observan diferentes distribuciones de polaridad, subjetividad, facilidad de lectura y calidad de escritura en las reseñas, para los distintos content rating las distribuciones de polaridad y subjetividad son similares. No se aprecia que ninguna combianción de rating y reviews o descargas y reviews presente una polaridad  subjetividad predominante. La matriz de correlación entre polaridad, subjetividad, facilidad de lectura, calidad de escritura, número de reviews y rating no muestra ninguna correlación significativamente alta, la mayoría es cercana a 0 y la mayor corresponde a facilidad de lectura y calidad de escritura, siendo de 0.32 aproximadamente."
   ]
  },
  {
   "cell_type": "markdown",
   "metadata": {},
   "source": [
    "A continuación se realizará un segundo análisis centrado en variables y métodos no considerados por el primero."
   ]
  },
  {
   "cell_type": "code",
   "execution_count": 1,
   "metadata": {},
   "outputs": [],
   "source": [
    "import sys\n",
    "sys.path.append(\"C:/Users/faria/PycharmProjects/pythonProject/venv/Lib/site-packages\")\n",
    "\n",
    "import pandas as pd\n",
    "import numpy as np\n",
    "import matplotlib.pyplot as plt\n",
    "import random as rd"
   ]
  },
  {
   "cell_type": "code",
   "execution_count": 2,
   "metadata": {},
   "outputs": [],
   "source": [
    "Apps = pd.read_csv(\"C:/Users/faria/OneDrive/Documentos/Tareas/GitHub/Google-Play-Store-Mining/dataset_modificado/GooglePlaystore.csv\")\n",
    "Reviews = pd.read_csv(\"C:/Users/faria/OneDrive/Documentos/Tareas/GitHub/Google-Play-Store-Mining/dataset_modificado/UserReview.csv\")\n",
    "App_Review = pd.read_csv(\"C:/Users/faria/OneDrive/Documentos/Tareas/GitHub/Google-Play-Store-Mining/dataset_modificado/GPUserReview.csv\")"
   ]
  },
  {
   "cell_type": "code",
   "execution_count": 3,
   "metadata": {},
   "outputs": [],
   "source": [
    "del App_Review[\"Current.Ver\"]\n",
    "del App_Review[\"No_reviews_count\"] \n",
    "del App_Review[\"Reviews_present_count\"]\n",
    "del App_Review[\"Last.Updated..Year.Month.\"],\n",
    "del App_Review[\"Last.Updated..Year.\"]\n",
    "del App_Review[\"Android.Ver\"]"
   ]
  },
  {
   "cell_type": "code",
   "execution_count": 4,
   "metadata": {},
   "outputs": [],
   "source": [
    "del Apps[\"Current.Ver\"]\n",
    "del Apps[\"No_reviews_count\"] \n",
    "del Apps[\"Reviews_present_count\"]\n",
    "del Apps[\"Last.Updated..Year.Month.\"],\n",
    "del Apps[\"Last.Updated..Year.\"]\n",
    "del Apps[\"Android.Ver\"]"
   ]
  },
  {
   "cell_type": "code",
   "execution_count": 5,
   "metadata": {},
   "outputs": [],
   "source": [
    "family = pd.read_csv(\"C:/Users/faria/OneDrive/Documentos/Tareas/GitHub/Google-Play-Store-Mining/dataset_modificado/family.csv\")\n",
    "commun = pd.read_csv(\"C:/Users/faria/OneDrive/Documentos/Tareas/GitHub/Google-Play-Store-Mining/dataset_modificado/communication.csv\")\n",
    "games = pd.read_csv(\"C:/Users/faria/OneDrive/Documentos/Tareas/GitHub/Google-Play-Store-Mining/dataset_modificado/games.csv\")\n",
    "magazi = pd.read_csv(\"C:/Users/faria/OneDrive/Documentos/Tareas/GitHub/Google-Play-Store-Mining/dataset_modificado/magazines.csv\")\n",
    "photo = pd.read_csv(\"C:/Users/faria/OneDrive/Documentos/Tareas/GitHub/Google-Play-Store-Mining/dataset_modificado/photo.csv\")\n",
    "produc = pd.read_csv(\"C:/Users/faria/OneDrive/Documentos/Tareas/GitHub/Google-Play-Store-Mining/dataset_modificado/productivity.csv\")\n",
    "social = pd.read_csv(\"C:/Users/faria/OneDrive/Documentos/Tareas/GitHub/Google-Play-Store-Mining/dataset_modificado/social.csv\")\n",
    "tools = pd.read_csv(\"C:/Users/faria/OneDrive/Documentos/Tareas/GitHub/Google-Play-Store-Mining/dataset_modificado/tools.csv\")\n",
    "video = pd.read_csv(\"C:/Users/faria/OneDrive/Documentos/Tareas/GitHub/Google-Play-Store-Mining/dataset_modificado/video.csv\")\n",
    "travel = pd.read_csv(\"C:/Users/faria/OneDrive/Documentos/Tareas/GitHub/Google-Play-Store-Mining/dataset_modificado/travel.csv\")"
   ]
  },
  {
   "cell_type": "code",
   "execution_count": 6,
   "metadata": {},
   "outputs": [],
   "source": [
    "cat_dt = [family, commun, games, magazi, photo, produc, social, tools, video, travel]"
   ]
  },
  {
   "cell_type": "code",
   "execution_count": 7,
   "metadata": {},
   "outputs": [],
   "source": [
    "App_Review2 = pd.read_csv(\"C:/Users/faria/OneDrive/Documentos/Tareas/GitHub/Google-Play-Store-Mining/dataset_modificado/DataPregunta2_1.csv\")"
   ]
  },
  {
   "cell_type": "code",
   "execution_count": 8,
   "metadata": {},
   "outputs": [],
   "source": [
    "del App_Review2[\"non_alpha_numeric_count\"]"
   ]
  },
  {
   "cell_type": "code",
   "execution_count": 9,
   "metadata": {},
   "outputs": [],
   "source": [
    "for dt in cat_dt:\n",
    "    del dt[\"Current.Ver\"]\n",
    "    del dt[\"No_reviews_count\"] \n",
    "    del dt[\"Reviews_present_count\"]\n",
    "    del dt[\"Last.Updated..Year.Month.\"],\n",
    "    del dt[\"Last.Updated..Year.\"]\n",
    "    del dt[\"Android.Ver\"]"
   ]
  },
  {
   "cell_type": "code",
   "execution_count": 33,
   "metadata": {},
   "outputs": [],
   "source": [
    "from sklearn.metrics import adjusted_mutual_info_score, normalized_mutual_info_score"
   ]
  },
  {
   "cell_type": "markdown",
   "metadata": {},
   "source": [
    "### Correlación"
   ]
  },
  {
   "cell_type": "code",
   "execution_count": 25,
   "metadata": {},
   "outputs": [
    {
     "data": {
      "text/html": [
       "<div>\n",
       "<style scoped>\n",
       "    .dataframe tbody tr th:only-of-type {\n",
       "        vertical-align: middle;\n",
       "    }\n",
       "\n",
       "    .dataframe tbody tr th {\n",
       "        vertical-align: top;\n",
       "    }\n",
       "\n",
       "    .dataframe thead th {\n",
       "        text-align: right;\n",
       "    }\n",
       "</style>\n",
       "<table border=\"1\" class=\"dataframe\">\n",
       "  <thead>\n",
       "    <tr style=\"text-align: right;\">\n",
       "      <th></th>\n",
       "      <th>Category</th>\n",
       "      <th>Rating</th>\n",
       "      <th>Reviews</th>\n",
       "      <th>Size</th>\n",
       "      <th>Installs</th>\n",
       "      <th>Type</th>\n",
       "      <th>Price</th>\n",
       "      <th>Genres</th>\n",
       "    </tr>\n",
       "  </thead>\n",
       "  <tbody>\n",
       "    <tr>\n",
       "      <th>Category</th>\n",
       "      <td>1.000000</td>\n",
       "      <td>-0.041095</td>\n",
       "      <td>0.017300</td>\n",
       "      <td>-0.121715</td>\n",
       "      <td>0.031659</td>\n",
       "      <td>0.016994</td>\n",
       "      <td>-0.013769</td>\n",
       "      <td>0.796488</td>\n",
       "    </tr>\n",
       "    <tr>\n",
       "      <th>Rating</th>\n",
       "      <td>-0.041095</td>\n",
       "      <td>1.000000</td>\n",
       "      <td>0.055081</td>\n",
       "      <td>0.063067</td>\n",
       "      <td>0.040143</td>\n",
       "      <td>0.045395</td>\n",
       "      <td>-0.021199</td>\n",
       "      <td>-0.046924</td>\n",
       "    </tr>\n",
       "    <tr>\n",
       "      <th>Reviews</th>\n",
       "      <td>0.017300</td>\n",
       "      <td>0.055081</td>\n",
       "      <td>1.000000</td>\n",
       "      <td>0.179321</td>\n",
       "      <td>0.625165</td>\n",
       "      <td>-0.033078</td>\n",
       "      <td>-0.007598</td>\n",
       "      <td>0.006707</td>\n",
       "    </tr>\n",
       "    <tr>\n",
       "      <th>Size</th>\n",
       "      <td>-0.121715</td>\n",
       "      <td>0.063067</td>\n",
       "      <td>0.179321</td>\n",
       "      <td>1.000000</td>\n",
       "      <td>0.134291</td>\n",
       "      <td>-0.018838</td>\n",
       "      <td>-0.022439</td>\n",
       "      <td>-0.105411</td>\n",
       "    </tr>\n",
       "    <tr>\n",
       "      <th>Installs</th>\n",
       "      <td>0.031659</td>\n",
       "      <td>0.040143</td>\n",
       "      <td>0.625165</td>\n",
       "      <td>0.134291</td>\n",
       "      <td>1.000000</td>\n",
       "      <td>-0.041750</td>\n",
       "      <td>-0.009405</td>\n",
       "      <td>0.014144</td>\n",
       "    </tr>\n",
       "    <tr>\n",
       "      <th>Type</th>\n",
       "      <td>0.016994</td>\n",
       "      <td>0.045395</td>\n",
       "      <td>-0.033078</td>\n",
       "      <td>-0.018838</td>\n",
       "      <td>-0.041750</td>\n",
       "      <td>1.000000</td>\n",
       "      <td>0.223867</td>\n",
       "      <td>-0.002299</td>\n",
       "    </tr>\n",
       "    <tr>\n",
       "      <th>Price</th>\n",
       "      <td>-0.013769</td>\n",
       "      <td>-0.021199</td>\n",
       "      <td>-0.007598</td>\n",
       "      <td>-0.022439</td>\n",
       "      <td>-0.009405</td>\n",
       "      <td>0.223867</td>\n",
       "      <td>1.000000</td>\n",
       "      <td>-0.005382</td>\n",
       "    </tr>\n",
       "    <tr>\n",
       "      <th>Genres</th>\n",
       "      <td>0.796488</td>\n",
       "      <td>-0.046924</td>\n",
       "      <td>0.006707</td>\n",
       "      <td>-0.105411</td>\n",
       "      <td>0.014144</td>\n",
       "      <td>-0.002299</td>\n",
       "      <td>-0.005382</td>\n",
       "      <td>1.000000</td>\n",
       "    </tr>\n",
       "  </tbody>\n",
       "</table>\n",
       "</div>"
      ],
      "text/plain": [
       "          Category    Rating   Reviews      Size  Installs      Type  \\\n",
       "Category  1.000000 -0.041095  0.017300 -0.121715  0.031659  0.016994   \n",
       "Rating   -0.041095  1.000000  0.055081  0.063067  0.040143  0.045395   \n",
       "Reviews   0.017300  0.055081  1.000000  0.179321  0.625165 -0.033078   \n",
       "Size     -0.121715  0.063067  0.179321  1.000000  0.134291 -0.018838   \n",
       "Installs  0.031659  0.040143  0.625165  0.134291  1.000000 -0.041750   \n",
       "Type      0.016994  0.045395 -0.033078 -0.018838 -0.041750  1.000000   \n",
       "Price    -0.013769 -0.021199 -0.007598 -0.022439 -0.009405  0.223867   \n",
       "Genres    0.796488 -0.046924  0.006707 -0.105411  0.014144 -0.002299   \n",
       "\n",
       "             Price    Genres  \n",
       "Category -0.013769  0.796488  \n",
       "Rating   -0.021199 -0.046924  \n",
       "Reviews  -0.007598  0.006707  \n",
       "Size     -0.022439 -0.105411  \n",
       "Installs -0.009405  0.014144  \n",
       "Type      0.223867 -0.002299  \n",
       "Price     1.000000 -0.005382  \n",
       "Genres   -0.005382  1.000000  "
      ]
     },
     "execution_count": 25,
     "metadata": {},
     "output_type": "execute_result"
    }
   ],
   "source": [
    "Apps.corr(\"pearson\")"
   ]
  },
  {
   "cell_type": "code",
   "execution_count": 11,
   "metadata": {},
   "outputs": [
    {
     "data": {
      "text/html": [
       "<div>\n",
       "<style scoped>\n",
       "    .dataframe tbody tr th:only-of-type {\n",
       "        vertical-align: middle;\n",
       "    }\n",
       "\n",
       "    .dataframe tbody tr th {\n",
       "        vertical-align: top;\n",
       "    }\n",
       "\n",
       "    .dataframe thead th {\n",
       "        text-align: right;\n",
       "    }\n",
       "</style>\n",
       "<table border=\"1\" class=\"dataframe\">\n",
       "  <thead>\n",
       "    <tr style=\"text-align: right;\">\n",
       "      <th></th>\n",
       "      <th>sentences_count</th>\n",
       "      <th>characters_count</th>\n",
       "      <th>spaces_count</th>\n",
       "      <th>count_words</th>\n",
       "      <th>duplicates_count</th>\n",
       "      <th>chars_excl_spaces_count</th>\n",
       "      <th>emoji_count</th>\n",
       "      <th>whole_numbers_count</th>\n",
       "      <th>alpha_numeric_count</th>\n",
       "      <th>non_alpha_numeric_count</th>\n",
       "      <th>...</th>\n",
       "      <th>stop_words_count</th>\n",
       "      <th>dates_count</th>\n",
       "      <th>noun_phase_count</th>\n",
       "      <th>sentiment_polarity_score</th>\n",
       "      <th>sentiment_subjectivity_score</th>\n",
       "      <th>spelling_quality_score</th>\n",
       "      <th>ease_of_reading_score</th>\n",
       "      <th>grammar_check_score</th>\n",
       "      <th>original_Sentiment_Polarity</th>\n",
       "      <th>original_Sentiment_Subjectivity</th>\n",
       "    </tr>\n",
       "  </thead>\n",
       "  <tbody>\n",
       "    <tr>\n",
       "      <th>sentences_count</th>\n",
       "      <td>1.000000</td>\n",
       "      <td>0.824838</td>\n",
       "      <td>0.827895</td>\n",
       "      <td>0.824145</td>\n",
       "      <td>0.764536</td>\n",
       "      <td>0.822333</td>\n",
       "      <td>0.042610</td>\n",
       "      <td>0.333944</td>\n",
       "      <td>0.816234</td>\n",
       "      <td>0.842795</td>\n",
       "      <td>...</td>\n",
       "      <td>0.264555</td>\n",
       "      <td>0.001707</td>\n",
       "      <td>0.788062</td>\n",
       "      <td>-0.130141</td>\n",
       "      <td>0.035078</td>\n",
       "      <td>0.071879</td>\n",
       "      <td>-0.085971</td>\n",
       "      <td>0.452912</td>\n",
       "      <td>-0.130141</td>\n",
       "      <td>0.035078</td>\n",
       "    </tr>\n",
       "    <tr>\n",
       "      <th>characters_count</th>\n",
       "      <td>0.824838</td>\n",
       "      <td>1.000000</td>\n",
       "      <td>0.989443</td>\n",
       "      <td>0.989072</td>\n",
       "      <td>0.891213</td>\n",
       "      <td>0.999632</td>\n",
       "      <td>0.056824</td>\n",
       "      <td>0.388705</td>\n",
       "      <td>0.999009</td>\n",
       "      <td>0.984099</td>\n",
       "      <td>...</td>\n",
       "      <td>0.349453</td>\n",
       "      <td>0.005218</td>\n",
       "      <td>0.964316</td>\n",
       "      <td>-0.159542</td>\n",
       "      <td>0.022768</td>\n",
       "      <td>0.056270</td>\n",
       "      <td>-0.223496</td>\n",
       "      <td>0.584581</td>\n",
       "      <td>-0.159542</td>\n",
       "      <td>0.022768</td>\n",
       "    </tr>\n",
       "    <tr>\n",
       "      <th>spaces_count</th>\n",
       "      <td>0.827895</td>\n",
       "      <td>0.989443</td>\n",
       "      <td>1.000000</td>\n",
       "      <td>0.996740</td>\n",
       "      <td>0.907149</td>\n",
       "      <td>0.985148</td>\n",
       "      <td>0.054128</td>\n",
       "      <td>0.406117</td>\n",
       "      <td>0.984953</td>\n",
       "      <td>0.987714</td>\n",
       "      <td>...</td>\n",
       "      <td>0.382111</td>\n",
       "      <td>0.003086</td>\n",
       "      <td>0.962451</td>\n",
       "      <td>-0.160390</td>\n",
       "      <td>0.019104</td>\n",
       "      <td>0.067274</td>\n",
       "      <td>-0.165582</td>\n",
       "      <td>0.587945</td>\n",
       "      <td>-0.160390</td>\n",
       "      <td>0.019104</td>\n",
       "    </tr>\n",
       "    <tr>\n",
       "      <th>count_words</th>\n",
       "      <td>0.824145</td>\n",
       "      <td>0.989072</td>\n",
       "      <td>0.996740</td>\n",
       "      <td>1.000000</td>\n",
       "      <td>0.905549</td>\n",
       "      <td>0.985319</td>\n",
       "      <td>0.047281</td>\n",
       "      <td>0.362183</td>\n",
       "      <td>0.984829</td>\n",
       "      <td>0.986366</td>\n",
       "      <td>...</td>\n",
       "      <td>0.385663</td>\n",
       "      <td>0.001053</td>\n",
       "      <td>0.961279</td>\n",
       "      <td>-0.159371</td>\n",
       "      <td>0.021141</td>\n",
       "      <td>0.058857</td>\n",
       "      <td>-0.166601</td>\n",
       "      <td>0.585083</td>\n",
       "      <td>-0.159371</td>\n",
       "      <td>0.021141</td>\n",
       "    </tr>\n",
       "    <tr>\n",
       "      <th>duplicates_count</th>\n",
       "      <td>0.764536</td>\n",
       "      <td>0.891213</td>\n",
       "      <td>0.907149</td>\n",
       "      <td>0.905549</td>\n",
       "      <td>1.000000</td>\n",
       "      <td>0.886142</td>\n",
       "      <td>0.069272</td>\n",
       "      <td>0.393985</td>\n",
       "      <td>0.881978</td>\n",
       "      <td>0.910369</td>\n",
       "      <td>...</td>\n",
       "      <td>0.385046</td>\n",
       "      <td>-0.000600</td>\n",
       "      <td>0.870096</td>\n",
       "      <td>-0.132419</td>\n",
       "      <td>0.012817</td>\n",
       "      <td>0.051967</td>\n",
       "      <td>-0.112603</td>\n",
       "      <td>0.546486</td>\n",
       "      <td>-0.132419</td>\n",
       "      <td>0.012817</td>\n",
       "    </tr>\n",
       "    <tr>\n",
       "      <th>chars_excl_spaces_count</th>\n",
       "      <td>0.822333</td>\n",
       "      <td>0.999632</td>\n",
       "      <td>0.985148</td>\n",
       "      <td>0.985319</td>\n",
       "      <td>0.886142</td>\n",
       "      <td>1.000000</td>\n",
       "      <td>0.057196</td>\n",
       "      <td>0.384537</td>\n",
       "      <td>0.999298</td>\n",
       "      <td>0.981116</td>\n",
       "      <td>...</td>\n",
       "      <td>0.342523</td>\n",
       "      <td>0.005605</td>\n",
       "      <td>0.962405</td>\n",
       "      <td>-0.159009</td>\n",
       "      <td>0.023400</td>\n",
       "      <td>0.054079</td>\n",
       "      <td>-0.233809</td>\n",
       "      <td>0.582581</td>\n",
       "      <td>-0.159009</td>\n",
       "      <td>0.023400</td>\n",
       "    </tr>\n",
       "    <tr>\n",
       "      <th>emoji_count</th>\n",
       "      <td>0.042610</td>\n",
       "      <td>0.056824</td>\n",
       "      <td>0.054128</td>\n",
       "      <td>0.047281</td>\n",
       "      <td>0.069272</td>\n",
       "      <td>0.057196</td>\n",
       "      <td>1.000000</td>\n",
       "      <td>0.167710</td>\n",
       "      <td>0.051479</td>\n",
       "      <td>0.077026</td>\n",
       "      <td>...</td>\n",
       "      <td>0.007861</td>\n",
       "      <td>-0.001142</td>\n",
       "      <td>0.058432</td>\n",
       "      <td>0.015800</td>\n",
       "      <td>0.008665</td>\n",
       "      <td>-0.030773</td>\n",
       "      <td>0.003038</td>\n",
       "      <td>0.062078</td>\n",
       "      <td>0.015800</td>\n",
       "      <td>0.008665</td>\n",
       "    </tr>\n",
       "    <tr>\n",
       "      <th>whole_numbers_count</th>\n",
       "      <td>0.333944</td>\n",
       "      <td>0.388705</td>\n",
       "      <td>0.406117</td>\n",
       "      <td>0.362183</td>\n",
       "      <td>0.393985</td>\n",
       "      <td>0.384537</td>\n",
       "      <td>0.167710</td>\n",
       "      <td>1.000000</td>\n",
       "      <td>0.378233</td>\n",
       "      <td>0.422780</td>\n",
       "      <td>...</td>\n",
       "      <td>0.099220</td>\n",
       "      <td>0.059849</td>\n",
       "      <td>0.375071</td>\n",
       "      <td>-0.089386</td>\n",
       "      <td>-0.033720</td>\n",
       "      <td>-0.012008</td>\n",
       "      <td>-0.024380</td>\n",
       "      <td>0.271642</td>\n",
       "      <td>-0.089386</td>\n",
       "      <td>-0.033720</td>\n",
       "    </tr>\n",
       "    <tr>\n",
       "      <th>alpha_numeric_count</th>\n",
       "      <td>0.816234</td>\n",
       "      <td>0.999009</td>\n",
       "      <td>0.984953</td>\n",
       "      <td>0.984829</td>\n",
       "      <td>0.881978</td>\n",
       "      <td>0.999298</td>\n",
       "      <td>0.051479</td>\n",
       "      <td>0.378233</td>\n",
       "      <td>1.000000</td>\n",
       "      <td>0.975218</td>\n",
       "      <td>...</td>\n",
       "      <td>0.340202</td>\n",
       "      <td>0.005118</td>\n",
       "      <td>0.962037</td>\n",
       "      <td>-0.159487</td>\n",
       "      <td>0.022793</td>\n",
       "      <td>0.059486</td>\n",
       "      <td>-0.236539</td>\n",
       "      <td>0.577622</td>\n",
       "      <td>-0.159487</td>\n",
       "      <td>0.022793</td>\n",
       "    </tr>\n",
       "    <tr>\n",
       "      <th>non_alpha_numeric_count</th>\n",
       "      <td>0.842795</td>\n",
       "      <td>0.984099</td>\n",
       "      <td>0.987714</td>\n",
       "      <td>0.986366</td>\n",
       "      <td>0.910369</td>\n",
       "      <td>0.981116</td>\n",
       "      <td>0.077026</td>\n",
       "      <td>0.422780</td>\n",
       "      <td>0.975218</td>\n",
       "      <td>1.000000</td>\n",
       "      <td>...</td>\n",
       "      <td>0.379435</td>\n",
       "      <td>0.005512</td>\n",
       "      <td>0.954260</td>\n",
       "      <td>-0.156591</td>\n",
       "      <td>0.022217</td>\n",
       "      <td>0.042316</td>\n",
       "      <td>-0.167006</td>\n",
       "      <td>0.600744</td>\n",
       "      <td>-0.156591</td>\n",
       "      <td>0.022217</td>\n",
       "    </tr>\n",
       "    <tr>\n",
       "      <th>punctuations_count</th>\n",
       "      <td>0.756802</td>\n",
       "      <td>0.813255</td>\n",
       "      <td>0.795071</td>\n",
       "      <td>0.799839</td>\n",
       "      <td>0.778019</td>\n",
       "      <td>0.814751</td>\n",
       "      <td>0.093247</td>\n",
       "      <td>0.407085</td>\n",
       "      <td>0.792659</td>\n",
       "      <td>0.879299</td>\n",
       "      <td>...</td>\n",
       "      <td>0.311505</td>\n",
       "      <td>0.012257</td>\n",
       "      <td>0.779013</td>\n",
       "      <td>-0.121541</td>\n",
       "      <td>0.028387</td>\n",
       "      <td>-0.037877</td>\n",
       "      <td>-0.146704</td>\n",
       "      <td>0.542921</td>\n",
       "      <td>-0.121541</td>\n",
       "      <td>0.028387</td>\n",
       "    </tr>\n",
       "    <tr>\n",
       "      <th>stop_words_count</th>\n",
       "      <td>0.264555</td>\n",
       "      <td>0.349453</td>\n",
       "      <td>0.382111</td>\n",
       "      <td>0.385663</td>\n",
       "      <td>0.385046</td>\n",
       "      <td>0.342523</td>\n",
       "      <td>0.007861</td>\n",
       "      <td>0.099220</td>\n",
       "      <td>0.340202</td>\n",
       "      <td>0.379435</td>\n",
       "      <td>...</td>\n",
       "      <td>1.000000</td>\n",
       "      <td>0.004998</td>\n",
       "      <td>0.268751</td>\n",
       "      <td>-0.061572</td>\n",
       "      <td>-0.007369</td>\n",
       "      <td>0.049577</td>\n",
       "      <td>-0.021069</td>\n",
       "      <td>0.180900</td>\n",
       "      <td>-0.061572</td>\n",
       "      <td>-0.007369</td>\n",
       "    </tr>\n",
       "    <tr>\n",
       "      <th>dates_count</th>\n",
       "      <td>0.001707</td>\n",
       "      <td>0.005218</td>\n",
       "      <td>0.003086</td>\n",
       "      <td>0.001053</td>\n",
       "      <td>-0.000600</td>\n",
       "      <td>0.005605</td>\n",
       "      <td>-0.001142</td>\n",
       "      <td>0.059849</td>\n",
       "      <td>0.005118</td>\n",
       "      <td>0.005512</td>\n",
       "      <td>...</td>\n",
       "      <td>0.004998</td>\n",
       "      <td>1.000000</td>\n",
       "      <td>0.001368</td>\n",
       "      <td>-0.005884</td>\n",
       "      <td>-0.008649</td>\n",
       "      <td>-0.013913</td>\n",
       "      <td>-0.006954</td>\n",
       "      <td>-0.001737</td>\n",
       "      <td>-0.005884</td>\n",
       "      <td>-0.008649</td>\n",
       "    </tr>\n",
       "    <tr>\n",
       "      <th>noun_phase_count</th>\n",
       "      <td>0.788062</td>\n",
       "      <td>0.964316</td>\n",
       "      <td>0.962451</td>\n",
       "      <td>0.961279</td>\n",
       "      <td>0.870096</td>\n",
       "      <td>0.962405</td>\n",
       "      <td>0.058432</td>\n",
       "      <td>0.375071</td>\n",
       "      <td>0.962037</td>\n",
       "      <td>0.954260</td>\n",
       "      <td>...</td>\n",
       "      <td>0.268751</td>\n",
       "      <td>0.001368</td>\n",
       "      <td>1.000000</td>\n",
       "      <td>-0.139839</td>\n",
       "      <td>0.032786</td>\n",
       "      <td>0.042380</td>\n",
       "      <td>-0.184889</td>\n",
       "      <td>0.602675</td>\n",
       "      <td>-0.139839</td>\n",
       "      <td>0.032786</td>\n",
       "    </tr>\n",
       "    <tr>\n",
       "      <th>sentiment_polarity_score</th>\n",
       "      <td>-0.130141</td>\n",
       "      <td>-0.159542</td>\n",
       "      <td>-0.160390</td>\n",
       "      <td>-0.159371</td>\n",
       "      <td>-0.132419</td>\n",
       "      <td>-0.159009</td>\n",
       "      <td>0.015800</td>\n",
       "      <td>-0.089386</td>\n",
       "      <td>-0.159487</td>\n",
       "      <td>-0.156591</td>\n",
       "      <td>...</td>\n",
       "      <td>-0.061572</td>\n",
       "      <td>-0.005884</td>\n",
       "      <td>-0.139839</td>\n",
       "      <td>1.000000</td>\n",
       "      <td>0.259668</td>\n",
       "      <td>0.009576</td>\n",
       "      <td>0.090493</td>\n",
       "      <td>-0.104856</td>\n",
       "      <td>1.000000</td>\n",
       "      <td>0.259668</td>\n",
       "    </tr>\n",
       "    <tr>\n",
       "      <th>sentiment_subjectivity_score</th>\n",
       "      <td>0.035078</td>\n",
       "      <td>0.022768</td>\n",
       "      <td>0.019104</td>\n",
       "      <td>0.021141</td>\n",
       "      <td>0.012817</td>\n",
       "      <td>0.023400</td>\n",
       "      <td>0.008665</td>\n",
       "      <td>-0.033720</td>\n",
       "      <td>0.022793</td>\n",
       "      <td>0.022217</td>\n",
       "      <td>...</td>\n",
       "      <td>-0.007369</td>\n",
       "      <td>-0.008649</td>\n",
       "      <td>0.032786</td>\n",
       "      <td>0.259668</td>\n",
       "      <td>1.000000</td>\n",
       "      <td>0.065280</td>\n",
       "      <td>-0.023341</td>\n",
       "      <td>0.001924</td>\n",
       "      <td>0.259668</td>\n",
       "      <td>1.000000</td>\n",
       "    </tr>\n",
       "    <tr>\n",
       "      <th>spelling_quality_score</th>\n",
       "      <td>0.071879</td>\n",
       "      <td>0.056270</td>\n",
       "      <td>0.067274</td>\n",
       "      <td>0.058857</td>\n",
       "      <td>0.051967</td>\n",
       "      <td>0.054079</td>\n",
       "      <td>-0.030773</td>\n",
       "      <td>-0.012008</td>\n",
       "      <td>0.059486</td>\n",
       "      <td>0.042316</td>\n",
       "      <td>...</td>\n",
       "      <td>0.049577</td>\n",
       "      <td>-0.013913</td>\n",
       "      <td>0.042380</td>\n",
       "      <td>0.009576</td>\n",
       "      <td>0.065280</td>\n",
       "      <td>1.000000</td>\n",
       "      <td>0.063354</td>\n",
       "      <td>-0.101965</td>\n",
       "      <td>0.009576</td>\n",
       "      <td>0.065280</td>\n",
       "    </tr>\n",
       "    <tr>\n",
       "      <th>ease_of_reading_score</th>\n",
       "      <td>-0.085971</td>\n",
       "      <td>-0.223496</td>\n",
       "      <td>-0.165582</td>\n",
       "      <td>-0.166601</td>\n",
       "      <td>-0.112603</td>\n",
       "      <td>-0.233809</td>\n",
       "      <td>0.003038</td>\n",
       "      <td>-0.024380</td>\n",
       "      <td>-0.236539</td>\n",
       "      <td>-0.167006</td>\n",
       "      <td>...</td>\n",
       "      <td>-0.021069</td>\n",
       "      <td>-0.006954</td>\n",
       "      <td>-0.184889</td>\n",
       "      <td>0.090493</td>\n",
       "      <td>-0.023341</td>\n",
       "      <td>0.063354</td>\n",
       "      <td>1.000000</td>\n",
       "      <td>-0.130203</td>\n",
       "      <td>0.090493</td>\n",
       "      <td>-0.023341</td>\n",
       "    </tr>\n",
       "    <tr>\n",
       "      <th>grammar_check_score</th>\n",
       "      <td>0.452912</td>\n",
       "      <td>0.584581</td>\n",
       "      <td>0.587945</td>\n",
       "      <td>0.585083</td>\n",
       "      <td>0.546486</td>\n",
       "      <td>0.582581</td>\n",
       "      <td>0.062078</td>\n",
       "      <td>0.271642</td>\n",
       "      <td>0.577622</td>\n",
       "      <td>0.600744</td>\n",
       "      <td>...</td>\n",
       "      <td>0.180900</td>\n",
       "      <td>-0.001737</td>\n",
       "      <td>0.602675</td>\n",
       "      <td>-0.104856</td>\n",
       "      <td>0.001924</td>\n",
       "      <td>-0.101965</td>\n",
       "      <td>-0.130203</td>\n",
       "      <td>1.000000</td>\n",
       "      <td>-0.104856</td>\n",
       "      <td>0.001924</td>\n",
       "    </tr>\n",
       "    <tr>\n",
       "      <th>original_Sentiment_Polarity</th>\n",
       "      <td>-0.130141</td>\n",
       "      <td>-0.159542</td>\n",
       "      <td>-0.160390</td>\n",
       "      <td>-0.159371</td>\n",
       "      <td>-0.132419</td>\n",
       "      <td>-0.159009</td>\n",
       "      <td>0.015800</td>\n",
       "      <td>-0.089386</td>\n",
       "      <td>-0.159487</td>\n",
       "      <td>-0.156591</td>\n",
       "      <td>...</td>\n",
       "      <td>-0.061572</td>\n",
       "      <td>-0.005884</td>\n",
       "      <td>-0.139839</td>\n",
       "      <td>1.000000</td>\n",
       "      <td>0.259668</td>\n",
       "      <td>0.009576</td>\n",
       "      <td>0.090493</td>\n",
       "      <td>-0.104856</td>\n",
       "      <td>1.000000</td>\n",
       "      <td>0.259668</td>\n",
       "    </tr>\n",
       "    <tr>\n",
       "      <th>original_Sentiment_Subjectivity</th>\n",
       "      <td>0.035078</td>\n",
       "      <td>0.022768</td>\n",
       "      <td>0.019104</td>\n",
       "      <td>0.021141</td>\n",
       "      <td>0.012817</td>\n",
       "      <td>0.023400</td>\n",
       "      <td>0.008665</td>\n",
       "      <td>-0.033720</td>\n",
       "      <td>0.022793</td>\n",
       "      <td>0.022217</td>\n",
       "      <td>...</td>\n",
       "      <td>-0.007369</td>\n",
       "      <td>-0.008649</td>\n",
       "      <td>0.032786</td>\n",
       "      <td>0.259668</td>\n",
       "      <td>1.000000</td>\n",
       "      <td>0.065280</td>\n",
       "      <td>-0.023341</td>\n",
       "      <td>0.001924</td>\n",
       "      <td>0.259668</td>\n",
       "      <td>1.000000</td>\n",
       "    </tr>\n",
       "  </tbody>\n",
       "</table>\n",
       "<p>21 rows × 21 columns</p>\n",
       "</div>"
      ],
      "text/plain": [
       "                                 sentences_count  characters_count  \\\n",
       "sentences_count                         1.000000          0.824838   \n",
       "characters_count                        0.824838          1.000000   \n",
       "spaces_count                            0.827895          0.989443   \n",
       "count_words                             0.824145          0.989072   \n",
       "duplicates_count                        0.764536          0.891213   \n",
       "chars_excl_spaces_count                 0.822333          0.999632   \n",
       "emoji_count                             0.042610          0.056824   \n",
       "whole_numbers_count                     0.333944          0.388705   \n",
       "alpha_numeric_count                     0.816234          0.999009   \n",
       "non_alpha_numeric_count                 0.842795          0.984099   \n",
       "punctuations_count                      0.756802          0.813255   \n",
       "stop_words_count                        0.264555          0.349453   \n",
       "dates_count                             0.001707          0.005218   \n",
       "noun_phase_count                        0.788062          0.964316   \n",
       "sentiment_polarity_score               -0.130141         -0.159542   \n",
       "sentiment_subjectivity_score            0.035078          0.022768   \n",
       "spelling_quality_score                  0.071879          0.056270   \n",
       "ease_of_reading_score                  -0.085971         -0.223496   \n",
       "grammar_check_score                     0.452912          0.584581   \n",
       "original_Sentiment_Polarity            -0.130141         -0.159542   \n",
       "original_Sentiment_Subjectivity         0.035078          0.022768   \n",
       "\n",
       "                                 spaces_count  count_words  duplicates_count  \\\n",
       "sentences_count                      0.827895     0.824145          0.764536   \n",
       "characters_count                     0.989443     0.989072          0.891213   \n",
       "spaces_count                         1.000000     0.996740          0.907149   \n",
       "count_words                          0.996740     1.000000          0.905549   \n",
       "duplicates_count                     0.907149     0.905549          1.000000   \n",
       "chars_excl_spaces_count              0.985148     0.985319          0.886142   \n",
       "emoji_count                          0.054128     0.047281          0.069272   \n",
       "whole_numbers_count                  0.406117     0.362183          0.393985   \n",
       "alpha_numeric_count                  0.984953     0.984829          0.881978   \n",
       "non_alpha_numeric_count              0.987714     0.986366          0.910369   \n",
       "punctuations_count                   0.795071     0.799839          0.778019   \n",
       "stop_words_count                     0.382111     0.385663          0.385046   \n",
       "dates_count                          0.003086     0.001053         -0.000600   \n",
       "noun_phase_count                     0.962451     0.961279          0.870096   \n",
       "sentiment_polarity_score            -0.160390    -0.159371         -0.132419   \n",
       "sentiment_subjectivity_score         0.019104     0.021141          0.012817   \n",
       "spelling_quality_score               0.067274     0.058857          0.051967   \n",
       "ease_of_reading_score               -0.165582    -0.166601         -0.112603   \n",
       "grammar_check_score                  0.587945     0.585083          0.546486   \n",
       "original_Sentiment_Polarity         -0.160390    -0.159371         -0.132419   \n",
       "original_Sentiment_Subjectivity      0.019104     0.021141          0.012817   \n",
       "\n",
       "                                 chars_excl_spaces_count  emoji_count  \\\n",
       "sentences_count                                 0.822333     0.042610   \n",
       "characters_count                                0.999632     0.056824   \n",
       "spaces_count                                    0.985148     0.054128   \n",
       "count_words                                     0.985319     0.047281   \n",
       "duplicates_count                                0.886142     0.069272   \n",
       "chars_excl_spaces_count                         1.000000     0.057196   \n",
       "emoji_count                                     0.057196     1.000000   \n",
       "whole_numbers_count                             0.384537     0.167710   \n",
       "alpha_numeric_count                             0.999298     0.051479   \n",
       "non_alpha_numeric_count                         0.981116     0.077026   \n",
       "punctuations_count                              0.814751     0.093247   \n",
       "stop_words_count                                0.342523     0.007861   \n",
       "dates_count                                     0.005605    -0.001142   \n",
       "noun_phase_count                                0.962405     0.058432   \n",
       "sentiment_polarity_score                       -0.159009     0.015800   \n",
       "sentiment_subjectivity_score                    0.023400     0.008665   \n",
       "spelling_quality_score                          0.054079    -0.030773   \n",
       "ease_of_reading_score                          -0.233809     0.003038   \n",
       "grammar_check_score                             0.582581     0.062078   \n",
       "original_Sentiment_Polarity                    -0.159009     0.015800   \n",
       "original_Sentiment_Subjectivity                 0.023400     0.008665   \n",
       "\n",
       "                                 whole_numbers_count  alpha_numeric_count  \\\n",
       "sentences_count                             0.333944             0.816234   \n",
       "characters_count                            0.388705             0.999009   \n",
       "spaces_count                                0.406117             0.984953   \n",
       "count_words                                 0.362183             0.984829   \n",
       "duplicates_count                            0.393985             0.881978   \n",
       "chars_excl_spaces_count                     0.384537             0.999298   \n",
       "emoji_count                                 0.167710             0.051479   \n",
       "whole_numbers_count                         1.000000             0.378233   \n",
       "alpha_numeric_count                         0.378233             1.000000   \n",
       "non_alpha_numeric_count                     0.422780             0.975218   \n",
       "punctuations_count                          0.407085             0.792659   \n",
       "stop_words_count                            0.099220             0.340202   \n",
       "dates_count                                 0.059849             0.005118   \n",
       "noun_phase_count                            0.375071             0.962037   \n",
       "sentiment_polarity_score                   -0.089386            -0.159487   \n",
       "sentiment_subjectivity_score               -0.033720             0.022793   \n",
       "spelling_quality_score                     -0.012008             0.059486   \n",
       "ease_of_reading_score                      -0.024380            -0.236539   \n",
       "grammar_check_score                         0.271642             0.577622   \n",
       "original_Sentiment_Polarity                -0.089386            -0.159487   \n",
       "original_Sentiment_Subjectivity            -0.033720             0.022793   \n",
       "\n",
       "                                 non_alpha_numeric_count  ...  \\\n",
       "sentences_count                                 0.842795  ...   \n",
       "characters_count                                0.984099  ...   \n",
       "spaces_count                                    0.987714  ...   \n",
       "count_words                                     0.986366  ...   \n",
       "duplicates_count                                0.910369  ...   \n",
       "chars_excl_spaces_count                         0.981116  ...   \n",
       "emoji_count                                     0.077026  ...   \n",
       "whole_numbers_count                             0.422780  ...   \n",
       "alpha_numeric_count                             0.975218  ...   \n",
       "non_alpha_numeric_count                         1.000000  ...   \n",
       "punctuations_count                              0.879299  ...   \n",
       "stop_words_count                                0.379435  ...   \n",
       "dates_count                                     0.005512  ...   \n",
       "noun_phase_count                                0.954260  ...   \n",
       "sentiment_polarity_score                       -0.156591  ...   \n",
       "sentiment_subjectivity_score                    0.022217  ...   \n",
       "spelling_quality_score                          0.042316  ...   \n",
       "ease_of_reading_score                          -0.167006  ...   \n",
       "grammar_check_score                             0.600744  ...   \n",
       "original_Sentiment_Polarity                    -0.156591  ...   \n",
       "original_Sentiment_Subjectivity                 0.022217  ...   \n",
       "\n",
       "                                 stop_words_count  dates_count  \\\n",
       "sentences_count                          0.264555     0.001707   \n",
       "characters_count                         0.349453     0.005218   \n",
       "spaces_count                             0.382111     0.003086   \n",
       "count_words                              0.385663     0.001053   \n",
       "duplicates_count                         0.385046    -0.000600   \n",
       "chars_excl_spaces_count                  0.342523     0.005605   \n",
       "emoji_count                              0.007861    -0.001142   \n",
       "whole_numbers_count                      0.099220     0.059849   \n",
       "alpha_numeric_count                      0.340202     0.005118   \n",
       "non_alpha_numeric_count                  0.379435     0.005512   \n",
       "punctuations_count                       0.311505     0.012257   \n",
       "stop_words_count                         1.000000     0.004998   \n",
       "dates_count                              0.004998     1.000000   \n",
       "noun_phase_count                         0.268751     0.001368   \n",
       "sentiment_polarity_score                -0.061572    -0.005884   \n",
       "sentiment_subjectivity_score            -0.007369    -0.008649   \n",
       "spelling_quality_score                   0.049577    -0.013913   \n",
       "ease_of_reading_score                   -0.021069    -0.006954   \n",
       "grammar_check_score                      0.180900    -0.001737   \n",
       "original_Sentiment_Polarity             -0.061572    -0.005884   \n",
       "original_Sentiment_Subjectivity         -0.007369    -0.008649   \n",
       "\n",
       "                                 noun_phase_count  sentiment_polarity_score  \\\n",
       "sentences_count                          0.788062                 -0.130141   \n",
       "characters_count                         0.964316                 -0.159542   \n",
       "spaces_count                             0.962451                 -0.160390   \n",
       "count_words                              0.961279                 -0.159371   \n",
       "duplicates_count                         0.870096                 -0.132419   \n",
       "chars_excl_spaces_count                  0.962405                 -0.159009   \n",
       "emoji_count                              0.058432                  0.015800   \n",
       "whole_numbers_count                      0.375071                 -0.089386   \n",
       "alpha_numeric_count                      0.962037                 -0.159487   \n",
       "non_alpha_numeric_count                  0.954260                 -0.156591   \n",
       "punctuations_count                       0.779013                 -0.121541   \n",
       "stop_words_count                         0.268751                 -0.061572   \n",
       "dates_count                              0.001368                 -0.005884   \n",
       "noun_phase_count                         1.000000                 -0.139839   \n",
       "sentiment_polarity_score                -0.139839                  1.000000   \n",
       "sentiment_subjectivity_score             0.032786                  0.259668   \n",
       "spelling_quality_score                   0.042380                  0.009576   \n",
       "ease_of_reading_score                   -0.184889                  0.090493   \n",
       "grammar_check_score                      0.602675                 -0.104856   \n",
       "original_Sentiment_Polarity             -0.139839                  1.000000   \n",
       "original_Sentiment_Subjectivity          0.032786                  0.259668   \n",
       "\n",
       "                                 sentiment_subjectivity_score  \\\n",
       "sentences_count                                      0.035078   \n",
       "characters_count                                     0.022768   \n",
       "spaces_count                                         0.019104   \n",
       "count_words                                          0.021141   \n",
       "duplicates_count                                     0.012817   \n",
       "chars_excl_spaces_count                              0.023400   \n",
       "emoji_count                                          0.008665   \n",
       "whole_numbers_count                                 -0.033720   \n",
       "alpha_numeric_count                                  0.022793   \n",
       "non_alpha_numeric_count                              0.022217   \n",
       "punctuations_count                                   0.028387   \n",
       "stop_words_count                                    -0.007369   \n",
       "dates_count                                         -0.008649   \n",
       "noun_phase_count                                     0.032786   \n",
       "sentiment_polarity_score                             0.259668   \n",
       "sentiment_subjectivity_score                         1.000000   \n",
       "spelling_quality_score                               0.065280   \n",
       "ease_of_reading_score                               -0.023341   \n",
       "grammar_check_score                                  0.001924   \n",
       "original_Sentiment_Polarity                          0.259668   \n",
       "original_Sentiment_Subjectivity                      1.000000   \n",
       "\n",
       "                                 spelling_quality_score  \\\n",
       "sentences_count                                0.071879   \n",
       "characters_count                               0.056270   \n",
       "spaces_count                                   0.067274   \n",
       "count_words                                    0.058857   \n",
       "duplicates_count                               0.051967   \n",
       "chars_excl_spaces_count                        0.054079   \n",
       "emoji_count                                   -0.030773   \n",
       "whole_numbers_count                           -0.012008   \n",
       "alpha_numeric_count                            0.059486   \n",
       "non_alpha_numeric_count                        0.042316   \n",
       "punctuations_count                            -0.037877   \n",
       "stop_words_count                               0.049577   \n",
       "dates_count                                   -0.013913   \n",
       "noun_phase_count                               0.042380   \n",
       "sentiment_polarity_score                       0.009576   \n",
       "sentiment_subjectivity_score                   0.065280   \n",
       "spelling_quality_score                         1.000000   \n",
       "ease_of_reading_score                          0.063354   \n",
       "grammar_check_score                           -0.101965   \n",
       "original_Sentiment_Polarity                    0.009576   \n",
       "original_Sentiment_Subjectivity                0.065280   \n",
       "\n",
       "                                 ease_of_reading_score  grammar_check_score  \\\n",
       "sentences_count                              -0.085971             0.452912   \n",
       "characters_count                             -0.223496             0.584581   \n",
       "spaces_count                                 -0.165582             0.587945   \n",
       "count_words                                  -0.166601             0.585083   \n",
       "duplicates_count                             -0.112603             0.546486   \n",
       "chars_excl_spaces_count                      -0.233809             0.582581   \n",
       "emoji_count                                   0.003038             0.062078   \n",
       "whole_numbers_count                          -0.024380             0.271642   \n",
       "alpha_numeric_count                          -0.236539             0.577622   \n",
       "non_alpha_numeric_count                      -0.167006             0.600744   \n",
       "punctuations_count                           -0.146704             0.542921   \n",
       "stop_words_count                             -0.021069             0.180900   \n",
       "dates_count                                  -0.006954            -0.001737   \n",
       "noun_phase_count                             -0.184889             0.602675   \n",
       "sentiment_polarity_score                      0.090493            -0.104856   \n",
       "sentiment_subjectivity_score                 -0.023341             0.001924   \n",
       "spelling_quality_score                        0.063354            -0.101965   \n",
       "ease_of_reading_score                         1.000000            -0.130203   \n",
       "grammar_check_score                          -0.130203             1.000000   \n",
       "original_Sentiment_Polarity                   0.090493            -0.104856   \n",
       "original_Sentiment_Subjectivity              -0.023341             0.001924   \n",
       "\n",
       "                                 original_Sentiment_Polarity  \\\n",
       "sentences_count                                    -0.130141   \n",
       "characters_count                                   -0.159542   \n",
       "spaces_count                                       -0.160390   \n",
       "count_words                                        -0.159371   \n",
       "duplicates_count                                   -0.132419   \n",
       "chars_excl_spaces_count                            -0.159009   \n",
       "emoji_count                                         0.015800   \n",
       "whole_numbers_count                                -0.089386   \n",
       "alpha_numeric_count                                -0.159487   \n",
       "non_alpha_numeric_count                            -0.156591   \n",
       "punctuations_count                                 -0.121541   \n",
       "stop_words_count                                   -0.061572   \n",
       "dates_count                                        -0.005884   \n",
       "noun_phase_count                                   -0.139839   \n",
       "sentiment_polarity_score                            1.000000   \n",
       "sentiment_subjectivity_score                        0.259668   \n",
       "spelling_quality_score                              0.009576   \n",
       "ease_of_reading_score                               0.090493   \n",
       "grammar_check_score                                -0.104856   \n",
       "original_Sentiment_Polarity                         1.000000   \n",
       "original_Sentiment_Subjectivity                     0.259668   \n",
       "\n",
       "                                 original_Sentiment_Subjectivity  \n",
       "sentences_count                                         0.035078  \n",
       "characters_count                                        0.022768  \n",
       "spaces_count                                            0.019104  \n",
       "count_words                                             0.021141  \n",
       "duplicates_count                                        0.012817  \n",
       "chars_excl_spaces_count                                 0.023400  \n",
       "emoji_count                                             0.008665  \n",
       "whole_numbers_count                                    -0.033720  \n",
       "alpha_numeric_count                                     0.022793  \n",
       "non_alpha_numeric_count                                 0.022217  \n",
       "punctuations_count                                      0.028387  \n",
       "stop_words_count                                       -0.007369  \n",
       "dates_count                                            -0.008649  \n",
       "noun_phase_count                                        0.032786  \n",
       "sentiment_polarity_score                                0.259668  \n",
       "sentiment_subjectivity_score                            1.000000  \n",
       "spelling_quality_score                                  0.065280  \n",
       "ease_of_reading_score                                  -0.023341  \n",
       "grammar_check_score                                     0.001924  \n",
       "original_Sentiment_Polarity                             0.259668  \n",
       "original_Sentiment_Subjectivity                         1.000000  \n",
       "\n",
       "[21 rows x 21 columns]"
      ]
     },
     "execution_count": 11,
     "metadata": {},
     "output_type": "execute_result"
    }
   ],
   "source": [
    "Reviews.corr(\"pearson\")"
   ]
  },
  {
   "cell_type": "code",
   "execution_count": 75,
   "metadata": {},
   "outputs": [
    {
     "data": {
      "text/html": [
       "<div>\n",
       "<style scoped>\n",
       "    .dataframe tbody tr th:only-of-type {\n",
       "        vertical-align: middle;\n",
       "    }\n",
       "\n",
       "    .dataframe tbody tr th {\n",
       "        vertical-align: top;\n",
       "    }\n",
       "\n",
       "    .dataframe thead th {\n",
       "        text-align: right;\n",
       "    }\n",
       "</style>\n",
       "<table border=\"1\" class=\"dataframe\">\n",
       "  <thead>\n",
       "    <tr style=\"text-align: right;\">\n",
       "      <th></th>\n",
       "      <th>Category</th>\n",
       "      <th>Rating</th>\n",
       "      <th>Reviews</th>\n",
       "      <th>Size</th>\n",
       "      <th>Installs</th>\n",
       "      <th>Type</th>\n",
       "      <th>Price</th>\n",
       "      <th>Content.Rating</th>\n",
       "      <th>Genres</th>\n",
       "      <th>Rating_Q</th>\n",
       "      <th>Installs_Q</th>\n",
       "    </tr>\n",
       "  </thead>\n",
       "  <tbody>\n",
       "    <tr>\n",
       "      <th>Category</th>\n",
       "      <td>NaN</td>\n",
       "      <td>NaN</td>\n",
       "      <td>NaN</td>\n",
       "      <td>NaN</td>\n",
       "      <td>NaN</td>\n",
       "      <td>NaN</td>\n",
       "      <td>NaN</td>\n",
       "      <td>NaN</td>\n",
       "      <td>NaN</td>\n",
       "      <td>NaN</td>\n",
       "      <td>NaN</td>\n",
       "    </tr>\n",
       "    <tr>\n",
       "      <th>Rating</th>\n",
       "      <td>NaN</td>\n",
       "      <td>1.000000</td>\n",
       "      <td>0.197144</td>\n",
       "      <td>-0.172736</td>\n",
       "      <td>0.054536</td>\n",
       "      <td>0.013514</td>\n",
       "      <td>0.011617</td>\n",
       "      <td>-0.028452</td>\n",
       "      <td>0.018131</td>\n",
       "      <td>0.880781</td>\n",
       "      <td>-0.020955</td>\n",
       "    </tr>\n",
       "    <tr>\n",
       "      <th>Reviews</th>\n",
       "      <td>NaN</td>\n",
       "      <td>0.197144</td>\n",
       "      <td>1.000000</td>\n",
       "      <td>0.129835</td>\n",
       "      <td>0.653710</td>\n",
       "      <td>-0.088871</td>\n",
       "      <td>-0.079936</td>\n",
       "      <td>-0.017079</td>\n",
       "      <td>-0.033241</td>\n",
       "      <td>0.215131</td>\n",
       "      <td>0.462635</td>\n",
       "    </tr>\n",
       "    <tr>\n",
       "      <th>Size</th>\n",
       "      <td>NaN</td>\n",
       "      <td>-0.172736</td>\n",
       "      <td>0.129835</td>\n",
       "      <td>1.000000</td>\n",
       "      <td>0.098678</td>\n",
       "      <td>0.078881</td>\n",
       "      <td>0.045013</td>\n",
       "      <td>-0.034548</td>\n",
       "      <td>-0.076095</td>\n",
       "      <td>-0.161466</td>\n",
       "      <td>0.308600</td>\n",
       "    </tr>\n",
       "    <tr>\n",
       "      <th>Installs</th>\n",
       "      <td>NaN</td>\n",
       "      <td>0.054536</td>\n",
       "      <td>0.653710</td>\n",
       "      <td>0.098678</td>\n",
       "      <td>1.000000</td>\n",
       "      <td>-0.113970</td>\n",
       "      <td>-0.102188</td>\n",
       "      <td>-0.040167</td>\n",
       "      <td>-0.040313</td>\n",
       "      <td>0.019188</td>\n",
       "      <td>0.591357</td>\n",
       "    </tr>\n",
       "    <tr>\n",
       "      <th>Type</th>\n",
       "      <td>NaN</td>\n",
       "      <td>0.013514</td>\n",
       "      <td>-0.088871</td>\n",
       "      <td>0.078881</td>\n",
       "      <td>-0.113970</td>\n",
       "      <td>1.000000</td>\n",
       "      <td>0.892720</td>\n",
       "      <td>-0.027940</td>\n",
       "      <td>-0.019679</td>\n",
       "      <td>-0.010662</td>\n",
       "      <td>-0.212349</td>\n",
       "    </tr>\n",
       "    <tr>\n",
       "      <th>Price</th>\n",
       "      <td>NaN</td>\n",
       "      <td>0.011617</td>\n",
       "      <td>-0.079936</td>\n",
       "      <td>0.045013</td>\n",
       "      <td>-0.102188</td>\n",
       "      <td>0.892720</td>\n",
       "      <td>1.000000</td>\n",
       "      <td>-0.024943</td>\n",
       "      <td>-0.017567</td>\n",
       "      <td>0.001282</td>\n",
       "      <td>-0.204194</td>\n",
       "    </tr>\n",
       "    <tr>\n",
       "      <th>Content.Rating</th>\n",
       "      <td>NaN</td>\n",
       "      <td>-0.028452</td>\n",
       "      <td>-0.017079</td>\n",
       "      <td>-0.034548</td>\n",
       "      <td>-0.040167</td>\n",
       "      <td>-0.027940</td>\n",
       "      <td>-0.024943</td>\n",
       "      <td>1.000000</td>\n",
       "      <td>-0.011180</td>\n",
       "      <td>-0.006057</td>\n",
       "      <td>0.041337</td>\n",
       "    </tr>\n",
       "    <tr>\n",
       "      <th>Genres</th>\n",
       "      <td>NaN</td>\n",
       "      <td>0.018131</td>\n",
       "      <td>-0.033241</td>\n",
       "      <td>-0.076095</td>\n",
       "      <td>-0.040313</td>\n",
       "      <td>-0.019679</td>\n",
       "      <td>-0.017567</td>\n",
       "      <td>-0.011180</td>\n",
       "      <td>1.000000</td>\n",
       "      <td>-0.043271</td>\n",
       "      <td>0.029115</td>\n",
       "    </tr>\n",
       "    <tr>\n",
       "      <th>Rating_Q</th>\n",
       "      <td>NaN</td>\n",
       "      <td>0.880781</td>\n",
       "      <td>0.215131</td>\n",
       "      <td>-0.161466</td>\n",
       "      <td>0.019188</td>\n",
       "      <td>-0.010662</td>\n",
       "      <td>0.001282</td>\n",
       "      <td>-0.006057</td>\n",
       "      <td>-0.043271</td>\n",
       "      <td>1.000000</td>\n",
       "      <td>-0.063696</td>\n",
       "    </tr>\n",
       "    <tr>\n",
       "      <th>Installs_Q</th>\n",
       "      <td>NaN</td>\n",
       "      <td>-0.020955</td>\n",
       "      <td>0.462635</td>\n",
       "      <td>0.308600</td>\n",
       "      <td>0.591357</td>\n",
       "      <td>-0.212349</td>\n",
       "      <td>-0.204194</td>\n",
       "      <td>0.041337</td>\n",
       "      <td>0.029115</td>\n",
       "      <td>-0.063696</td>\n",
       "      <td>1.000000</td>\n",
       "    </tr>\n",
       "  </tbody>\n",
       "</table>\n",
       "</div>"
      ],
      "text/plain": [
       "                Category    Rating   Reviews      Size  Installs      Type  \\\n",
       "Category             NaN       NaN       NaN       NaN       NaN       NaN   \n",
       "Rating               NaN  1.000000  0.197144 -0.172736  0.054536  0.013514   \n",
       "Reviews              NaN  0.197144  1.000000  0.129835  0.653710 -0.088871   \n",
       "Size                 NaN -0.172736  0.129835  1.000000  0.098678  0.078881   \n",
       "Installs             NaN  0.054536  0.653710  0.098678  1.000000 -0.113970   \n",
       "Type                 NaN  0.013514 -0.088871  0.078881 -0.113970  1.000000   \n",
       "Price                NaN  0.011617 -0.079936  0.045013 -0.102188  0.892720   \n",
       "Content.Rating       NaN -0.028452 -0.017079 -0.034548 -0.040167 -0.027940   \n",
       "Genres               NaN  0.018131 -0.033241 -0.076095 -0.040313 -0.019679   \n",
       "Rating_Q             NaN  0.880781  0.215131 -0.161466  0.019188 -0.010662   \n",
       "Installs_Q           NaN -0.020955  0.462635  0.308600  0.591357 -0.212349   \n",
       "\n",
       "                   Price  Content.Rating    Genres  Rating_Q  Installs_Q  \n",
       "Category             NaN             NaN       NaN       NaN         NaN  \n",
       "Rating          0.011617       -0.028452  0.018131  0.880781   -0.020955  \n",
       "Reviews        -0.079936       -0.017079 -0.033241  0.215131    0.462635  \n",
       "Size            0.045013       -0.034548 -0.076095 -0.161466    0.308600  \n",
       "Installs       -0.102188       -0.040167 -0.040313  0.019188    0.591357  \n",
       "Type            0.892720       -0.027940 -0.019679 -0.010662   -0.212349  \n",
       "Price           1.000000       -0.024943 -0.017567  0.001282   -0.204194  \n",
       "Content.Rating -0.024943        1.000000 -0.011180 -0.006057    0.041337  \n",
       "Genres         -0.017567       -0.011180  1.000000 -0.043271    0.029115  \n",
       "Rating_Q        0.001282       -0.006057 -0.043271  1.000000   -0.063696  \n",
       "Installs_Q     -0.204194        0.041337  0.029115 -0.063696    1.000000  "
      ]
     },
     "execution_count": 75,
     "metadata": {},
     "output_type": "execute_result"
    }
   ],
   "source": [
    "cat_dt[rd.randint(0,9)].corr(\"pearson\")"
   ]
  },
  {
   "cell_type": "code",
   "execution_count": 30,
   "metadata": {},
   "outputs": [
    {
     "data": {
      "text/html": [
       "<div>\n",
       "<style scoped>\n",
       "    .dataframe tbody tr th:only-of-type {\n",
       "        vertical-align: middle;\n",
       "    }\n",
       "\n",
       "    .dataframe tbody tr th {\n",
       "        vertical-align: top;\n",
       "    }\n",
       "\n",
       "    .dataframe thead th {\n",
       "        text-align: right;\n",
       "    }\n",
       "</style>\n",
       "<table border=\"1\" class=\"dataframe\">\n",
       "  <thead>\n",
       "    <tr style=\"text-align: right;\">\n",
       "      <th></th>\n",
       "      <th>Translated_Review</th>\n",
       "      <th>sentiment_polarity_score</th>\n",
       "      <th>ease_of_reading_score</th>\n",
       "      <th>sentiment_subjectivity_score</th>\n",
       "      <th>spelling_quality_score</th>\n",
       "      <th>Category</th>\n",
       "      <th>Rating</th>\n",
       "      <th>Reviews</th>\n",
       "      <th>Size</th>\n",
       "      <th>Installs</th>\n",
       "      <th>...</th>\n",
       "      <th>SPQ1</th>\n",
       "      <th>SPQ3</th>\n",
       "      <th>SSQ1</th>\n",
       "      <th>SSQ3</th>\n",
       "      <th>ERQ1</th>\n",
       "      <th>ERQ3</th>\n",
       "      <th>SQQ1</th>\n",
       "      <th>SQQ3</th>\n",
       "      <th>Rating_Q</th>\n",
       "      <th>Installs_Q</th>\n",
       "    </tr>\n",
       "  </thead>\n",
       "  <tbody>\n",
       "    <tr>\n",
       "      <th>Translated_Review</th>\n",
       "      <td>1.000000</td>\n",
       "      <td>-0.187884</td>\n",
       "      <td>-0.014289</td>\n",
       "      <td>0.019000</td>\n",
       "      <td>0.132090</td>\n",
       "      <td>-0.082551</td>\n",
       "      <td>0.099829</td>\n",
       "      <td>0.242826</td>\n",
       "      <td>0.226937</td>\n",
       "      <td>0.258779</td>\n",
       "      <td>...</td>\n",
       "      <td>-0.113773</td>\n",
       "      <td>-0.204462</td>\n",
       "      <td>0.125079</td>\n",
       "      <td>-0.138571</td>\n",
       "      <td>0.053724</td>\n",
       "      <td>-0.105093</td>\n",
       "      <td>0.123658</td>\n",
       "      <td>-0.093776</td>\n",
       "      <td>0.101549</td>\n",
       "      <td>0.177679</td>\n",
       "    </tr>\n",
       "    <tr>\n",
       "      <th>sentiment_polarity_score</th>\n",
       "      <td>-0.187884</td>\n",
       "      <td>1.000000</td>\n",
       "      <td>0.195972</td>\n",
       "      <td>0.390017</td>\n",
       "      <td>0.003218</td>\n",
       "      <td>0.035813</td>\n",
       "      <td>0.320433</td>\n",
       "      <td>-0.154348</td>\n",
       "      <td>-0.346667</td>\n",
       "      <td>-0.120111</td>\n",
       "      <td>...</td>\n",
       "      <td>0.838252</td>\n",
       "      <td>0.912082</td>\n",
       "      <td>0.117880</td>\n",
       "      <td>0.547600</td>\n",
       "      <td>-0.033714</td>\n",
       "      <td>0.390338</td>\n",
       "      <td>-0.059557</td>\n",
       "      <td>0.395090</td>\n",
       "      <td>0.276811</td>\n",
       "      <td>-0.242030</td>\n",
       "    </tr>\n",
       "    <tr>\n",
       "      <th>ease_of_reading_score</th>\n",
       "      <td>-0.014289</td>\n",
       "      <td>0.195972</td>\n",
       "      <td>1.000000</td>\n",
       "      <td>0.084676</td>\n",
       "      <td>-0.159878</td>\n",
       "      <td>-0.101856</td>\n",
       "      <td>0.041697</td>\n",
       "      <td>-0.032458</td>\n",
       "      <td>-0.019174</td>\n",
       "      <td>-0.064954</td>\n",
       "      <td>...</td>\n",
       "      <td>0.075868</td>\n",
       "      <td>0.290694</td>\n",
       "      <td>-0.107753</td>\n",
       "      <td>0.284499</td>\n",
       "      <td>0.813759</td>\n",
       "      <td>0.798532</td>\n",
       "      <td>-0.185672</td>\n",
       "      <td>0.404678</td>\n",
       "      <td>0.031809</td>\n",
       "      <td>-0.017418</td>\n",
       "    </tr>\n",
       "    <tr>\n",
       "      <th>sentiment_subjectivity_score</th>\n",
       "      <td>0.019000</td>\n",
       "      <td>0.390017</td>\n",
       "      <td>0.084676</td>\n",
       "      <td>1.000000</td>\n",
       "      <td>0.155912</td>\n",
       "      <td>-0.049455</td>\n",
       "      <td>0.325372</td>\n",
       "      <td>-0.009256</td>\n",
       "      <td>0.017129</td>\n",
       "      <td>-0.022568</td>\n",
       "      <td>...</td>\n",
       "      <td>0.363708</td>\n",
       "      <td>0.366619</td>\n",
       "      <td>0.754070</td>\n",
       "      <td>0.620513</td>\n",
       "      <td>0.051491</td>\n",
       "      <td>0.073652</td>\n",
       "      <td>0.130282</td>\n",
       "      <td>-0.017100</td>\n",
       "      <td>0.264910</td>\n",
       "      <td>-0.050331</td>\n",
       "    </tr>\n",
       "    <tr>\n",
       "      <th>spelling_quality_score</th>\n",
       "      <td>0.132090</td>\n",
       "      <td>0.003218</td>\n",
       "      <td>-0.159878</td>\n",
       "      <td>0.155912</td>\n",
       "      <td>1.000000</td>\n",
       "      <td>-0.039181</td>\n",
       "      <td>0.132508</td>\n",
       "      <td>0.020735</td>\n",
       "      <td>0.218648</td>\n",
       "      <td>-0.059457</td>\n",
       "      <td>...</td>\n",
       "      <td>0.049664</td>\n",
       "      <td>-0.108281</td>\n",
       "      <td>0.334744</td>\n",
       "      <td>-0.127201</td>\n",
       "      <td>-0.061431</td>\n",
       "      <td>-0.252879</td>\n",
       "      <td>0.860737</td>\n",
       "      <td>0.140143</td>\n",
       "      <td>0.166007</td>\n",
       "      <td>0.015510</td>\n",
       "    </tr>\n",
       "    <tr>\n",
       "      <th>Category</th>\n",
       "      <td>-0.082551</td>\n",
       "      <td>0.035813</td>\n",
       "      <td>-0.101856</td>\n",
       "      <td>-0.049455</td>\n",
       "      <td>-0.039181</td>\n",
       "      <td>1.000000</td>\n",
       "      <td>-0.015626</td>\n",
       "      <td>0.026519</td>\n",
       "      <td>-0.123089</td>\n",
       "      <td>0.055587</td>\n",
       "      <td>...</td>\n",
       "      <td>0.001368</td>\n",
       "      <td>0.047946</td>\n",
       "      <td>-0.058937</td>\n",
       "      <td>-0.019176</td>\n",
       "      <td>-0.108249</td>\n",
       "      <td>-0.089951</td>\n",
       "      <td>-0.023245</td>\n",
       "      <td>-0.055654</td>\n",
       "      <td>0.009122</td>\n",
       "      <td>0.190062</td>\n",
       "    </tr>\n",
       "    <tr>\n",
       "      <th>Rating</th>\n",
       "      <td>0.099829</td>\n",
       "      <td>0.320433</td>\n",
       "      <td>0.041697</td>\n",
       "      <td>0.325372</td>\n",
       "      <td>0.132508</td>\n",
       "      <td>-0.015626</td>\n",
       "      <td>1.000000</td>\n",
       "      <td>0.073520</td>\n",
       "      <td>0.091768</td>\n",
       "      <td>0.022834</td>\n",
       "      <td>...</td>\n",
       "      <td>0.325060</td>\n",
       "      <td>0.257673</td>\n",
       "      <td>0.290996</td>\n",
       "      <td>0.162933</td>\n",
       "      <td>0.001169</td>\n",
       "      <td>0.055570</td>\n",
       "      <td>0.084701</td>\n",
       "      <td>0.041993</td>\n",
       "      <td>0.894179</td>\n",
       "      <td>0.165152</td>\n",
       "    </tr>\n",
       "    <tr>\n",
       "      <th>Reviews</th>\n",
       "      <td>0.242826</td>\n",
       "      <td>-0.154348</td>\n",
       "      <td>-0.032458</td>\n",
       "      <td>-0.009256</td>\n",
       "      <td>0.020735</td>\n",
       "      <td>0.026519</td>\n",
       "      <td>0.073520</td>\n",
       "      <td>1.000000</td>\n",
       "      <td>0.331613</td>\n",
       "      <td>0.506335</td>\n",
       "      <td>...</td>\n",
       "      <td>-0.112267</td>\n",
       "      <td>-0.171197</td>\n",
       "      <td>0.069377</td>\n",
       "      <td>-0.126274</td>\n",
       "      <td>0.028135</td>\n",
       "      <td>-0.093337</td>\n",
       "      <td>0.040406</td>\n",
       "      <td>-0.139530</td>\n",
       "      <td>0.083542</td>\n",
       "      <td>0.180763</td>\n",
       "    </tr>\n",
       "    <tr>\n",
       "      <th>Size</th>\n",
       "      <td>0.226937</td>\n",
       "      <td>-0.346667</td>\n",
       "      <td>-0.019174</td>\n",
       "      <td>0.017129</td>\n",
       "      <td>0.218648</td>\n",
       "      <td>-0.123089</td>\n",
       "      <td>0.091768</td>\n",
       "      <td>0.331613</td>\n",
       "      <td>1.000000</td>\n",
       "      <td>0.165800</td>\n",
       "      <td>...</td>\n",
       "      <td>-0.267818</td>\n",
       "      <td>-0.379398</td>\n",
       "      <td>0.210272</td>\n",
       "      <td>-0.245704</td>\n",
       "      <td>0.100846</td>\n",
       "      <td>-0.150105</td>\n",
       "      <td>0.218696</td>\n",
       "      <td>-0.053317</td>\n",
       "      <td>0.143477</td>\n",
       "      <td>0.216312</td>\n",
       "    </tr>\n",
       "    <tr>\n",
       "      <th>Installs</th>\n",
       "      <td>0.258779</td>\n",
       "      <td>-0.120111</td>\n",
       "      <td>-0.064954</td>\n",
       "      <td>-0.022568</td>\n",
       "      <td>-0.059457</td>\n",
       "      <td>0.055587</td>\n",
       "      <td>0.022834</td>\n",
       "      <td>0.506335</td>\n",
       "      <td>0.165800</td>\n",
       "      <td>1.000000</td>\n",
       "      <td>...</td>\n",
       "      <td>-0.085632</td>\n",
       "      <td>-0.119695</td>\n",
       "      <td>0.039085</td>\n",
       "      <td>-0.112009</td>\n",
       "      <td>-0.022492</td>\n",
       "      <td>-0.109550</td>\n",
       "      <td>-0.026973</td>\n",
       "      <td>-0.162951</td>\n",
       "      <td>0.010520</td>\n",
       "      <td>0.225539</td>\n",
       "    </tr>\n",
       "    <tr>\n",
       "      <th>Type</th>\n",
       "      <td>-0.009224</td>\n",
       "      <td>0.018617</td>\n",
       "      <td>-0.066707</td>\n",
       "      <td>0.016273</td>\n",
       "      <td>0.001104</td>\n",
       "      <td>0.046531</td>\n",
       "      <td>0.012784</td>\n",
       "      <td>-0.021562</td>\n",
       "      <td>-0.036963</td>\n",
       "      <td>-0.027721</td>\n",
       "      <td>...</td>\n",
       "      <td>0.036700</td>\n",
       "      <td>-0.024821</td>\n",
       "      <td>0.058301</td>\n",
       "      <td>-0.048290</td>\n",
       "      <td>-0.017528</td>\n",
       "      <td>-0.091000</td>\n",
       "      <td>0.017368</td>\n",
       "      <td>-0.118186</td>\n",
       "      <td>0.015303</td>\n",
       "      <td>-0.139167</td>\n",
       "    </tr>\n",
       "    <tr>\n",
       "      <th>Price</th>\n",
       "      <td>-0.004938</td>\n",
       "      <td>0.053373</td>\n",
       "      <td>-0.047222</td>\n",
       "      <td>-0.000966</td>\n",
       "      <td>0.034589</td>\n",
       "      <td>0.060233</td>\n",
       "      <td>-0.009371</td>\n",
       "      <td>-0.016065</td>\n",
       "      <td>-0.014854</td>\n",
       "      <td>-0.020392</td>\n",
       "      <td>...</td>\n",
       "      <td>0.036943</td>\n",
       "      <td>0.021830</td>\n",
       "      <td>0.027416</td>\n",
       "      <td>-0.019601</td>\n",
       "      <td>-0.015431</td>\n",
       "      <td>-0.055543</td>\n",
       "      <td>0.042980</td>\n",
       "      <td>-0.049221</td>\n",
       "      <td>-0.009942</td>\n",
       "      <td>-0.131362</td>\n",
       "    </tr>\n",
       "    <tr>\n",
       "      <th>Genres</th>\n",
       "      <td>-0.181598</td>\n",
       "      <td>0.059803</td>\n",
       "      <td>-0.121180</td>\n",
       "      <td>-0.040465</td>\n",
       "      <td>-0.029446</td>\n",
       "      <td>0.836139</td>\n",
       "      <td>-0.042789</td>\n",
       "      <td>0.044965</td>\n",
       "      <td>-0.122718</td>\n",
       "      <td>0.028338</td>\n",
       "      <td>...</td>\n",
       "      <td>0.014576</td>\n",
       "      <td>0.075665</td>\n",
       "      <td>-0.065624</td>\n",
       "      <td>0.017544</td>\n",
       "      <td>-0.119350</td>\n",
       "      <td>-0.102474</td>\n",
       "      <td>-0.016081</td>\n",
       "      <td>-0.043974</td>\n",
       "      <td>-0.031970</td>\n",
       "      <td>0.103384</td>\n",
       "    </tr>\n",
       "    <tr>\n",
       "      <th>sentences_count</th>\n",
       "      <td>0.233629</td>\n",
       "      <td>-0.417079</td>\n",
       "      <td>-0.448321</td>\n",
       "      <td>0.047337</td>\n",
       "      <td>0.281544</td>\n",
       "      <td>0.010562</td>\n",
       "      <td>0.026126</td>\n",
       "      <td>0.237275</td>\n",
       "      <td>0.273938</td>\n",
       "      <td>0.187729</td>\n",
       "      <td>...</td>\n",
       "      <td>-0.164692</td>\n",
       "      <td>-0.565892</td>\n",
       "      <td>0.369842</td>\n",
       "      <td>-0.474230</td>\n",
       "      <td>-0.127881</td>\n",
       "      <td>-0.682864</td>\n",
       "      <td>0.355314</td>\n",
       "      <td>-0.652301</td>\n",
       "      <td>0.029779</td>\n",
       "      <td>0.211620</td>\n",
       "    </tr>\n",
       "    <tr>\n",
       "      <th>spaces_count</th>\n",
       "      <td>0.206355</td>\n",
       "      <td>-0.414817</td>\n",
       "      <td>0.027976</td>\n",
       "      <td>-0.069118</td>\n",
       "      <td>0.257644</td>\n",
       "      <td>-0.029540</td>\n",
       "      <td>0.010781</td>\n",
       "      <td>0.114104</td>\n",
       "      <td>0.343986</td>\n",
       "      <td>0.076051</td>\n",
       "      <td>...</td>\n",
       "      <td>-0.257589</td>\n",
       "      <td>-0.487429</td>\n",
       "      <td>0.223661</td>\n",
       "      <td>-0.442207</td>\n",
       "      <td>0.327325</td>\n",
       "      <td>-0.317447</td>\n",
       "      <td>0.275943</td>\n",
       "      <td>-0.306382</td>\n",
       "      <td>0.026109</td>\n",
       "      <td>0.291911</td>\n",
       "    </tr>\n",
       "    <tr>\n",
       "      <th>count_words</th>\n",
       "      <td>0.250548</td>\n",
       "      <td>-0.456205</td>\n",
       "      <td>-0.473830</td>\n",
       "      <td>0.025291</td>\n",
       "      <td>0.294129</td>\n",
       "      <td>-0.000869</td>\n",
       "      <td>0.024039</td>\n",
       "      <td>0.224357</td>\n",
       "      <td>0.300062</td>\n",
       "      <td>0.195532</td>\n",
       "      <td>...</td>\n",
       "      <td>-0.197566</td>\n",
       "      <td>-0.605321</td>\n",
       "      <td>0.375011</td>\n",
       "      <td>-0.510402</td>\n",
       "      <td>-0.133785</td>\n",
       "      <td>-0.722038</td>\n",
       "      <td>0.366238</td>\n",
       "      <td>-0.676448</td>\n",
       "      <td>0.034825</td>\n",
       "      <td>0.235810</td>\n",
       "    </tr>\n",
       "    <tr>\n",
       "      <th>characters_count</th>\n",
       "      <td>0.239832</td>\n",
       "      <td>-0.446548</td>\n",
       "      <td>-0.512909</td>\n",
       "      <td>0.023009</td>\n",
       "      <td>0.286769</td>\n",
       "      <td>0.008264</td>\n",
       "      <td>0.022260</td>\n",
       "      <td>0.219972</td>\n",
       "      <td>0.280745</td>\n",
       "      <td>0.198041</td>\n",
       "      <td>...</td>\n",
       "      <td>-0.188046</td>\n",
       "      <td>-0.597640</td>\n",
       "      <td>0.371401</td>\n",
       "      <td>-0.506644</td>\n",
       "      <td>-0.178416</td>\n",
       "      <td>-0.744045</td>\n",
       "      <td>0.360477</td>\n",
       "      <td>-0.682846</td>\n",
       "      <td>0.031238</td>\n",
       "      <td>0.225789</td>\n",
       "    </tr>\n",
       "    <tr>\n",
       "      <th>duplicates_count</th>\n",
       "      <td>0.253495</td>\n",
       "      <td>-0.451571</td>\n",
       "      <td>-0.424358</td>\n",
       "      <td>0.020675</td>\n",
       "      <td>0.275320</td>\n",
       "      <td>-0.000543</td>\n",
       "      <td>0.015678</td>\n",
       "      <td>0.235425</td>\n",
       "      <td>0.296849</td>\n",
       "      <td>0.202063</td>\n",
       "      <td>...</td>\n",
       "      <td>-0.200305</td>\n",
       "      <td>-0.590352</td>\n",
       "      <td>0.353173</td>\n",
       "      <td>-0.496943</td>\n",
       "      <td>-0.096936</td>\n",
       "      <td>-0.669584</td>\n",
       "      <td>0.351904</td>\n",
       "      <td>-0.655306</td>\n",
       "      <td>0.023889</td>\n",
       "      <td>0.251820</td>\n",
       "    </tr>\n",
       "    <tr>\n",
       "      <th>chars_excl_spaces_count</th>\n",
       "      <td>0.237450</td>\n",
       "      <td>-0.444502</td>\n",
       "      <td>-0.519993</td>\n",
       "      <td>0.022705</td>\n",
       "      <td>0.284593</td>\n",
       "      <td>0.009601</td>\n",
       "      <td>0.021641</td>\n",
       "      <td>0.218814</td>\n",
       "      <td>0.276529</td>\n",
       "      <td>0.198676</td>\n",
       "      <td>...</td>\n",
       "      <td>-0.186282</td>\n",
       "      <td>-0.595746</td>\n",
       "      <td>0.370519</td>\n",
       "      <td>-0.505425</td>\n",
       "      <td>-0.186803</td>\n",
       "      <td>-0.747683</td>\n",
       "      <td>0.358505</td>\n",
       "      <td>-0.684168</td>\n",
       "      <td>0.030396</td>\n",
       "      <td>0.223547</td>\n",
       "    </tr>\n",
       "    <tr>\n",
       "      <th>alpha_numeric_count</th>\n",
       "      <td>-0.121809</td>\n",
       "      <td>0.315381</td>\n",
       "      <td>-0.005499</td>\n",
       "      <td>0.072563</td>\n",
       "      <td>-0.107936</td>\n",
       "      <td>-0.043621</td>\n",
       "      <td>0.002328</td>\n",
       "      <td>-0.111822</td>\n",
       "      <td>-0.192397</td>\n",
       "      <td>-0.071460</td>\n",
       "      <td>...</td>\n",
       "      <td>0.173612</td>\n",
       "      <td>0.386682</td>\n",
       "      <td>-0.179006</td>\n",
       "      <td>0.407092</td>\n",
       "      <td>-0.205032</td>\n",
       "      <td>0.274510</td>\n",
       "      <td>-0.118954</td>\n",
       "      <td>0.316525</td>\n",
       "      <td>-0.008180</td>\n",
       "      <td>-0.265241</td>\n",
       "    </tr>\n",
       "    <tr>\n",
       "      <th>non_alpha_numeric_count</th>\n",
       "      <td>0.246228</td>\n",
       "      <td>-0.452530</td>\n",
       "      <td>-0.479999</td>\n",
       "      <td>0.025399</td>\n",
       "      <td>0.285077</td>\n",
       "      <td>0.008457</td>\n",
       "      <td>0.026709</td>\n",
       "      <td>0.226257</td>\n",
       "      <td>0.290172</td>\n",
       "      <td>0.194113</td>\n",
       "      <td>...</td>\n",
       "      <td>-0.194101</td>\n",
       "      <td>-0.602356</td>\n",
       "      <td>0.373723</td>\n",
       "      <td>-0.510191</td>\n",
       "      <td>-0.143152</td>\n",
       "      <td>-0.725692</td>\n",
       "      <td>0.358595</td>\n",
       "      <td>-0.682298</td>\n",
       "      <td>0.035583</td>\n",
       "      <td>0.236749</td>\n",
       "    </tr>\n",
       "    <tr>\n",
       "      <th>punctuations_count</th>\n",
       "      <td>-0.048130</td>\n",
       "      <td>-0.017321</td>\n",
       "      <td>-0.058314</td>\n",
       "      <td>-0.026401</td>\n",
       "      <td>-0.109929</td>\n",
       "      <td>0.124299</td>\n",
       "      <td>-0.022962</td>\n",
       "      <td>0.040242</td>\n",
       "      <td>-0.091430</td>\n",
       "      <td>0.025493</td>\n",
       "      <td>...</td>\n",
       "      <td>0.021726</td>\n",
       "      <td>-0.050363</td>\n",
       "      <td>0.035624</td>\n",
       "      <td>-0.129128</td>\n",
       "      <td>-0.084725</td>\n",
       "      <td>-0.098787</td>\n",
       "      <td>-0.112900</td>\n",
       "      <td>-0.139175</td>\n",
       "      <td>-0.018840</td>\n",
       "      <td>0.059564</td>\n",
       "    </tr>\n",
       "    <tr>\n",
       "      <th>noun_phase_count</th>\n",
       "      <td>0.250068</td>\n",
       "      <td>-0.437820</td>\n",
       "      <td>-0.488351</td>\n",
       "      <td>0.043741</td>\n",
       "      <td>0.281312</td>\n",
       "      <td>0.004698</td>\n",
       "      <td>0.043244</td>\n",
       "      <td>0.221596</td>\n",
       "      <td>0.298023</td>\n",
       "      <td>0.189571</td>\n",
       "      <td>...</td>\n",
       "      <td>-0.181101</td>\n",
       "      <td>-0.589442</td>\n",
       "      <td>0.391804</td>\n",
       "      <td>-0.498185</td>\n",
       "      <td>-0.155601</td>\n",
       "      <td>-0.731760</td>\n",
       "      <td>0.353730</td>\n",
       "      <td>-0.682619</td>\n",
       "      <td>0.050332</td>\n",
       "      <td>0.229305</td>\n",
       "    </tr>\n",
       "    <tr>\n",
       "      <th>SPQ1</th>\n",
       "      <td>-0.113773</td>\n",
       "      <td>0.838252</td>\n",
       "      <td>0.075868</td>\n",
       "      <td>0.363708</td>\n",
       "      <td>0.049664</td>\n",
       "      <td>0.001368</td>\n",
       "      <td>0.325060</td>\n",
       "      <td>-0.112267</td>\n",
       "      <td>-0.267818</td>\n",
       "      <td>-0.085632</td>\n",
       "      <td>...</td>\n",
       "      <td>1.000000</td>\n",
       "      <td>0.650935</td>\n",
       "      <td>0.220264</td>\n",
       "      <td>0.367027</td>\n",
       "      <td>-0.053380</td>\n",
       "      <td>0.190759</td>\n",
       "      <td>0.007311</td>\n",
       "      <td>0.192199</td>\n",
       "      <td>0.294857</td>\n",
       "      <td>-0.175282</td>\n",
       "    </tr>\n",
       "    <tr>\n",
       "      <th>SPQ3</th>\n",
       "      <td>-0.204462</td>\n",
       "      <td>0.912082</td>\n",
       "      <td>0.290694</td>\n",
       "      <td>0.366619</td>\n",
       "      <td>-0.108281</td>\n",
       "      <td>0.047946</td>\n",
       "      <td>0.257673</td>\n",
       "      <td>-0.171197</td>\n",
       "      <td>-0.379398</td>\n",
       "      <td>-0.119695</td>\n",
       "      <td>...</td>\n",
       "      <td>0.650935</td>\n",
       "      <td>1.000000</td>\n",
       "      <td>-0.008930</td>\n",
       "      <td>0.644418</td>\n",
       "      <td>0.010846</td>\n",
       "      <td>0.521585</td>\n",
       "      <td>-0.172499</td>\n",
       "      <td>0.466299</td>\n",
       "      <td>0.203736</td>\n",
       "      <td>-0.237107</td>\n",
       "    </tr>\n",
       "    <tr>\n",
       "      <th>SSQ1</th>\n",
       "      <td>0.125079</td>\n",
       "      <td>0.117880</td>\n",
       "      <td>-0.107753</td>\n",
       "      <td>0.754070</td>\n",
       "      <td>0.334744</td>\n",
       "      <td>-0.058937</td>\n",
       "      <td>0.290996</td>\n",
       "      <td>0.069377</td>\n",
       "      <td>0.210272</td>\n",
       "      <td>0.039085</td>\n",
       "      <td>...</td>\n",
       "      <td>0.220264</td>\n",
       "      <td>-0.008930</td>\n",
       "      <td>1.000000</td>\n",
       "      <td>0.109124</td>\n",
       "      <td>0.010906</td>\n",
       "      <td>-0.246763</td>\n",
       "      <td>0.325607</td>\n",
       "      <td>-0.274977</td>\n",
       "      <td>0.266999</td>\n",
       "      <td>0.085506</td>\n",
       "    </tr>\n",
       "    <tr>\n",
       "      <th>SSQ3</th>\n",
       "      <td>-0.138571</td>\n",
       "      <td>0.547600</td>\n",
       "      <td>0.284499</td>\n",
       "      <td>0.620513</td>\n",
       "      <td>-0.127201</td>\n",
       "      <td>-0.019176</td>\n",
       "      <td>0.162933</td>\n",
       "      <td>-0.126274</td>\n",
       "      <td>-0.245704</td>\n",
       "      <td>-0.112009</td>\n",
       "      <td>...</td>\n",
       "      <td>0.367027</td>\n",
       "      <td>0.644418</td>\n",
       "      <td>0.109124</td>\n",
       "      <td>1.000000</td>\n",
       "      <td>0.040144</td>\n",
       "      <td>0.442432</td>\n",
       "      <td>-0.160231</td>\n",
       "      <td>0.357868</td>\n",
       "      <td>0.095753</td>\n",
       "      <td>-0.241823</td>\n",
       "    </tr>\n",
       "    <tr>\n",
       "      <th>ERQ1</th>\n",
       "      <td>0.053724</td>\n",
       "      <td>-0.033714</td>\n",
       "      <td>0.813759</td>\n",
       "      <td>0.051491</td>\n",
       "      <td>-0.061431</td>\n",
       "      <td>-0.108249</td>\n",
       "      <td>0.001169</td>\n",
       "      <td>0.028135</td>\n",
       "      <td>0.100846</td>\n",
       "      <td>-0.022492</td>\n",
       "      <td>...</td>\n",
       "      <td>-0.053380</td>\n",
       "      <td>0.010846</td>\n",
       "      <td>0.010906</td>\n",
       "      <td>0.040144</td>\n",
       "      <td>1.000000</td>\n",
       "      <td>0.481879</td>\n",
       "      <td>-0.066228</td>\n",
       "      <td>0.128657</td>\n",
       "      <td>0.006607</td>\n",
       "      <td>0.065692</td>\n",
       "    </tr>\n",
       "    <tr>\n",
       "      <th>ERQ3</th>\n",
       "      <td>-0.105093</td>\n",
       "      <td>0.390338</td>\n",
       "      <td>0.798532</td>\n",
       "      <td>0.073652</td>\n",
       "      <td>-0.252879</td>\n",
       "      <td>-0.089951</td>\n",
       "      <td>0.055570</td>\n",
       "      <td>-0.093337</td>\n",
       "      <td>-0.150105</td>\n",
       "      <td>-0.109550</td>\n",
       "      <td>...</td>\n",
       "      <td>0.190759</td>\n",
       "      <td>0.521585</td>\n",
       "      <td>-0.246763</td>\n",
       "      <td>0.442432</td>\n",
       "      <td>0.481879</td>\n",
       "      <td>1.000000</td>\n",
       "      <td>-0.298586</td>\n",
       "      <td>0.580402</td>\n",
       "      <td>0.034489</td>\n",
       "      <td>-0.102312</td>\n",
       "    </tr>\n",
       "    <tr>\n",
       "      <th>SQQ1</th>\n",
       "      <td>0.123658</td>\n",
       "      <td>-0.059557</td>\n",
       "      <td>-0.185672</td>\n",
       "      <td>0.130282</td>\n",
       "      <td>0.860737</td>\n",
       "      <td>-0.023245</td>\n",
       "      <td>0.084701</td>\n",
       "      <td>0.040406</td>\n",
       "      <td>0.218696</td>\n",
       "      <td>-0.026973</td>\n",
       "      <td>...</td>\n",
       "      <td>0.007311</td>\n",
       "      <td>-0.172499</td>\n",
       "      <td>0.325607</td>\n",
       "      <td>-0.160231</td>\n",
       "      <td>-0.066228</td>\n",
       "      <td>-0.298586</td>\n",
       "      <td>1.000000</td>\n",
       "      <td>0.005160</td>\n",
       "      <td>0.108945</td>\n",
       "      <td>0.038947</td>\n",
       "    </tr>\n",
       "    <tr>\n",
       "      <th>SQQ3</th>\n",
       "      <td>-0.093776</td>\n",
       "      <td>0.395090</td>\n",
       "      <td>0.404678</td>\n",
       "      <td>-0.017100</td>\n",
       "      <td>0.140143</td>\n",
       "      <td>-0.055654</td>\n",
       "      <td>0.041993</td>\n",
       "      <td>-0.139530</td>\n",
       "      <td>-0.053317</td>\n",
       "      <td>-0.162951</td>\n",
       "      <td>...</td>\n",
       "      <td>0.192199</td>\n",
       "      <td>0.466299</td>\n",
       "      <td>-0.274977</td>\n",
       "      <td>0.357868</td>\n",
       "      <td>0.128657</td>\n",
       "      <td>0.580402</td>\n",
       "      <td>0.005160</td>\n",
       "      <td>1.000000</td>\n",
       "      <td>0.059832</td>\n",
       "      <td>-0.175141</td>\n",
       "    </tr>\n",
       "    <tr>\n",
       "      <th>Rating_Q</th>\n",
       "      <td>0.101549</td>\n",
       "      <td>0.276811</td>\n",
       "      <td>0.031809</td>\n",
       "      <td>0.264910</td>\n",
       "      <td>0.166007</td>\n",
       "      <td>0.009122</td>\n",
       "      <td>0.894179</td>\n",
       "      <td>0.083542</td>\n",
       "      <td>0.143477</td>\n",
       "      <td>0.010520</td>\n",
       "      <td>...</td>\n",
       "      <td>0.294857</td>\n",
       "      <td>0.203736</td>\n",
       "      <td>0.266999</td>\n",
       "      <td>0.095753</td>\n",
       "      <td>0.006607</td>\n",
       "      <td>0.034489</td>\n",
       "      <td>0.108945</td>\n",
       "      <td>0.059832</td>\n",
       "      <td>1.000000</td>\n",
       "      <td>0.142066</td>\n",
       "    </tr>\n",
       "    <tr>\n",
       "      <th>Installs_Q</th>\n",
       "      <td>0.177679</td>\n",
       "      <td>-0.242030</td>\n",
       "      <td>-0.017418</td>\n",
       "      <td>-0.050331</td>\n",
       "      <td>0.015510</td>\n",
       "      <td>0.190062</td>\n",
       "      <td>0.165152</td>\n",
       "      <td>0.180763</td>\n",
       "      <td>0.216312</td>\n",
       "      <td>0.225539</td>\n",
       "      <td>...</td>\n",
       "      <td>-0.175282</td>\n",
       "      <td>-0.237107</td>\n",
       "      <td>0.085506</td>\n",
       "      <td>-0.241823</td>\n",
       "      <td>0.065692</td>\n",
       "      <td>-0.102312</td>\n",
       "      <td>0.038947</td>\n",
       "      <td>-0.175141</td>\n",
       "      <td>0.142066</td>\n",
       "      <td>1.000000</td>\n",
       "    </tr>\n",
       "  </tbody>\n",
       "</table>\n",
       "<p>33 rows × 33 columns</p>\n",
       "</div>"
      ],
      "text/plain": [
       "                              Translated_Review  sentiment_polarity_score  \\\n",
       "Translated_Review                      1.000000                 -0.187884   \n",
       "sentiment_polarity_score              -0.187884                  1.000000   \n",
       "ease_of_reading_score                 -0.014289                  0.195972   \n",
       "sentiment_subjectivity_score           0.019000                  0.390017   \n",
       "spelling_quality_score                 0.132090                  0.003218   \n",
       "Category                              -0.082551                  0.035813   \n",
       "Rating                                 0.099829                  0.320433   \n",
       "Reviews                                0.242826                 -0.154348   \n",
       "Size                                   0.226937                 -0.346667   \n",
       "Installs                               0.258779                 -0.120111   \n",
       "Type                                  -0.009224                  0.018617   \n",
       "Price                                 -0.004938                  0.053373   \n",
       "Genres                                -0.181598                  0.059803   \n",
       "sentences_count                        0.233629                 -0.417079   \n",
       "spaces_count                           0.206355                 -0.414817   \n",
       "count_words                            0.250548                 -0.456205   \n",
       "characters_count                       0.239832                 -0.446548   \n",
       "duplicates_count                       0.253495                 -0.451571   \n",
       "chars_excl_spaces_count                0.237450                 -0.444502   \n",
       "alpha_numeric_count                   -0.121809                  0.315381   \n",
       "non_alpha_numeric_count                0.246228                 -0.452530   \n",
       "punctuations_count                    -0.048130                 -0.017321   \n",
       "noun_phase_count                       0.250068                 -0.437820   \n",
       "SPQ1                                  -0.113773                  0.838252   \n",
       "SPQ3                                  -0.204462                  0.912082   \n",
       "SSQ1                                   0.125079                  0.117880   \n",
       "SSQ3                                  -0.138571                  0.547600   \n",
       "ERQ1                                   0.053724                 -0.033714   \n",
       "ERQ3                                  -0.105093                  0.390338   \n",
       "SQQ1                                   0.123658                 -0.059557   \n",
       "SQQ3                                  -0.093776                  0.395090   \n",
       "Rating_Q                               0.101549                  0.276811   \n",
       "Installs_Q                             0.177679                 -0.242030   \n",
       "\n",
       "                              ease_of_reading_score  \\\n",
       "Translated_Review                         -0.014289   \n",
       "sentiment_polarity_score                   0.195972   \n",
       "ease_of_reading_score                      1.000000   \n",
       "sentiment_subjectivity_score               0.084676   \n",
       "spelling_quality_score                    -0.159878   \n",
       "Category                                  -0.101856   \n",
       "Rating                                     0.041697   \n",
       "Reviews                                   -0.032458   \n",
       "Size                                      -0.019174   \n",
       "Installs                                  -0.064954   \n",
       "Type                                      -0.066707   \n",
       "Price                                     -0.047222   \n",
       "Genres                                    -0.121180   \n",
       "sentences_count                           -0.448321   \n",
       "spaces_count                               0.027976   \n",
       "count_words                               -0.473830   \n",
       "characters_count                          -0.512909   \n",
       "duplicates_count                          -0.424358   \n",
       "chars_excl_spaces_count                   -0.519993   \n",
       "alpha_numeric_count                       -0.005499   \n",
       "non_alpha_numeric_count                   -0.479999   \n",
       "punctuations_count                        -0.058314   \n",
       "noun_phase_count                          -0.488351   \n",
       "SPQ1                                       0.075868   \n",
       "SPQ3                                       0.290694   \n",
       "SSQ1                                      -0.107753   \n",
       "SSQ3                                       0.284499   \n",
       "ERQ1                                       0.813759   \n",
       "ERQ3                                       0.798532   \n",
       "SQQ1                                      -0.185672   \n",
       "SQQ3                                       0.404678   \n",
       "Rating_Q                                   0.031809   \n",
       "Installs_Q                                -0.017418   \n",
       "\n",
       "                              sentiment_subjectivity_score  \\\n",
       "Translated_Review                                 0.019000   \n",
       "sentiment_polarity_score                          0.390017   \n",
       "ease_of_reading_score                             0.084676   \n",
       "sentiment_subjectivity_score                      1.000000   \n",
       "spelling_quality_score                            0.155912   \n",
       "Category                                         -0.049455   \n",
       "Rating                                            0.325372   \n",
       "Reviews                                          -0.009256   \n",
       "Size                                              0.017129   \n",
       "Installs                                         -0.022568   \n",
       "Type                                              0.016273   \n",
       "Price                                            -0.000966   \n",
       "Genres                                           -0.040465   \n",
       "sentences_count                                   0.047337   \n",
       "spaces_count                                     -0.069118   \n",
       "count_words                                       0.025291   \n",
       "characters_count                                  0.023009   \n",
       "duplicates_count                                  0.020675   \n",
       "chars_excl_spaces_count                           0.022705   \n",
       "alpha_numeric_count                               0.072563   \n",
       "non_alpha_numeric_count                           0.025399   \n",
       "punctuations_count                               -0.026401   \n",
       "noun_phase_count                                  0.043741   \n",
       "SPQ1                                              0.363708   \n",
       "SPQ3                                              0.366619   \n",
       "SSQ1                                              0.754070   \n",
       "SSQ3                                              0.620513   \n",
       "ERQ1                                              0.051491   \n",
       "ERQ3                                              0.073652   \n",
       "SQQ1                                              0.130282   \n",
       "SQQ3                                             -0.017100   \n",
       "Rating_Q                                          0.264910   \n",
       "Installs_Q                                       -0.050331   \n",
       "\n",
       "                              spelling_quality_score  Category    Rating  \\\n",
       "Translated_Review                           0.132090 -0.082551  0.099829   \n",
       "sentiment_polarity_score                    0.003218  0.035813  0.320433   \n",
       "ease_of_reading_score                      -0.159878 -0.101856  0.041697   \n",
       "sentiment_subjectivity_score                0.155912 -0.049455  0.325372   \n",
       "spelling_quality_score                      1.000000 -0.039181  0.132508   \n",
       "Category                                   -0.039181  1.000000 -0.015626   \n",
       "Rating                                      0.132508 -0.015626  1.000000   \n",
       "Reviews                                     0.020735  0.026519  0.073520   \n",
       "Size                                        0.218648 -0.123089  0.091768   \n",
       "Installs                                   -0.059457  0.055587  0.022834   \n",
       "Type                                        0.001104  0.046531  0.012784   \n",
       "Price                                       0.034589  0.060233 -0.009371   \n",
       "Genres                                     -0.029446  0.836139 -0.042789   \n",
       "sentences_count                             0.281544  0.010562  0.026126   \n",
       "spaces_count                                0.257644 -0.029540  0.010781   \n",
       "count_words                                 0.294129 -0.000869  0.024039   \n",
       "characters_count                            0.286769  0.008264  0.022260   \n",
       "duplicates_count                            0.275320 -0.000543  0.015678   \n",
       "chars_excl_spaces_count                     0.284593  0.009601  0.021641   \n",
       "alpha_numeric_count                        -0.107936 -0.043621  0.002328   \n",
       "non_alpha_numeric_count                     0.285077  0.008457  0.026709   \n",
       "punctuations_count                         -0.109929  0.124299 -0.022962   \n",
       "noun_phase_count                            0.281312  0.004698  0.043244   \n",
       "SPQ1                                        0.049664  0.001368  0.325060   \n",
       "SPQ3                                       -0.108281  0.047946  0.257673   \n",
       "SSQ1                                        0.334744 -0.058937  0.290996   \n",
       "SSQ3                                       -0.127201 -0.019176  0.162933   \n",
       "ERQ1                                       -0.061431 -0.108249  0.001169   \n",
       "ERQ3                                       -0.252879 -0.089951  0.055570   \n",
       "SQQ1                                        0.860737 -0.023245  0.084701   \n",
       "SQQ3                                        0.140143 -0.055654  0.041993   \n",
       "Rating_Q                                    0.166007  0.009122  0.894179   \n",
       "Installs_Q                                  0.015510  0.190062  0.165152   \n",
       "\n",
       "                               Reviews      Size  Installs  ...      SPQ1  \\\n",
       "Translated_Review             0.242826  0.226937  0.258779  ... -0.113773   \n",
       "sentiment_polarity_score     -0.154348 -0.346667 -0.120111  ...  0.838252   \n",
       "ease_of_reading_score        -0.032458 -0.019174 -0.064954  ...  0.075868   \n",
       "sentiment_subjectivity_score -0.009256  0.017129 -0.022568  ...  0.363708   \n",
       "spelling_quality_score        0.020735  0.218648 -0.059457  ...  0.049664   \n",
       "Category                      0.026519 -0.123089  0.055587  ...  0.001368   \n",
       "Rating                        0.073520  0.091768  0.022834  ...  0.325060   \n",
       "Reviews                       1.000000  0.331613  0.506335  ... -0.112267   \n",
       "Size                          0.331613  1.000000  0.165800  ... -0.267818   \n",
       "Installs                      0.506335  0.165800  1.000000  ... -0.085632   \n",
       "Type                         -0.021562 -0.036963 -0.027721  ...  0.036700   \n",
       "Price                        -0.016065 -0.014854 -0.020392  ...  0.036943   \n",
       "Genres                        0.044965 -0.122718  0.028338  ...  0.014576   \n",
       "sentences_count               0.237275  0.273938  0.187729  ... -0.164692   \n",
       "spaces_count                  0.114104  0.343986  0.076051  ... -0.257589   \n",
       "count_words                   0.224357  0.300062  0.195532  ... -0.197566   \n",
       "characters_count              0.219972  0.280745  0.198041  ... -0.188046   \n",
       "duplicates_count              0.235425  0.296849  0.202063  ... -0.200305   \n",
       "chars_excl_spaces_count       0.218814  0.276529  0.198676  ... -0.186282   \n",
       "alpha_numeric_count          -0.111822 -0.192397 -0.071460  ...  0.173612   \n",
       "non_alpha_numeric_count       0.226257  0.290172  0.194113  ... -0.194101   \n",
       "punctuations_count            0.040242 -0.091430  0.025493  ...  0.021726   \n",
       "noun_phase_count              0.221596  0.298023  0.189571  ... -0.181101   \n",
       "SPQ1                         -0.112267 -0.267818 -0.085632  ...  1.000000   \n",
       "SPQ3                         -0.171197 -0.379398 -0.119695  ...  0.650935   \n",
       "SSQ1                          0.069377  0.210272  0.039085  ...  0.220264   \n",
       "SSQ3                         -0.126274 -0.245704 -0.112009  ...  0.367027   \n",
       "ERQ1                          0.028135  0.100846 -0.022492  ... -0.053380   \n",
       "ERQ3                         -0.093337 -0.150105 -0.109550  ...  0.190759   \n",
       "SQQ1                          0.040406  0.218696 -0.026973  ...  0.007311   \n",
       "SQQ3                         -0.139530 -0.053317 -0.162951  ...  0.192199   \n",
       "Rating_Q                      0.083542  0.143477  0.010520  ...  0.294857   \n",
       "Installs_Q                    0.180763  0.216312  0.225539  ... -0.175282   \n",
       "\n",
       "                                  SPQ3      SSQ1      SSQ3      ERQ1  \\\n",
       "Translated_Review            -0.204462  0.125079 -0.138571  0.053724   \n",
       "sentiment_polarity_score      0.912082  0.117880  0.547600 -0.033714   \n",
       "ease_of_reading_score         0.290694 -0.107753  0.284499  0.813759   \n",
       "sentiment_subjectivity_score  0.366619  0.754070  0.620513  0.051491   \n",
       "spelling_quality_score       -0.108281  0.334744 -0.127201 -0.061431   \n",
       "Category                      0.047946 -0.058937 -0.019176 -0.108249   \n",
       "Rating                        0.257673  0.290996  0.162933  0.001169   \n",
       "Reviews                      -0.171197  0.069377 -0.126274  0.028135   \n",
       "Size                         -0.379398  0.210272 -0.245704  0.100846   \n",
       "Installs                     -0.119695  0.039085 -0.112009 -0.022492   \n",
       "Type                         -0.024821  0.058301 -0.048290 -0.017528   \n",
       "Price                         0.021830  0.027416 -0.019601 -0.015431   \n",
       "Genres                        0.075665 -0.065624  0.017544 -0.119350   \n",
       "sentences_count              -0.565892  0.369842 -0.474230 -0.127881   \n",
       "spaces_count                 -0.487429  0.223661 -0.442207  0.327325   \n",
       "count_words                  -0.605321  0.375011 -0.510402 -0.133785   \n",
       "characters_count             -0.597640  0.371401 -0.506644 -0.178416   \n",
       "duplicates_count             -0.590352  0.353173 -0.496943 -0.096936   \n",
       "chars_excl_spaces_count      -0.595746  0.370519 -0.505425 -0.186803   \n",
       "alpha_numeric_count           0.386682 -0.179006  0.407092 -0.205032   \n",
       "non_alpha_numeric_count      -0.602356  0.373723 -0.510191 -0.143152   \n",
       "punctuations_count           -0.050363  0.035624 -0.129128 -0.084725   \n",
       "noun_phase_count             -0.589442  0.391804 -0.498185 -0.155601   \n",
       "SPQ1                          0.650935  0.220264  0.367027 -0.053380   \n",
       "SPQ3                          1.000000 -0.008930  0.644418  0.010846   \n",
       "SSQ1                         -0.008930  1.000000  0.109124  0.010906   \n",
       "SSQ3                          0.644418  0.109124  1.000000  0.040144   \n",
       "ERQ1                          0.010846  0.010906  0.040144  1.000000   \n",
       "ERQ3                          0.521585 -0.246763  0.442432  0.481879   \n",
       "SQQ1                         -0.172499  0.325607 -0.160231 -0.066228   \n",
       "SQQ3                          0.466299 -0.274977  0.357868  0.128657   \n",
       "Rating_Q                      0.203736  0.266999  0.095753  0.006607   \n",
       "Installs_Q                   -0.237107  0.085506 -0.241823  0.065692   \n",
       "\n",
       "                                  ERQ3      SQQ1      SQQ3  Rating_Q  \\\n",
       "Translated_Review            -0.105093  0.123658 -0.093776  0.101549   \n",
       "sentiment_polarity_score      0.390338 -0.059557  0.395090  0.276811   \n",
       "ease_of_reading_score         0.798532 -0.185672  0.404678  0.031809   \n",
       "sentiment_subjectivity_score  0.073652  0.130282 -0.017100  0.264910   \n",
       "spelling_quality_score       -0.252879  0.860737  0.140143  0.166007   \n",
       "Category                     -0.089951 -0.023245 -0.055654  0.009122   \n",
       "Rating                        0.055570  0.084701  0.041993  0.894179   \n",
       "Reviews                      -0.093337  0.040406 -0.139530  0.083542   \n",
       "Size                         -0.150105  0.218696 -0.053317  0.143477   \n",
       "Installs                     -0.109550 -0.026973 -0.162951  0.010520   \n",
       "Type                         -0.091000  0.017368 -0.118186  0.015303   \n",
       "Price                        -0.055543  0.042980 -0.049221 -0.009942   \n",
       "Genres                       -0.102474 -0.016081 -0.043974 -0.031970   \n",
       "sentences_count              -0.682864  0.355314 -0.652301  0.029779   \n",
       "spaces_count                 -0.317447  0.275943 -0.306382  0.026109   \n",
       "count_words                  -0.722038  0.366238 -0.676448  0.034825   \n",
       "characters_count             -0.744045  0.360477 -0.682846  0.031238   \n",
       "duplicates_count             -0.669584  0.351904 -0.655306  0.023889   \n",
       "chars_excl_spaces_count      -0.747683  0.358505 -0.684168  0.030396   \n",
       "alpha_numeric_count           0.274510 -0.118954  0.316525 -0.008180   \n",
       "non_alpha_numeric_count      -0.725692  0.358595 -0.682298  0.035583   \n",
       "punctuations_count           -0.098787 -0.112900 -0.139175 -0.018840   \n",
       "noun_phase_count             -0.731760  0.353730 -0.682619  0.050332   \n",
       "SPQ1                          0.190759  0.007311  0.192199  0.294857   \n",
       "SPQ3                          0.521585 -0.172499  0.466299  0.203736   \n",
       "SSQ1                         -0.246763  0.325607 -0.274977  0.266999   \n",
       "SSQ3                          0.442432 -0.160231  0.357868  0.095753   \n",
       "ERQ1                          0.481879 -0.066228  0.128657  0.006607   \n",
       "ERQ3                          1.000000 -0.298586  0.580402  0.034489   \n",
       "SQQ1                         -0.298586  1.000000  0.005160  0.108945   \n",
       "SQQ3                          0.580402  0.005160  1.000000  0.059832   \n",
       "Rating_Q                      0.034489  0.108945  0.059832  1.000000   \n",
       "Installs_Q                   -0.102312  0.038947 -0.175141  0.142066   \n",
       "\n",
       "                              Installs_Q  \n",
       "Translated_Review               0.177679  \n",
       "sentiment_polarity_score       -0.242030  \n",
       "ease_of_reading_score          -0.017418  \n",
       "sentiment_subjectivity_score   -0.050331  \n",
       "spelling_quality_score          0.015510  \n",
       "Category                        0.190062  \n",
       "Rating                          0.165152  \n",
       "Reviews                         0.180763  \n",
       "Size                            0.216312  \n",
       "Installs                        0.225539  \n",
       "Type                           -0.139167  \n",
       "Price                          -0.131362  \n",
       "Genres                          0.103384  \n",
       "sentences_count                 0.211620  \n",
       "spaces_count                    0.291911  \n",
       "count_words                     0.235810  \n",
       "characters_count                0.225789  \n",
       "duplicates_count                0.251820  \n",
       "chars_excl_spaces_count         0.223547  \n",
       "alpha_numeric_count            -0.265241  \n",
       "non_alpha_numeric_count         0.236749  \n",
       "punctuations_count              0.059564  \n",
       "noun_phase_count                0.229305  \n",
       "SPQ1                           -0.175282  \n",
       "SPQ3                           -0.237107  \n",
       "SSQ1                            0.085506  \n",
       "SSQ3                           -0.241823  \n",
       "ERQ1                            0.065692  \n",
       "ERQ3                           -0.102312  \n",
       "SQQ1                            0.038947  \n",
       "SQQ3                           -0.175141  \n",
       "Rating_Q                        0.142066  \n",
       "Installs_Q                      1.000000  \n",
       "\n",
       "[33 rows x 33 columns]"
      ]
     },
     "execution_count": 30,
     "metadata": {},
     "output_type": "execute_result"
    }
   ],
   "source": [
    "App_Review2.corr(\"pearson\")"
   ]
  },
  {
   "cell_type": "markdown",
   "metadata": {},
   "source": [
    "- Type y Price tienen correlación casi nula con la mayoría de atributos salvo entre sí mismos, cosa esperable dado que type indica si el precio es 0 o no.\n",
    "- Rating tiene correlación de 0.32 y 0.325 con la polaridad y la subjetividad respectivamente.\n",
    "- La cantidad de oraciones, palabras, caracteres, palabras repetidas, caracteres no alfanuméricos y sintagma nominal tienen correlaciones de entre -0.5 y -0.4 con la polaridad y facilidad de lectura.\n",
    "- La correlación entre género y categoría es 0.8, reforcando la decisión de filtrar únicamente por categoría.\n",
    "- La correlación de Rating con el resto de atributos de 'Apps' es cercana a 0.\n",
    "- El número de descargas y reviews tienen correlación de 0.6.\n",
    "- Gran parte de los \"conteos\" (número de palabras, caracteres, etc.) tienen alta correlación entre sí.\n",
    "- Los cuartiles 1 y 3 de polaridad, subjetividad, facilidad de lectura y calidad de escritura, a excepción del tercer cuartil de calidad de lectura, están altamente correlacionados con sus respectivas medias. Por lo tanto, se descarta la idea de utilizar estos valores."
   ]
  },
  {
   "cell_type": "code",
   "execution_count": 10,
   "metadata": {},
   "outputs": [],
   "source": [
    "del App_Review2[\"SPQ1\"]\n",
    "del App_Review2[\"SPQ3\"]\n",
    "del App_Review2[\"SSQ1\"]\n",
    "del App_Review2[\"SSQ3\"]\n",
    "del App_Review2[\"ERQ1\"]\n",
    "del App_Review2[\"ERQ3\"]\n",
    "del App_Review2[\"SQQ1\"]\n",
    "del App_Review2[\"SQQ3\"]"
   ]
  },
  {
   "cell_type": "markdown",
   "metadata": {},
   "source": [
    "### Información Mutua"
   ]
  },
  {
   "cell_type": "code",
   "execution_count": 34,
   "metadata": {},
   "outputs": [
    {
     "name": "stdout",
     "output_type": "stream",
     "text": [
      "Adjusted: 0.11509138035497417\n",
      "Normalized: 0.40005870620386735\n"
     ]
    }
   ],
   "source": [
    "print(\"Adjusted:\",adjusted_mutual_info_score(Apps.Reviews, Apps.Installs))\n",
    "print(\"Normalized:\",normalized_mutual_info_score(Apps.Reviews, Apps.Installs))"
   ]
  },
  {
   "cell_type": "code",
   "execution_count": 38,
   "metadata": {},
   "outputs": [
    {
     "name": "stdout",
     "output_type": "stream",
     "text": [
      "Adjusted: 0.05559592203480908\n",
      "Normalized: 0.06846589748876007\n"
     ]
    }
   ],
   "source": [
    "print(\"Adjusted:\",adjusted_mutual_info_score(Apps[Apps.Rating.notna()].Rating, Apps[Apps.Rating.notna()].Installs))\n",
    "print(\"Normalized:\",normalized_mutual_info_score(Apps[Apps.Rating.notna()].Rating, Apps[Apps.Rating.notna()].Installs))"
   ]
  },
  {
   "cell_type": "code",
   "execution_count": 39,
   "metadata": {},
   "outputs": [
    {
     "name": "stdout",
     "output_type": "stream",
     "text": [
      "Adjusted: 0.005868969675196572\n",
      "Normalized: 0.396024784320896\n"
     ]
    }
   ],
   "source": [
    "print(\"Adjusted:\",adjusted_mutual_info_score(Apps[Apps.Rating.notna()].Rating, Apps[Apps.Rating.notna()].Reviews))\n",
    "print(\"Normalized:\",normalized_mutual_info_score(Apps[Apps.Rating.notna()].Rating, Apps[Apps.Rating.notna()].Reviews))"
   ]
  },
  {
   "cell_type": "code",
   "execution_count": 40,
   "metadata": {},
   "outputs": [
    {
     "name": "stdout",
     "output_type": "stream",
     "text": [
      "Adjusted: 0.42659337148793747\n",
      "Normalized: 0.6430566480194094\n"
     ]
    }
   ],
   "source": [
    "print(\"Adjusted:\",adjusted_mutual_info_score(Reviews.sentiment_polarity_score, Reviews.sentiment_subjectivity_score))\n",
    "print(\"Normalized:\",normalized_mutual_info_score(Reviews.sentiment_polarity_score, Reviews.sentiment_subjectivity_score))"
   ]
  },
  {
   "cell_type": "markdown",
   "metadata": {},
   "source": [
    "### Descargas y Reseñas"
   ]
  },
  {
   "cell_type": "code",
   "execution_count": 11,
   "metadata": {},
   "outputs": [
    {
     "data": {
      "image/png": "[encoded data removed]",
      "text/plain": [
       "<Figure size 432x288 with 1 Axes>"
      ]
     },
     "metadata": {
      "needs_background": "light"
     },
     "output_type": "display_data"
    }
   ],
   "source": [
    "plt.scatter(Apps[\"Reviews\"], Apps[\"Installs\"])\n",
    "plt.xlabel(\"Reviews\")\n",
    "plt.ylabel(\"Installs\")\n",
    "plt.show()"
   ]
  },
  {
   "cell_type": "markdown",
   "metadata": {},
   "source": [
    "La forma del gráfico induce a aplicar clustering"
   ]
  },
  {
   "cell_type": "code",
   "execution_count": 12,
   "metadata": {},
   "outputs": [],
   "source": [
    "from sklearn.cluster import KMeans"
   ]
  },
  {
   "cell_type": "code",
   "execution_count": 13,
   "metadata": {},
   "outputs": [
    {
     "data": {
      "image/png": "[encoded data removed]",
      "text/plain": [
       "<Figure size 432x288 with 1 Axes>"
      ]
     },
     "metadata": {
      "needs_background": "light"
     },
     "output_type": "display_data"
    }
   ],
   "source": [
    "kmIR = KMeans(n_clusters=3).fit(Apps[[\"Reviews\", \"Installs\"]])\n",
    "\n",
    "plt.scatter(Apps[\"Reviews\"], Apps[\"Installs\"], c=kmIR.labels_)\n",
    "plt.xlabel(\"Reviews\")\n",
    "plt.ylabel(\"Installs\")\n",
    "plt.show()"
   ]
  },
  {
   "cell_type": "code",
   "execution_count": 86,
   "metadata": {},
   "outputs": [
    {
     "data": {
      "image/png": "[encoded data removed]",
      "text/plain": [
       "<Figure size 432x288 with 1 Axes>"
      ]
     },
     "metadata": {
      "needs_background": "light"
     },
     "output_type": "display_data"
    }
   ],
   "source": [
    "c = rd.randint(0,9)\n",
    "\n",
    "plt.scatter(cat_dt[c][\"Reviews\"], cat_dt[c][\"Installs\"], c=kmIR.predict(cat_dt[c][[\"Reviews\", \"Installs\"]]))\n",
    "plt.xlabel(\"Reviews\")\n",
    "plt.ylabel(\"Installs\")\n",
    "plt.show()"
   ]
  },
  {
   "cell_type": "markdown",
   "metadata": {},
   "source": [
    "Los clusters del dataset origininal no se justan bien a los subdatasets de categorías. Se observa también que la mayoría de subdataset están más cercanos a tener 4 clusters en vez de 3."
   ]
  },
  {
   "cell_type": "code",
   "execution_count": 40,
   "metadata": {},
   "outputs": [],
   "source": [
    "cat_km = []\n",
    "for dt in cat_dt:\n",
    "    cat_km.append(KMeans(n_clusters=4).fit(dt[[\"Reviews\", \"Installs\"]]))"
   ]
  },
  {
   "cell_type": "code",
   "execution_count": 41,
   "metadata": {},
   "outputs": [
    {
     "data": {
      "image/png": "[encoded data removed]",
      "text/plain": [
       "<Figure size 432x288 with 1 Axes>"
      ]
     },
     "metadata": {
      "needs_background": "light"
     },
     "output_type": "display_data"
    }
   ],
   "source": [
    "c = rd.randint(0,9)\n",
    "\n",
    "plt.scatter(cat_dt[c][\"Reviews\"], cat_dt[c][\"Installs\"], c=cat_km[c].labels_)\n",
    "plt.xlabel(\"Reviews\")\n",
    "plt.ylabel(\"Installs\")\n",
    "plt.show()"
   ]
  },
  {
   "cell_type": "markdown",
   "metadata": {},
   "source": [
    "__Propuesta:__ reemplazar \"Reviews\" por los _labels_ de los clusters. No se propone dividir por cluster debido a que los datos ya son reducidos."
   ]
  },
  {
   "cell_type": "code",
   "execution_count": 42,
   "metadata": {},
   "outputs": [],
   "source": [
    "for i in range(len(cat_dt)):\n",
    "    cat_dt[i][\"Cluster\"] = cat_km[i].labels_"
   ]
  },
  {
   "cell_type": "markdown",
   "metadata": {},
   "source": [
    "### PCA - Datos del Texto\n",
    "\n",
    "Como existe alta correlación entre varios de los datos del texto de las reseñas, se propone reducir su dimensionalidad a 2 (decisión arbitraria) por medio de _principal component analisys_."
   ]
  },
  {
   "cell_type": "code",
   "execution_count": 155,
   "metadata": {},
   "outputs": [],
   "source": [
    "from sklearn.decomposition import TruncatedSVD\n",
    "from sklearn.preprocessing import Normalizer\n",
    "from sklearn.pipeline import make_pipeline"
   ]
  },
  {
   "cell_type": "code",
   "execution_count": 144,
   "metadata": {},
   "outputs": [],
   "source": [
    "svd = TruncatedSVD(2)\n",
    "#normalizer = Normalizer(copy=False)\n",
    "#lsa = make_pipeline(svd, normalizer)\n",
    "redCount = svd.fit_transform(App_Review2.iloc[:,19:28])"
   ]
  },
  {
   "cell_type": "code",
   "execution_count": 145,
   "metadata": {},
   "outputs": [
    {
     "data": {
      "text/plain": [
       "array([[ 0.72560053, -0.44521546],\n",
       "       [ 0.87917784, -0.29309236],\n",
       "       [ 0.83282305, -0.36019533],\n",
       "       ...,\n",
       "       [ 1.40524184,  0.19410741],\n",
       "       [ 1.03157934, -0.16233491],\n",
       "       [ 1.15306275, -0.05626396]])"
      ]
     },
     "execution_count": 145,
     "metadata": {},
     "output_type": "execute_result"
    }
   ],
   "source": [
    "redCount"
   ]
  },
  {
   "cell_type": "code",
   "execution_count": 146,
   "metadata": {},
   "outputs": [],
   "source": [
    "App_Review3 = App_Review2.iloc[:,2:13].copy()\n",
    "App_Review3[\"textData1\"] = redCount.transpose()[0]\n",
    "App_Review3[\"textData2\"] = redCount.transpose()[1]\n",
    "# Labels quedan en App_Review2"
   ]
  },
  {
   "cell_type": "code",
   "execution_count": 147,
   "metadata": {},
   "outputs": [
    {
     "data": {
      "text/html": [
       "<div>\n",
       "<style scoped>\n",
       "    .dataframe tbody tr th:only-of-type {\n",
       "        vertical-align: middle;\n",
       "    }\n",
       "\n",
       "    .dataframe tbody tr th {\n",
       "        vertical-align: top;\n",
       "    }\n",
       "\n",
       "    .dataframe thead th {\n",
       "        text-align: right;\n",
       "    }\n",
       "</style>\n",
       "<table border=\"1\" class=\"dataframe\">\n",
       "  <thead>\n",
       "    <tr style=\"text-align: right;\">\n",
       "      <th></th>\n",
       "      <th>sentiment_polarity_score</th>\n",
       "      <th>ease_of_reading_score</th>\n",
       "      <th>sentiment_subjectivity_score</th>\n",
       "      <th>spelling_quality_score</th>\n",
       "      <th>Category</th>\n",
       "      <th>Rating</th>\n",
       "      <th>Reviews</th>\n",
       "      <th>Size</th>\n",
       "      <th>Installs</th>\n",
       "      <th>Type</th>\n",
       "      <th>Price</th>\n",
       "      <th>textData1</th>\n",
       "      <th>textData2</th>\n",
       "    </tr>\n",
       "  </thead>\n",
       "  <tbody>\n",
       "    <tr>\n",
       "      <th>0</th>\n",
       "      <td>0.470733</td>\n",
       "      <td>0.863879</td>\n",
       "      <td>0.495455</td>\n",
       "      <td>0.924240</td>\n",
       "      <td>15</td>\n",
       "      <td>4.0</td>\n",
       "      <td>2490</td>\n",
       "      <td>3.8</td>\n",
       "      <td>500000.0</td>\n",
       "      <td>0</td>\n",
       "      <td>0.0</td>\n",
       "      <td>0.725601</td>\n",
       "      <td>-0.445215</td>\n",
       "    </tr>\n",
       "    <tr>\n",
       "      <th>1</th>\n",
       "      <td>0.185943</td>\n",
       "      <td>0.844815</td>\n",
       "      <td>0.455340</td>\n",
       "      <td>0.899209</td>\n",
       "      <td>26</td>\n",
       "      <td>3.8</td>\n",
       "      <td>48732</td>\n",
       "      <td>20.0</td>\n",
       "      <td>10000000.0</td>\n",
       "      <td>0</td>\n",
       "      <td>0.0</td>\n",
       "      <td>0.879178</td>\n",
       "      <td>-0.293092</td>\n",
       "    </tr>\n",
       "    <tr>\n",
       "      <th>2</th>\n",
       "      <td>0.318145</td>\n",
       "      <td>0.851240</td>\n",
       "      <td>0.591098</td>\n",
       "      <td>0.892667</td>\n",
       "      <td>20</td>\n",
       "      <td>4.7</td>\n",
       "      <td>23160</td>\n",
       "      <td>26.0</td>\n",
       "      <td>1000000.0</td>\n",
       "      <td>0</td>\n",
       "      <td>0.0</td>\n",
       "      <td>0.832823</td>\n",
       "      <td>-0.360195</td>\n",
       "    </tr>\n",
       "    <tr>\n",
       "      <th>3</th>\n",
       "      <td>0.196290</td>\n",
       "      <td>0.858710</td>\n",
       "      <td>0.557315</td>\n",
       "      <td>0.894876</td>\n",
       "      <td>14</td>\n",
       "      <td>4.6</td>\n",
       "      <td>214878</td>\n",
       "      <td>10.0</td>\n",
       "      <td>10000000.0</td>\n",
       "      <td>0</td>\n",
       "      <td>0.0</td>\n",
       "      <td>0.631735</td>\n",
       "      <td>-0.558851</td>\n",
       "    </tr>\n",
       "    <tr>\n",
       "      <th>4</th>\n",
       "      <td>0.449566</td>\n",
       "      <td>0.868229</td>\n",
       "      <td>0.520573</td>\n",
       "      <td>0.828556</td>\n",
       "      <td>23</td>\n",
       "      <td>4.2</td>\n",
       "      <td>115773</td>\n",
       "      <td>NaN</td>\n",
       "      <td>10000000.0</td>\n",
       "      <td>0</td>\n",
       "      <td>0.0</td>\n",
       "      <td>0.669399</td>\n",
       "      <td>-0.495403</td>\n",
       "    </tr>\n",
       "    <tr>\n",
       "      <th>...</th>\n",
       "      <td>...</td>\n",
       "      <td>...</td>\n",
       "      <td>...</td>\n",
       "      <td>...</td>\n",
       "      <td>...</td>\n",
       "      <td>...</td>\n",
       "      <td>...</td>\n",
       "      <td>...</td>\n",
       "      <td>...</td>\n",
       "      <td>...</td>\n",
       "      <td>...</td>\n",
       "      <td>...</td>\n",
       "      <td>...</td>\n",
       "    </tr>\n",
       "    <tr>\n",
       "      <th>602</th>\n",
       "      <td>0.031499</td>\n",
       "      <td>0.844228</td>\n",
       "      <td>0.477397</td>\n",
       "      <td>0.843576</td>\n",
       "      <td>31</td>\n",
       "      <td>4.2</td>\n",
       "      <td>6449</td>\n",
       "      <td>NaN</td>\n",
       "      <td>5000000.0</td>\n",
       "      <td>0</td>\n",
       "      <td>0.0</td>\n",
       "      <td>1.301297</td>\n",
       "      <td>0.107762</td>\n",
       "    </tr>\n",
       "    <tr>\n",
       "      <th>603</th>\n",
       "      <td>0.018378</td>\n",
       "      <td>0.840878</td>\n",
       "      <td>0.449354</td>\n",
       "      <td>0.858499</td>\n",
       "      <td>31</td>\n",
       "      <td>3.9</td>\n",
       "      <td>3484</td>\n",
       "      <td>3.0</td>\n",
       "      <td>10000000.0</td>\n",
       "      <td>0</td>\n",
       "      <td>0.0</td>\n",
       "      <td>1.344165</td>\n",
       "      <td>0.136632</td>\n",
       "    </tr>\n",
       "    <tr>\n",
       "      <th>604</th>\n",
       "      <td>-0.051705</td>\n",
       "      <td>0.843891</td>\n",
       "      <td>0.494052</td>\n",
       "      <td>0.838303</td>\n",
       "      <td>27</td>\n",
       "      <td>3.6</td>\n",
       "      <td>13223</td>\n",
       "      <td>2.8</td>\n",
       "      <td>10000000.0</td>\n",
       "      <td>0</td>\n",
       "      <td>0.0</td>\n",
       "      <td>1.405242</td>\n",
       "      <td>0.194107</td>\n",
       "    </tr>\n",
       "    <tr>\n",
       "      <th>605</th>\n",
       "      <td>0.004106</td>\n",
       "      <td>0.848932</td>\n",
       "      <td>0.334344</td>\n",
       "      <td>0.860348</td>\n",
       "      <td>18</td>\n",
       "      <td>3.5</td>\n",
       "      <td>6145</td>\n",
       "      <td>13.0</td>\n",
       "      <td>10000000.0</td>\n",
       "      <td>0</td>\n",
       "      <td>0.0</td>\n",
       "      <td>1.031579</td>\n",
       "      <td>-0.162335</td>\n",
       "    </tr>\n",
       "    <tr>\n",
       "      <th>606</th>\n",
       "      <td>0.067625</td>\n",
       "      <td>0.826542</td>\n",
       "      <td>0.453094</td>\n",
       "      <td>0.892612</td>\n",
       "      <td>32</td>\n",
       "      <td>3.9</td>\n",
       "      <td>22154</td>\n",
       "      <td>NaN</td>\n",
       "      <td>10000000.0</td>\n",
       "      <td>0</td>\n",
       "      <td>0.0</td>\n",
       "      <td>1.153063</td>\n",
       "      <td>-0.056264</td>\n",
       "    </tr>\n",
       "  </tbody>\n",
       "</table>\n",
       "<p>607 rows × 13 columns</p>\n",
       "</div>"
      ],
      "text/plain": [
       "     sentiment_polarity_score  ease_of_reading_score  \\\n",
       "0                    0.470733               0.863879   \n",
       "1                    0.185943               0.844815   \n",
       "2                    0.318145               0.851240   \n",
       "3                    0.196290               0.858710   \n",
       "4                    0.449566               0.868229   \n",
       "..                        ...                    ...   \n",
       "602                  0.031499               0.844228   \n",
       "603                  0.018378               0.840878   \n",
       "604                 -0.051705               0.843891   \n",
       "605                  0.004106               0.848932   \n",
       "606                  0.067625               0.826542   \n",
       "\n",
       "     sentiment_subjectivity_score  spelling_quality_score  Category  Rating  \\\n",
       "0                        0.495455                0.924240        15     4.0   \n",
       "1                        0.455340                0.899209        26     3.8   \n",
       "2                        0.591098                0.892667        20     4.7   \n",
       "3                        0.557315                0.894876        14     4.6   \n",
       "4                        0.520573                0.828556        23     4.2   \n",
       "..                            ...                     ...       ...     ...   \n",
       "602                      0.477397                0.843576        31     4.2   \n",
       "603                      0.449354                0.858499        31     3.9   \n",
       "604                      0.494052                0.838303        27     3.6   \n",
       "605                      0.334344                0.860348        18     3.5   \n",
       "606                      0.453094                0.892612        32     3.9   \n",
       "\n",
       "     Reviews  Size    Installs  Type  Price  textData1  textData2  \n",
       "0       2490   3.8    500000.0     0    0.0   0.725601  -0.445215  \n",
       "1      48732  20.0  10000000.0     0    0.0   0.879178  -0.293092  \n",
       "2      23160  26.0   1000000.0     0    0.0   0.832823  -0.360195  \n",
       "3     214878  10.0  10000000.0     0    0.0   0.631735  -0.558851  \n",
       "4     115773   NaN  10000000.0     0    0.0   0.669399  -0.495403  \n",
       "..       ...   ...         ...   ...    ...        ...        ...  \n",
       "602     6449   NaN   5000000.0     0    0.0   1.301297   0.107762  \n",
       "603     3484   3.0  10000000.0     0    0.0   1.344165   0.136632  \n",
       "604    13223   2.8  10000000.0     0    0.0   1.405242   0.194107  \n",
       "605     6145  13.0  10000000.0     0    0.0   1.031579  -0.162335  \n",
       "606    22154   NaN  10000000.0     0    0.0   1.153063  -0.056264  \n",
       "\n",
       "[607 rows x 13 columns]"
      ]
     },
     "execution_count": 147,
     "metadata": {},
     "output_type": "execute_result"
    }
   ],
   "source": [
    "App_Review3"
   ]
  },
  {
   "cell_type": "markdown",
   "metadata": {},
   "source": [
    "# Clasificación"
   ]
  },
  {
   "cell_type": "code",
   "execution_count": 29,
   "metadata": {},
   "outputs": [],
   "source": [
    "from sklearn.metrics import confusion_matrix\n",
    "from sklearn.metrics import mean_squared_error\n",
    "from sklearn.tree import DecisionTreeClassifier\n",
    "from sklearn.neighbors import KNeighborsClassifier\n",
    "from sklearn.model_selection import train_test_split\n",
    "from sklearn.model_selection import cross_val_score\n",
    "from sklearn.naive_bayes import GaussianNB\n",
    "from sklearn.svm import SVC\n",
    "from sklearn.metrics import precision_score"
   ]
  },
  {
   "cell_type": "code",
   "execution_count": 30,
   "metadata": {},
   "outputs": [],
   "source": [
    "def precision0micro(model, X, y):\n",
    "    y_pred = model.predict(X)\n",
    "    return precision_score(y, y_pred, zero_division=0, average='micro')\n",
    "\n",
    "def precision0macro(model, X, y):\n",
    "    y_pred = model.predict(X)\n",
    "    return precision_score(y, y_pred, zero_division=0, average='macro')\n",
    "\n",
    "def mean(a):\n",
    "    n = len(a)\n",
    "    t = sum(a)\n",
    "    return t/n\n",
    "\n",
    "def crossVal(X, y, model, k, re, n, m):\n",
    "    re[0][m][n] = mean(cross_val_score(model, X, y, cv=k, scoring=\"accuracy\"))\n",
    "    re[1][m][n] = mean(cross_val_score(model, X, y, cv=k, scoring=precision0micro))\n",
    "    re[2][m][n] = mean(cross_val_score(model, X, y, cv=k, scoring=precision0macro))\n",
    "    re[3][m][n] = mean(cross_val_score(model, X, y, cv=k, scoring=\"recall_micro\"))\n",
    "    re[4][m][n] = mean(cross_val_score(model, X, y, cv=k, scoring=\"recall_macro\"))\n",
    "    re[5][m][n] = mean(cross_val_score(model, X, y, cv=k, scoring=\"f1_micro\"))\n",
    "    re[6][m][n] = mean(cross_val_score(model, X, y, cv=k, scoring=\"f1_macro\"))"
   ]
  },
  {
   "cell_type": "code",
   "execution_count": 37,
   "metadata": {},
   "outputs": [],
   "source": [
    "results_score = np.zeros([7,4,10])"
   ]
  },
  {
   "cell_type": "code",
   "execution_count": 65,
   "metadata": {},
   "outputs": [],
   "source": [
    "cat_dt_r = []\n",
    "label_cat_r = []\n",
    "label_cat_r2 = []\n",
    "for dt in cat_dt:\n",
    "    cat_dt_r.append(dt[[\"Installs\", \"Cluster\", \"Size\", \"Type\", \"Content.Rating\"]].copy())\n",
    "    label_cat_r2.append(dt[[\"Rating\"]])\n",
    "    label_cat_r.append(dt[[\"Rating_Q\"]])"
   ]
  },
  {
   "cell_type": "code",
   "execution_count": 79,
   "metadata": {},
   "outputs": [],
   "source": [
    "def reEscale(data, a, b):\n",
    "    m = min(data)\n",
    "    M = max(data)\n",
    "    p = (b-a)/(M-m)\n",
    "    c = (a*M-b*m)/(M-m)\n",
    "    for i in range(len(data)):\n",
    "        data[i] = p*data[i]+c\n",
    "    return data.copy()\n",
    "\n",
    "for dt in cat_dt_r:\n",
    "    dt[\"Installs\"] = reEscale(np.array(dt.Installs), 0, 3)\n",
    "    dt[\"Size\"] = reEscale(np.array(dt.Size), 0, 3)"
   ]
  },
  {
   "cell_type": "markdown",
   "metadata": {},
   "source": [
    "### Árbol de Decisión"
   ]
  },
  {
   "cell_type": "code",
   "execution_count": 68,
   "metadata": {},
   "outputs": [],
   "source": [
    "for i in range(10):\n",
    "    crossVal(cat_dt_r[i], label_cat_r[i], DecisionTreeClassifier(), 5, results_score, i, 0)"
   ]
  },
  {
   "cell_type": "markdown",
   "metadata": {},
   "source": [
    "### KNN"
   ]
  },
  {
   "cell_type": "code",
   "execution_count": 80,
   "metadata": {},
   "outputs": [],
   "source": [
    "for i in range(10):\n",
    "    crossVal(cat_dt_r[i], np.ravel(label_cat_r[i]), KNeighborsClassifier(n_neighbors=10), 5, results_score, i, 1) # k=10 es arbitrario"
   ]
  },
  {
   "cell_type": "markdown",
   "metadata": {},
   "source": [
    "### Naive Bayes"
   ]
  },
  {
   "cell_type": "code",
   "execution_count": 81,
   "metadata": {},
   "outputs": [],
   "source": [
    "for i in range(10):\n",
    "    crossVal(cat_dt_r[i], np.ravel(label_cat_r[i]), GaussianNB(), 5, results_score, i, 2)"
   ]
  },
  {
   "cell_type": "markdown",
   "metadata": {},
   "source": [
    "### Support Vector Machine"
   ]
  },
  {
   "cell_type": "code",
   "execution_count": 82,
   "metadata": {},
   "outputs": [],
   "source": [
    "for i in range(10):\n",
    "    crossVal(cat_dt_r[i], np.ravel(label_cat_r[i]), SVC(), 5, results_score, i, 3) # no usar 'linear'"
   ]
  },
  {
   "cell_type": "markdown",
   "metadata": {},
   "source": [
    "### Resultados"
   ]
  },
  {
   "cell_type": "code",
   "execution_count": 83,
   "metadata": {},
   "outputs": [
    {
     "data": {
      "image/png": "[encoded data removed]",
      "text/plain": [
       "<Figure size 432x288 with 1 Axes>"
      ]
     },
     "metadata": {
      "needs_background": "light"
     },
     "output_type": "display_data"
    }
   ],
   "source": [
    "models = [\"Tree\", \"KNN\", \"Naive\", \"SVM\"]\n",
    "\n",
    "plt.barh(models, list(map(mean, results_score[0])))\n",
    "plt.title(\"Accuracy\")\n",
    "plt.show()"
   ]
  },
  {
   "cell_type": "code",
   "execution_count": 84,
   "metadata": {},
   "outputs": [
    {
     "data": {
      "image/png": "[encoded data removed]",
      "text/plain": [
       "<Figure size 432x288 with 1 Axes>"
      ]
     },
     "metadata": {
      "needs_background": "light"
     },
     "output_type": "display_data"
    }
   ],
   "source": [
    "plt.barh(models, list(map(mean, results_score[1])))\n",
    "plt.title(\"Precision Micro\")\n",
    "plt.show()"
   ]
  },
  {
   "cell_type": "code",
   "execution_count": 85,
   "metadata": {},
   "outputs": [
    {
     "data": {
      "image/png": "[encoded data removed]",
      "text/plain": [
       "<Figure size 432x288 with 1 Axes>"
      ]
     },
     "metadata": {
      "needs_background": "light"
     },
     "output_type": "display_data"
    }
   ],
   "source": [
    "plt.barh(models, list(map(mean, results_score[2])))\n",
    "plt.title(\"Precision Macro\")\n",
    "plt.show()"
   ]
  },
  {
   "cell_type": "code",
   "execution_count": 86,
   "metadata": {},
   "outputs": [
    {
     "data": {
      "image/png": "[encoded data removed]",
      "text/plain": [
       "<Figure size 432x288 with 1 Axes>"
      ]
     },
     "metadata": {
      "needs_background": "light"
     },
     "output_type": "display_data"
    }
   ],
   "source": [
    "plt.barh(models, list(map(mean, results_score[3])))\n",
    "plt.title(\"Recall Micro\")\n",
    "plt.show()"
   ]
  },
  {
   "cell_type": "code",
   "execution_count": 87,
   "metadata": {},
   "outputs": [
    {
     "data": {
      "image/png": "[encoded data removed]",
      "text/plain": [
       "<Figure size 432x288 with 1 Axes>"
      ]
     },
     "metadata": {
      "needs_background": "light"
     },
     "output_type": "display_data"
    }
   ],
   "source": [
    "plt.barh(models, list(map(mean, results_score[4])))\n",
    "plt.title(\"Recall Macro\")\n",
    "plt.show()"
   ]
  },
  {
   "cell_type": "code",
   "execution_count": 88,
   "metadata": {},
   "outputs": [
    {
     "data": {
      "image/png": "[encoded data removed]",
      "text/plain": [
       "<Figure size 432x288 with 1 Axes>"
      ]
     },
     "metadata": {
      "needs_background": "light"
     },
     "output_type": "display_data"
    }
   ],
   "source": [
    "plt.barh(models, list(map(mean, results_score[5])))\n",
    "plt.title(\"F1 Micro\")\n",
    "plt.show()"
   ]
  },
  {
   "cell_type": "code",
   "execution_count": 89,
   "metadata": {},
   "outputs": [
    {
     "data": {
      "image/png": "[encoded data removed]",
      "text/plain": [
       "<Figure size 432x288 with 1 Axes>"
      ]
     },
     "metadata": {
      "needs_background": "light"
     },
     "output_type": "display_data"
    }
   ],
   "source": [
    "plt.barh(models, list(map(mean, results_score[6])))\n",
    "plt.title(\"F1 Macro\")\n",
    "plt.show()"
   ]
  },
  {
   "cell_type": "markdown",
   "metadata": {},
   "source": [
    "## Clasificación de Aplicaciones de Pago"
   ]
  },
  {
   "cell_type": "markdown",
   "metadata": {},
   "source": [
    "Como la cantidad de aplicaciones de pago en vastante menor, para este caso no se subdivide en categorías."
   ]
  },
  {
   "cell_type": "code",
   "execution_count": 128,
   "metadata": {},
   "outputs": [],
   "source": [
    "Paid_Apps = Apps[Apps.Type==1][[\"Installs\", \"Reviews\", \"Size\", \"Price\", \"Content.Rating\", \"Rating\"]].dropna(how='any').copy()\n",
    "Paid_Apps = Paid_Apps[Paid_Apps.Installs < 10000000]\n",
    "Paid_Apps = Paid_Apps[Paid_Apps.Price < 60]\n",
    "\n",
    "paidKm = KMeans(n_clusters=3).fit(Paid_Apps[[\"Installs\", \"Reviews\"]])\n",
    "Paid_Apps[\"Clusters\"] = paidKm.labels_\n",
    "\n",
    "def contToNum(contentRating):\n",
    "    n = len(contentRating)\n",
    "    num = np.zeros(n)\n",
    "    for i in range(n):\n",
    "        if contentRating[i] == \"Everyone 10+\":\n",
    "            num[i] = 0.5\n",
    "        if contentRating[i] == \"Teen\":\n",
    "            num[i] = 1.0\n",
    "        if contentRating[i] == \"Mature 17+\":\n",
    "            num[i] = 1.5\n",
    "        if contentRating[i] == \"Adults only 18+\":\n",
    "            num[i] = 2.0\n",
    "    return num\n",
    "\n",
    "Paid_Apps[\"Content.Rating\"] = contToNum(np.array(Paid_Apps[\"Content.Rating\"]))"
   ]
  },
  {
   "cell_type": "code",
   "execution_count": 139,
   "metadata": {},
   "outputs": [],
   "source": [
    "def qLabeler(data):\n",
    "    q1 = data.quantile(0.25)\n",
    "    q2 = data.quantile(0.5)\n",
    "    q3 = data.quantile(0.75)\n",
    "    labels = np.array(data)\n",
    "    for i in range(len(labels)):\n",
    "        if labels[i] <= q1:\n",
    "            labels[i] = 0\n",
    "        elif labels[i] < q2:\n",
    "            labels[i] = 1\n",
    "        elif labels[i] < q3:\n",
    "            labels[i] = 2\n",
    "        elif labels[i]:\n",
    "            labels[i] = 3\n",
    "    return labels\n",
    "\n",
    "paid_labels = qLabeler(Paid_Apps.Rating)\n",
    "\n",
    "del Paid_Apps[\"Rating\"]"
   ]
  },
  {
   "cell_type": "code",
   "execution_count": 140,
   "metadata": {},
   "outputs": [],
   "source": [
    "Paid_Apps[\"Installs\"] = reEscale(np.array(Paid_Apps.Installs), 0, 2)\n",
    "Paid_Apps[\"Size\"] = reEscale(np.array(Paid_Apps.Size), 0, 2)\n",
    "Paid_Apps[\"Price\"] = reEscale(np.array(Paid_Apps.Price), 0, 2)"
   ]
  },
  {
   "cell_type": "code",
   "execution_count": 117,
   "metadata": {},
   "outputs": [
    {
     "data": {
      "image/png": "[encoded data removed]",
      "text/plain": [
       "<Figure size 432x288 with 1 Axes>"
      ]
     },
     "metadata": {
      "needs_background": "light"
     },
     "output_type": "display_data"
    }
   ],
   "source": [
    "plt.scatter(Paid_Apps[\"Reviews\"], Paid_Apps[\"Installs\"], c=paidKm.labels_)\n",
    "plt.xlabel(\"Reviews\")\n",
    "plt.ylabel(\"Installs\")\n",
    "plt.show()"
   ]
  },
  {
   "cell_type": "code",
   "execution_count": 119,
   "metadata": {},
   "outputs": [],
   "source": [
    "del Paid_Apps[\"Reviews\"]"
   ]
  },
  {
   "cell_type": "code",
   "execution_count": 115,
   "metadata": {},
   "outputs": [
    {
     "data": {
      "image/png": "[encoded data removed]",
      "text/plain": [
       "<Figure size 432x288 with 1 Axes>"
      ]
     },
     "metadata": {
      "needs_background": "light"
     },
     "output_type": "display_data"
    }
   ],
   "source": [
    "plt.plot(Paid_Apps.Price)\n",
    "plt.show()"
   ]
  },
  {
   "cell_type": "code",
   "execution_count": 120,
   "metadata": {},
   "outputs": [
    {
     "data": {
      "text/html": [
       "<div>\n",
       "<style scoped>\n",
       "    .dataframe tbody tr th:only-of-type {\n",
       "        vertical-align: middle;\n",
       "    }\n",
       "\n",
       "    .dataframe tbody tr th {\n",
       "        vertical-align: top;\n",
       "    }\n",
       "\n",
       "    .dataframe thead th {\n",
       "        text-align: right;\n",
       "    }\n",
       "</style>\n",
       "<table border=\"1\" class=\"dataframe\">\n",
       "  <thead>\n",
       "    <tr style=\"text-align: right;\">\n",
       "      <th></th>\n",
       "      <th>Installs</th>\n",
       "      <th>Size</th>\n",
       "      <th>Price</th>\n",
       "      <th>Content.Rating</th>\n",
       "      <th>Clusters</th>\n",
       "    </tr>\n",
       "  </thead>\n",
       "  <tbody>\n",
       "    <tr>\n",
       "      <th>233</th>\n",
       "      <td>0.2000</td>\n",
       "      <td>0.135739</td>\n",
       "      <td>0.173913</td>\n",
       "      <td>0.0</td>\n",
       "      <td>0</td>\n",
       "    </tr>\n",
       "    <tr>\n",
       "      <th>234</th>\n",
       "      <td>0.2000</td>\n",
       "      <td>0.779829</td>\n",
       "      <td>0.173913</td>\n",
       "      <td>0.0</td>\n",
       "      <td>0</td>\n",
       "    </tr>\n",
       "    <tr>\n",
       "      <th>407</th>\n",
       "      <td>0.0020</td>\n",
       "      <td>0.123737</td>\n",
       "      <td>0.260870</td>\n",
       "      <td>0.0</td>\n",
       "      <td>0</td>\n",
       "    </tr>\n",
       "    <tr>\n",
       "      <th>408</th>\n",
       "      <td>0.0001</td>\n",
       "      <td>0.399776</td>\n",
       "      <td>0.021739</td>\n",
       "      <td>1.0</td>\n",
       "      <td>0</td>\n",
       "    </tr>\n",
       "    <tr>\n",
       "      <th>409</th>\n",
       "      <td>0.0002</td>\n",
       "      <td>0.000080</td>\n",
       "      <td>0.086957</td>\n",
       "      <td>0.0</td>\n",
       "      <td>0</td>\n",
       "    </tr>\n",
       "    <tr>\n",
       "      <th>...</th>\n",
       "      <td>...</td>\n",
       "      <td>...</td>\n",
       "      <td>...</td>\n",
       "      <td>...</td>\n",
       "      <td>...</td>\n",
       "    </tr>\n",
       "    <tr>\n",
       "      <th>9555</th>\n",
       "      <td>0.0002</td>\n",
       "      <td>0.002860</td>\n",
       "      <td>0.000000</td>\n",
       "      <td>1.5</td>\n",
       "      <td>0</td>\n",
       "    </tr>\n",
       "    <tr>\n",
       "      <th>9579</th>\n",
       "      <td>0.0020</td>\n",
       "      <td>0.047727</td>\n",
       "      <td>0.304348</td>\n",
       "      <td>0.0</td>\n",
       "      <td>0</td>\n",
       "    </tr>\n",
       "    <tr>\n",
       "      <th>9600</th>\n",
       "      <td>0.0200</td>\n",
       "      <td>0.219751</td>\n",
       "      <td>0.695652</td>\n",
       "      <td>1.0</td>\n",
       "      <td>0</td>\n",
       "    </tr>\n",
       "    <tr>\n",
       "      <th>9603</th>\n",
       "      <td>0.0200</td>\n",
       "      <td>0.189747</td>\n",
       "      <td>0.009130</td>\n",
       "      <td>0.0</td>\n",
       "      <td>0</td>\n",
       "    </tr>\n",
       "    <tr>\n",
       "      <th>9616</th>\n",
       "      <td>0.0001</td>\n",
       "      <td>0.020123</td>\n",
       "      <td>0.002174</td>\n",
       "      <td>0.0</td>\n",
       "      <td>0</td>\n",
       "    </tr>\n",
       "  </tbody>\n",
       "</table>\n",
       "<p>661 rows × 5 columns</p>\n",
       "</div>"
      ],
      "text/plain": [
       "      Installs      Size     Price  Content.Rating  Clusters\n",
       "233     0.2000  0.135739  0.173913             0.0         0\n",
       "234     0.2000  0.779829  0.173913             0.0         0\n",
       "407     0.0020  0.123737  0.260870             0.0         0\n",
       "408     0.0001  0.399776  0.021739             1.0         0\n",
       "409     0.0002  0.000080  0.086957             0.0         0\n",
       "...        ...       ...       ...             ...       ...\n",
       "9555    0.0002  0.002860  0.000000             1.5         0\n",
       "9579    0.0020  0.047727  0.304348             0.0         0\n",
       "9600    0.0200  0.219751  0.695652             1.0         0\n",
       "9603    0.0200  0.189747  0.009130             0.0         0\n",
       "9616    0.0001  0.020123  0.002174             0.0         0\n",
       "\n",
       "[661 rows x 5 columns]"
      ]
     },
     "execution_count": 120,
     "metadata": {},
     "output_type": "execute_result"
    }
   ],
   "source": [
    "Paid_Apps"
   ]
  },
  {
   "cell_type": "code",
   "execution_count": 124,
   "metadata": {},
   "outputs": [],
   "source": [
    "def crossVal2(X, y, model, k, re, m):\n",
    "    re[0][m] = mean(cross_val_score(model, X, y, cv=k, scoring=\"accuracy\"))\n",
    "    re[1][m] = mean(cross_val_score(model, X, y, cv=k, scoring=precision0micro))\n",
    "    re[2][m] = mean(cross_val_score(model, X, y, cv=k, scoring=precision0macro))\n",
    "    re[3][m] = mean(cross_val_score(model, X, y, cv=k, scoring=\"recall_micro\"))\n",
    "    re[4][m] = mean(cross_val_score(model, X, y, cv=k, scoring=\"recall_macro\"))\n",
    "    re[5][m] = mean(cross_val_score(model, X, y, cv=k, scoring=\"f1_micro\"))\n",
    "    re[6][m] = mean(cross_val_score(model, X, y, cv=k, scoring=\"f1_macro\"))\n",
    "\n",
    "paid_result = np.zeros([7,4])"
   ]
  },
  {
   "cell_type": "markdown",
   "metadata": {},
   "source": [
    "### Árbol de Decisión"
   ]
  },
  {
   "cell_type": "code",
   "execution_count": 141,
   "metadata": {},
   "outputs": [],
   "source": [
    "crossVal2(Paid_Apps, paid_labels, DecisionTreeClassifier(), 5, paid_result, 0)"
   ]
  },
  {
   "cell_type": "markdown",
   "metadata": {},
   "source": [
    "### KNN"
   ]
  },
  {
   "cell_type": "code",
   "execution_count": 142,
   "metadata": {},
   "outputs": [],
   "source": [
    "crossVal2(Paid_Apps, paid_labels, KNeighborsClassifier(n_neighbors=10), 5, paid_result, 1) # k=10 es arbitrario"
   ]
  },
  {
   "cell_type": "markdown",
   "metadata": {},
   "source": [
    "### Naive Bayes"
   ]
  },
  {
   "cell_type": "code",
   "execution_count": 144,
   "metadata": {},
   "outputs": [],
   "source": [
    "crossVal2(Paid_Apps, paid_labels, GaussianNB(), 5, paid_result, 2)"
   ]
  },
  {
   "cell_type": "markdown",
   "metadata": {},
   "source": [
    "### Support Vector Machine"
   ]
  },
  {
   "cell_type": "code",
   "execution_count": 145,
   "metadata": {},
   "outputs": [],
   "source": [
    "crossVal2(Paid_Apps, paid_labels, SVC(), 5, paid_result, 3)"
   ]
  },
  {
   "cell_type": "markdown",
   "metadata": {},
   "source": [
    "### Resultados"
   ]
  },
  {
   "cell_type": "code",
   "execution_count": 146,
   "metadata": {},
   "outputs": [
    {
     "data": {
      "image/png": "[encoded data removed]",
      "text/plain": [
       "<Figure size 432x288 with 1 Axes>"
      ]
     },
     "metadata": {
      "needs_background": "light"
     },
     "output_type": "display_data"
    }
   ],
   "source": [
    "plt.barh(models, paid_result[0])\n",
    "plt.title(\"Accuracy\")\n",
    "plt.show()"
   ]
  },
  {
   "cell_type": "code",
   "execution_count": 147,
   "metadata": {},
   "outputs": [
    {
     "data": {
      "image/png": "[encoded data removed]",
      "text/plain": [
       "<Figure size 432x288 with 1 Axes>"
      ]
     },
     "metadata": {
      "needs_background": "light"
     },
     "output_type": "display_data"
    }
   ],
   "source": [
    "plt.barh(models, paid_result[1])\n",
    "plt.title(\"Precision Micro\")\n",
    "plt.show()"
   ]
  },
  {
   "cell_type": "code",
   "execution_count": 148,
   "metadata": {},
   "outputs": [
    {
     "data": {
      "image/png": "[encoded data removed]",
      "text/plain": [
       "<Figure size 432x288 with 1 Axes>"
      ]
     },
     "metadata": {
      "needs_background": "light"
     },
     "output_type": "display_data"
    }
   ],
   "source": [
    "plt.barh(models, paid_result[2])\n",
    "plt.title(\"Precision Macro\")\n",
    "plt.show()"
   ]
  },
  {
   "cell_type": "code",
   "execution_count": 149,
   "metadata": {},
   "outputs": [
    {
     "data": {
      "image/png": "[encoded data removed]",
      "text/plain": [
       "<Figure size 432x288 with 1 Axes>"
      ]
     },
     "metadata": {
      "needs_background": "light"
     },
     "output_type": "display_data"
    }
   ],
   "source": [
    "plt.barh(models, paid_result[3])\n",
    "plt.title(\"Recall Micro\")\n",
    "plt.show()"
   ]
  },
  {
   "cell_type": "code",
   "execution_count": 150,
   "metadata": {},
   "outputs": [
    {
     "data": {
      "image/png": "[encoded data removed]",
      "text/plain": [
       "<Figure size 432x288 with 1 Axes>"
      ]
     },
     "metadata": {
      "needs_background": "light"
     },
     "output_type": "display_data"
    }
   ],
   "source": [
    "plt.barh(models, paid_result[4])\n",
    "plt.title(\"Recall Macro\")\n",
    "plt.show()"
   ]
  },
  {
   "cell_type": "code",
   "execution_count": 151,
   "metadata": {},
   "outputs": [
    {
     "data": {
      "image/png": "[encoded data removed]",
      "text/plain": [
       "<Figure size 432x288 with 1 Axes>"
      ]
     },
     "metadata": {
      "needs_background": "light"
     },
     "output_type": "display_data"
    }
   ],
   "source": [
    "plt.barh(models, paid_result[5])\n",
    "plt.title(\"F1 Micro\")\n",
    "plt.show()"
   ]
  },
  {
   "cell_type": "code",
   "execution_count": 152,
   "metadata": {},
   "outputs": [
    {
     "data": {
      "image/png": "[encoded data removed]",
      "text/plain": [
       "<Figure size 432x288 with 1 Axes>"
      ]
     },
     "metadata": {
      "needs_background": "light"
     },
     "output_type": "display_data"
    }
   ],
   "source": [
    "plt.barh(models, paid_result[6])\n",
    "plt.title(\"F1 Macro\")\n",
    "plt.show()"
   ]
  },
  {
   "cell_type": "markdown",
   "metadata": {},
   "source": [
    "## Análisis de Texto"
   ]
  },
  {
   "cell_type": "code",
   "execution_count": 153,
   "metadata": {},
   "outputs": [],
   "source": [
    "from sklearn.feature_extraction.text import TfidfVectorizer\n",
    "from sklearn.feature_extraction.text import HashingVectorizer"
   ]
  },
  {
   "cell_type": "code",
   "execution_count": 156,
   "metadata": {},
   "outputs": [],
   "source": [
    "hashVectorizer = HashingVectorizer(stop_words=None, alternate_sign=False)\n",
    "text_dt = hashVectorizer.fit_transform(Reviews[\"Translated_Review\"])\n",
    "\n",
    "svd = TruncatedSVD(100) # arbitrario\n",
    "normalizer = Normalizer(copy=False)\n",
    "lsa = make_pipeline(svd, normalizer)\n",
    "text_dt = lsa.fit_transform(text_dt)"
   ]
  },
  {
   "cell_type": "code",
   "execution_count": 158,
   "metadata": {},
   "outputs": [
    {
     "data": {
      "text/plain": [
       "35929"
      ]
     },
     "execution_count": 158,
     "metadata": {},
     "output_type": "execute_result"
    }
   ],
   "source": [
    "len(text_dt)"
   ]
  },
  {
   "cell_type": "code",
   "execution_count": 159,
   "metadata": {},
   "outputs": [],
   "source": [
    "text_labels_sp = np.ravel(Reviews[\"sentiment_polarity\"])\n",
    "text_labels_ss = np.ravel(Reviews[\"sentiment_subjectivity\"])\n",
    "text_labels_sq = np.ravel(Reviews[\"spelling_quality\"])"
   ]
  },
  {
   "cell_type": "code",
   "execution_count": 160,
   "metadata": {},
   "outputs": [],
   "source": [
    "sp_result = np.zeros([7, 4])\n",
    "ss_result = np.zeros([7, 4])\n",
    "sq_result = np.zeros([7, 4])"
   ]
  },
  {
   "cell_type": "markdown",
   "metadata": {},
   "source": [
    "### Árbol de Decisión"
   ]
  },
  {
   "cell_type": "code",
   "execution_count": 161,
   "metadata": {},
   "outputs": [],
   "source": [
    "# Sentiment Polarity\n",
    "crossVal2(text_dt, text_labels_sp, DecisionTreeClassifier(), 5, sp_result, 0)"
   ]
  },
  {
   "cell_type": "code",
   "execution_count": 162,
   "metadata": {},
   "outputs": [],
   "source": [
    "# Sentiment Subjectivity\n",
    "crossVal2(text_dt, text_labels_ss, DecisionTreeClassifier(), 5, ss_result, 0)"
   ]
  },
  {
   "cell_type": "code",
   "execution_count": 163,
   "metadata": {},
   "outputs": [],
   "source": [
    "# Spelling Quality\n",
    "crossVal2(text_dt, text_labels_sq, DecisionTreeClassifier(), 5, sq_result, 0)"
   ]
  },
  {
   "cell_type": "markdown",
   "metadata": {},
   "source": [
    "### KNN"
   ]
  },
  {
   "cell_type": "code",
   "execution_count": null,
   "metadata": {},
   "outputs": [],
   "source": [
    "# Sentiment Polarity\n",
    "crossVal2(text_dt, text_labels_sp, KNeighborsClassifier(n_neighbors=10), 5, sp_result, 1)"
   ]
  },
  {
   "cell_type": "code",
   "execution_count": 42,
   "metadata": {},
   "outputs": [
    {
     "data": {
      "image/png": "[encoded data removed]",
      "text/plain": [
       "<Figure size 432x288 with 1 Axes>"
      ]
     },
     "metadata": {
      "needs_background": "light"
     },
     "output_type": "display_data"
    }
   ],
   "source": [
    "# Sentiment Subjectivity\n",
    "crossVal2(text_dt, text_labels_ss, KNeighborsClassifier(n_neighbors=10), 5, ss_result, 1)"
   ]
  },
  {
   "cell_type": "code",
   "execution_count": 43,
   "metadata": {},
   "outputs": [
    {
     "data": {
      "image/png": "[encoded data removed]",
      "text/plain": [
       "<Figure size 432x288 with 1 Axes>"
      ]
     },
     "metadata": {
      "needs_background": "light"
     },
     "output_type": "display_data"
    }
   ],
   "source": [
    "# Spelling Quality\n",
    "crossValPlot(text_dt, text_labels_sq, KNeighborsClassifier(n_neighbors=10), 5)"
   ]
  },
  {
   "cell_type": "markdown",
   "metadata": {},
   "source": [
    "### Naive Bayes"
   ]
  },
  {
   "cell_type": "code",
   "execution_count": 44,
   "metadata": {},
   "outputs": [
    {
     "data": {
      "image/png": "[encoded data removed]",
      "text/plain": [
       "<Figure size 432x288 with 1 Axes>"
      ]
     },
     "metadata": {
      "needs_background": "light"
     },
     "output_type": "display_data"
    }
   ],
   "source": [
    "# Sentiment Polarity\n",
    "crossValPlot(text_dt, text_labels_sp, GaussianNB(), 5)"
   ]
  },
  {
   "cell_type": "code",
   "execution_count": 45,
   "metadata": {},
   "outputs": [
    {
     "data": {
      "image/png": "[encoded data removed]",
      "text/plain": [
       "<Figure size 432x288 with 1 Axes>"
      ]
     },
     "metadata": {
      "needs_background": "light"
     },
     "output_type": "display_data"
    }
   ],
   "source": [
    "# Sentiment Subjectivity\n",
    "crossValPlot(text_dt, text_labels_ss, GaussianNB(), 5)"
   ]
  },
  {
   "cell_type": "code",
   "execution_count": 46,
   "metadata": {},
   "outputs": [
    {
     "data": {
      "image/png": "[encoded data removed]",
      "text/plain": [
       "<Figure size 432x288 with 1 Axes>"
      ]
     },
     "metadata": {
      "needs_background": "light"
     },
     "output_type": "display_data"
    }
   ],
   "source": [
    "# Spelling Quality\n",
    "crossValPlot(text_dt, text_labels_sq, GaussianNB(), 5)"
   ]
  },
  {
   "cell_type": "markdown",
   "metadata": {},
   "source": [
    "### Support Vector Machine"
   ]
  },
  {
   "cell_type": "code",
   "execution_count": 47,
   "metadata": {},
   "outputs": [
    {
     "data": {
      "image/png": "[encoded data removed]",
      "text/plain": [
       "<Figure size 432x288 with 1 Axes>"
      ]
     },
     "metadata": {
      "needs_background": "light"
     },
     "output_type": "display_data"
    }
   ],
   "source": [
    "# Sentiment Polarity\n",
    "crossValPlot(text_dt, text_labels_sp, SVC(), 5)"
   ]
  },
  {
   "cell_type": "code",
   "execution_count": null,
   "metadata": {},
   "outputs": [],
   "source": [
    "# Sentiment Subjectivity\n",
    "crossValPlot(text_dt, text_labels_ss, SVC(), 5)"
   ]
  },
  {
   "cell_type": "code",
   "execution_count": null,
   "metadata": {},
   "outputs": [],
   "source": [
    "# Spelling Quality\n",
    "crossValPlot(text_dt, text_labels_sp, SVC(), 5)"
   ]
  },
  {
   "cell_type": "markdown",
   "metadata": {},
   "source": [
    "### Clasificación de Descargas según Reviews"
   ]
  },
  {
   "cell_type": "code",
   "execution_count": 3,
   "metadata": {},
   "outputs": [],
   "source": [
    "\n",
    "\n",
    "X2 = clus_dt[[\"sentiment_polarity_score\",\"SPQ1\",\"SPQ3\",\"ease_of_reading_score\",\"ERQ1\",\"ERQ3\",\"sentiment_subjectivity_score\",\"SSQ1\",\"SSQ3\",\n",
    "       \"spelling_quality_score\",\"SQQ1\",\"SQQ3\",\"sentences_count\",\"characters_count\",\"count_words\",\"spaces_count\",\"alpha_numeric_count\",\n",
    "       \"punctuations_count\",\"noun_phase_count\"]]\n",
    "\n",
    "label_d = np.ravel(clus_dt[\"Installs_Q\"])\n",
    "label_r = np.ravel(clus_dt[\"Rating_Q\"])"
   ]
  },
  {
   "cell_type": "markdown",
   "metadata": {},
   "source": [
    "#### Árbol de Decisión"
   ]
  },
  {
   "cell_type": "code",
   "execution_count": 50,
   "metadata": {},
   "outputs": [
    {
     "data": {
      "image/png": "[encoded data removed]",
      "text/plain": [
       "<Figure size 432x288 with 1 Axes>"
      ]
     },
     "metadata": {
      "needs_background": "light"
     },
     "output_type": "display_data"
    }
   ],
   "source": [
    "crossValPlot(X2, label_d, DecisionTreeClassifier(), 5)"
   ]
  },
  {
   "cell_type": "markdown",
   "metadata": {},
   "source": [
    "#### KNN"
   ]
  },
  {
   "cell_type": "code",
   "execution_count": 51,
   "metadata": {},
   "outputs": [
    {
     "data": {
      "image/png": "[encoded data removed]",
      "text/plain": [
       "<Figure size 432x288 with 1 Axes>"
      ]
     },
     "metadata": {
      "needs_background": "light"
     },
     "output_type": "display_data"
    }
   ],
   "source": [
    "crossValPlot(X2, label_d, KNeighborsClassifier(n_neighbors=10), 5)"
   ]
  },
  {
   "cell_type": "markdown",
   "metadata": {},
   "source": [
    "#### Naive Bayes"
   ]
  },
  {
   "cell_type": "code",
   "execution_count": 52,
   "metadata": {},
   "outputs": [
    {
     "data": {
      "image/png": "[encoded data removed]",
      "text/plain": [
       "<Figure size 432x288 with 1 Axes>"
      ]
     },
     "metadata": {
      "needs_background": "light"
     },
     "output_type": "display_data"
    }
   ],
   "source": [
    "crossValPlot(X2, label_d, GaussianNB(), 5)"
   ]
  },
  {
   "cell_type": "markdown",
   "metadata": {},
   "source": [
    "#### Support Vector Machine"
   ]
  },
  {
   "cell_type": "code",
   "execution_count": 53,
   "metadata": {},
   "outputs": [
    {
     "data": {
      "image/png": "[encoded data removed]",
      "text/plain": [
       "<Figure size 432x288 with 1 Axes>"
      ]
     },
     "metadata": {
      "needs_background": "light"
     },
     "output_type": "display_data"
    }
   ],
   "source": [
    "crossValPlot(X2, label_d, SVC(), 5)"
   ]
  },
  {
   "cell_type": "markdown",
   "metadata": {},
   "source": [
    "### Clasificación de Rating según Reviews"
   ]
  },
  {
   "cell_type": "markdown",
   "metadata": {},
   "source": [
    "#### Árbol de Decisión"
   ]
  },
  {
   "cell_type": "code",
   "execution_count": 54,
   "metadata": {},
   "outputs": [
    {
     "data": {
      "image/png": "[encoded data removed]",
      "text/plain": [
       "<Figure size 432x288 with 1 Axes>"
      ]
     },
     "metadata": {
      "needs_background": "light"
     },
     "output_type": "display_data"
    }
   ],
   "source": [
    "crossValPlot(X2, label_r, DecisionTreeClassifier(), 5)"
   ]
  },
  {
   "cell_type": "markdown",
   "metadata": {},
   "source": [
    "#### KNN"
   ]
  },
  {
   "cell_type": "code",
   "execution_count": 55,
   "metadata": {},
   "outputs": [
    {
     "data": {
      "image/png": "[encoded data removed]",
      "text/plain": [
       "<Figure size 432x288 with 1 Axes>"
      ]
     },
     "metadata": {
      "needs_background": "light"
     },
     "output_type": "display_data"
    }
   ],
   "source": [
    "crossValPlot(X2, label_r, KNeighborsClassifier(n_neighbors=10), 5)"
   ]
  },
  {
   "cell_type": "markdown",
   "metadata": {},
   "source": [
    "#### Naive Bayes"
   ]
  },
  {
   "cell_type": "code",
   "execution_count": 56,
   "metadata": {},
   "outputs": [
    {
     "data": {
      "image/png": "[encoded data removed]",
      "text/plain": [
       "<Figure size 432x288 with 1 Axes>"
      ]
     },
     "metadata": {
      "needs_background": "light"
     },
     "output_type": "display_data"
    }
   ],
   "source": [
    "crossValPlot(X2, label_r, GaussianNB(), 5)"
   ]
  },
  {
   "cell_type": "markdown",
   "metadata": {},
   "source": [
    "#### Support Vector Machine"
   ]
  },
  {
   "cell_type": "code",
   "execution_count": 57,
   "metadata": {},
   "outputs": [
    {
     "data": {
      "image/png": "[encoded data removed]",
      "text/plain": [
       "<Figure size 432x288 with 1 Axes>"
      ]
     },
     "metadata": {
      "needs_background": "light"
     },
     "output_type": "display_data"
    }
   ],
   "source": [
    "crossValPlot(X2, label_r, SVC(), 5)"
   ]
  }
 ],
 "metadata": {
  "kernelspec": {
   "display_name": "Python 3",
   "language": "python",
   "name": "python3"
  },
  "language_info": {
   "codemirror_mode": {
    "name": "ipython",
    "version": 3
   },
   "file_extension": ".py",
   "mimetype": "text/x-python",
   "name": "python",
   "nbconvert_exporter": "python",
   "pygments_lexer": "ipython3",
   "version": "3.7.1"
  }
 },
 "nbformat": 4,
 "nbformat_minor": 4
}
